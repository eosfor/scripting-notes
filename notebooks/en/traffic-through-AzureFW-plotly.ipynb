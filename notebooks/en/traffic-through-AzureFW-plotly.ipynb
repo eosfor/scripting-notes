{
 "cells": [
  {
   "cell_type": "markdown",
   "metadata": {},
   "source": [
    "> NOTE: To try this, you MUST be logged to Azure using PowerShell"
   ]
  },
  {
   "cell_type": "markdown",
   "metadata": {},
   "source": [
    "Import d3js and its dependencies"
   ]
  },
  {
   "cell_type": "code",
   "execution_count": null,
   "metadata": {
    "dotnet_interactive": {
     "language": "fsharp"
    },
    "polyglot_notebook": {
     "kernelName": "fsharp"
    }
   },
   "outputs": [],
   "source": [
    "#r \"nuget: Plotly.NET, 4.2.0\"\n",
    "#r \"nuget: Plotly.NET.Interactive, 4.2.0\"\n",
    "#r \"nuget: FSharp.Data\""
   ]
  },
  {
   "cell_type": "code",
   "execution_count": null,
   "metadata": {
    "dotnet_interactive": {
     "language": "pwsh"
    },
    "polyglot_notebook": {
     "kernelName": "pwsh"
    },
    "tags": [
     "parameters"
    ]
   },
   "outputs": [],
   "source": [
    "# some credentials + parameters\n",
    "$WorkspaceID = '36d31d9f-bcbf-463b-9264-35006800c941' # some random GUID, just put your own\n",
    "$dateFilter = 'ago(3d)'"
   ]
  },
  {
   "cell_type": "markdown",
   "metadata": {},
   "source": [
    "Parameters and queries"
   ]
  },
  {
   "cell_type": "code",
   "execution_count": null,
   "metadata": {
    "dotnet_interactive": {
     "language": "pwsh"
    },
    "polyglot_notebook": {
     "kernelName": "pwsh"
    }
   },
   "outputs": [],
   "source": [
    "# queries and helper functions\n",
    "$appQuery = @\"\n",
    "AZFWApplicationRule\n",
    "| where TimeGenerated >= $dateFilter\n",
    "| summarize Value = count() by Source = SourceIp, Target = Fqdn, Action\n",
    "\"@\n",
    "\n",
    "$networkQuery = @\"\n",
    "AZFWNetworkRule | where TimeGenerated  >= $dateFilter\n",
    "\"@\n",
    "\n",
    "$natQuery = @\"\n",
    "let Query1 =\n",
    "    AZFWNatRule\n",
    "    | where TimeGenerated >= $dateFilter\n",
    "    | project SourceIp, Target = strcat_delim(\":\", DestinationIp, DestinationPort), Action = \"Allow\"\n",
    "    | summarize Value = count() by Source = SourceIp, Target, Action;\n",
    "\n",
    "let Query2 =\n",
    "    AZFWNatRule\n",
    "    | where TimeGenerated >= $dateFilter\n",
    "    | project SourceStr = strcat_delim(\":\", DestinationIp, DestinationPort), TranslatedIp, Action = \"Allow\"\n",
    "    | summarize Value = count() by Source = SourceStr, Target = TranslatedIp, Action;\n",
    "\n",
    "union Query1, Query2\n",
    "\"@"
   ]
  },
  {
   "cell_type": "markdown",
   "metadata": {},
   "source": [
    "Get Application-level data"
   ]
  },
  {
   "cell_type": "code",
   "execution_count": null,
   "metadata": {
    "dotnet_interactive": {
     "language": "pwsh"
    },
    "polyglot_notebook": {
     "kernelName": "pwsh"
    }
   },
   "outputs": [],
   "source": [
    "$appDataSet = Invoke-AzOperationalInsightsQuery -WorkspaceId $WorkspaceID -Query $appQuery -ErrorAction Stop | Select-Object -ExpandProperty Results"
   ]
  },
  {
   "cell_type": "markdown",
   "metadata": {},
   "source": [
    "Get Network-level data"
   ]
  },
  {
   "cell_type": "code",
   "execution_count": null,
   "metadata": {
    "dotnet_interactive": {
     "language": "pwsh"
    },
    "polyglot_notebook": {
     "kernelName": "pwsh"
    }
   },
   "outputs": [],
   "source": [
    "$natDataSet = Invoke-AzOperationalInsightsQuery -WorkspaceId $WorkspaceID -Query $natQuery -ErrorAction Stop | Select-Object -ExpandProperty Results"
   ]
  },
  {
   "cell_type": "markdown",
   "metadata": {},
   "source": [
    "This pulls data from Az Resource Graph on per-element basis, so takes time to execute"
   ]
  },
  {
   "cell_type": "code",
   "execution_count": null,
   "metadata": {
    "dotnet_interactive": {
     "language": "pwsh"
    },
    "polyglot_notebook": {
     "kernelName": "pwsh"
    }
   },
   "outputs": [],
   "source": [
    "# some additional data, pulling from Az Resource Graph\n",
    "$subnets = \n",
    "($appDataSet| Select-Object -Unique -ExpandProperty Source) | % {\n",
    "    $ipToSearch = $_\n",
    "    $azGraphQueryExact = @\"\n",
    "resources\n",
    "| where type == \"microsoft.network/virtualnetworks\"\n",
    "| extend subnets = properties.subnets\n",
    "| mv-expand subnet = subnets\n",
    "| project vnetName = name,\n",
    "        vnetId = id,\n",
    "        vnetIpRange = properties.addressSpace.addressPrefixes[0],\n",
    "        subnetName = subnet.name,\n",
    "        subnetId = tostring(subnet.id),\n",
    "        subnetIpRange = subnet.properties.addressPrefix\n",
    "| extend subnetPath = strcat_delim(\"/\", vnetName, subnetName)\n",
    "| extend containingSubnet = ipv4_is_match('$ipToSearch', tostring(subnetIpRange) )\n",
    "| where containingSubnet == 1\n",
    "\"@\n",
    "    $subnetData = Search-AzGraph -Query $azGraphQueryExact\n",
    "    [pscustomobject]@{\n",
    "        Source = $subnetData.subnetPath\n",
    "        Target = $_\n",
    "        Action = \"Allow\"\n",
    "        Value = 1\n",
    "    }\n",
    "}"
   ]
  },
  {
   "cell_type": "markdown",
   "metadata": {},
   "source": [
    "Export data to `CSV` to simplify transferring it to F#. \n",
    "\n",
    "> NOTE: Please pay attention to the path."
   ]
  },
  {
   "cell_type": "code",
   "execution_count": null,
   "metadata": {
    "dotnet_interactive": {
     "language": "pwsh"
    },
    "polyglot_notebook": {
     "kernelName": "pwsh"
    }
   },
   "outputs": [],
   "source": [
    "($appDataSet +  $subnets) | export-csv c:\\temp\\ds.csv\n",
    "$natDataSet | export-csv c:\\temp\\nat-ds.csv"
   ]
  },
  {
   "cell_type": "markdown",
   "metadata": {},
   "source": [
    "Prepare some processing functions and import data from `CSV`.\n",
    "\n",
    "> NOTE. Please pay attention to the path."
   ]
  },
  {
   "cell_type": "code",
   "execution_count": null,
   "metadata": {
    "dotnet_interactive": {
     "language": "fsharp"
    },
    "polyglot_notebook": {
     "kernelName": "fsharp"
    }
   },
   "outputs": [],
   "source": [
    "// import data\n",
    "open FSharp.Data\n",
    "open Plotly.NET\n",
    "open System.IO\n",
    "open Plotly.NET.ConfigObjects\n",
    "\n",
    "\n",
    "let createNodeIndexMap (edges: (string * string * string * int) list) =\n",
    "    edges\n",
    "    |> Seq.collect (fun (src, tgt, _, _) -> [src; tgt])\n",
    "    |> Seq.distinct\n",
    "    |> Seq.mapi (fun i node -> (node, i))\n",
    "    |> Map.ofSeq\n",
    "\n",
    "let createIndexedEdges (edges: (string * string * string * int) list) (map: Map<string, int>) =\n",
    "    let indexedEdges = edges |> List.map (fun (src, tgt, _, _) -> (map.[src], map.[tgt]))\n",
    "    let weights = edges |> List.map (fun (_, _, _, weight) -> weight)\n",
    "    (indexedEdges, weights)\n",
    "\n",
    "\n",
    "let actionToColor action = \n",
    "    match action with\n",
    "    | \"Deny\" -> Color.fromKeyword(ColorKeyword.LightCoral)\n",
    "    | _ -> Color.fromKeyword(ColorKeyword.LightGray)\n",
    "\n",
    "type commsDataType = CsvProvider<\"c:\\\\temp\\\\ds.csv\">\n",
    "type natDataType = CsvProvider<\"c:\\\\temp\\\\nat-ds.csv\">\n",
    "\n",
    "let commsData = commsDataType.Load(\"c:\\\\temp\\\\ds.csv\")\n",
    "let natData = natDataType.Load(\"c:\\\\temp\\\\nat-ds.csv\")"
   ]
  },
  {
   "cell_type": "markdown",
   "metadata": {},
   "source": [
    "Comms processing: preparing data and visualizing"
   ]
  },
  {
   "cell_type": "code",
   "execution_count": null,
   "metadata": {
    "dotnet_interactive": {
     "language": "fsharp"
    },
    "polyglot_notebook": {
     "kernelName": "fsharp"
    }
   },
   "outputs": [],
   "source": [
    "// prepare data + some anonymization (for video recording)\n",
    "\n",
    "open System.Text.RegularExpressions\n",
    "\n",
    "let anonymizeToggle = false // Set to false to disable anonymization. In case you decide to record a video ;)\n",
    "let namesToHide = [\"some\";\"values\";]\n",
    "\n",
    "let anonymizeSubstrings (input: string) =\n",
    "    namesToHide\n",
    "    |> List.fold (fun (acc: String) name -> acc.Replace(name, \"xxx\")) input\n",
    "\n",
    "let anonymizeIp (input: string) =\n",
    "    match input with\n",
    "    | ip when Regex.IsMatch(ip, @\"\\b\\d{1,3}\\.\\d{1,3}\\.\\d{1,3}\\.\\d{1,3}\\b\") ->\n",
    "        // IP address found, anonymize middle octets\n",
    "        let parts = ip.Split('.')\n",
    "        sprintf \"%s.x.x.%s\" parts.[0] parts.[3]\n",
    "    | domain when Regex.IsMatch(domain, @\"^[a-zA-Z0-9.-]+\\.[a-zA-Z]{2,}$\") ->\n",
    "        // Domain name found, replace specified subdomains with 'x'\n",
    "        let parts = domain.Split('.')\n",
    "        let anonymizedSubdomains = parts\n",
    "                                    |> Array.map anonymizeSubstrings\n",
    "        sprintf \"%s\" (String.Join(\".\", anonymizedSubdomains))\n",
    "    | otherwise ->\n",
    "        // No action needed, return as is\n",
    "        otherwise\n",
    "\n",
    "\n",
    "let edges = \n",
    "    commsData.Rows\n",
    "    |> Seq.map (fun row -> \n",
    "        let source = row.Source\n",
    "        let target = row.Target\n",
    "        let action = row.Action\n",
    "        let weight = row.Value\n",
    "        (source, target, action, weight)\n",
    "    ) |> Seq.toList\n",
    "\n",
    "let nodeIndexMap = createNodeIndexMap edges\n",
    "let (indexedEdges, weights) = createIndexedEdges edges nodeIndexMap\n",
    "\n",
    "let nodeList = nodeIndexMap \n",
    "                |> Map.toList \n",
    "                |> List.sortBy snd \n",
    "                |> List.map fst \n",
    "                |> Seq.map (fun row ->\n",
    "                    if anonymizeToggle then anonymizeIp row else row\n",
    "                )\n",
    "let edgesArray = indexedEdges |> List.toArray\n",
    "let weightsArray = weights |> List.toArray\n",
    "\n",
    "let linkColors = edges |> List.map (fun (_, _, action, _) -> actionToColor action)"
   ]
  },
  {
   "cell_type": "code",
   "execution_count": null,
   "metadata": {
    "dotnet_interactive": {
     "language": "fsharp"
    },
    "polyglot_notebook": {
     "kernelName": "fsharp"
    }
   },
   "outputs": [],
   "source": [
    "// visualize\n",
    "\n",
    "let height = 1500\n",
    "let width = 1500\n",
    "\n",
    "let sankey1 =\n",
    "    Chart.Sankey(\n",
    "        nodeLabels = nodeList,\n",
    "        linkedNodeIds = edgesArray,\n",
    "        linkValues = weightsArray,\n",
    "        LinkColor = Color.fromColors(linkColors)\n",
    "    )\n",
    "\n",
    "let svgConfig =\n",
    "    Config.init (\n",
    "    ToImageButtonOptions =\n",
    "        ToImageButtonOptions.init (\n",
    "            Format = StyleParam.ImageFormat.JPEG,\n",
    "            Filename = \"myChart\",\n",
    "            Width = width,\n",
    "            Height = height,\n",
    "            Scale = 10.\n",
    "        )\n",
    ")\n",
    "\n",
    "let updated = \n",
    "    sankey1\n",
    "    |> Chart.withLayout(Layout.init(Width=width, Height = height))\n",
    "    |> Chart.withConfig(svgConfig)\n",
    "\n",
    "updated"
   ]
  }
 ],
 "metadata": {
  "kernelspec": {
   "display_name": ".NET (C#)",
   "language": "C#",
   "name": ".net-csharp"
  },
  "language_info": {
   "name": "polyglot-notebook"
  },
  "polyglot_notebook": {
   "kernelInfo": {
    "defaultKernelName": "csharp",
    "items": [
     {
      "aliases": [],
      "name": "csharp"
     }
    ]
   }
  }
 },
 "nbformat": 4,
 "nbformat_minor": 2
}

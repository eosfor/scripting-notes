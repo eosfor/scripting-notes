{
 "cells": [
  {
   "cell_type": "markdown",
   "metadata": {},
   "source": [
    "# How to visualize your VNET topology in Azure with PowerShell"
   ]
  },
  {
   "cell_type": "markdown",
   "metadata": {},
   "source": [
    "> This notebook does work on Linux but does not work in Binder for some reason :("
   ]
  },
  {
   "cell_type": "markdown",
   "metadata": {},
   "source": [
    "## Scenario\n",
    "\n",
    "Assume we have some network topology in Azure. The topology is dynamic, VNETs being added and removed dynamically, and at any particular moment, we can't say how it looks without exploring it. We want to visualize the topology somehow, at any point in time. Additionally, we want to highlight VNETs, where VNET peering was not configured correctly, as we know that this kind of thing happens from time to time due to some bugs in automated procedures we have. In addition to this, we also know that there are a few devices connected to some networks. Someone complained that one of these devices does not work as expected, and we want to see where it is"
   ]
  },
  {
   "cell_type": "markdown",
   "metadata": {},
   "source": [
    "## Preparation\n",
    "\n",
    "In this section we are going to prepare a lab, where we going to run a few experiments."
   ]
  },
  {
   "cell_type": "markdown",
   "metadata": {},
   "source": [
    "Before everything, we need to install a few modules, just in case. This step is also useful in Binder, where there are no such modules"
   ]
  },
  {
   "cell_type": "code",
   "execution_count": null,
   "metadata": {
    "dotnet_interactive": {
     "language": "pwsh"
    },
    "vscode": {
     "languageId": "polyglot-notebook"
    }
   },
   "outputs": [],
   "source": [
    "Install-Module -Name PSQuickGraph -AllowPrerelease -RequiredVersion \"2.0.2-alpha\"\n",
    "Install-Module -Name ipmgmt\n",
    "Install-Module -Name Az -Scope CurrentUser -Repository PSGallery"
   ]
  },
  {
   "cell_type": "markdown",
   "metadata": {},
   "source": [
    "And load them"
   ]
  },
  {
   "cell_type": "code",
   "execution_count": null,
   "metadata": {
    "dotnet_interactive": {
     "language": "pwsh"
    },
    "vscode": {
     "languageId": "polyglot-notebook"
    }
   },
   "outputs": [],
   "source": [
    "Import-Module ipmgmt\n",
    "Import-Module PSQuickGraph -RequiredVersion \"2.0.2\""
   ]
  },
  {
   "cell_type": "markdown",
   "metadata": {},
   "source": [
    "Log in to Azure. It will fail in Binder ..."
   ]
  },
  {
   "cell_type": "code",
   "execution_count": null,
   "metadata": {
    "dotnet_interactive": {
     "language": "pwsh"
    },
    "vscode": {
     "languageId": "polyglot-notebook"
    }
   },
   "outputs": [],
   "source": [
    "Login-AzAccount"
   ]
  },
  {
   "cell_type": "markdown",
   "metadata": {},
   "source": [
    "and it will ask you to use this"
   ]
  },
  {
   "cell_type": "code",
   "execution_count": null,
   "metadata": {
    "dotnet_interactive": {
     "language": "pwsh"
    },
    "vscode": {
     "languageId": "polyglot-notebook"
    }
   },
   "outputs": [],
   "source": [
    "Connect-AzAccount -UseDeviceAuthentication"
   ]
  },
  {
   "cell_type": "markdown",
   "metadata": {},
   "source": [
    "set the initial constants"
   ]
  },
  {
   "cell_type": "code",
   "execution_count": null,
   "metadata": {
    "dotnet_interactive": {
     "language": "pwsh"
    },
    "vscode": {
     "languageId": "polyglot-notebook"
    }
   },
   "outputs": [],
   "source": [
    "$rgName = \"vnet-test\"\n",
    "$region = \"eastus2\"\n",
    "$baseNet = \"10.96.0.0/16\""
   ]
  },
  {
   "cell_type": "markdown",
   "metadata": {},
   "source": [
    "Create the resource group for our experiment, just in case."
   ]
  },
  {
   "cell_type": "code",
   "execution_count": null,
   "metadata": {
    "dotnet_interactive": {
     "language": "pwsh"
    },
    "vscode": {
     "languageId": "polyglot-notebook"
    }
   },
   "outputs": [],
   "source": [
    "New-AzResourceGroup -Name $rgName -Location $region"
   ]
  },
  {
   "cell_type": "markdown",
   "metadata": {},
   "source": [
    "Now, we can prepare a set of parameters for VNETs. We are using the `ipmgmt`, which we looked at in the [previous](https://github.com/eosfor/scripting-notes/blob/main/notebooks/ru/ipmgmt.ipynb) notebook. Here we simply make an array of hashtables and pass it to the `Get-VLSMBreakdown` cmdlet, which returns us the IP ranges we are looking for. We just iterate from \"A\" to \"K\" and for each character create an element in this array."
   ]
  },
  {
   "cell_type": "code",
   "execution_count": null,
   "metadata": {
    "dotnet_interactive": {
     "language": "pwsh"
    },
    "vscode": {
     "languageId": "polyglot-notebook"
    }
   },
   "outputs": [],
   "source": [
    "$vnets = \"A\"..\"K\" | % { @{type = \"VNET-$_\"; size = (256-2)} }"
   ]
  },
  {
   "cell_type": "markdown",
   "metadata": {},
   "source": [
    "Now we just pass the array to the commandlet, and it returns a list of ranges we need."
   ]
  },
  {
   "cell_type": "code",
   "execution_count": null,
   "metadata": {
    "dotnet_interactive": {
     "language": "pwsh"
    },
    "vscode": {
     "languageId": "polyglot-notebook"
    }
   },
   "outputs": [],
   "source": [
    "Get-VLSMBreakdown -Network $baseNet -SubnetSize $vnets | ? type -ne 'reserved' | \n",
    "    ft type, network, netmask, *usable, cidr -AutoSize"
   ]
  },
  {
   "cell_type": "markdown",
   "metadata": {},
   "source": [
    "At this point, we can create these networks. To simplify, we create only one subnet in each, but nothing stops us from using `Get-VLSMBreakdown` to break each VNET into subnets if we need to."
   ]
  },
  {
   "cell_type": "code",
   "execution_count": null,
   "metadata": {
    "dotnet_interactive": {
     "language": "pwsh"
    },
    "vscode": {
     "languageId": "polyglot-notebook"
    }
   },
   "outputs": [],
   "source": [
    "Get-VLSMBreakdown -Network $baseNet -SubnetSize $vnets | ? type -ne 'reserved' | % {\n",
    "    $addressPrefix = \"$($_.network)/$($_.cidr)\"\n",
    "    $subnet = New-AzVirtualNetworkSubnetConfig -Name \"default\" -AddressPrefix $addressPrefix\n",
    "    New-AzVirtualNetwork -Name $_.type -ResourceGroupName $rgName -Location $region -AddressPrefix $addressPrefix -Subnet $subnet | out-null\n",
    "}"
   ]
  },
  {
   "cell_type": "markdown",
   "metadata": {},
   "source": [
    "Adding VNET peering"
   ]
  },
  {
   "cell_type": "code",
   "execution_count": null,
   "metadata": {
    "dotnet_interactive": {
     "language": "pwsh"
    },
    "vscode": {
     "languageId": "polyglot-notebook"
    }
   },
   "outputs": [],
   "source": [
    "$nets = Get-AzVirtualNetwork -ResourceGroupName $rgName"
   ]
  },
  {
   "cell_type": "markdown",
   "metadata": {},
   "source": [
    "We are going to use hub-and-spoke topology, as we usually do in Landing Zones. And to simulate a misconfiguration, we skip one VNET peering link"
   ]
  },
  {
   "cell_type": "code",
   "execution_count": null,
   "metadata": {
    "dotnet_interactive": {
     "language": "pwsh"
    },
    "vscode": {
     "languageId": "polyglot-notebook"
    }
   },
   "outputs": [],
   "source": [
    "$hub = $nets[0]\n",
    "$spokes = $nets[1..($nets.count-1)]\n",
    "\n",
    "$spokes | % {\n",
    "    Add-AzVirtualNetworkPeering `\n",
    "        -Name \"$($hub.Name)-$($_.Name)\" `\n",
    "        -VirtualNetwork $hub `\n",
    "        -RemoteVirtualNetworkId $_.Id | out-null\n",
    "}\n",
    "\n",
    "$spokes | select -Skip 1 |  % {      \n",
    "    Add-AzVirtualNetworkPeering `\n",
    "        -Name \"$($_.Name)-$($hub.Name)\" `\n",
    "        -VirtualNetwork $_ `\n",
    "        -RemoteVirtualNetworkId $hub.Id | out-null\n",
    "}"
   ]
  },
  {
   "cell_type": "markdown",
   "metadata": {},
   "source": [
    "To model the network devices we add a few NICs into random VNETs. This is a lab, and we don't need full VMs for that. Well, in this case for the sake of the experiment we need a NIC to exist in a specific VNET. For that we use `begin`, `process`, and `end` script block parameters of the `Foreach-Object`. In this case, we initialize the variable in the `begin` script block and use it in the `process`, so it is guaranteed to be initialized with the correct value."
   ]
  },
  {
   "cell_type": "code",
   "execution_count": null,
   "metadata": {
    "dotnet_interactive": {
     "language": "pwsh"
    },
    "vscode": {
     "languageId": "polyglot-notebook"
    }
   },
   "outputs": [],
   "source": [
    "1..4 | % {$idx = 0} {\n",
    "    $vnetForNIC = $spokes[$idx]\n",
    "    New-AzNetworkInterface -Name \"NetworkInterface-$idx\" -ResourceGroupName $rgName -Location $region -SubnetId $vnetForNIC.Subnets[0].Id\n",
    "    $idx = Get-Random -Minimum 1 -Maximum ($spokes.Count-1)\n",
    "}"
   ]
  },
  {
   "cell_type": "markdown",
   "metadata": {},
   "source": [
    "## Experiment\n",
    "\n",
    "If all the above worked well, we are ready for the experiment. Let us read everything again, and create an empty graph"
   ]
  },
  {
   "cell_type": "code",
   "execution_count": null,
   "metadata": {
    "dotnet_interactive": {
     "language": "pwsh"
    },
    "vscode": {
     "languageId": "polyglot-notebook"
    }
   },
   "outputs": [],
   "source": [
    "$vnets = Get-AzVirtualNetwork -ResourceGroupName $rgName\n",
    "$g = New-Graph"
   ]
  },
  {
   "cell_type": "markdown",
   "metadata": {},
   "source": [
    "We need to fill the graph with data, and we are going to do it in a few iterations. At fist, we will add VNETs, then VNET peerings, and at the end - NICs"
   ]
  },
  {
   "cell_type": "markdown",
   "metadata": {},
   "source": [
    "#### Adding VNETs"
   ]
  },
  {
   "cell_type": "markdown",
   "metadata": {},
   "source": [
    "We have everything we need to add VNETs to the graph. However, there is a little problem. We can add any objects to the graph, but when we do it, the graph \"converts\" it into a special type - `PSGraph.Model.PSVertex`. There is the `Label` property in this type, and it is a key property for comparison operations, search and visualization. Another property of interest is the `OriginalObject` property. It has a link to the origunal object, which was used to create the vertex. To initialize the `Label` property the `ToString()` method is being called on each object. In cas of `PSVirtualNetwork` this call returns the name of the type, but we need unique names as labels. To overcome this we have a constructor for the `PSGraph.Model.PSVertex` whch take as `Label` as `string` and the original object. This way we can override the labeling mechanism and provide our own labels."
   ]
  },
  {
   "cell_type": "code",
   "execution_count": null,
   "metadata": {
    "dotnet_interactive": {
     "language": "pwsh"
    },
    "vscode": {
     "languageId": "polyglot-notebook"
    }
   },
   "outputs": [],
   "source": [
    "$vnets | % {\n",
    "    Add-Vertex -Graph $g -Vertex ([PSGraph.Model.PSVertex]::new($_.Id, $_))\n",
    "}"
   ]
  },
  {
   "cell_type": "markdown",
   "metadata": {},
   "source": [
    "#### Adding VNET peerings"
   ]
  },
  {
   "cell_type": "markdown",
   "metadata": {},
   "source": [
    "At this point, we have VNETs in the graph. Now we need to add connections between these networks. To do that we iterate through the graph vertices, pull the `OriginalObject` property of each of them, and peek into it to find VNET's peerings. Each peering stores the `resourceID` of the remote VNET. As far as we use VNET resource IDs as labels on the graph, we can just search the graph for the corresponding vertex, and use it as a target for the graph edge. So the source is the current VNET, and the target is the VNET pointed by the peering information."
   ]
  },
  {
   "cell_type": "code",
   "execution_count": null,
   "metadata": {
    "dotnet_interactive": {
     "language": "pwsh"
    },
    "vscode": {
     "languageId": "polyglot-notebook"
    }
   },
   "outputs": [],
   "source": [
    "foreach ($v in $g.Vertices){\n",
    "    foreach($p in $v.OriginalObject.VirtualNetworkPeerings) {\n",
    "        foreach ($rvn in $p.RemoteVirtualNetwork) {\n",
    "            $targetVertex = $g.Vertices.Where({$_.Label -eq $rvn.id})[0]\n",
    "            Add-Edge -From $v -To $targetVertex -Graph $g\n",
    "        }\n",
    "    }\n",
    "}"
   ]
  },
  {
   "cell_type": "markdown",
   "metadata": {},
   "source": [
    "Now we have networks and links between them. So we can visualize the topology. But we want to highlight misconfigured networks. Here we cheat a bit because we know how exactly the network was misconfigured. In the real scenario, you would test for more than one misconfigured thing. But in our case, just for simplicity, we are running through vertices again, and colorizing those which does not have outgoing edges."
   ]
  },
  {
   "cell_type": "code",
   "execution_count": null,
   "metadata": {
    "dotnet_interactive": {
     "language": "pwsh"
    },
    "vscode": {
     "languageId": "polyglot-notebook"
    }
   },
   "outputs": [],
   "source": [
    "$g.Vertices | % { if ( $g.OutDegree($_) -eq 0 ) \n",
    "                    { $_.GVertexParameters.Fillcolor = [QuikGraph.Graphviz.Dot.GraphvizColor]::OrangeRed  } \n",
    "                }"
   ]
  },
  {
   "cell_type": "markdown",
   "metadata": {},
   "source": [
    "#### Adding NICs"
   ]
  },
  {
   "cell_type": "markdown",
   "metadata": {},
   "source": [
    "The last step we need to to is to add NICs to our graph. We read them first"
   ]
  },
  {
   "cell_type": "code",
   "execution_count": null,
   "metadata": {
    "dotnet_interactive": {
     "language": "pwsh"
    },
    "vscode": {
     "languageId": "polyglot-notebook"
    }
   },
   "outputs": [],
   "source": [
    "$nics = Get-AzNetworkInterface -ResourceGroupName $rgName"
   ]
  },
  {
   "cell_type": "markdown",
   "metadata": {},
   "source": [
    "Each NIC has a reference to its subnet in the `IpConfigurations` property, stored as a `resourceID`. It is a string, so we can just cut everything after `/subnets/` and use the rest of the string as a reference to a VNET."
   ]
  },
  {
   "cell_type": "code",
   "execution_count": null,
   "metadata": {
    "dotnet_interactive": {
     "language": "pwsh"
    },
    "vscode": {
     "languageId": "polyglot-notebook"
    }
   },
   "outputs": [],
   "source": [
    "$nics | % {\n",
    "    $vnetID = $_.IpConfigurations[0].Subnet.Id -replace \"/subnets/.+\", \"\"\n",
    "    $targetVertex = $g.Vertices.Where({$_.Label -eq $vnetID})[0]\n",
    "    Add-Edge -Graph $g -From ([PSGraph.Model.PSVertex]::new($_.name, $_)) -To $targetVertex\n",
    "}"
   ]
  },
  {
   "cell_type": "markdown",
   "metadata": {},
   "source": [
    "Now, we have everything we need in the graph. As the last step we want to color **NICs only**, so they are easily visible on the visualization"
   ]
  },
  {
   "cell_type": "code",
   "execution_count": null,
   "metadata": {
    "dotnet_interactive": {
     "language": "pwsh"
    },
    "vscode": {
     "languageId": "polyglot-notebook"
    }
   },
   "outputs": [],
   "source": [
    "$g.Vertices | \n",
    "    ? {$_.OriginalObject.GetType() -eq [Microsoft.Azure.Commands.Network.Models.PSNetworkInterface]} | \n",
    "    % {  $_.GVertexParameters.Fillcolor = [QuikGraph.Graphviz.Dot.GraphvizColor]::WhiteSmoke }"
   ]
  },
  {
   "cell_type": "markdown",
   "metadata": {},
   "source": [
    "#### Exporting and visualizing"
   ]
  },
  {
   "cell_type": "markdown",
   "metadata": {},
   "source": [
    "Now we just export the data into SVG and [Graphviz format](https://www.graphviz.org/doc/info/lang.html)."
   ]
  },
  {
   "cell_type": "code",
   "execution_count": null,
   "metadata": {
    "dotnet_interactive": {
     "language": "pwsh"
    },
    "vscode": {
     "languageId": "polyglot-notebook"
    }
   },
   "outputs": [],
   "source": [
    "Export-Graph -Graph $g -Path \"$($env:TEMP)\\topology.svg\" -Format MSAGL_MDS\n",
    "Export-Graph -Graph $g -Path \"$($env:TEMP)\\topology.gv\" -Format Graphviz"
   ]
  },
  {
   "cell_type": "code",
   "execution_count": null,
   "metadata": {
    "dotnet_interactive": {
     "language": "csharp"
    },
    "vscode": {
     "languageId": "polyglot-notebook"
    }
   },
   "outputs": [],
   "source": [
    "using System.IO;\n",
    "\n",
    "var path = Path.GetTempPath();\n",
    "var svg = File.ReadAllText($\"{path}\\\\topology.svg\");\n",
    "var gv = File.ReadAllText($\"{path}\\\\topology.gv\");\n",
    "svg.DisplayAs(\"text/html\"); // this will embed a big SVG into the notebook, and it is not very convenient"
   ]
  },
  {
   "cell_type": "markdown",
   "metadata": {},
   "source": [
    "So we are going to do it a bit differently. We will use HTML and [vis.js](https://visjs.org/). First we prepare a canvas"
   ]
  },
  {
   "cell_type": "code",
   "execution_count": null,
   "metadata": {
    "dotnet_interactive": {
     "language": "html"
    },
    "vscode": {
     "languageId": "polyglot-notebook"
    }
   },
   "outputs": [],
   "source": [
    "#!html\n",
    "<div id=\"mynetwork\" style=\"height: 800px;\"></div>"
   ]
  },
  {
   "cell_type": "markdown",
   "metadata": {},
   "source": [
    "And then visualize the graph. pay attention to the line `#!share --from csharp gv`. It is a convenient way to \"share\" variables within the same kernel between different languages. In this case, we used C# to read the Graphviz file into the `gv` variable, and then use that variable within the block of JavaScript!"
   ]
  },
  {
   "cell_type": "code",
   "execution_count": null,
   "metadata": {
    "dotnet_interactive": {
     "language": "javascript"
    },
    "vscode": {
     "languageId": "polyglot-notebook"
    }
   },
   "outputs": [],
   "source": [
    "#!js\n",
    "#!share --from csharp gv\n",
    "\n",
    "visRequire = interactive.configureRequire({\n",
    "    paths: {\n",
    "        visjs: \"https://visjs.github.io/vis-network/standalone/umd/vis-network.min\"\n",
    "    }\n",
    "});\n",
    "    \n",
    "visRequire([\"visjs\"], visjs => {\n",
    "    \n",
    "    var container = document.getElementById(\"mynetwork\");\n",
    "    var dot = gv;\n",
    "    var parsedData = visjs.parseDOTNetwork(dot);\n",
    "\n",
    "    var data = {\n",
    "        nodes: parsedData.nodes,\n",
    "        edges: parsedData.edges\n",
    "    };\n",
    "    var options = parsedData.options;\n",
    "    options = {\n",
    "        physics: {\n",
    "            solver: \"forceAtlas2Based\",\n",
    "            enabled: false,\n",
    "            forceAtlas2Based: {\n",
    "                theta: 0.5,\n",
    "                gravitationalConstant: -50,\n",
    "                centralGravity: 0.01,\n",
    "                springConstant: 0.08,\n",
    "                springLength: 100,\n",
    "                damping: 0.4,\n",
    "                avoidOverlap: 0.7\n",
    "              },\n",
    "            barnesHut: {\n",
    "                theta: 0.5,\n",
    "                gravitationalConstant: -2000,\n",
    "                centralGravity: 0.3,\n",
    "                springLength: 95,\n",
    "                springConstant: 0.04,\n",
    "                damping: 0.09,\n",
    "                avoidOverlap: 0\n",
    "            }\n",
    "        },\n",
    "        interaction: { hover: true, zoomView: true },\n",
    "        layout: { randomSeed: 'Mickey' }\n",
    "    }\n",
    "\n",
    "    var network = new visjs.Network(container, data, options); \n",
    "    network.stabilize(600)\n",
    "});"
   ]
  },
  {
   "cell_type": "markdown",
   "metadata": {},
   "source": [
    "Voila! Here we see, that the misconfigured VNET is marked red. And it has a NIC attached to it. Which is, potentially, the root cause of the hypothetical problem :)"
   ]
  }
 ],
 "metadata": {
  "kernelspec": {
   "display_name": ".NET (C#)",
   "language": "C#",
   "name": ".net-csharp"
  },
  "language_info": {
   "name": "C#"
  }
 },
 "nbformat": 4,
 "nbformat_minor": 2
}

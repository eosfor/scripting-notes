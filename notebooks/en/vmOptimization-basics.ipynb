{
 "cells": [
  {
   "cell_type": "markdown",
   "metadata": {},
   "source": [
    "# How to optimize target VM costs when moving them to Azure"
   ]
  },
  {
   "cell_type": "markdown",
   "metadata": {},
   "source": [
    "> This thing works in  [![Binder](https://mybinder.org/badge_logo.svg)](https://mybinder.org/v2/gh/eosfor/scripting-notes/HEAD)"
   ]
  },
  {
   "cell_type": "markdown",
   "metadata": {},
   "source": [
    "## The scenario\n",
    "\n",
    "Do you feel it is time to move your servers from on-prem DC to Azure cloud? One of the steps in this long journey is to map existing servers to their Azure counterparts. Along with that, we want to reduce the costs of the overall bundle of boxes. But at the same time, we need to get the highest performance possible. In theory, we can simply map the source VMs to the target VMs by the number of virtual CPUs and the amount of RAM. It is not the most difficult task in the world. However, in this case, we can't guarantee the highest possible performance for the lowest possible price. Suppose we always pick a VM with the lowest price, but in this case, we lose the performance. On the other hand, if we start picking VMs with the highest performance, we will also get the highest cost. Is there a middle ground? Is it even possible to get what we want? Let us see"
   ]
  },
  {
   "cell_type": "markdown",
   "metadata": {},
   "source": [
    "But before we start, we need to invoke some .NET Interactive magic to let [mermaid](https://mermaid-js.github.io/mermaid/#/./flowchart?id=flowcharts-basic-syntax) and [Microsoft Dataframe](https://devblogs.microsoft.com/dotnet/an-introduction-to-dataframe/) work. They will help us to represent data more conveniently"
   ]
  },
  {
   "cell_type": "code",
   "execution_count": null,
   "metadata": {
    "dotnet_interactive": {
     "language": "csharp"
    },
    "vscode": {
     "languageId": "polyglot-notebook"
    }
   },
   "outputs": [],
   "source": [
    "#r \"nuget:Microsoft.Data.Analysis,0.21.0-preview.23511.1\"\n",
    "#r \"nuget:Microsoft.DotNet.Interactive.ExtensionLab, *-*\""
   ]
  },
  {
   "cell_type": "code",
   "execution_count": null,
   "metadata": {
    "dotnet_interactive": {
     "language": "pwsh"
    },
    "polyglot_notebook": {
     "kernelName": "pwsh"
    },
    "vscode": {
     "languageId": "polyglot-notebook"
    }
   },
   "outputs": [],
   "source": [
    "Install-Module -Name Minizinc\n",
    "Import-Module Minizinc -Force"
   ]
  },
  {
   "cell_type": "markdown",
   "metadata": {},
   "source": [
    "## Minizinc"
   ]
  },
  {
   "cell_type": "markdown",
   "metadata": {},
   "source": [
    "To do all that we need to start from minizinc. There is what they say about it on the [web site](https://www.minizinc.org/)\n",
    "\n",
    "> MiniZinc is a free and open-source **constraint modeling language**.\n",
    ">\n",
    "> You can use MiniZinc to model constraint satisfaction and optimization problems in a **high-level**, **solver-independent** way, taking advantage of a large library of pre-defined constraints. Your model is then compiled into FlatZinc, a solver input language that is understood by a wide range of solvers.\n",
    ">\n",
    "> MiniZinc is developed at [Monash University](http://www.monash.edu/) in collaboration with [Data61 Decision Sciences](https://research.csiro.au/data61/tag/decision-sciences/) and the [University of Melbourne](http://unimelb.edu.au/).\n",
    "\n",
    "In simple words, on one hand, it is a special **declarative** programming language, which is used to describe and solve a specific class of problems. On the other hand, it is an abstraction on top of a set of `solvers` which allows us to write a piece of code once and then try to solve a problem using different solvers.\n",
    "\n",
    "In our case, we are solving the constraint satisfaction and optimization problem using minizinc."
   ]
  },
  {
   "cell_type": "markdown",
   "metadata": {},
   "source": [
    "## What we are going to do"
   ]
  },
  {
   "cell_type": "markdown",
   "metadata": {},
   "source": [
    "In this section we perform a quick experiment, look at the result and explain it. The next section contains some high-level details on how all this works. Please note, for all this to work directly on the Windows system you may need to download and install [minizinc](https://www.minizinc.org/). Please also make sure that `minizinc.exe` is on the **PATH**."
   ]
  },
  {
   "cell_type": "markdown",
   "metadata": {},
   "source": [
    "> To hide some complexity we moved some additional logic [here](./vm-optimization-minizinc/helperFunctions.ps1). We will touch ubon it in the next section"
   ]
  },
  {
   "cell_type": "markdown",
   "metadata": {},
   "source": [
    "Lets make it simple at first. Our solution contains three major parts:\n",
    "\n",
    "- the [minizinc model](./vm-optimization-minizinc/vmCostsCalculation-integer.mzn), written in minizinc\n",
    "- the [input data](./vm-optimization-minizinc/vmData.dzn) for the model\n",
    "- [a few scripts](./vm-optimization-minizinc/helperFunctions.ps1), to simplify the look at feel of the tool\n",
    "\n",
    "The input data contains he following:\n",
    "\n",
    "- a piece of data about the source set of servers, their CPU, RAM and Disk\n",
    "- a piece of data about Azure VMs in eastus2 region, exported from Azure\n",
    "- a piece of data about Azure disks, also exported from Azure\n",
    "\n",
    "Te model attempts to do all the heavy lifting **by itself**. It attempts to map each source server to its coud counterpart, but at the same time it follows the applied constraints, that we provide as part of the model. For example, our model demands that the amout of RAM of the cloud VM has to be not less than it is in the source box\n",
    "\n",
    "In the best case scenario the solver guaratees that the solution is optimal."
   ]
  },
  {
   "cell_type": "markdown",
   "metadata": {},
   "source": [
    "To try all that, let us import all the necessary helpers - [dot sourcing](https://docs.microsoft.com/en-us/powershell/module/microsoft.powershell.core/about/about_scripts?view=powershell-7.2#script-scope-and-dot-sourcing)"
   ]
  },
  {
   "cell_type": "code",
   "execution_count": null,
   "metadata": {
    "dotnet_interactive": {
     "language": "pwsh"
    },
    "vscode": {
     "languageId": "polyglot-notebook"
    }
   },
   "outputs": [],
   "source": [
    ". .\\vm-optimization-minizinc\\helperFunctions.ps1"
   ]
  },
  {
   "cell_type": "markdown",
   "metadata": {},
   "source": [
    "We are going to run three different tests:\n",
    "\n",
    "- simple test, where we optimize for costs and performance separately, to have some data to compare to\n",
    "- `cost -> performance` test, where we first optimize for costs, then fix it and optimize for performance. It means that we first find the minimal price and then try to find what we can to increase performance without breaking the cost limit\n",
    "- `performance -> cost` test, where we first optimize for performance, then fix it and optimize for costs. It means that we first find the maximum performance and then see if we can adjust a set of VMs so that cost reduces but without affecting the performance."
   ]
  },
  {
   "cell_type": "markdown",
   "metadata": {},
   "source": [
    "### Simple test - optimizing separately"
   ]
  },
  {
   "cell_type": "markdown",
   "metadata": {},
   "source": [
    "Minimize the cost"
   ]
  },
  {
   "cell_type": "code",
   "execution_count": null,
   "metadata": {
    "dotnet_interactive": {
     "language": "pwsh"
    },
    "vscode": {
     "languageId": "polyglot-notebook"
    }
   },
   "outputs": [],
   "source": [
    "Start-MinizincVMOptimizationModel -MinimizeCosts | Select-Object totalPrice, totalACU"
   ]
  },
  {
   "cell_type": "markdown",
   "metadata": {},
   "source": [
    "Miximize the performance"
   ]
  },
  {
   "cell_type": "code",
   "execution_count": null,
   "metadata": {
    "dotnet_interactive": {
     "language": "pwsh"
    },
    "vscode": {
     "languageId": "polyglot-notebook"
    }
   },
   "outputs": [],
   "source": [
    "Start-MinizincVMOptimizationModel -MaximizeACU  | Select-Object totalPrice, totalACU"
   ]
  },
  {
   "cell_type": "markdown",
   "metadata": {},
   "source": [
    "As we see from these results, the price in the first case is significantly less than in the second case. I also want to highlight that the numbers show that doubling the performance costs us over three times more. Now the question is, can we do better?"
   ]
  },
  {
   "cell_type": "markdown",
   "metadata": {},
   "source": [
    "### Minimize the cost for the price of performance"
   ]
  },
  {
   "cell_type": "markdown",
   "metadata": {},
   "source": [
    "We use what Microsoft calls [Azure compute unit (ACU)](https://docs.microsoft.com/en-us/azure/virtual-machines/acu) to estimate the performance. We pull this value from Azure APIs, and in the future, I'll show you how to do it. In our experiments we are trying to maximize it, keeping the cost as low as we can"
   ]
  },
  {
   "cell_type": "markdown",
   "metadata": {},
   "source": [
    "In this experiment, we first minimize the cost and then try to maximize the performance of the resulting set of target VMs"
   ]
  },
  {
   "cell_type": "code",
   "execution_count": null,
   "metadata": {
    "dotnet_interactive": {
     "language": "pwsh"
    },
    "vscode": {
     "languageId": "polyglot-notebook"
    }
   },
   "outputs": [],
   "source": [
    "$ret = Start-MinizincVMOptimizationModel -MinimizeCosts | Start-MinizincVMOptimizationModel -FixCostsMaximizeACU\n",
    "$ret | Select-Object totalPrice, totalACU"
   ]
  },
  {
   "cell_type": "markdown",
   "metadata": {},
   "source": [
    "Here we see that, compared to the first test, the cost is still minimal. But we managed to increase the overall performance a bit."
   ]
  },
  {
   "cell_type": "markdown",
   "metadata": {},
   "source": [
    "Let us see which VM sizes the model has picked for us. For that, we try the [DataFrame](https://devblogs.microsoft.com/dotnet/an-introduction-to-dataframe/). The .NET Interactive can display it conveniently, so it is just, readable. For that, we have to convert the resulting set of VMs into the CSV string and then pass it to the extension method. Well, it does not look like an extension method, but it is. Unfortunately, this is how PowerShell does it."
   ]
  },
  {
   "cell_type": "code",
   "execution_count": null,
   "metadata": {
    "dotnet_interactive": {
     "language": "pwsh"
    },
    "vscode": {
     "languageId": "polyglot-notebook"
    }
   },
   "outputs": [],
   "source": [
    "$csv = ($ret.vmRecords | ConvertTo-Csv -NoTypeInformation) -join \"`n\"\n",
    "$df = [Microsoft.Data.Analysis.DataFrame]::LoadCsvFromString($csv)\n",
    "[Microsoft.DotNet.Interactive.Kernel]::display($df)"
   ]
  },
  {
   "cell_type": "markdown",
   "metadata": {},
   "source": [
    "The thing to pay attention to here is the `targetVMACU` column. It is always equal to 100. I did not check but assume that this is what helped to increase the performance a bit"
   ]
  },
  {
   "cell_type": "markdown",
   "metadata": {},
   "source": [
    "Actually, it is not necessary to use DataFrames. We can use HTML and the extension method, but if the table is big it shows the long list of rows, which is a bit inconvenient"
   ]
  },
  {
   "cell_type": "code",
   "execution_count": null,
   "metadata": {
    "dotnet_interactive": {
     "language": "pwsh"
    },
    "vscode": {
     "languageId": "polyglot-notebook"
    }
   },
   "outputs": [],
   "source": [
    "$view = $ret.vmRecords | ConvertTo-Html -Fragment\n",
    "[Microsoft.DotNet.Interactive.Kernel]::HTML($view) | Out-Display"
   ]
  },
  {
   "cell_type": "markdown",
   "metadata": {},
   "source": [
    "### Minimize cost without affecting performance"
   ]
  },
  {
   "cell_type": "markdown",
   "metadata": {},
   "source": [
    "Now we want to try a different approach. We first maximize performance, pin it and then try to minimize the total price, by asking the model to re-shuffle VMs to see if it is possible"
   ]
  },
  {
   "cell_type": "code",
   "execution_count": null,
   "metadata": {
    "dotnet_interactive": {
     "language": "pwsh"
    },
    "vscode": {
     "languageId": "polyglot-notebook"
    }
   },
   "outputs": [],
   "source": [
    "$ret2 = Start-MinizincVMOptimizationModel -MaximizeACU | Start-MinizincVMOptimizationModel -FixACUMinimizeCosts\n",
    "$ret2 | Select-Object totalPrice, totalACU"
   ]
  },
  {
   "cell_type": "markdown",
   "metadata": {},
   "source": [
    "And here we go! We get the total price which is just slightly higher than the minimal one, but with doubled performance! That is the win, I think!"
   ]
  },
  {
   "cell_type": "code",
   "execution_count": null,
   "metadata": {
    "dotnet_interactive": {
     "language": "pwsh"
    },
    "vscode": {
     "languageId": "polyglot-notebook"
    }
   },
   "outputs": [],
   "source": [
    "$csv = ($ret2.vmRecords | ConvertTo-Csv -NoTypeInformation) -join \"`n\"\n",
    "$df2 = [Microsoft.Data.Analysis.DataFrame]::LoadCsvFromString($csv)\n",
    "[Microsoft.DotNet.Interactive.Kernel]::display($df2)"
   ]
  },
  {
   "cell_type": "markdown",
   "metadata": {},
   "source": [
    "The model chose completely different VM sizes, which helped to lower the cost but without affecting the performance"
   ]
  },
  {
   "cell_type": "markdown",
   "metadata": {},
   "source": [
    "## How it really works"
   ]
  },
  {
   "cell_type": "markdown",
   "metadata": {},
   "source": [
    "This section is for those who what to peek under the hood. But if you really want to dig deeper, it is better to watch a few courses below:\n",
    "\n",
    "\n",
    "- [Basic Modeling for Discrete Optimization](https://www.coursera.org/learn/basic-modeling)\n",
    "- [Advanced Modeling for Discrete Optimization](https://www.coursera.org/learn/advanced-modeling)\n",
    "\n",
    "\n",
    "The overall solution diagram (using mermaid) is below"
   ]
  },
  {
   "cell_type": "code",
   "execution_count": null,
   "metadata": {
    "dotnet_interactive": {
     "language": "csharp"
    },
    "vscode": {
     "languageId": "polyglot-notebook"
    }
   },
   "outputs": [],
   "source": [
    "#!mermaid\n",
    "flowchart LR\n",
    "    data[minizinc data] --> pwsh[PowerShell Crescendo Wrapper]\n",
    "    model[minizinc model] --> pwsh[PowerShell Crescendo Wrapper]\n",
    "    pwsh -.calls.-> mz[minizinc.exe]\n",
    "    mz --uses--> solver[solver GECODE]\n",
    "    mz -.returns results.-> pwsh\n",
    "    pwsh --parses and returns-->r[results]\n",
    "\n",
    "    source[\"source servers details (CPU, RAM, Disks)\"] -.-> data\n",
    "    azureVM[\"Azure VM pricing and ACU\"]  -.-> data\n",
    "    azureDisk[\"Azure Disk prices\"]  -.-> data"
   ]
  },
  {
   "cell_type": "markdown",
   "metadata": {},
   "source": [
    "The main piece of the solution is a [model](./vm-optimization-minizinc/minimize-totalPrice.mzn). As I mentioned before, the model uses a declarative approach to describe what we need. And that is the beauty of it. We don't need to tell it how to find a solution. We define a model in a form of variables we want to find, constraints, and objective functions. And the model finds a solution for us by itself. Let us see how it is done in our case:\n",
    "\n",
    "The first constraint of the model requires that for all source servers we want to find such a target counterpart, that the amount  of RAM on it is more or equal to the source VM\n",
    "\n",
    "```console\n",
    "constraint forall(vm in existingVMs)(\n",
    "    vmSizeRAM[selectedSize[vm]] >= vmRAM[vm]\n",
    ");\n",
    "```\n",
    "\n",
    "\n",
    "The second constraint for the CPU is similar, but in this case, we allow it to be lower by 20%. It does not mean that all VMs are going to have fewer CPUs, it is just the lower boundary, to save costs a bit.\n",
    "\n",
    "```console\n",
    "constraint forall(vm in existingVMs)(\n",
    "   vmSizeCPU[selectedSize[vm]] >=  vmCPU[vm] * 0.8\n",
    ");\n",
    "```\n",
    "\n",
    "Besides that, we have two objective functions, the total price, and the total ACU. Each of them is just a sum of the corresponding values of all target VMs which our model is going to pick\n",
    "\n",
    "```console\n",
    "var int: totalPrice = sum(vm in existingVMs)(vmSizePrice[selectedSize[vm]]);\n",
    "var int: totalACU = sum(vm in existingVMs)( vmSizeACU[selectedSize[vm]] );\n",
    "```\n",
    "\n",
    "And the last, but not least - `decision variables`, actually what we are looking for. Here we simply say that for each VM in the input array we want to find a corresponding VM size in the cloud, in a way that satisfies our constraints. Basically, we define an array of `decision variables` which our solver will try to calculate for us.\n",
    "\n",
    "```console\n",
    "array[existingVMs] of var vmSizes: selectedSize;\n",
    "```\n",
    "\n",
    "For all to work, the model lacks a statement that should tell which of the objective functions we want to optimize and how. For that, there is the `solve` keyword. There are a few options here:\n",
    "\n",
    "- `solve satisfy` - seeks for any/all solutions which satisfy given constraints\n",
    "- `solve minimize ...` - tries to minimize the objective function and satisfy constraints\n",
    "- `solve maximize ...` - tries to maximize the objective function and satisfy constraints"
   ]
  },
  {
   "cell_type": "markdown",
   "metadata": {},
   "source": [
    "On our implementation, the `Start-MinizincVMOptimizationModel` cmdlet plugs the correct `solve` operator into the model and runs it by calling minizinc\n",
    "\n",
    "However, by default minizinc does not have a syntax to optimize for multiple parameters at a time. So we need to run the model twice. First, we run the model optimizing for one function, then get the result, supply it back to the model as a constraint and try optimizing for the second function. That is exactly what this pipeline does `Start-MinizincVMOptimizationModel -Costs | Start-MinizincVMOptimizationModel -Performance`\n",
    "\n",
    "\n",
    "1. Plug `solve  minimize totalPrice;` to the model\n",
    "2. The model executes, PowerShell takes the output from minizinc, parses it, and passes to the next command via PowerShell pipeline\n",
    "3. This input gets transformed into a constraint + another `solve` statement - `constraint totalACU >= $($InputObject.totalACU); solve  minimize totalPrice;` or `constraint totalPrice <= $($InputObject.totalPrice * 10000); solve  maximize totalACU;` where `$($InputObject.xxx)` is theresult from the previous command\n",
    "4. The model executes, PowerShell takes the output from minizinc, parses it, and passes to the next command via PowerShell pipeline"
   ]
  },
  {
   "cell_type": "markdown",
   "metadata": {},
   "source": [
    "In the end, here is what is happening. The input to the model is the set of VMs with their sizes and all possible target VM sizes along with their attributes and ACU from Azure. For each VM the model tries to find the counterpart from the list of sizes such that it satisfies all constraints and at the same time tries to optimize the objective function."
   ]
  }
 ],
 "metadata": {
  "kernelspec": {
   "display_name": ".NET (C#)",
   "language": "C#",
   "name": ".net-csharp"
  },
  "language_info": {
   "file_extension": ".cs",
   "mimetype": "text/x-csharp",
   "name": "C#",
   "pygments_lexer": "csharp",
   "version": "9.0"
  }
 },
 "nbformat": 4,
 "nbformat_minor": 2
}

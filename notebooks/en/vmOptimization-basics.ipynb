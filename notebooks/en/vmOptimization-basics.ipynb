{
 "cells": [
  {
   "cell_type": "markdown",
   "metadata": {},
   "source": [
    "# How to optimize target VM costs when moving them to Azure"
   ]
  },
  {
   "cell_type": "markdown",
   "metadata": {},
   "source": [
    "> This thing works in  [![Binder](https://mybinder.org/badge_logo.svg)](https://mybinder.org/v2/gh/eosfor/scripting-notes/HEAD)"
   ]
  },
  {
   "cell_type": "markdown",
   "metadata": {},
   "source": [
    "## The scenario\n",
    "\n",
    "Do you feel it is time to move your servers from on-prem DC to Azure cloud? One of the steps in this long journey is to map existing servers to their Azure counterparts. Along with that, we want to reduce the costs of the overall bundle of boxes. But at the same time, we need to get the highest performance possible. In theory, we can simply map the source VMs to the target VMs by the number of virtual CPUs and the amount of RAM. It is not the most difficult task in the world. However, in this case, we can't guarantee the highest possible performance for the lowest possible price. Suppose we always pick a VM with the lowest price, but in this case, we lose the performance. On the other hand, if we start picking VMs with the highest performance, we will also get the highest cost. Is there a middle ground? Is it even possible to get what we want? Let us see"
   ]
  },
  {
   "cell_type": "markdown",
   "metadata": {},
   "source": [
    "But before we start, we need to invoke some .NET Interactive magic to let [mermaid](https://mermaid-js.github.io/mermaid/#/./flowchart?id=flowcharts-basic-syntax) and [Microsoft Dataframe](https://devblogs.microsoft.com/dotnet/an-introduction-to-dataframe/) work. They will help us to represent data more conveniently"
   ]
  },
  {
   "cell_type": "code",
   "execution_count": null,
   "metadata": {
    "dotnet_interactive": {
     "language": "csharp"
    }
   },
   "outputs": [],
   "source": [
    "#r \"nuget:Microsoft.DotNet.Interactive.ExtensionLab,*-*\""
   ]
  },
  {
   "cell_type": "markdown",
   "metadata": {},
   "source": [
    "## Minizinc"
   ]
  },
  {
   "cell_type": "markdown",
   "metadata": {},
   "source": [
    "To do all that we need to start from minizinc. There is what they say about it on the [web site](https://www.minizinc.org/)\n",
    "\n",
    "> MiniZinc is a free and open-source **constraint modeling language**.\n",
    ">\n",
    "> You can use MiniZinc to model constraint satisfaction and optimization problems in a **high-level**, **solver-independent** way, taking advantage of a large library of pre-defined constraints. Your model is then compiled into FlatZinc, a solver input language that is understood by a wide range of solvers.\n",
    ">\n",
    "> MiniZinc is developed at [Monash University](http://www.monash.edu/) in collaboration with [Data61 Decision Sciences](https://research.csiro.au/data61/tag/decision-sciences/) and the [University of Melbourne](http://unimelb.edu.au/).\n",
    "\n",
    "In simple words, on one hand, it is a special **declarative** programming language, which is used to describe and solve a specific class of problems. On the other hand, it is an abstraction on top of a set of `solvers` which allows us to write a piece of code once and then try to solve a problem using different solvers.\n",
    "\n",
    "In our case, we are solving the constraint satisfaction and optimization problem using minizinc."
   ]
  },
  {
   "cell_type": "markdown",
   "metadata": {},
   "source": [
    "## What we are going to do"
   ]
  },
  {
   "cell_type": "markdown",
   "metadata": {},
   "source": [
    "In this section we perform a quick experiment, look at the result and explain it. The next section contains some high-level details on how all this works. Please note, for all this to work directly on the Windows system you may need to download and install [minizinc](https://www.minizinc.org/). Please also make sure that `minizinc.exe` is on the **PATH**."
   ]
  },
  {
   "cell_type": "markdown",
   "metadata": {},
   "source": [
    "> To hide some complexity we moved some additional logic [here](./vm-optimization-minizinc/helperFunctions.ps1). We will touch ubon it in the next section"
   ]
  },
  {
   "cell_type": "markdown",
   "metadata": {},
   "source": [
    "Lets make it simple at first. Our solution contains three major parts:\n",
    "\n",
    "- the [minizinc model](./vm-optimization-minizinc/vmCostsCalculation-integer.mzn), written in minizinc\n",
    "- the [input data](./vm-optimization-minizinc/vmData.dzn) for the model\n",
    "- [a few scripts](./vm-optimization-minizinc/helperFunctions.ps1), to simplify the look at feel of the tool\n",
    "\n",
    "The input data contains he following:\n",
    "\n",
    "- a piece of data about the source set of servers, their CPU, RAM and Disk\n",
    "- a piece of data about Azure VMs in eastus2 region, exported from Azure\n",
    "- a piece of data about Azure disks, also exported from Azure\n",
    "\n",
    "Te model attempts to do all the heavy lifting **by itself**. It attempts to map each source server to its coud counterpart, but at the same time it follows the applied constraints, that we provide as part of the model. For example, our model demands that the amout of RAM of the cloud VM has to be not less than it is in the source box\n",
    "\n",
    "In the best case scenario the solver guaratees that the solution is optimal."
   ]
  },
  {
   "cell_type": "markdown",
   "metadata": {},
   "source": [
    "To try all that, let us import all the necessary helpers - [dot sourcing](https://docs.microsoft.com/en-us/powershell/module/microsoft.powershell.core/about/about_scripts?view=powershell-7.2#script-scope-and-dot-sourcing)"
   ]
  },
  {
   "cell_type": "code",
   "execution_count": null,
   "metadata": {
    "dotnet_interactive": {
     "language": "pwsh"
    }
   },
   "outputs": [],
   "source": [
    ". .\\vm-optimization-minizinc\\helperFunctions.ps1"
   ]
  },
  {
   "cell_type": "markdown",
   "metadata": {},
   "source": [
    "We are going to run three different tests:\n",
    "\n",
    "- simple test, where we optimize for costs and performance separately, to have some data to compare to\n",
    "- `cost -> performance` test, where we first optimize for costs, then fix it and optimize for performance. It means that we first find the minimal price and then try to find what we can to increase performance without breaking the cost limit\n",
    "- `performance -> cost` test, where we first optimize for performance, then fix it and optimize for costs. It means that we first find the maximum performance and then see if we can adjust a set of VMs so that cost reduces but without affecting the performance."
   ]
  },
  {
   "cell_type": "markdown",
   "metadata": {},
   "source": [
    "### Simple test - optimizing separately"
   ]
  },
  {
   "cell_type": "markdown",
   "metadata": {},
   "source": [
    "Minimize the cost"
   ]
  },
  {
   "cell_type": "code",
   "execution_count": null,
   "metadata": {
    "dotnet_interactive": {
     "language": "pwsh"
    }
   },
   "outputs": [
    {
     "name": "stdout",
     "output_type": "stream",
     "text": [
      "\r\n",
      "\u001b[32;1mtotalPrice totalACU vmRecords\u001b[0m\r\n",
      "\u001b[32;1m---------- -------- ---------\u001b[0m\r\n",
      "   42.4778     9200 {@{sourceVMName=vmN1; sourceVMCPU=2; sourceVMRAM=12; sourceVMDisk=460; selecte…\r\n",
      "\r\n"
     ]
    }
   ],
   "source": [
    "Start-MinizincVMOptimizationModel -Costs"
   ]
  },
  {
   "cell_type": "markdown",
   "metadata": {},
   "source": [
    "Miximize the performance"
   ]
  },
  {
   "cell_type": "code",
   "execution_count": null,
   "metadata": {
    "dotnet_interactive": {
     "language": "pwsh"
    }
   },
   "outputs": [
    {
     "name": "stdout",
     "output_type": "stream",
     "text": [
      "\r\n",
      "\u001b[32;1mtotalPrice totalACU vmRecords\u001b[0m\r\n",
      "\u001b[32;1m---------- -------- ---------\u001b[0m\r\n",
      "   146.496    18860 {@{sourceVMName=vmN1; sourceVMCPU=2; sourceVMRAM=12; sourceVMDisk=460; selecte…\r\n",
      "\r\n"
     ]
    }
   ],
   "source": [
    "Start-MinizincVMOptimizationModel -Performance"
   ]
  },
  {
   "cell_type": "markdown",
   "metadata": {},
   "source": [
    "As we see from these results, the price in the first case is significantly less than in the second case. I also want to highlight that the numbers show that doubling the performance costs us over three times more. Now the question is, can we do better?"
   ]
  },
  {
   "cell_type": "markdown",
   "metadata": {},
   "source": [
    "### Minimize the cost for the price of the performance"
   ]
  },
  {
   "cell_type": "markdown",
   "metadata": {},
   "source": [
    "We use what Microsoft calls [Azure compute unit (ACU)](https://docs.microsoft.com/en-us/azure/virtual-machines/acu) to estimate the performance. We pull this value from Azure APIs, and in the future, I'll show you how to do it. In our experiments we are trying to maximize it, keeping the cost as low as we can"
   ]
  },
  {
   "cell_type": "markdown",
   "metadata": {
    "dotnet_interactive": {
     "language": "pwsh"
    }
   },
   "source": [
    "In this experiment, we first minimize the cost and then try to maximize the performance of the resulting set of target VMs"
   ]
  },
  {
   "cell_type": "code",
   "execution_count": null,
   "metadata": {
    "dotnet_interactive": {
     "language": "pwsh"
    }
   },
   "outputs": [
    {
     "name": "stdout",
     "output_type": "stream",
     "text": [
      "\r\n",
      "\u001b[32;1mtotalPrice totalACU vmRecords\u001b[0m\r\n",
      "\u001b[32;1m---------- -------- ---------\u001b[0m\r\n",
      "   42.4778     9410 {@{sourceVMName=vmN1; sourceVMCPU=2; sourceVMRAM=12; sourceVMDisk=460; selecte…\r\n",
      "\r\n"
     ]
    }
   ],
   "source": [
    "$ret = Start-MinizincVMOptimizationModel -Costs | Start-MinizincVMOptimizationModel -Performance\n",
    "$ret"
   ]
  },
  {
   "cell_type": "markdown",
   "metadata": {},
   "source": [
    "Here we see that, compared to the first test, the cost is still minimal. But we managed to increase the overall performance a bit."
   ]
  },
  {
   "cell_type": "markdown",
   "metadata": {},
   "source": [
    "Let us see which VM sizes the model has picked for us. For that, we try the [DataFrame](https://devblogs.microsoft.com/dotnet/an-introduction-to-dataframe/). The .NET Interactive can display it conveniently, so it is just, readable. For that, we have to convert the resulting set of VMs into the CSV string and then pass it to the extension method. Well, it does not look like an extension method, but it is. Unfortunately, this is how PowerShell does it."
   ]
  },
  {
   "cell_type": "code",
   "execution_count": null,
   "metadata": {
    "dotnet_interactive": {
     "language": "pwsh"
    }
   },
   "outputs": [
    {
     "data": {
      "text/html": [
       "<table id=\"table_637775337473382095\"><caption><h3 style=\"text-align: center;\">DataFrame - 82 rows </h3></caption><thead><tr><th><i>index</i></th><th>sourceVMName</th><th>sourceVMCPU</th><th>sourceVMRAM</th><th>sourceVMDisk</th><th>selectedSize</th><th>targetVMCPU</th><th>targetVMRAM</th><th>targetVMDisk</th><th>targetVMPrice</th><th>targetVMACU</th></tr></thead><tbody><tr style=\"display: none\"><td><i><div class=\"dni-plaintext\">0</div></i></td><td>vmN1</td><td><div class=\"dni-plaintext\">2</div></td><td><div class=\"dni-plaintext\">12</div></td><td><div class=\"dni-plaintext\">460</div></td><td>Standard_A2m_v2</td><td><div class=\"dni-plaintext\">2</div></td><td><div class=\"dni-plaintext\">16</div></td><td><div class=\"dni-plaintext\">4</div></td><td><div class=\"dni-plaintext\">0.18</div></td><td><div class=\"dni-plaintext\">100</div></td></tr><tr style=\"display: none\"><td><i><div class=\"dni-plaintext\">1</div></i></td><td>vmN2</td><td><div class=\"dni-plaintext\">2</div></td><td><div class=\"dni-plaintext\">24</div></td><td><div class=\"dni-plaintext\">1440</div></td><td>Standard_A4m_v2</td><td><div class=\"dni-plaintext\">4</div></td><td><div class=\"dni-plaintext\">32</div></td><td><div class=\"dni-plaintext\">4</div></td><td><div class=\"dni-plaintext\">0.378</div></td><td><div class=\"dni-plaintext\">100</div></td></tr><tr style=\"display: none\"><td><i><div class=\"dni-plaintext\">2</div></i></td><td>vmN3</td><td><div class=\"dni-plaintext\">2</div></td><td><div class=\"dni-plaintext\">4</div></td><td><div class=\"dni-plaintext\">110</div></td><td>Standard_A2_v2</td><td><div class=\"dni-plaintext\">2</div></td><td><div class=\"dni-plaintext\">4</div></td><td><div class=\"dni-plaintext\">4</div></td><td><div class=\"dni-plaintext\">0.136</div></td><td><div class=\"dni-plaintext\">100</div></td></tr><tr style=\"display: none\"><td><i><div class=\"dni-plaintext\">3</div></i></td><td>vmN4</td><td><div class=\"dni-plaintext\">6</div></td><td><div class=\"dni-plaintext\">23</div></td><td><div class=\"dni-plaintext\">260</div></td><td>Standard_D8s_v4</td><td><div class=\"dni-plaintext\">8</div></td><td><div class=\"dni-plaintext\">32</div></td><td><div class=\"dni-plaintext\">4</div></td><td><div class=\"dni-plaintext\">0.752</div></td><td><div class=\"dni-plaintext\">195</div></td></tr><tr style=\"display: none\"><td><i><div class=\"dni-plaintext\">4</div></i></td><td>vmN5</td><td><div class=\"dni-plaintext\">3</div></td><td><div class=\"dni-plaintext\">16</div></td><td><div class=\"dni-plaintext\">1120</div></td><td>Standard_D4s_v4</td><td><div class=\"dni-plaintext\">4</div></td><td><div class=\"dni-plaintext\">16</div></td><td><div class=\"dni-plaintext\">4</div></td><td><div class=\"dni-plaintext\">0.376</div></td><td><div class=\"dni-plaintext\">195</div></td></tr><tr style=\"display: none\"><td><i><div class=\"dni-plaintext\">5</div></i></td><td>vmN6</td><td><div class=\"dni-plaintext\">2</div></td><td><div class=\"dni-plaintext\">32</div></td><td><div class=\"dni-plaintext\">200</div></td><td>Standard_A4m_v2</td><td><div class=\"dni-plaintext\">4</div></td><td><div class=\"dni-plaintext\">32</div></td><td><div class=\"dni-plaintext\">4</div></td><td><div class=\"dni-plaintext\">0.378</div></td><td><div class=\"dni-plaintext\">100</div></td></tr><tr style=\"display: none\"><td><i><div class=\"dni-plaintext\">6</div></i></td><td>vmN7</td><td><div class=\"dni-plaintext\">2</div></td><td><div class=\"dni-plaintext\">7</div></td><td><div class=\"dni-plaintext\">267</div></td><td>Standard_A2m_v2</td><td><div class=\"dni-plaintext\">2</div></td><td><div class=\"dni-plaintext\">16</div></td><td><div class=\"dni-plaintext\">4</div></td><td><div class=\"dni-plaintext\">0.18</div></td><td><div class=\"dni-plaintext\">100</div></td></tr><tr style=\"display: none\"><td><i><div class=\"dni-plaintext\">7</div></i></td><td>vmN8</td><td><div class=\"dni-plaintext\">3</div></td><td><div class=\"dni-plaintext\">32</div></td><td><div class=\"dni-plaintext\">134</div></td><td>Standard_A4m_v2</td><td><div class=\"dni-plaintext\">4</div></td><td><div class=\"dni-plaintext\">32</div></td><td><div class=\"dni-plaintext\">4</div></td><td><div class=\"dni-plaintext\">0.378</div></td><td><div class=\"dni-plaintext\">100</div></td></tr><tr style=\"display: none\"><td><i><div class=\"dni-plaintext\">8</div></i></td><td>vmN9</td><td><div class=\"dni-plaintext\">2</div></td><td><div class=\"dni-plaintext\">8</div></td><td><div class=\"dni-plaintext\">213</div></td><td>Standard_A2m_v2</td><td><div class=\"dni-plaintext\">2</div></td><td><div class=\"dni-plaintext\">16</div></td><td><div class=\"dni-plaintext\">4</div></td><td><div class=\"dni-plaintext\">0.18</div></td><td><div class=\"dni-plaintext\">100</div></td></tr><tr style=\"display: none\"><td><i><div class=\"dni-plaintext\">9</div></i></td><td>vmN11</td><td><div class=\"dni-plaintext\">2</div></td><td><div class=\"dni-plaintext\">4</div></td><td><div class=\"dni-plaintext\">77</div></td><td>Standard_A2_v2</td><td><div class=\"dni-plaintext\">2</div></td><td><div class=\"dni-plaintext\">4</div></td><td><div class=\"dni-plaintext\">4</div></td><td><div class=\"dni-plaintext\">0.136</div></td><td><div class=\"dni-plaintext\">100</div></td></tr><tr style=\"display: none\"><td><i><div class=\"dni-plaintext\">10</div></i></td><td>vmN12</td><td><div class=\"dni-plaintext\">3</div></td><td><div class=\"dni-plaintext\">46</div></td><td><div class=\"dni-plaintext\">150</div></td><td>Standard_A8m_v2</td><td><div class=\"dni-plaintext\">8</div></td><td><div class=\"dni-plaintext\">64</div></td><td><div class=\"dni-plaintext\">4</div></td><td><div class=\"dni-plaintext\">0.794</div></td><td><div class=\"dni-plaintext\">100</div></td></tr><tr style=\"display: none\"><td><i><div class=\"dni-plaintext\">11</div></i></td><td>vmN13</td><td><div class=\"dni-plaintext\">4</div></td><td><div class=\"dni-plaintext\">8</div></td><td><div class=\"dni-plaintext\">208</div></td><td>Standard_A4_v2</td><td><div class=\"dni-plaintext\">4</div></td><td><div class=\"dni-plaintext\">8</div></td><td><div class=\"dni-plaintext\">4</div></td><td><div class=\"dni-plaintext\">0.286</div></td><td><div class=\"dni-plaintext\">100</div></td></tr><tr style=\"display: none\"><td><i><div class=\"dni-plaintext\">12</div></i></td><td>vmN14</td><td><div class=\"dni-plaintext\">2</div></td><td><div class=\"dni-plaintext\">16</div></td><td><div class=\"dni-plaintext\">578</div></td><td>Standard_A2m_v2</td><td><div class=\"dni-plaintext\">2</div></td><td><div class=\"dni-plaintext\">16</div></td><td><div class=\"dni-plaintext\">4</div></td><td><div class=\"dni-plaintext\">0.18</div></td><td><div class=\"dni-plaintext\">100</div></td></tr><tr style=\"display: none\"><td><i><div class=\"dni-plaintext\">13</div></i></td><td>vmN15</td><td><div class=\"dni-plaintext\">10</div></td><td><div class=\"dni-plaintext\">27</div></td><td><div class=\"dni-plaintext\">525</div></td><td>Standard_D8s_v4</td><td><div class=\"dni-plaintext\">8</div></td><td><div class=\"dni-plaintext\">32</div></td><td><div class=\"dni-plaintext\">4</div></td><td><div class=\"dni-plaintext\">0.752</div></td><td><div class=\"dni-plaintext\">195</div></td></tr><tr style=\"display: none\"><td><i><div class=\"dni-plaintext\">14</div></i></td><td>vmN17</td><td><div class=\"dni-plaintext\">1</div></td><td><div class=\"dni-plaintext\">20</div></td><td><div class=\"dni-plaintext\">20</div></td><td>Standard_A4m_v2</td><td><div class=\"dni-plaintext\">4</div></td><td><div class=\"dni-plaintext\">32</div></td><td><div class=\"dni-plaintext\">4</div></td><td><div class=\"dni-plaintext\">0.378</div></td><td><div class=\"dni-plaintext\">100</div></td></tr><tr style=\"display: none\"><td><i><div class=\"dni-plaintext\">15</div></i></td><td>vmN18</td><td><div class=\"dni-plaintext\">3</div></td><td><div class=\"dni-plaintext\">25</div></td><td><div class=\"dni-plaintext\">450</div></td><td>Standard_A4m_v2</td><td><div class=\"dni-plaintext\">4</div></td><td><div class=\"dni-plaintext\">32</div></td><td><div class=\"dni-plaintext\">4</div></td><td><div class=\"dni-plaintext\">0.378</div></td><td><div class=\"dni-plaintext\">100</div></td></tr><tr style=\"display: none\"><td><i><div class=\"dni-plaintext\">16</div></i></td><td>vmN19</td><td><div class=\"dni-plaintext\">5</div></td><td><div class=\"dni-plaintext\">30</div></td><td><div class=\"dni-plaintext\">545</div></td><td>Standard_A4m_v2</td><td><div class=\"dni-plaintext\">4</div></td><td><div class=\"dni-plaintext\">32</div></td><td><div class=\"dni-plaintext\">4</div></td><td><div class=\"dni-plaintext\">0.378</div></td><td><div class=\"dni-plaintext\">100</div></td></tr><tr style=\"display: none\"><td><i><div class=\"dni-plaintext\">17</div></i></td><td>vmN20</td><td><div class=\"dni-plaintext\">5</div></td><td><div class=\"dni-plaintext\">35</div></td><td><div class=\"dni-plaintext\">380</div></td><td>Standard_A8m_v2</td><td><div class=\"dni-plaintext\">8</div></td><td><div class=\"dni-plaintext\">64</div></td><td><div class=\"dni-plaintext\">4</div></td><td><div class=\"dni-plaintext\">0.794</div></td><td><div class=\"dni-plaintext\">100</div></td></tr><tr style=\"display: none\"><td><i><div class=\"dni-plaintext\">18</div></i></td><td>vmN21</td><td><div class=\"dni-plaintext\">4</div></td><td><div class=\"dni-plaintext\">48</div></td><td><div class=\"dni-plaintext\">402</div></td><td>Standard_A8m_v2</td><td><div class=\"dni-plaintext\">8</div></td><td><div class=\"dni-plaintext\">64</div></td><td><div class=\"dni-plaintext\">4</div></td><td><div class=\"dni-plaintext\">0.794</div></td><td><div class=\"dni-plaintext\">100</div></td></tr><tr style=\"display: none\"><td><i><div class=\"dni-plaintext\">19</div></i></td><td>vmN22</td><td><div class=\"dni-plaintext\">2</div></td><td><div class=\"dni-plaintext\">29</div></td><td><div class=\"dni-plaintext\">163</div></td><td>Standard_A4m_v2</td><td><div class=\"dni-plaintext\">4</div></td><td><div class=\"dni-plaintext\">32</div></td><td><div class=\"dni-plaintext\">4</div></td><td><div class=\"dni-plaintext\">0.378</div></td><td><div class=\"dni-plaintext\">100</div></td></tr><tr style=\"display: none\"><td><i><div class=\"dni-plaintext\">20</div></i></td><td>vmN23</td><td><div class=\"dni-plaintext\">2</div></td><td><div class=\"dni-plaintext\">29</div></td><td><div class=\"dni-plaintext\">163</div></td><td>Standard_A4m_v2</td><td><div class=\"dni-plaintext\">4</div></td><td><div class=\"dni-plaintext\">32</div></td><td><div class=\"dni-plaintext\">4</div></td><td><div class=\"dni-plaintext\">0.378</div></td><td><div class=\"dni-plaintext\">100</div></td></tr><tr style=\"display: none\"><td><i><div class=\"dni-plaintext\">21</div></i></td><td>vmN24</td><td><div class=\"dni-plaintext\">2</div></td><td><div class=\"dni-plaintext\">29</div></td><td><div class=\"dni-plaintext\">163</div></td><td>Standard_A4m_v2</td><td><div class=\"dni-plaintext\">4</div></td><td><div class=\"dni-plaintext\">32</div></td><td><div class=\"dni-plaintext\">4</div></td><td><div class=\"dni-plaintext\">0.378</div></td><td><div class=\"dni-plaintext\">100</div></td></tr><tr style=\"display: none\"><td><i><div class=\"dni-plaintext\">22</div></i></td><td>vmN25</td><td><div class=\"dni-plaintext\">2</div></td><td><div class=\"dni-plaintext\">29</div></td><td><div class=\"dni-plaintext\">163</div></td><td>Standard_A4m_v2</td><td><div class=\"dni-plaintext\">4</div></td><td><div class=\"dni-plaintext\">32</div></td><td><div class=\"dni-plaintext\">4</div></td><td><div class=\"dni-plaintext\">0.378</div></td><td><div class=\"dni-plaintext\">100</div></td></tr><tr style=\"display: none\"><td><i><div class=\"dni-plaintext\">23</div></i></td><td>vmN26</td><td><div class=\"dni-plaintext\">2</div></td><td><div class=\"dni-plaintext\">29</div></td><td><div class=\"dni-plaintext\">163</div></td><td>Standard_A4m_v2</td><td><div class=\"dni-plaintext\">4</div></td><td><div class=\"dni-plaintext\">32</div></td><td><div class=\"dni-plaintext\">4</div></td><td><div class=\"dni-plaintext\">0.378</div></td><td><div class=\"dni-plaintext\">100</div></td></tr><tr style=\"display: none\"><td><i><div class=\"dni-plaintext\">24</div></i></td><td>vmN27</td><td><div class=\"dni-plaintext\">2</div></td><td><div class=\"dni-plaintext\">29</div></td><td><div class=\"dni-plaintext\">163</div></td><td>Standard_A4m_v2</td><td><div class=\"dni-plaintext\">4</div></td><td><div class=\"dni-plaintext\">32</div></td><td><div class=\"dni-plaintext\">4</div></td><td><div class=\"dni-plaintext\">0.378</div></td><td><div class=\"dni-plaintext\">100</div></td></tr><tr style=\"display: none\"><td><i><div class=\"dni-plaintext\">25</div></i></td><td>vmN28</td><td><div class=\"dni-plaintext\">2</div></td><td><div class=\"dni-plaintext\">29</div></td><td><div class=\"dni-plaintext\">163</div></td><td>Standard_A4m_v2</td><td><div class=\"dni-plaintext\">4</div></td><td><div class=\"dni-plaintext\">32</div></td><td><div class=\"dni-plaintext\">4</div></td><td><div class=\"dni-plaintext\">0.378</div></td><td><div class=\"dni-plaintext\">100</div></td></tr><tr style=\"display: none\"><td><i><div class=\"dni-plaintext\">26</div></i></td><td>vmN29</td><td><div class=\"dni-plaintext\">2</div></td><td><div class=\"dni-plaintext\">29</div></td><td><div class=\"dni-plaintext\">163</div></td><td>Standard_A4m_v2</td><td><div class=\"dni-plaintext\">4</div></td><td><div class=\"dni-plaintext\">32</div></td><td><div class=\"dni-plaintext\">4</div></td><td><div class=\"dni-plaintext\">0.378</div></td><td><div class=\"dni-plaintext\">100</div></td></tr><tr style=\"display: none\"><td><i><div class=\"dni-plaintext\">27</div></i></td><td>vmN30</td><td><div class=\"dni-plaintext\">2</div></td><td><div class=\"dni-plaintext\">29</div></td><td><div class=\"dni-plaintext\">163</div></td><td>Standard_A4m_v2</td><td><div class=\"dni-plaintext\">4</div></td><td><div class=\"dni-plaintext\">32</div></td><td><div class=\"dni-plaintext\">4</div></td><td><div class=\"dni-plaintext\">0.378</div></td><td><div class=\"dni-plaintext\">100</div></td></tr><tr style=\"display: none\"><td><i><div class=\"dni-plaintext\">28</div></i></td><td>vmN31</td><td><div class=\"dni-plaintext\">8</div></td><td><div class=\"dni-plaintext\">90</div></td><td><div class=\"dni-plaintext\">6431</div></td><td>Standard_E16_4as_v4</td><td><div class=\"dni-plaintext\">16</div></td><td><div class=\"dni-plaintext\">128</div></td><td><div class=\"dni-plaintext\">4</div></td><td><div class=\"dni-plaintext\">1.744</div></td><td><div class=\"dni-plaintext\">230</div></td></tr><tr style=\"display: none\"><td><i><div class=\"dni-plaintext\">29</div></i></td><td>vmN32</td><td><div class=\"dni-plaintext\">7</div></td><td><div class=\"dni-plaintext\">180</div></td><td><div class=\"dni-plaintext\">1722</div></td><td>Standard_M8_2ms</td><td><div class=\"dni-plaintext\">8</div></td><td><div class=\"dni-plaintext\">218.75</div></td><td><div class=\"dni-plaintext\">4</div></td><td><div class=\"dni-plaintext\">2.1069</div></td><td><div class=\"dni-plaintext\">160</div></td></tr><tr style=\"display: none\"><td><i><div class=\"dni-plaintext\">30</div></i></td><td>vmN35</td><td><div class=\"dni-plaintext\">5</div></td><td><div class=\"dni-plaintext\">48</div></td><td><div class=\"dni-plaintext\">249</div></td><td>Standard_A8m_v2</td><td><div class=\"dni-plaintext\">8</div></td><td><div class=\"dni-plaintext\">64</div></td><td><div class=\"dni-plaintext\">4</div></td><td><div class=\"dni-plaintext\">0.794</div></td><td><div class=\"dni-plaintext\">100</div></td></tr><tr style=\"display: none\"><td><i><div class=\"dni-plaintext\">31</div></i></td><td>vmN36</td><td><div class=\"dni-plaintext\">2</div></td><td><div class=\"dni-plaintext\">26</div></td><td><div class=\"dni-plaintext\">224</div></td><td>Standard_A4m_v2</td><td><div class=\"dni-plaintext\">4</div></td><td><div class=\"dni-plaintext\">32</div></td><td><div class=\"dni-plaintext\">4</div></td><td><div class=\"dni-plaintext\">0.378</div></td><td><div class=\"dni-plaintext\">100</div></td></tr><tr style=\"display: none\"><td><i><div class=\"dni-plaintext\">32</div></i></td><td>vmN37</td><td><div class=\"dni-plaintext\">2</div></td><td><div class=\"dni-plaintext\">26</div></td><td><div class=\"dni-plaintext\">224</div></td><td>Standard_A4m_v2</td><td><div class=\"dni-plaintext\">4</div></td><td><div class=\"dni-plaintext\">32</div></td><td><div class=\"dni-plaintext\">4</div></td><td><div class=\"dni-plaintext\">0.378</div></td><td><div class=\"dni-plaintext\">100</div></td></tr><tr style=\"display: none\"><td><i><div class=\"dni-plaintext\">33</div></i></td><td>vmN38</td><td><div class=\"dni-plaintext\">2</div></td><td><div class=\"dni-plaintext\">26</div></td><td><div class=\"dni-plaintext\">224</div></td><td>Standard_A4m_v2</td><td><div class=\"dni-plaintext\">4</div></td><td><div class=\"dni-plaintext\">32</div></td><td><div class=\"dni-plaintext\">4</div></td><td><div class=\"dni-plaintext\">0.378</div></td><td><div class=\"dni-plaintext\">100</div></td></tr><tr style=\"display: none\"><td><i><div class=\"dni-plaintext\">34</div></i></td><td>vmN39</td><td><div class=\"dni-plaintext\">2</div></td><td><div class=\"dni-plaintext\">26</div></td><td><div class=\"dni-plaintext\">224</div></td><td>Standard_A4m_v2</td><td><div class=\"dni-plaintext\">4</div></td><td><div class=\"dni-plaintext\">32</div></td><td><div class=\"dni-plaintext\">4</div></td><td><div class=\"dni-plaintext\">0.378</div></td><td><div class=\"dni-plaintext\">100</div></td></tr><tr style=\"display: none\"><td><i><div class=\"dni-plaintext\">35</div></i></td><td>vmN40</td><td><div class=\"dni-plaintext\">5</div></td><td><div class=\"dni-plaintext\">50</div></td><td><div class=\"dni-plaintext\">4675</div></td><td>Standard_A8m_v2</td><td><div class=\"dni-plaintext\">8</div></td><td><div class=\"dni-plaintext\">64</div></td><td><div class=\"dni-plaintext\">4</div></td><td><div class=\"dni-plaintext\">0.794</div></td><td><div class=\"dni-plaintext\">100</div></td></tr><tr style=\"display: none\"><td><i><div class=\"dni-plaintext\">36</div></i></td><td>vmN41</td><td><div class=\"dni-plaintext\">2</div></td><td><div class=\"dni-plaintext\">32</div></td><td><div class=\"dni-plaintext\">200</div></td><td>Standard_A4m_v2</td><td><div class=\"dni-plaintext\">4</div></td><td><div class=\"dni-plaintext\">32</div></td><td><div class=\"dni-plaintext\">4</div></td><td><div class=\"dni-plaintext\">0.378</div></td><td><div class=\"dni-plaintext\">100</div></td></tr><tr style=\"display: none\"><td><i><div class=\"dni-plaintext\">37</div></i></td><td>vmN42</td><td><div class=\"dni-plaintext\">6</div></td><td><div class=\"dni-plaintext\">60</div></td><td><div class=\"dni-plaintext\">380</div></td><td>Standard_A8m_v2</td><td><div class=\"dni-plaintext\">8</div></td><td><div class=\"dni-plaintext\">64</div></td><td><div class=\"dni-plaintext\">4</div></td><td><div class=\"dni-plaintext\">0.794</div></td><td><div class=\"dni-plaintext\">100</div></td></tr><tr style=\"display: none\"><td><i><div class=\"dni-plaintext\">38</div></i></td><td>vmN43</td><td><div class=\"dni-plaintext\">6</div></td><td><div class=\"dni-plaintext\">58</div></td><td><div class=\"dni-plaintext\">336</div></td><td>Standard_A8m_v2</td><td><div class=\"dni-plaintext\">8</div></td><td><div class=\"dni-plaintext\">64</div></td><td><div class=\"dni-plaintext\">4</div></td><td><div class=\"dni-plaintext\">0.794</div></td><td><div class=\"dni-plaintext\">100</div></td></tr><tr style=\"display: none\"><td><i><div class=\"dni-plaintext\">39</div></i></td><td>vmN44</td><td><div class=\"dni-plaintext\">7</div></td><td><div class=\"dni-plaintext\">98</div></td><td><div class=\"dni-plaintext\">296</div></td><td>Standard_E16_4as_v4</td><td><div class=\"dni-plaintext\">16</div></td><td><div class=\"dni-plaintext\">128</div></td><td><div class=\"dni-plaintext\">4</div></td><td><div class=\"dni-plaintext\">1.744</div></td><td><div class=\"dni-plaintext\">230</div></td></tr><tr style=\"display: none\"><td><i><div class=\"dni-plaintext\">40</div></i></td><td>vmN45</td><td><div class=\"dni-plaintext\">2</div></td><td><div class=\"dni-plaintext\">15</div></td><td><div class=\"dni-plaintext\">574</div></td><td>Standard_A2m_v2</td><td><div class=\"dni-plaintext\">2</div></td><td><div class=\"dni-plaintext\">16</div></td><td><div class=\"dni-plaintext\">4</div></td><td><div class=\"dni-plaintext\">0.18</div></td><td><div class=\"dni-plaintext\">100</div></td></tr><tr style=\"display: none\"><td><i><div class=\"dni-plaintext\">41</div></i></td><td>vmN46</td><td><div class=\"dni-plaintext\">2</div></td><td><div class=\"dni-plaintext\">4</div></td><td><div class=\"dni-plaintext\">77</div></td><td>Standard_A2_v2</td><td><div class=\"dni-plaintext\">2</div></td><td><div class=\"dni-plaintext\">4</div></td><td><div class=\"dni-plaintext\">4</div></td><td><div class=\"dni-plaintext\">0.136</div></td><td><div class=\"dni-plaintext\">100</div></td></tr><tr style=\"display: none\"><td><i><div class=\"dni-plaintext\">42</div></i></td><td>vmN47</td><td><div class=\"dni-plaintext\">2</div></td><td><div class=\"dni-plaintext\">4</div></td><td><div class=\"dni-plaintext\">77</div></td><td>Standard_A2_v2</td><td><div class=\"dni-plaintext\">2</div></td><td><div class=\"dni-plaintext\">4</div></td><td><div class=\"dni-plaintext\">4</div></td><td><div class=\"dni-plaintext\">0.136</div></td><td><div class=\"dni-plaintext\">100</div></td></tr><tr style=\"display: none\"><td><i><div class=\"dni-plaintext\">43</div></i></td><td>vmN48</td><td><div class=\"dni-plaintext\">2</div></td><td><div class=\"dni-plaintext\">4</div></td><td><div class=\"dni-plaintext\">149</div></td><td>Standard_A2_v2</td><td><div class=\"dni-plaintext\">2</div></td><td><div class=\"dni-plaintext\">4</div></td><td><div class=\"dni-plaintext\">4</div></td><td><div class=\"dni-plaintext\">0.136</div></td><td><div class=\"dni-plaintext\">100</div></td></tr><tr style=\"display: none\"><td><i><div class=\"dni-plaintext\">44</div></i></td><td>vmN49</td><td><div class=\"dni-plaintext\">8</div></td><td><div class=\"dni-plaintext\">20</div></td><td><div class=\"dni-plaintext\">426</div></td><td>Standard_D8s_v4</td><td><div class=\"dni-plaintext\">8</div></td><td><div class=\"dni-plaintext\">32</div></td><td><div class=\"dni-plaintext\">4</div></td><td><div class=\"dni-plaintext\">0.752</div></td><td><div class=\"dni-plaintext\">195</div></td></tr><tr style=\"display: none\"><td><i><div class=\"dni-plaintext\">45</div></i></td><td>vmN50</td><td><div class=\"dni-plaintext\">6</div></td><td><div class=\"dni-plaintext\">32</div></td><td><div class=\"dni-plaintext\">120</div></td><td>Standard_D8s_v4</td><td><div class=\"dni-plaintext\">8</div></td><td><div class=\"dni-plaintext\">32</div></td><td><div class=\"dni-plaintext\">4</div></td><td><div class=\"dni-plaintext\">0.752</div></td><td><div class=\"dni-plaintext\">195</div></td></tr><tr style=\"display: none\"><td><i><div class=\"dni-plaintext\">46</div></i></td><td>vmN51</td><td><div class=\"dni-plaintext\">2</div></td><td><div class=\"dni-plaintext\">32</div></td><td><div class=\"dni-plaintext\">2509</div></td><td>Standard_A4m_v2</td><td><div class=\"dni-plaintext\">4</div></td><td><div class=\"dni-plaintext\">32</div></td><td><div class=\"dni-plaintext\">4</div></td><td><div class=\"dni-plaintext\">0.378</div></td><td><div class=\"dni-plaintext\">100</div></td></tr><tr style=\"display: none\"><td><i><div class=\"dni-plaintext\">47</div></i></td><td>vmN52</td><td><div class=\"dni-plaintext\">5</div></td><td><div class=\"dni-plaintext\">20</div></td><td><div class=\"dni-plaintext\">273</div></td><td>Standard_A4m_v2</td><td><div class=\"dni-plaintext\">4</div></td><td><div class=\"dni-plaintext\">32</div></td><td><div class=\"dni-plaintext\">4</div></td><td><div class=\"dni-plaintext\">0.378</div></td><td><div class=\"dni-plaintext\">100</div></td></tr><tr style=\"display: none\"><td><i><div class=\"dni-plaintext\">48</div></i></td><td>vmN53</td><td><div class=\"dni-plaintext\">6</div></td><td><div class=\"dni-plaintext\">50</div></td><td><div class=\"dni-plaintext\">419</div></td><td>Standard_A8m_v2</td><td><div class=\"dni-plaintext\">8</div></td><td><div class=\"dni-plaintext\">64</div></td><td><div class=\"dni-plaintext\">4</div></td><td><div class=\"dni-plaintext\">0.794</div></td><td><div class=\"dni-plaintext\">100</div></td></tr><tr style=\"display: none\"><td><i><div class=\"dni-plaintext\">49</div></i></td><td>vmN54</td><td><div class=\"dni-plaintext\">3</div></td><td><div class=\"dni-plaintext\">40</div></td><td><div class=\"dni-plaintext\">237</div></td><td>Standard_A8m_v2</td><td><div class=\"dni-plaintext\">8</div></td><td><div class=\"dni-plaintext\">64</div></td><td><div class=\"dni-plaintext\">4</div></td><td><div class=\"dni-plaintext\">0.794</div></td><td><div class=\"dni-plaintext\">100</div></td></tr><tr style=\"display: none\"><td><i><div class=\"dni-plaintext\">50</div></i></td><td>vmN55</td><td><div class=\"dni-plaintext\">8</div></td><td><div class=\"dni-plaintext\">46</div></td><td><div class=\"dni-plaintext\">2267</div></td><td>Standard_A8m_v2</td><td><div class=\"dni-plaintext\">8</div></td><td><div class=\"dni-plaintext\">64</div></td><td><div class=\"dni-plaintext\">4</div></td><td><div class=\"dni-plaintext\">0.794</div></td><td><div class=\"dni-plaintext\">100</div></td></tr><tr style=\"display: none\"><td><i><div class=\"dni-plaintext\">51</div></i></td><td>vmN56</td><td><div class=\"dni-plaintext\">1</div></td><td><div class=\"dni-plaintext\">20</div></td><td><div class=\"dni-plaintext\">20</div></td><td>Standard_A4m_v2</td><td><div class=\"dni-plaintext\">4</div></td><td><div class=\"dni-plaintext\">32</div></td><td><div class=\"dni-plaintext\">4</div></td><td><div class=\"dni-plaintext\">0.378</div></td><td><div class=\"dni-plaintext\">100</div></td></tr><tr style=\"display: none\"><td><i><div class=\"dni-plaintext\">52</div></i></td><td>vmN57</td><td><div class=\"dni-plaintext\">3</div></td><td><div class=\"dni-plaintext\">16</div></td><td><div class=\"dni-plaintext\">149</div></td><td>Standard_D4s_v4</td><td><div class=\"dni-plaintext\">4</div></td><td><div class=\"dni-plaintext\">16</div></td><td><div class=\"dni-plaintext\">4</div></td><td><div class=\"dni-plaintext\">0.376</div></td><td><div class=\"dni-plaintext\">195</div></td></tr><tr style=\"display: none\"><td><i><div class=\"dni-plaintext\">53</div></i></td><td>vmN58</td><td><div class=\"dni-plaintext\">2</div></td><td><div class=\"dni-plaintext\">10</div></td><td><div class=\"dni-plaintext\">149</div></td><td>Standard_A2m_v2</td><td><div class=\"dni-plaintext\">2</div></td><td><div class=\"dni-plaintext\">16</div></td><td><div class=\"dni-plaintext\">4</div></td><td><div class=\"dni-plaintext\">0.18</div></td><td><div class=\"dni-plaintext\">100</div></td></tr><tr style=\"display: none\"><td><i><div class=\"dni-plaintext\">54</div></i></td><td>vmN59</td><td><div class=\"dni-plaintext\">2</div></td><td><div class=\"dni-plaintext\">10</div></td><td><div class=\"dni-plaintext\">149</div></td><td>Standard_A2m_v2</td><td><div class=\"dni-plaintext\">2</div></td><td><div class=\"dni-plaintext\">16</div></td><td><div class=\"dni-plaintext\">4</div></td><td><div class=\"dni-plaintext\">0.18</div></td><td><div class=\"dni-plaintext\">100</div></td></tr><tr style=\"display: none\"><td><i><div class=\"dni-plaintext\">55</div></i></td><td>vmN61</td><td><div class=\"dni-plaintext\">4</div></td><td><div class=\"dni-plaintext\">35</div></td><td><div class=\"dni-plaintext\">170</div></td><td>Standard_A8m_v2</td><td><div class=\"dni-plaintext\">8</div></td><td><div class=\"dni-plaintext\">64</div></td><td><div class=\"dni-plaintext\">4</div></td><td><div class=\"dni-plaintext\">0.794</div></td><td><div class=\"dni-plaintext\">100</div></td></tr><tr style=\"display: none\"><td><i><div class=\"dni-plaintext\">56</div></i></td><td>vmN62</td><td><div class=\"dni-plaintext\">8</div></td><td><div class=\"dni-plaintext\">70</div></td><td><div class=\"dni-plaintext\">2882</div></td><td>Standard_E16_4as_v4</td><td><div class=\"dni-plaintext\">16</div></td><td><div class=\"dni-plaintext\">128</div></td><td><div class=\"dni-plaintext\">4</div></td><td><div class=\"dni-plaintext\">1.744</div></td><td><div class=\"dni-plaintext\">230</div></td></tr><tr style=\"display: none\"><td><i><div class=\"dni-plaintext\">57</div></i></td><td>vmN63</td><td><div class=\"dni-plaintext\">2</div></td><td><div class=\"dni-plaintext\">15</div></td><td><div class=\"dni-plaintext\">151</div></td><td>Standard_A2m_v2</td><td><div class=\"dni-plaintext\">2</div></td><td><div class=\"dni-plaintext\">16</div></td><td><div class=\"dni-plaintext\">4</div></td><td><div class=\"dni-plaintext\">0.18</div></td><td><div class=\"dni-plaintext\">100</div></td></tr><tr style=\"display: none\"><td><i><div class=\"dni-plaintext\">58</div></i></td><td>vmN64</td><td><div class=\"dni-plaintext\">2</div></td><td><div class=\"dni-plaintext\">15</div></td><td><div class=\"dni-plaintext\">151</div></td><td>Standard_A2m_v2</td><td><div class=\"dni-plaintext\">2</div></td><td><div class=\"dni-plaintext\">16</div></td><td><div class=\"dni-plaintext\">4</div></td><td><div class=\"dni-plaintext\">0.18</div></td><td><div class=\"dni-plaintext\">100</div></td></tr><tr style=\"display: none\"><td><i><div class=\"dni-plaintext\">59</div></i></td><td>vmN65</td><td><div class=\"dni-plaintext\">2</div></td><td><div class=\"dni-plaintext\">15</div></td><td><div class=\"dni-plaintext\">151</div></td><td>Standard_A2m_v2</td><td><div class=\"dni-plaintext\">2</div></td><td><div class=\"dni-plaintext\">16</div></td><td><div class=\"dni-plaintext\">4</div></td><td><div class=\"dni-plaintext\">0.18</div></td><td><div class=\"dni-plaintext\">100</div></td></tr><tr style=\"display: none\"><td><i><div class=\"dni-plaintext\">60</div></i></td><td>vmN66</td><td><div class=\"dni-plaintext\">2</div></td><td><div class=\"dni-plaintext\">15</div></td><td><div class=\"dni-plaintext\">151</div></td><td>Standard_A2m_v2</td><td><div class=\"dni-plaintext\">2</div></td><td><div class=\"dni-plaintext\">16</div></td><td><div class=\"dni-plaintext\">4</div></td><td><div class=\"dni-plaintext\">0.18</div></td><td><div class=\"dni-plaintext\">100</div></td></tr><tr style=\"display: none\"><td><i><div class=\"dni-plaintext\">61</div></i></td><td>vmN67</td><td><div class=\"dni-plaintext\">6</div></td><td><div class=\"dni-plaintext\">160</div></td><td><div class=\"dni-plaintext\">1328</div></td><td>Standard_M8_2ms</td><td><div class=\"dni-plaintext\">8</div></td><td><div class=\"dni-plaintext\">218.75</div></td><td><div class=\"dni-plaintext\">4</div></td><td><div class=\"dni-plaintext\">2.1069</div></td><td><div class=\"dni-plaintext\">160</div></td></tr><tr style=\"display: none\"><td><i><div class=\"dni-plaintext\">62</div></i></td><td>vmN68</td><td><div class=\"dni-plaintext\">2</div></td><td><div class=\"dni-plaintext\">4</div></td><td><div class=\"dni-plaintext\">110</div></td><td>Standard_A2_v2</td><td><div class=\"dni-plaintext\">2</div></td><td><div class=\"dni-plaintext\">4</div></td><td><div class=\"dni-plaintext\">4</div></td><td><div class=\"dni-plaintext\">0.136</div></td><td><div class=\"dni-plaintext\">100</div></td></tr><tr style=\"display: none\"><td><i><div class=\"dni-plaintext\">63</div></i></td><td>vmN69</td><td><div class=\"dni-plaintext\">2</div></td><td><div class=\"dni-plaintext\">20</div></td><td><div class=\"dni-plaintext\">245</div></td><td>Standard_A4m_v2</td><td><div class=\"dni-plaintext\">4</div></td><td><div class=\"dni-plaintext\">32</div></td><td><div class=\"dni-plaintext\">4</div></td><td><div class=\"dni-plaintext\">0.378</div></td><td><div class=\"dni-plaintext\">100</div></td></tr><tr style=\"display: none\"><td><i><div class=\"dni-plaintext\">64</div></i></td><td>vmN70</td><td><div class=\"dni-plaintext\">2</div></td><td><div class=\"dni-plaintext\">31</div></td><td><div class=\"dni-plaintext\">225</div></td><td>Standard_A4m_v2</td><td><div class=\"dni-plaintext\">4</div></td><td><div class=\"dni-plaintext\">32</div></td><td><div class=\"dni-plaintext\">4</div></td><td><div class=\"dni-plaintext\">0.378</div></td><td><div class=\"dni-plaintext\">100</div></td></tr><tr style=\"display: none\"><td><i><div class=\"dni-plaintext\">65</div></i></td><td>vmN71</td><td><div class=\"dni-plaintext\">2</div></td><td><div class=\"dni-plaintext\">31</div></td><td><div class=\"dni-plaintext\">225</div></td><td>Standard_A4m_v2</td><td><div class=\"dni-plaintext\">4</div></td><td><div class=\"dni-plaintext\">32</div></td><td><div class=\"dni-plaintext\">4</div></td><td><div class=\"dni-plaintext\">0.378</div></td><td><div class=\"dni-plaintext\">100</div></td></tr><tr style=\"display: none\"><td><i><div class=\"dni-plaintext\">66</div></i></td><td>vmN72</td><td><div class=\"dni-plaintext\">4</div></td><td><div class=\"dni-plaintext\">24</div></td><td><div class=\"dni-plaintext\">3036</div></td><td>Standard_A4m_v2</td><td><div class=\"dni-plaintext\">4</div></td><td><div class=\"dni-plaintext\">32</div></td><td><div class=\"dni-plaintext\">4</div></td><td><div class=\"dni-plaintext\">0.378</div></td><td><div class=\"dni-plaintext\">100</div></td></tr><tr style=\"display: none\"><td><i><div class=\"dni-plaintext\">67</div></i></td><td>vmN73</td><td><div class=\"dni-plaintext\">2</div></td><td><div class=\"dni-plaintext\">32</div></td><td><div class=\"dni-plaintext\">200</div></td><td>Standard_A4m_v2</td><td><div class=\"dni-plaintext\">4</div></td><td><div class=\"dni-plaintext\">32</div></td><td><div class=\"dni-plaintext\">4</div></td><td><div class=\"dni-plaintext\">0.378</div></td><td><div class=\"dni-plaintext\">100</div></td></tr><tr style=\"display: none\"><td><i><div class=\"dni-plaintext\">68</div></i></td><td>vmN74</td><td><div class=\"dni-plaintext\">6</div></td><td><div class=\"dni-plaintext\">50</div></td><td><div class=\"dni-plaintext\">287</div></td><td>Standard_A8m_v2</td><td><div class=\"dni-plaintext\">8</div></td><td><div class=\"dni-plaintext\">64</div></td><td><div class=\"dni-plaintext\">4</div></td><td><div class=\"dni-plaintext\">0.794</div></td><td><div class=\"dni-plaintext\">100</div></td></tr><tr style=\"display: none\"><td><i><div class=\"dni-plaintext\">69</div></i></td><td>vmN75</td><td><div class=\"dni-plaintext\">3</div></td><td><div class=\"dni-plaintext\">65</div></td><td><div class=\"dni-plaintext\">153</div></td><td>Standard_E16_4as_v4</td><td><div class=\"dni-plaintext\">16</div></td><td><div class=\"dni-plaintext\">128</div></td><td><div class=\"dni-plaintext\">4</div></td><td><div class=\"dni-plaintext\">1.744</div></td><td><div class=\"dni-plaintext\">230</div></td></tr><tr style=\"display: none\"><td><i><div class=\"dni-plaintext\">70</div></i></td><td>vmN76</td><td><div class=\"dni-plaintext\">2</div></td><td><div class=\"dni-plaintext\">16</div></td><td><div class=\"dni-plaintext\">150</div></td><td>Standard_A2m_v2</td><td><div class=\"dni-plaintext\">2</div></td><td><div class=\"dni-plaintext\">16</div></td><td><div class=\"dni-plaintext\">4</div></td><td><div class=\"dni-plaintext\">0.18</div></td><td><div class=\"dni-plaintext\">100</div></td></tr><tr style=\"display: none\"><td><i><div class=\"dni-plaintext\">71</div></i></td><td>vmN77</td><td><div class=\"dni-plaintext\">2</div></td><td><div class=\"dni-plaintext\">4</div></td><td><div class=\"dni-plaintext\">77</div></td><td>Standard_A2_v2</td><td><div class=\"dni-plaintext\">2</div></td><td><div class=\"dni-plaintext\">4</div></td><td><div class=\"dni-plaintext\">4</div></td><td><div class=\"dni-plaintext\">0.136</div></td><td><div class=\"dni-plaintext\">100</div></td></tr><tr style=\"display: none\"><td><i><div class=\"dni-plaintext\">72</div></i></td><td>vmN78</td><td><div class=\"dni-plaintext\">8</div></td><td><div class=\"dni-plaintext\">36</div></td><td><div class=\"dni-plaintext\">650</div></td><td>Standard_A8m_v2</td><td><div class=\"dni-plaintext\">8</div></td><td><div class=\"dni-plaintext\">64</div></td><td><div class=\"dni-plaintext\">4</div></td><td><div class=\"dni-plaintext\">0.794</div></td><td><div class=\"dni-plaintext\">100</div></td></tr><tr style=\"display: none\"><td><i><div class=\"dni-plaintext\">73</div></i></td><td>vmN79</td><td><div class=\"dni-plaintext\">3</div></td><td><div class=\"dni-plaintext\">50</div></td><td><div class=\"dni-plaintext\">800</div></td><td>Standard_A8m_v2</td><td><div class=\"dni-plaintext\">8</div></td><td><div class=\"dni-plaintext\">64</div></td><td><div class=\"dni-plaintext\">4</div></td><td><div class=\"dni-plaintext\">0.794</div></td><td><div class=\"dni-plaintext\">100</div></td></tr><tr style=\"display: none\"><td><i><div class=\"dni-plaintext\">74</div></i></td><td>vmN80</td><td><div class=\"dni-plaintext\">2</div></td><td><div class=\"dni-plaintext\">11</div></td><td><div class=\"dni-plaintext\">148</div></td><td>Standard_A2m_v2</td><td><div class=\"dni-plaintext\">2</div></td><td><div class=\"dni-plaintext\">16</div></td><td><div class=\"dni-plaintext\">4</div></td><td><div class=\"dni-plaintext\">0.18</div></td><td><div class=\"dni-plaintext\">100</div></td></tr><tr style=\"display: none\"><td><i><div class=\"dni-plaintext\">75</div></i></td><td>vmN81</td><td><div class=\"dni-plaintext\">4</div></td><td><div class=\"dni-plaintext\">24</div></td><td><div class=\"dni-plaintext\">1862</div></td><td>Standard_A4m_v2</td><td><div class=\"dni-plaintext\">4</div></td><td><div class=\"dni-plaintext\">32</div></td><td><div class=\"dni-plaintext\">4</div></td><td><div class=\"dni-plaintext\">0.378</div></td><td><div class=\"dni-plaintext\">100</div></td></tr><tr style=\"display: none\"><td><i><div class=\"dni-plaintext\">76</div></i></td><td>vmN82</td><td><div class=\"dni-plaintext\">4</div></td><td><div class=\"dni-plaintext\">30</div></td><td><div class=\"dni-plaintext\">539</div></td><td>Standard_A4m_v2</td><td><div class=\"dni-plaintext\">4</div></td><td><div class=\"dni-plaintext\">32</div></td><td><div class=\"dni-plaintext\">4</div></td><td><div class=\"dni-plaintext\">0.378</div></td><td><div class=\"dni-plaintext\">100</div></td></tr><tr style=\"display: none\"><td><i><div class=\"dni-plaintext\">77</div></i></td><td>vmN83</td><td><div class=\"dni-plaintext\">2</div></td><td><div class=\"dni-plaintext\">16</div></td><td><div class=\"dni-plaintext\">181</div></td><td>Standard_A2m_v2</td><td><div class=\"dni-plaintext\">2</div></td><td><div class=\"dni-plaintext\">16</div></td><td><div class=\"dni-plaintext\">4</div></td><td><div class=\"dni-plaintext\">0.18</div></td><td><div class=\"dni-plaintext\">100</div></td></tr><tr style=\"display: none\"><td><i><div class=\"dni-plaintext\">78</div></i></td><td>vmN84</td><td><div class=\"dni-plaintext\">1</div></td><td><div class=\"dni-plaintext\">16</div></td><td><div class=\"dni-plaintext\">2601</div></td><td>Standard_A2m_v2</td><td><div class=\"dni-plaintext\">2</div></td><td><div class=\"dni-plaintext\">16</div></td><td><div class=\"dni-plaintext\">4</div></td><td><div class=\"dni-plaintext\">0.18</div></td><td><div class=\"dni-plaintext\">100</div></td></tr><tr style=\"display: none\"><td><i><div class=\"dni-plaintext\">79</div></i></td><td>vmN85</td><td><div class=\"dni-plaintext\">3</div></td><td><div class=\"dni-plaintext\">24</div></td><td><div class=\"dni-plaintext\">244</div></td><td>Standard_A4m_v2</td><td><div class=\"dni-plaintext\">4</div></td><td><div class=\"dni-plaintext\">32</div></td><td><div class=\"dni-plaintext\">4</div></td><td><div class=\"dni-plaintext\">0.378</div></td><td><div class=\"dni-plaintext\">100</div></td></tr><tr style=\"display: none\"><td><i><div class=\"dni-plaintext\">80</div></i></td><td>vmN86</td><td><div class=\"dni-plaintext\">2</div></td><td><div class=\"dni-plaintext\">20</div></td><td><div class=\"dni-plaintext\">3466</div></td><td>Standard_A4m_v2</td><td><div class=\"dni-plaintext\">4</div></td><td><div class=\"dni-plaintext\">32</div></td><td><div class=\"dni-plaintext\">4</div></td><td><div class=\"dni-plaintext\">0.378</div></td><td><div class=\"dni-plaintext\">100</div></td></tr><tr style=\"display: none\"><td><i><div class=\"dni-plaintext\">81</div></i></td><td>vmN87</td><td><div class=\"dni-plaintext\">2</div></td><td><div class=\"dni-plaintext\">32</div></td><td><div class=\"dni-plaintext\">200</div></td><td>Standard_A4m_v2</td><td><div class=\"dni-plaintext\">4</div></td><td><div class=\"dni-plaintext\">32</div></td><td><div class=\"dni-plaintext\">4</div></td><td><div class=\"dni-plaintext\">0.378</div></td><td><div class=\"dni-plaintext\">100</div></td></tr></tbody><tfoot><tr><td colspan=\"11\" style=\"text-align: center;\"><button style=\"margin: 2px;\" onclick=\"var allRows = document.querySelectorAll(&#39;#table_637775337473382095 tbody tr:nth-child(n)&#39;); for (let i = 0; i &lt; allRows.length; i++) { allRows[i].style.display=&#39;none&#39;; } document.querySelector(&#39;#page_637775337473382095&#39;).innerHTML = 1; var page = parseInt(document.querySelector(&#39;#page_637775337473382095&#39;).innerHTML) - 1; var pageRows = document.querySelectorAll(`#table_637775337473382095 tbody tr:nth-child(n + ${page * 25 + 1 })`); for (let j = 0; j &lt; 25; j++) { pageRows[j].style.display=&#39;table-row&#39;; } \">⏮</button><button style=\"margin: 2px;\" onclick=\"var allRows = document.querySelectorAll(&#39;#table_637775337473382095 tbody tr:nth-child(n)&#39;); for (let i = 0; i &lt; allRows.length; i++) { allRows[i].style.display=&#39;none&#39;; } var page = parseInt(document.querySelector(&#39;#page_637775337473382095&#39;).innerHTML) - 1; page = parseInt(page) + parseInt(-10); page = page &lt; 0 ? 0 : page; page = page > 3 ? 3 : page; document.querySelector(&#39;#page_637775337473382095&#39;).innerHTML = page + 1; var page = parseInt(document.querySelector(&#39;#page_637775337473382095&#39;).innerHTML) - 1; var pageRows = document.querySelectorAll(`#table_637775337473382095 tbody tr:nth-child(n + ${page * 25 + 1 })`); for (let j = 0; j &lt; 25; j++) { pageRows[j].style.display=&#39;table-row&#39;; } \">⏪</button><button style=\"margin: 2px;\" onclick=\"var allRows = document.querySelectorAll(&#39;#table_637775337473382095 tbody tr:nth-child(n)&#39;); for (let i = 0; i &lt; allRows.length; i++) { allRows[i].style.display=&#39;none&#39;; } var page = parseInt(document.querySelector(&#39;#page_637775337473382095&#39;).innerHTML) - 1; page = parseInt(page) + parseInt(-1); page = page &lt; 0 ? 0 : page; page = page > 3 ? 3 : page; document.querySelector(&#39;#page_637775337473382095&#39;).innerHTML = page + 1; var page = parseInt(document.querySelector(&#39;#page_637775337473382095&#39;).innerHTML) - 1; var pageRows = document.querySelectorAll(`#table_637775337473382095 tbody tr:nth-child(n + ${page * 25 + 1 })`); for (let j = 0; j &lt; 25; j++) { pageRows[j].style.display=&#39;table-row&#39;; } \">◀️</button><b style=\"margin: 2px;\">Page</b><b id=\"page_637775337473382095\" style=\"margin: 2px;\">1</b><button style=\"margin: 2px;\" onclick=\"var allRows = document.querySelectorAll(&#39;#table_637775337473382095 tbody tr:nth-child(n)&#39;); for (let i = 0; i &lt; allRows.length; i++) { allRows[i].style.display=&#39;none&#39;; } var page = parseInt(document.querySelector(&#39;#page_637775337473382095&#39;).innerHTML) - 1; page = parseInt(page) + parseInt(1); page = page &lt; 0 ? 0 : page; page = page > 3 ? 3 : page; document.querySelector(&#39;#page_637775337473382095&#39;).innerHTML = page + 1; var page = parseInt(document.querySelector(&#39;#page_637775337473382095&#39;).innerHTML) - 1; var pageRows = document.querySelectorAll(`#table_637775337473382095 tbody tr:nth-child(n + ${page * 25 + 1 })`); for (let j = 0; j &lt; 25; j++) { pageRows[j].style.display=&#39;table-row&#39;; } \">▶️</button><button style=\"margin: 2px;\" onclick=\"var allRows = document.querySelectorAll(&#39;#table_637775337473382095 tbody tr:nth-child(n)&#39;); for (let i = 0; i &lt; allRows.length; i++) { allRows[i].style.display=&#39;none&#39;; } var page = parseInt(document.querySelector(&#39;#page_637775337473382095&#39;).innerHTML) - 1; page = parseInt(page) + parseInt(10); page = page &lt; 0 ? 0 : page; page = page > 3 ? 3 : page; document.querySelector(&#39;#page_637775337473382095&#39;).innerHTML = page + 1; var page = parseInt(document.querySelector(&#39;#page_637775337473382095&#39;).innerHTML) - 1; var pageRows = document.querySelectorAll(`#table_637775337473382095 tbody tr:nth-child(n + ${page * 25 + 1 })`); for (let j = 0; j &lt; 25; j++) { pageRows[j].style.display=&#39;table-row&#39;; } \">⏩</button><button style=\"margin: 2px;\" onclick=\"var allRows = document.querySelectorAll(&#39;#table_637775337473382095 tbody tr:nth-child(n)&#39;); for (let i = 0; i &lt; allRows.length; i++) { allRows[i].style.display=&#39;none&#39;; } document.querySelector(&#39;#page_637775337473382095&#39;).innerHTML = 4; var page = parseInt(document.querySelector(&#39;#page_637775337473382095&#39;).innerHTML) - 1; var pageRows = document.querySelectorAll(`#table_637775337473382095 tbody tr:nth-child(n + ${page * 25 + 1 })`); for (let j = 0; j &lt; 25; j++) { pageRows[j].style.display=&#39;table-row&#39;; } \">⏭️</button></td></tr></tfoot></table><script>var page = parseInt(document.querySelector('#page_637775337473382095').innerHTML) - 1; var pageRows = document.querySelectorAll(`#table_637775337473382095 tbody tr:nth-child(n + ${page * 25 + 1 })`); for (let j = 0; j < 25; j++) { pageRows[j].style.display='table-row'; } </script>"
      ]
     },
     "metadata": {},
     "output_type": "display_data"
    },
    {
     "name": "stdout",
     "output_type": "stream",
     "text": [
      "\r\n",
      "\u001b[32;1mMimeTypes\u001b[0m\r\n",
      "\u001b[32;1m---------\u001b[0m\r\n",
      "{text/html}\r\n",
      "\r\n"
     ]
    }
   ],
   "source": [
    "$csv = ($ret.vmRecords | ConvertTo-Csv -NoTypeInformation) -join \"`n\"\n",
    "$df = [Microsoft.Data.Analysis.DataFrame]::LoadCsvFromString($csv)\n",
    "[Microsoft.DotNet.Interactive.Kernel]::display($df)"
   ]
  },
  {
   "cell_type": "markdown",
   "metadata": {},
   "source": [
    "The thing to pay attention to here is the `targetVMACU` column. It is always equal to 100. I did not check but assume that this is what helped to increase the performance a bit"
   ]
  },
  {
   "cell_type": "markdown",
   "metadata": {},
   "source": [
    "Actually, it is not necessary to use DataFrames. We can use HTML and the extension method, but if the table is big it shows the long list of rows, which is a bit inconvenient"
   ]
  },
  {
   "cell_type": "code",
   "execution_count": null,
   "metadata": {
    "dotnet_interactive": {
     "language": "pwsh"
    }
   },
   "outputs": [],
   "source": [
    "$view = $ret.vmRecords | ConvertTo-Html -Fragment\n",
    "[Microsoft.DotNet.Interactive.Kernel]::HTML($view) | Out-Display"
   ]
  },
  {
   "cell_type": "markdown",
   "metadata": {},
   "source": [
    "### Minimize cost without affecting performance"
   ]
  },
  {
   "cell_type": "markdown",
   "metadata": {},
   "source": [
    "Now we want to try a different approach. We first maximize performance, pin it and then try to minimize the total price, by asking the model to re-shuffle VMs to see if it is possible"
   ]
  },
  {
   "cell_type": "code",
   "execution_count": null,
   "metadata": {
    "dotnet_interactive": {
     "language": "pwsh"
    }
   },
   "outputs": [
    {
     "name": "stdout",
     "output_type": "stream",
     "text": [
      "\r\n",
      "\u001b[32;1mtotalPrice totalACU vmRecords\u001b[0m\r\n",
      "\u001b[32;1m---------- -------- ---------\u001b[0m\r\n",
      "    54.936    18860 {@{sourceVMName=vmN1; sourceVMCPU=2; sourceVMRAM=12; sourceVMDisk=460; selecte…\r\n",
      "\r\n"
     ]
    }
   ],
   "source": [
    "$ret2 = Start-MinizincVMOptimizationModel -Performance | Start-MinizincVMOptimizationModel -Costs\n",
    "$ret2"
   ]
  },
  {
   "cell_type": "markdown",
   "metadata": {},
   "source": [
    "And here we go! We get the total price which is just slightly higher than the minimal one, but with doubled performance! That is the win, I think!"
   ]
  },
  {
   "cell_type": "code",
   "execution_count": null,
   "metadata": {
    "dotnet_interactive": {
     "language": "pwsh"
    }
   },
   "outputs": [
    {
     "data": {
      "text/html": [
       "<table id=\"table_637775337595424886\"><caption><h3 style=\"text-align: center;\">DataFrame - 82 rows </h3></caption><thead><tr><th><i>index</i></th><th>sourceVMName</th><th>sourceVMCPU</th><th>sourceVMRAM</th><th>sourceVMDisk</th><th>selectedSize</th><th>targetVMCPU</th><th>targetVMRAM</th><th>targetVMDisk</th><th>targetVMPrice</th><th>targetVMACU</th></tr></thead><tbody><tr style=\"display: none\"><td><i><div class=\"dni-plaintext\">0</div></i></td><td>vmN1</td><td><div class=\"dni-plaintext\">2</div></td><td><div class=\"dni-plaintext\">12</div></td><td><div class=\"dni-plaintext\">460</div></td><td>Standard_E4_2as_v4</td><td><div class=\"dni-plaintext\">4</div></td><td><div class=\"dni-plaintext\">32</div></td><td><div class=\"dni-plaintext\">4</div></td><td><div class=\"dni-plaintext\">0.436</div></td><td><div class=\"dni-plaintext\">230</div></td></tr><tr style=\"display: none\"><td><i><div class=\"dni-plaintext\">1</div></i></td><td>vmN2</td><td><div class=\"dni-plaintext\">2</div></td><td><div class=\"dni-plaintext\">24</div></td><td><div class=\"dni-plaintext\">1440</div></td><td>Standard_E4_2as_v4</td><td><div class=\"dni-plaintext\">4</div></td><td><div class=\"dni-plaintext\">32</div></td><td><div class=\"dni-plaintext\">4</div></td><td><div class=\"dni-plaintext\">0.436</div></td><td><div class=\"dni-plaintext\">230</div></td></tr><tr style=\"display: none\"><td><i><div class=\"dni-plaintext\">2</div></i></td><td>vmN3</td><td><div class=\"dni-plaintext\">2</div></td><td><div class=\"dni-plaintext\">4</div></td><td><div class=\"dni-plaintext\">110</div></td><td>Standard_E4_2as_v4</td><td><div class=\"dni-plaintext\">4</div></td><td><div class=\"dni-plaintext\">32</div></td><td><div class=\"dni-plaintext\">4</div></td><td><div class=\"dni-plaintext\">0.436</div></td><td><div class=\"dni-plaintext\">230</div></td></tr><tr style=\"display: none\"><td><i><div class=\"dni-plaintext\">3</div></i></td><td>vmN4</td><td><div class=\"dni-plaintext\">6</div></td><td><div class=\"dni-plaintext\">23</div></td><td><div class=\"dni-plaintext\">260</div></td><td>Standard_E8_2as_v4</td><td><div class=\"dni-plaintext\">8</div></td><td><div class=\"dni-plaintext\">64</div></td><td><div class=\"dni-plaintext\">4</div></td><td><div class=\"dni-plaintext\">0.872</div></td><td><div class=\"dni-plaintext\">230</div></td></tr><tr style=\"display: none\"><td><i><div class=\"dni-plaintext\">4</div></i></td><td>vmN5</td><td><div class=\"dni-plaintext\">3</div></td><td><div class=\"dni-plaintext\">16</div></td><td><div class=\"dni-plaintext\">1120</div></td><td>Standard_E4_2as_v4</td><td><div class=\"dni-plaintext\">4</div></td><td><div class=\"dni-plaintext\">32</div></td><td><div class=\"dni-plaintext\">4</div></td><td><div class=\"dni-plaintext\">0.436</div></td><td><div class=\"dni-plaintext\">230</div></td></tr><tr style=\"display: none\"><td><i><div class=\"dni-plaintext\">5</div></i></td><td>vmN6</td><td><div class=\"dni-plaintext\">2</div></td><td><div class=\"dni-plaintext\">32</div></td><td><div class=\"dni-plaintext\">200</div></td><td>Standard_E4_2as_v4</td><td><div class=\"dni-plaintext\">4</div></td><td><div class=\"dni-plaintext\">32</div></td><td><div class=\"dni-plaintext\">4</div></td><td><div class=\"dni-plaintext\">0.436</div></td><td><div class=\"dni-plaintext\">230</div></td></tr><tr style=\"display: none\"><td><i><div class=\"dni-plaintext\">6</div></i></td><td>vmN7</td><td><div class=\"dni-plaintext\">2</div></td><td><div class=\"dni-plaintext\">7</div></td><td><div class=\"dni-plaintext\">267</div></td><td>Standard_E4_2as_v4</td><td><div class=\"dni-plaintext\">4</div></td><td><div class=\"dni-plaintext\">32</div></td><td><div class=\"dni-plaintext\">4</div></td><td><div class=\"dni-plaintext\">0.436</div></td><td><div class=\"dni-plaintext\">230</div></td></tr><tr style=\"display: none\"><td><i><div class=\"dni-plaintext\">7</div></i></td><td>vmN8</td><td><div class=\"dni-plaintext\">3</div></td><td><div class=\"dni-plaintext\">32</div></td><td><div class=\"dni-plaintext\">134</div></td><td>Standard_E4_2as_v4</td><td><div class=\"dni-plaintext\">4</div></td><td><div class=\"dni-plaintext\">32</div></td><td><div class=\"dni-plaintext\">4</div></td><td><div class=\"dni-plaintext\">0.436</div></td><td><div class=\"dni-plaintext\">230</div></td></tr><tr style=\"display: none\"><td><i><div class=\"dni-plaintext\">8</div></i></td><td>vmN9</td><td><div class=\"dni-plaintext\">2</div></td><td><div class=\"dni-plaintext\">8</div></td><td><div class=\"dni-plaintext\">213</div></td><td>Standard_E4_2as_v4</td><td><div class=\"dni-plaintext\">4</div></td><td><div class=\"dni-plaintext\">32</div></td><td><div class=\"dni-plaintext\">4</div></td><td><div class=\"dni-plaintext\">0.436</div></td><td><div class=\"dni-plaintext\">230</div></td></tr><tr style=\"display: none\"><td><i><div class=\"dni-plaintext\">9</div></i></td><td>vmN11</td><td><div class=\"dni-plaintext\">2</div></td><td><div class=\"dni-plaintext\">4</div></td><td><div class=\"dni-plaintext\">77</div></td><td>Standard_E4_2as_v4</td><td><div class=\"dni-plaintext\">4</div></td><td><div class=\"dni-plaintext\">32</div></td><td><div class=\"dni-plaintext\">4</div></td><td><div class=\"dni-plaintext\">0.436</div></td><td><div class=\"dni-plaintext\">230</div></td></tr><tr style=\"display: none\"><td><i><div class=\"dni-plaintext\">10</div></i></td><td>vmN12</td><td><div class=\"dni-plaintext\">3</div></td><td><div class=\"dni-plaintext\">46</div></td><td><div class=\"dni-plaintext\">150</div></td><td>Standard_E8_2as_v4</td><td><div class=\"dni-plaintext\">8</div></td><td><div class=\"dni-plaintext\">64</div></td><td><div class=\"dni-plaintext\">4</div></td><td><div class=\"dni-plaintext\">0.872</div></td><td><div class=\"dni-plaintext\">230</div></td></tr><tr style=\"display: none\"><td><i><div class=\"dni-plaintext\">11</div></i></td><td>vmN13</td><td><div class=\"dni-plaintext\">4</div></td><td><div class=\"dni-plaintext\">8</div></td><td><div class=\"dni-plaintext\">208</div></td><td>Standard_E4_2as_v4</td><td><div class=\"dni-plaintext\">4</div></td><td><div class=\"dni-plaintext\">32</div></td><td><div class=\"dni-plaintext\">4</div></td><td><div class=\"dni-plaintext\">0.436</div></td><td><div class=\"dni-plaintext\">230</div></td></tr><tr style=\"display: none\"><td><i><div class=\"dni-plaintext\">12</div></i></td><td>vmN14</td><td><div class=\"dni-plaintext\">2</div></td><td><div class=\"dni-plaintext\">16</div></td><td><div class=\"dni-plaintext\">578</div></td><td>Standard_E4_2as_v4</td><td><div class=\"dni-plaintext\">4</div></td><td><div class=\"dni-plaintext\">32</div></td><td><div class=\"dni-plaintext\">4</div></td><td><div class=\"dni-plaintext\">0.436</div></td><td><div class=\"dni-plaintext\">230</div></td></tr><tr style=\"display: none\"><td><i><div class=\"dni-plaintext\">13</div></i></td><td>vmN15</td><td><div class=\"dni-plaintext\">10</div></td><td><div class=\"dni-plaintext\">27</div></td><td><div class=\"dni-plaintext\">525</div></td><td>Standard_E8_2as_v4</td><td><div class=\"dni-plaintext\">8</div></td><td><div class=\"dni-plaintext\">64</div></td><td><div class=\"dni-plaintext\">4</div></td><td><div class=\"dni-plaintext\">0.872</div></td><td><div class=\"dni-plaintext\">230</div></td></tr><tr style=\"display: none\"><td><i><div class=\"dni-plaintext\">14</div></i></td><td>vmN17</td><td><div class=\"dni-plaintext\">1</div></td><td><div class=\"dni-plaintext\">20</div></td><td><div class=\"dni-plaintext\">20</div></td><td>Standard_E4_2as_v4</td><td><div class=\"dni-plaintext\">4</div></td><td><div class=\"dni-plaintext\">32</div></td><td><div class=\"dni-plaintext\">4</div></td><td><div class=\"dni-plaintext\">0.436</div></td><td><div class=\"dni-plaintext\">230</div></td></tr><tr style=\"display: none\"><td><i><div class=\"dni-plaintext\">15</div></i></td><td>vmN18</td><td><div class=\"dni-plaintext\">3</div></td><td><div class=\"dni-plaintext\">25</div></td><td><div class=\"dni-plaintext\">450</div></td><td>Standard_E4_2as_v4</td><td><div class=\"dni-plaintext\">4</div></td><td><div class=\"dni-plaintext\">32</div></td><td><div class=\"dni-plaintext\">4</div></td><td><div class=\"dni-plaintext\">0.436</div></td><td><div class=\"dni-plaintext\">230</div></td></tr><tr style=\"display: none\"><td><i><div class=\"dni-plaintext\">16</div></i></td><td>vmN19</td><td><div class=\"dni-plaintext\">5</div></td><td><div class=\"dni-plaintext\">30</div></td><td><div class=\"dni-plaintext\">545</div></td><td>Standard_E4_2as_v4</td><td><div class=\"dni-plaintext\">4</div></td><td><div class=\"dni-plaintext\">32</div></td><td><div class=\"dni-plaintext\">4</div></td><td><div class=\"dni-plaintext\">0.436</div></td><td><div class=\"dni-plaintext\">230</div></td></tr><tr style=\"display: none\"><td><i><div class=\"dni-plaintext\">17</div></i></td><td>vmN20</td><td><div class=\"dni-plaintext\">5</div></td><td><div class=\"dni-plaintext\">35</div></td><td><div class=\"dni-plaintext\">380</div></td><td>Standard_E8_2as_v4</td><td><div class=\"dni-plaintext\">8</div></td><td><div class=\"dni-plaintext\">64</div></td><td><div class=\"dni-plaintext\">4</div></td><td><div class=\"dni-plaintext\">0.872</div></td><td><div class=\"dni-plaintext\">230</div></td></tr><tr style=\"display: none\"><td><i><div class=\"dni-plaintext\">18</div></i></td><td>vmN21</td><td><div class=\"dni-plaintext\">4</div></td><td><div class=\"dni-plaintext\">48</div></td><td><div class=\"dni-plaintext\">402</div></td><td>Standard_E8_2as_v4</td><td><div class=\"dni-plaintext\">8</div></td><td><div class=\"dni-plaintext\">64</div></td><td><div class=\"dni-plaintext\">4</div></td><td><div class=\"dni-plaintext\">0.872</div></td><td><div class=\"dni-plaintext\">230</div></td></tr><tr style=\"display: none\"><td><i><div class=\"dni-plaintext\">19</div></i></td><td>vmN22</td><td><div class=\"dni-plaintext\">2</div></td><td><div class=\"dni-plaintext\">29</div></td><td><div class=\"dni-plaintext\">163</div></td><td>Standard_E4_2as_v4</td><td><div class=\"dni-plaintext\">4</div></td><td><div class=\"dni-plaintext\">32</div></td><td><div class=\"dni-plaintext\">4</div></td><td><div class=\"dni-plaintext\">0.436</div></td><td><div class=\"dni-plaintext\">230</div></td></tr><tr style=\"display: none\"><td><i><div class=\"dni-plaintext\">20</div></i></td><td>vmN23</td><td><div class=\"dni-plaintext\">2</div></td><td><div class=\"dni-plaintext\">29</div></td><td><div class=\"dni-plaintext\">163</div></td><td>Standard_E4_2as_v4</td><td><div class=\"dni-plaintext\">4</div></td><td><div class=\"dni-plaintext\">32</div></td><td><div class=\"dni-plaintext\">4</div></td><td><div class=\"dni-plaintext\">0.436</div></td><td><div class=\"dni-plaintext\">230</div></td></tr><tr style=\"display: none\"><td><i><div class=\"dni-plaintext\">21</div></i></td><td>vmN24</td><td><div class=\"dni-plaintext\">2</div></td><td><div class=\"dni-plaintext\">29</div></td><td><div class=\"dni-plaintext\">163</div></td><td>Standard_E4_2as_v4</td><td><div class=\"dni-plaintext\">4</div></td><td><div class=\"dni-plaintext\">32</div></td><td><div class=\"dni-plaintext\">4</div></td><td><div class=\"dni-plaintext\">0.436</div></td><td><div class=\"dni-plaintext\">230</div></td></tr><tr style=\"display: none\"><td><i><div class=\"dni-plaintext\">22</div></i></td><td>vmN25</td><td><div class=\"dni-plaintext\">2</div></td><td><div class=\"dni-plaintext\">29</div></td><td><div class=\"dni-plaintext\">163</div></td><td>Standard_E4_2as_v4</td><td><div class=\"dni-plaintext\">4</div></td><td><div class=\"dni-plaintext\">32</div></td><td><div class=\"dni-plaintext\">4</div></td><td><div class=\"dni-plaintext\">0.436</div></td><td><div class=\"dni-plaintext\">230</div></td></tr><tr style=\"display: none\"><td><i><div class=\"dni-plaintext\">23</div></i></td><td>vmN26</td><td><div class=\"dni-plaintext\">2</div></td><td><div class=\"dni-plaintext\">29</div></td><td><div class=\"dni-plaintext\">163</div></td><td>Standard_E4_2as_v4</td><td><div class=\"dni-plaintext\">4</div></td><td><div class=\"dni-plaintext\">32</div></td><td><div class=\"dni-plaintext\">4</div></td><td><div class=\"dni-plaintext\">0.436</div></td><td><div class=\"dni-plaintext\">230</div></td></tr><tr style=\"display: none\"><td><i><div class=\"dni-plaintext\">24</div></i></td><td>vmN27</td><td><div class=\"dni-plaintext\">2</div></td><td><div class=\"dni-plaintext\">29</div></td><td><div class=\"dni-plaintext\">163</div></td><td>Standard_E4_2as_v4</td><td><div class=\"dni-plaintext\">4</div></td><td><div class=\"dni-plaintext\">32</div></td><td><div class=\"dni-plaintext\">4</div></td><td><div class=\"dni-plaintext\">0.436</div></td><td><div class=\"dni-plaintext\">230</div></td></tr><tr style=\"display: none\"><td><i><div class=\"dni-plaintext\">25</div></i></td><td>vmN28</td><td><div class=\"dni-plaintext\">2</div></td><td><div class=\"dni-plaintext\">29</div></td><td><div class=\"dni-plaintext\">163</div></td><td>Standard_E4_2as_v4</td><td><div class=\"dni-plaintext\">4</div></td><td><div class=\"dni-plaintext\">32</div></td><td><div class=\"dni-plaintext\">4</div></td><td><div class=\"dni-plaintext\">0.436</div></td><td><div class=\"dni-plaintext\">230</div></td></tr><tr style=\"display: none\"><td><i><div class=\"dni-plaintext\">26</div></i></td><td>vmN29</td><td><div class=\"dni-plaintext\">2</div></td><td><div class=\"dni-plaintext\">29</div></td><td><div class=\"dni-plaintext\">163</div></td><td>Standard_E4_2as_v4</td><td><div class=\"dni-plaintext\">4</div></td><td><div class=\"dni-plaintext\">32</div></td><td><div class=\"dni-plaintext\">4</div></td><td><div class=\"dni-plaintext\">0.436</div></td><td><div class=\"dni-plaintext\">230</div></td></tr><tr style=\"display: none\"><td><i><div class=\"dni-plaintext\">27</div></i></td><td>vmN30</td><td><div class=\"dni-plaintext\">2</div></td><td><div class=\"dni-plaintext\">29</div></td><td><div class=\"dni-plaintext\">163</div></td><td>Standard_E4_2as_v4</td><td><div class=\"dni-plaintext\">4</div></td><td><div class=\"dni-plaintext\">32</div></td><td><div class=\"dni-plaintext\">4</div></td><td><div class=\"dni-plaintext\">0.436</div></td><td><div class=\"dni-plaintext\">230</div></td></tr><tr style=\"display: none\"><td><i><div class=\"dni-plaintext\">28</div></i></td><td>vmN31</td><td><div class=\"dni-plaintext\">8</div></td><td><div class=\"dni-plaintext\">90</div></td><td><div class=\"dni-plaintext\">6431</div></td><td>Standard_E16_4as_v4</td><td><div class=\"dni-plaintext\">16</div></td><td><div class=\"dni-plaintext\">128</div></td><td><div class=\"dni-plaintext\">4</div></td><td><div class=\"dni-plaintext\">1.744</div></td><td><div class=\"dni-plaintext\">230</div></td></tr><tr style=\"display: none\"><td><i><div class=\"dni-plaintext\">29</div></i></td><td>vmN32</td><td><div class=\"dni-plaintext\">7</div></td><td><div class=\"dni-plaintext\">180</div></td><td><div class=\"dni-plaintext\">1722</div></td><td>Standard_E32_16as_v4</td><td><div class=\"dni-plaintext\">32</div></td><td><div class=\"dni-plaintext\">256</div></td><td><div class=\"dni-plaintext\">4</div></td><td><div class=\"dni-plaintext\">3.488</div></td><td><div class=\"dni-plaintext\">230</div></td></tr><tr style=\"display: none\"><td><i><div class=\"dni-plaintext\">30</div></i></td><td>vmN35</td><td><div class=\"dni-plaintext\">5</div></td><td><div class=\"dni-plaintext\">48</div></td><td><div class=\"dni-plaintext\">249</div></td><td>Standard_E8_2as_v4</td><td><div class=\"dni-plaintext\">8</div></td><td><div class=\"dni-plaintext\">64</div></td><td><div class=\"dni-plaintext\">4</div></td><td><div class=\"dni-plaintext\">0.872</div></td><td><div class=\"dni-plaintext\">230</div></td></tr><tr style=\"display: none\"><td><i><div class=\"dni-plaintext\">31</div></i></td><td>vmN36</td><td><div class=\"dni-plaintext\">2</div></td><td><div class=\"dni-plaintext\">26</div></td><td><div class=\"dni-plaintext\">224</div></td><td>Standard_E4_2as_v4</td><td><div class=\"dni-plaintext\">4</div></td><td><div class=\"dni-plaintext\">32</div></td><td><div class=\"dni-plaintext\">4</div></td><td><div class=\"dni-plaintext\">0.436</div></td><td><div class=\"dni-plaintext\">230</div></td></tr><tr style=\"display: none\"><td><i><div class=\"dni-plaintext\">32</div></i></td><td>vmN37</td><td><div class=\"dni-plaintext\">2</div></td><td><div class=\"dni-plaintext\">26</div></td><td><div class=\"dni-plaintext\">224</div></td><td>Standard_E4_2as_v4</td><td><div class=\"dni-plaintext\">4</div></td><td><div class=\"dni-plaintext\">32</div></td><td><div class=\"dni-plaintext\">4</div></td><td><div class=\"dni-plaintext\">0.436</div></td><td><div class=\"dni-plaintext\">230</div></td></tr><tr style=\"display: none\"><td><i><div class=\"dni-plaintext\">33</div></i></td><td>vmN38</td><td><div class=\"dni-plaintext\">2</div></td><td><div class=\"dni-plaintext\">26</div></td><td><div class=\"dni-plaintext\">224</div></td><td>Standard_E4_2as_v4</td><td><div class=\"dni-plaintext\">4</div></td><td><div class=\"dni-plaintext\">32</div></td><td><div class=\"dni-plaintext\">4</div></td><td><div class=\"dni-plaintext\">0.436</div></td><td><div class=\"dni-plaintext\">230</div></td></tr><tr style=\"display: none\"><td><i><div class=\"dni-plaintext\">34</div></i></td><td>vmN39</td><td><div class=\"dni-plaintext\">2</div></td><td><div class=\"dni-plaintext\">26</div></td><td><div class=\"dni-plaintext\">224</div></td><td>Standard_E4_2as_v4</td><td><div class=\"dni-plaintext\">4</div></td><td><div class=\"dni-plaintext\">32</div></td><td><div class=\"dni-plaintext\">4</div></td><td><div class=\"dni-plaintext\">0.436</div></td><td><div class=\"dni-plaintext\">230</div></td></tr><tr style=\"display: none\"><td><i><div class=\"dni-plaintext\">35</div></i></td><td>vmN40</td><td><div class=\"dni-plaintext\">5</div></td><td><div class=\"dni-plaintext\">50</div></td><td><div class=\"dni-plaintext\">4675</div></td><td>Standard_E8_2as_v4</td><td><div class=\"dni-plaintext\">8</div></td><td><div class=\"dni-plaintext\">64</div></td><td><div class=\"dni-plaintext\">4</div></td><td><div class=\"dni-plaintext\">0.872</div></td><td><div class=\"dni-plaintext\">230</div></td></tr><tr style=\"display: none\"><td><i><div class=\"dni-plaintext\">36</div></i></td><td>vmN41</td><td><div class=\"dni-plaintext\">2</div></td><td><div class=\"dni-plaintext\">32</div></td><td><div class=\"dni-plaintext\">200</div></td><td>Standard_E4_2as_v4</td><td><div class=\"dni-plaintext\">4</div></td><td><div class=\"dni-plaintext\">32</div></td><td><div class=\"dni-plaintext\">4</div></td><td><div class=\"dni-plaintext\">0.436</div></td><td><div class=\"dni-plaintext\">230</div></td></tr><tr style=\"display: none\"><td><i><div class=\"dni-plaintext\">37</div></i></td><td>vmN42</td><td><div class=\"dni-plaintext\">6</div></td><td><div class=\"dni-plaintext\">60</div></td><td><div class=\"dni-plaintext\">380</div></td><td>Standard_E8_2as_v4</td><td><div class=\"dni-plaintext\">8</div></td><td><div class=\"dni-plaintext\">64</div></td><td><div class=\"dni-plaintext\">4</div></td><td><div class=\"dni-plaintext\">0.872</div></td><td><div class=\"dni-plaintext\">230</div></td></tr><tr style=\"display: none\"><td><i><div class=\"dni-plaintext\">38</div></i></td><td>vmN43</td><td><div class=\"dni-plaintext\">6</div></td><td><div class=\"dni-plaintext\">58</div></td><td><div class=\"dni-plaintext\">336</div></td><td>Standard_E8_2as_v4</td><td><div class=\"dni-plaintext\">8</div></td><td><div class=\"dni-plaintext\">64</div></td><td><div class=\"dni-plaintext\">4</div></td><td><div class=\"dni-plaintext\">0.872</div></td><td><div class=\"dni-plaintext\">230</div></td></tr><tr style=\"display: none\"><td><i><div class=\"dni-plaintext\">39</div></i></td><td>vmN44</td><td><div class=\"dni-plaintext\">7</div></td><td><div class=\"dni-plaintext\">98</div></td><td><div class=\"dni-plaintext\">296</div></td><td>Standard_E16_4as_v4</td><td><div class=\"dni-plaintext\">16</div></td><td><div class=\"dni-plaintext\">128</div></td><td><div class=\"dni-plaintext\">4</div></td><td><div class=\"dni-plaintext\">1.744</div></td><td><div class=\"dni-plaintext\">230</div></td></tr><tr style=\"display: none\"><td><i><div class=\"dni-plaintext\">40</div></i></td><td>vmN45</td><td><div class=\"dni-plaintext\">2</div></td><td><div class=\"dni-plaintext\">15</div></td><td><div class=\"dni-plaintext\">574</div></td><td>Standard_E4_2as_v4</td><td><div class=\"dni-plaintext\">4</div></td><td><div class=\"dni-plaintext\">32</div></td><td><div class=\"dni-plaintext\">4</div></td><td><div class=\"dni-plaintext\">0.436</div></td><td><div class=\"dni-plaintext\">230</div></td></tr><tr style=\"display: none\"><td><i><div class=\"dni-plaintext\">41</div></i></td><td>vmN46</td><td><div class=\"dni-plaintext\">2</div></td><td><div class=\"dni-plaintext\">4</div></td><td><div class=\"dni-plaintext\">77</div></td><td>Standard_E4_2as_v4</td><td><div class=\"dni-plaintext\">4</div></td><td><div class=\"dni-plaintext\">32</div></td><td><div class=\"dni-plaintext\">4</div></td><td><div class=\"dni-plaintext\">0.436</div></td><td><div class=\"dni-plaintext\">230</div></td></tr><tr style=\"display: none\"><td><i><div class=\"dni-plaintext\">42</div></i></td><td>vmN47</td><td><div class=\"dni-plaintext\">2</div></td><td><div class=\"dni-plaintext\">4</div></td><td><div class=\"dni-plaintext\">77</div></td><td>Standard_E4_2as_v4</td><td><div class=\"dni-plaintext\">4</div></td><td><div class=\"dni-plaintext\">32</div></td><td><div class=\"dni-plaintext\">4</div></td><td><div class=\"dni-plaintext\">0.436</div></td><td><div class=\"dni-plaintext\">230</div></td></tr><tr style=\"display: none\"><td><i><div class=\"dni-plaintext\">43</div></i></td><td>vmN48</td><td><div class=\"dni-plaintext\">2</div></td><td><div class=\"dni-plaintext\">4</div></td><td><div class=\"dni-plaintext\">149</div></td><td>Standard_E4_2as_v4</td><td><div class=\"dni-plaintext\">4</div></td><td><div class=\"dni-plaintext\">32</div></td><td><div class=\"dni-plaintext\">4</div></td><td><div class=\"dni-plaintext\">0.436</div></td><td><div class=\"dni-plaintext\">230</div></td></tr><tr style=\"display: none\"><td><i><div class=\"dni-plaintext\">44</div></i></td><td>vmN49</td><td><div class=\"dni-plaintext\">8</div></td><td><div class=\"dni-plaintext\">20</div></td><td><div class=\"dni-plaintext\">426</div></td><td>Standard_E8_2as_v4</td><td><div class=\"dni-plaintext\">8</div></td><td><div class=\"dni-plaintext\">64</div></td><td><div class=\"dni-plaintext\">4</div></td><td><div class=\"dni-plaintext\">0.872</div></td><td><div class=\"dni-plaintext\">230</div></td></tr><tr style=\"display: none\"><td><i><div class=\"dni-plaintext\">45</div></i></td><td>vmN50</td><td><div class=\"dni-plaintext\">6</div></td><td><div class=\"dni-plaintext\">32</div></td><td><div class=\"dni-plaintext\">120</div></td><td>Standard_E8_2as_v4</td><td><div class=\"dni-plaintext\">8</div></td><td><div class=\"dni-plaintext\">64</div></td><td><div class=\"dni-plaintext\">4</div></td><td><div class=\"dni-plaintext\">0.872</div></td><td><div class=\"dni-plaintext\">230</div></td></tr><tr style=\"display: none\"><td><i><div class=\"dni-plaintext\">46</div></i></td><td>vmN51</td><td><div class=\"dni-plaintext\">2</div></td><td><div class=\"dni-plaintext\">32</div></td><td><div class=\"dni-plaintext\">2509</div></td><td>Standard_E4_2as_v4</td><td><div class=\"dni-plaintext\">4</div></td><td><div class=\"dni-plaintext\">32</div></td><td><div class=\"dni-plaintext\">4</div></td><td><div class=\"dni-plaintext\">0.436</div></td><td><div class=\"dni-plaintext\">230</div></td></tr><tr style=\"display: none\"><td><i><div class=\"dni-plaintext\">47</div></i></td><td>vmN52</td><td><div class=\"dni-plaintext\">5</div></td><td><div class=\"dni-plaintext\">20</div></td><td><div class=\"dni-plaintext\">273</div></td><td>Standard_E4_2as_v4</td><td><div class=\"dni-plaintext\">4</div></td><td><div class=\"dni-plaintext\">32</div></td><td><div class=\"dni-plaintext\">4</div></td><td><div class=\"dni-plaintext\">0.436</div></td><td><div class=\"dni-plaintext\">230</div></td></tr><tr style=\"display: none\"><td><i><div class=\"dni-plaintext\">48</div></i></td><td>vmN53</td><td><div class=\"dni-plaintext\">6</div></td><td><div class=\"dni-plaintext\">50</div></td><td><div class=\"dni-plaintext\">419</div></td><td>Standard_E8_2as_v4</td><td><div class=\"dni-plaintext\">8</div></td><td><div class=\"dni-plaintext\">64</div></td><td><div class=\"dni-plaintext\">4</div></td><td><div class=\"dni-plaintext\">0.872</div></td><td><div class=\"dni-plaintext\">230</div></td></tr><tr style=\"display: none\"><td><i><div class=\"dni-plaintext\">49</div></i></td><td>vmN54</td><td><div class=\"dni-plaintext\">3</div></td><td><div class=\"dni-plaintext\">40</div></td><td><div class=\"dni-plaintext\">237</div></td><td>Standard_E8_2as_v4</td><td><div class=\"dni-plaintext\">8</div></td><td><div class=\"dni-plaintext\">64</div></td><td><div class=\"dni-plaintext\">4</div></td><td><div class=\"dni-plaintext\">0.872</div></td><td><div class=\"dni-plaintext\">230</div></td></tr><tr style=\"display: none\"><td><i><div class=\"dni-plaintext\">50</div></i></td><td>vmN55</td><td><div class=\"dni-plaintext\">8</div></td><td><div class=\"dni-plaintext\">46</div></td><td><div class=\"dni-plaintext\">2267</div></td><td>Standard_E8_2as_v4</td><td><div class=\"dni-plaintext\">8</div></td><td><div class=\"dni-plaintext\">64</div></td><td><div class=\"dni-plaintext\">4</div></td><td><div class=\"dni-plaintext\">0.872</div></td><td><div class=\"dni-plaintext\">230</div></td></tr><tr style=\"display: none\"><td><i><div class=\"dni-plaintext\">51</div></i></td><td>vmN56</td><td><div class=\"dni-plaintext\">1</div></td><td><div class=\"dni-plaintext\">20</div></td><td><div class=\"dni-plaintext\">20</div></td><td>Standard_E4_2as_v4</td><td><div class=\"dni-plaintext\">4</div></td><td><div class=\"dni-plaintext\">32</div></td><td><div class=\"dni-plaintext\">4</div></td><td><div class=\"dni-plaintext\">0.436</div></td><td><div class=\"dni-plaintext\">230</div></td></tr><tr style=\"display: none\"><td><i><div class=\"dni-plaintext\">52</div></i></td><td>vmN57</td><td><div class=\"dni-plaintext\">3</div></td><td><div class=\"dni-plaintext\">16</div></td><td><div class=\"dni-plaintext\">149</div></td><td>Standard_E4_2as_v4</td><td><div class=\"dni-plaintext\">4</div></td><td><div class=\"dni-plaintext\">32</div></td><td><div class=\"dni-plaintext\">4</div></td><td><div class=\"dni-plaintext\">0.436</div></td><td><div class=\"dni-plaintext\">230</div></td></tr><tr style=\"display: none\"><td><i><div class=\"dni-plaintext\">53</div></i></td><td>vmN58</td><td><div class=\"dni-plaintext\">2</div></td><td><div class=\"dni-plaintext\">10</div></td><td><div class=\"dni-plaintext\">149</div></td><td>Standard_E4_2as_v4</td><td><div class=\"dni-plaintext\">4</div></td><td><div class=\"dni-plaintext\">32</div></td><td><div class=\"dni-plaintext\">4</div></td><td><div class=\"dni-plaintext\">0.436</div></td><td><div class=\"dni-plaintext\">230</div></td></tr><tr style=\"display: none\"><td><i><div class=\"dni-plaintext\">54</div></i></td><td>vmN59</td><td><div class=\"dni-plaintext\">2</div></td><td><div class=\"dni-plaintext\">10</div></td><td><div class=\"dni-plaintext\">149</div></td><td>Standard_E4_2as_v4</td><td><div class=\"dni-plaintext\">4</div></td><td><div class=\"dni-plaintext\">32</div></td><td><div class=\"dni-plaintext\">4</div></td><td><div class=\"dni-plaintext\">0.436</div></td><td><div class=\"dni-plaintext\">230</div></td></tr><tr style=\"display: none\"><td><i><div class=\"dni-plaintext\">55</div></i></td><td>vmN61</td><td><div class=\"dni-plaintext\">4</div></td><td><div class=\"dni-plaintext\">35</div></td><td><div class=\"dni-plaintext\">170</div></td><td>Standard_E8_2as_v4</td><td><div class=\"dni-plaintext\">8</div></td><td><div class=\"dni-plaintext\">64</div></td><td><div class=\"dni-plaintext\">4</div></td><td><div class=\"dni-plaintext\">0.872</div></td><td><div class=\"dni-plaintext\">230</div></td></tr><tr style=\"display: none\"><td><i><div class=\"dni-plaintext\">56</div></i></td><td>vmN62</td><td><div class=\"dni-plaintext\">8</div></td><td><div class=\"dni-plaintext\">70</div></td><td><div class=\"dni-plaintext\">2882</div></td><td>Standard_E16_4as_v4</td><td><div class=\"dni-plaintext\">16</div></td><td><div class=\"dni-plaintext\">128</div></td><td><div class=\"dni-plaintext\">4</div></td><td><div class=\"dni-plaintext\">1.744</div></td><td><div class=\"dni-plaintext\">230</div></td></tr><tr style=\"display: none\"><td><i><div class=\"dni-plaintext\">57</div></i></td><td>vmN63</td><td><div class=\"dni-plaintext\">2</div></td><td><div class=\"dni-plaintext\">15</div></td><td><div class=\"dni-plaintext\">151</div></td><td>Standard_E4_2as_v4</td><td><div class=\"dni-plaintext\">4</div></td><td><div class=\"dni-plaintext\">32</div></td><td><div class=\"dni-plaintext\">4</div></td><td><div class=\"dni-plaintext\">0.436</div></td><td><div class=\"dni-plaintext\">230</div></td></tr><tr style=\"display: none\"><td><i><div class=\"dni-plaintext\">58</div></i></td><td>vmN64</td><td><div class=\"dni-plaintext\">2</div></td><td><div class=\"dni-plaintext\">15</div></td><td><div class=\"dni-plaintext\">151</div></td><td>Standard_E4_2as_v4</td><td><div class=\"dni-plaintext\">4</div></td><td><div class=\"dni-plaintext\">32</div></td><td><div class=\"dni-plaintext\">4</div></td><td><div class=\"dni-plaintext\">0.436</div></td><td><div class=\"dni-plaintext\">230</div></td></tr><tr style=\"display: none\"><td><i><div class=\"dni-plaintext\">59</div></i></td><td>vmN65</td><td><div class=\"dni-plaintext\">2</div></td><td><div class=\"dni-plaintext\">15</div></td><td><div class=\"dni-plaintext\">151</div></td><td>Standard_E4_2as_v4</td><td><div class=\"dni-plaintext\">4</div></td><td><div class=\"dni-plaintext\">32</div></td><td><div class=\"dni-plaintext\">4</div></td><td><div class=\"dni-plaintext\">0.436</div></td><td><div class=\"dni-plaintext\">230</div></td></tr><tr style=\"display: none\"><td><i><div class=\"dni-plaintext\">60</div></i></td><td>vmN66</td><td><div class=\"dni-plaintext\">2</div></td><td><div class=\"dni-plaintext\">15</div></td><td><div class=\"dni-plaintext\">151</div></td><td>Standard_E4_2as_v4</td><td><div class=\"dni-plaintext\">4</div></td><td><div class=\"dni-plaintext\">32</div></td><td><div class=\"dni-plaintext\">4</div></td><td><div class=\"dni-plaintext\">0.436</div></td><td><div class=\"dni-plaintext\">230</div></td></tr><tr style=\"display: none\"><td><i><div class=\"dni-plaintext\">61</div></i></td><td>vmN67</td><td><div class=\"dni-plaintext\">6</div></td><td><div class=\"dni-plaintext\">160</div></td><td><div class=\"dni-plaintext\">1328</div></td><td>Standard_E32_16as_v4</td><td><div class=\"dni-plaintext\">32</div></td><td><div class=\"dni-plaintext\">256</div></td><td><div class=\"dni-plaintext\">4</div></td><td><div class=\"dni-plaintext\">3.488</div></td><td><div class=\"dni-plaintext\">230</div></td></tr><tr style=\"display: none\"><td><i><div class=\"dni-plaintext\">62</div></i></td><td>vmN68</td><td><div class=\"dni-plaintext\">2</div></td><td><div class=\"dni-plaintext\">4</div></td><td><div class=\"dni-plaintext\">110</div></td><td>Standard_E4_2as_v4</td><td><div class=\"dni-plaintext\">4</div></td><td><div class=\"dni-plaintext\">32</div></td><td><div class=\"dni-plaintext\">4</div></td><td><div class=\"dni-plaintext\">0.436</div></td><td><div class=\"dni-plaintext\">230</div></td></tr><tr style=\"display: none\"><td><i><div class=\"dni-plaintext\">63</div></i></td><td>vmN69</td><td><div class=\"dni-plaintext\">2</div></td><td><div class=\"dni-plaintext\">20</div></td><td><div class=\"dni-plaintext\">245</div></td><td>Standard_E4_2as_v4</td><td><div class=\"dni-plaintext\">4</div></td><td><div class=\"dni-plaintext\">32</div></td><td><div class=\"dni-plaintext\">4</div></td><td><div class=\"dni-plaintext\">0.436</div></td><td><div class=\"dni-plaintext\">230</div></td></tr><tr style=\"display: none\"><td><i><div class=\"dni-plaintext\">64</div></i></td><td>vmN70</td><td><div class=\"dni-plaintext\">2</div></td><td><div class=\"dni-plaintext\">31</div></td><td><div class=\"dni-plaintext\">225</div></td><td>Standard_E4_2as_v4</td><td><div class=\"dni-plaintext\">4</div></td><td><div class=\"dni-plaintext\">32</div></td><td><div class=\"dni-plaintext\">4</div></td><td><div class=\"dni-plaintext\">0.436</div></td><td><div class=\"dni-plaintext\">230</div></td></tr><tr style=\"display: none\"><td><i><div class=\"dni-plaintext\">65</div></i></td><td>vmN71</td><td><div class=\"dni-plaintext\">2</div></td><td><div class=\"dni-plaintext\">31</div></td><td><div class=\"dni-plaintext\">225</div></td><td>Standard_E4_2as_v4</td><td><div class=\"dni-plaintext\">4</div></td><td><div class=\"dni-plaintext\">32</div></td><td><div class=\"dni-plaintext\">4</div></td><td><div class=\"dni-plaintext\">0.436</div></td><td><div class=\"dni-plaintext\">230</div></td></tr><tr style=\"display: none\"><td><i><div class=\"dni-plaintext\">66</div></i></td><td>vmN72</td><td><div class=\"dni-plaintext\">4</div></td><td><div class=\"dni-plaintext\">24</div></td><td><div class=\"dni-plaintext\">3036</div></td><td>Standard_E4_2as_v4</td><td><div class=\"dni-plaintext\">4</div></td><td><div class=\"dni-plaintext\">32</div></td><td><div class=\"dni-plaintext\">4</div></td><td><div class=\"dni-plaintext\">0.436</div></td><td><div class=\"dni-plaintext\">230</div></td></tr><tr style=\"display: none\"><td><i><div class=\"dni-plaintext\">67</div></i></td><td>vmN73</td><td><div class=\"dni-plaintext\">2</div></td><td><div class=\"dni-plaintext\">32</div></td><td><div class=\"dni-plaintext\">200</div></td><td>Standard_E4_2as_v4</td><td><div class=\"dni-plaintext\">4</div></td><td><div class=\"dni-plaintext\">32</div></td><td><div class=\"dni-plaintext\">4</div></td><td><div class=\"dni-plaintext\">0.436</div></td><td><div class=\"dni-plaintext\">230</div></td></tr><tr style=\"display: none\"><td><i><div class=\"dni-plaintext\">68</div></i></td><td>vmN74</td><td><div class=\"dni-plaintext\">6</div></td><td><div class=\"dni-plaintext\">50</div></td><td><div class=\"dni-plaintext\">287</div></td><td>Standard_E8_2as_v4</td><td><div class=\"dni-plaintext\">8</div></td><td><div class=\"dni-plaintext\">64</div></td><td><div class=\"dni-plaintext\">4</div></td><td><div class=\"dni-plaintext\">0.872</div></td><td><div class=\"dni-plaintext\">230</div></td></tr><tr style=\"display: none\"><td><i><div class=\"dni-plaintext\">69</div></i></td><td>vmN75</td><td><div class=\"dni-plaintext\">3</div></td><td><div class=\"dni-plaintext\">65</div></td><td><div class=\"dni-plaintext\">153</div></td><td>Standard_E16_4as_v4</td><td><div class=\"dni-plaintext\">16</div></td><td><div class=\"dni-plaintext\">128</div></td><td><div class=\"dni-plaintext\">4</div></td><td><div class=\"dni-plaintext\">1.744</div></td><td><div class=\"dni-plaintext\">230</div></td></tr><tr style=\"display: none\"><td><i><div class=\"dni-plaintext\">70</div></i></td><td>vmN76</td><td><div class=\"dni-plaintext\">2</div></td><td><div class=\"dni-plaintext\">16</div></td><td><div class=\"dni-plaintext\">150</div></td><td>Standard_E4_2as_v4</td><td><div class=\"dni-plaintext\">4</div></td><td><div class=\"dni-plaintext\">32</div></td><td><div class=\"dni-plaintext\">4</div></td><td><div class=\"dni-plaintext\">0.436</div></td><td><div class=\"dni-plaintext\">230</div></td></tr><tr style=\"display: none\"><td><i><div class=\"dni-plaintext\">71</div></i></td><td>vmN77</td><td><div class=\"dni-plaintext\">2</div></td><td><div class=\"dni-plaintext\">4</div></td><td><div class=\"dni-plaintext\">77</div></td><td>Standard_E4_2as_v4</td><td><div class=\"dni-plaintext\">4</div></td><td><div class=\"dni-plaintext\">32</div></td><td><div class=\"dni-plaintext\">4</div></td><td><div class=\"dni-plaintext\">0.436</div></td><td><div class=\"dni-plaintext\">230</div></td></tr><tr style=\"display: none\"><td><i><div class=\"dni-plaintext\">72</div></i></td><td>vmN78</td><td><div class=\"dni-plaintext\">8</div></td><td><div class=\"dni-plaintext\">36</div></td><td><div class=\"dni-plaintext\">650</div></td><td>Standard_E8_2as_v4</td><td><div class=\"dni-plaintext\">8</div></td><td><div class=\"dni-plaintext\">64</div></td><td><div class=\"dni-plaintext\">4</div></td><td><div class=\"dni-plaintext\">0.872</div></td><td><div class=\"dni-plaintext\">230</div></td></tr><tr style=\"display: none\"><td><i><div class=\"dni-plaintext\">73</div></i></td><td>vmN79</td><td><div class=\"dni-plaintext\">3</div></td><td><div class=\"dni-plaintext\">50</div></td><td><div class=\"dni-plaintext\">800</div></td><td>Standard_E8_2as_v4</td><td><div class=\"dni-plaintext\">8</div></td><td><div class=\"dni-plaintext\">64</div></td><td><div class=\"dni-plaintext\">4</div></td><td><div class=\"dni-plaintext\">0.872</div></td><td><div class=\"dni-plaintext\">230</div></td></tr><tr style=\"display: none\"><td><i><div class=\"dni-plaintext\">74</div></i></td><td>vmN80</td><td><div class=\"dni-plaintext\">2</div></td><td><div class=\"dni-plaintext\">11</div></td><td><div class=\"dni-plaintext\">148</div></td><td>Standard_E4_2as_v4</td><td><div class=\"dni-plaintext\">4</div></td><td><div class=\"dni-plaintext\">32</div></td><td><div class=\"dni-plaintext\">4</div></td><td><div class=\"dni-plaintext\">0.436</div></td><td><div class=\"dni-plaintext\">230</div></td></tr><tr style=\"display: none\"><td><i><div class=\"dni-plaintext\">75</div></i></td><td>vmN81</td><td><div class=\"dni-plaintext\">4</div></td><td><div class=\"dni-plaintext\">24</div></td><td><div class=\"dni-plaintext\">1862</div></td><td>Standard_E4_2as_v4</td><td><div class=\"dni-plaintext\">4</div></td><td><div class=\"dni-plaintext\">32</div></td><td><div class=\"dni-plaintext\">4</div></td><td><div class=\"dni-plaintext\">0.436</div></td><td><div class=\"dni-plaintext\">230</div></td></tr><tr style=\"display: none\"><td><i><div class=\"dni-plaintext\">76</div></i></td><td>vmN82</td><td><div class=\"dni-plaintext\">4</div></td><td><div class=\"dni-plaintext\">30</div></td><td><div class=\"dni-plaintext\">539</div></td><td>Standard_E4_2as_v4</td><td><div class=\"dni-plaintext\">4</div></td><td><div class=\"dni-plaintext\">32</div></td><td><div class=\"dni-plaintext\">4</div></td><td><div class=\"dni-plaintext\">0.436</div></td><td><div class=\"dni-plaintext\">230</div></td></tr><tr style=\"display: none\"><td><i><div class=\"dni-plaintext\">77</div></i></td><td>vmN83</td><td><div class=\"dni-plaintext\">2</div></td><td><div class=\"dni-plaintext\">16</div></td><td><div class=\"dni-plaintext\">181</div></td><td>Standard_E4_2as_v4</td><td><div class=\"dni-plaintext\">4</div></td><td><div class=\"dni-plaintext\">32</div></td><td><div class=\"dni-plaintext\">4</div></td><td><div class=\"dni-plaintext\">0.436</div></td><td><div class=\"dni-plaintext\">230</div></td></tr><tr style=\"display: none\"><td><i><div class=\"dni-plaintext\">78</div></i></td><td>vmN84</td><td><div class=\"dni-plaintext\">1</div></td><td><div class=\"dni-plaintext\">16</div></td><td><div class=\"dni-plaintext\">2601</div></td><td>Standard_E4_2as_v4</td><td><div class=\"dni-plaintext\">4</div></td><td><div class=\"dni-plaintext\">32</div></td><td><div class=\"dni-plaintext\">4</div></td><td><div class=\"dni-plaintext\">0.436</div></td><td><div class=\"dni-plaintext\">230</div></td></tr><tr style=\"display: none\"><td><i><div class=\"dni-plaintext\">79</div></i></td><td>vmN85</td><td><div class=\"dni-plaintext\">3</div></td><td><div class=\"dni-plaintext\">24</div></td><td><div class=\"dni-plaintext\">244</div></td><td>Standard_E4_2as_v4</td><td><div class=\"dni-plaintext\">4</div></td><td><div class=\"dni-plaintext\">32</div></td><td><div class=\"dni-plaintext\">4</div></td><td><div class=\"dni-plaintext\">0.436</div></td><td><div class=\"dni-plaintext\">230</div></td></tr><tr style=\"display: none\"><td><i><div class=\"dni-plaintext\">80</div></i></td><td>vmN86</td><td><div class=\"dni-plaintext\">2</div></td><td><div class=\"dni-plaintext\">20</div></td><td><div class=\"dni-plaintext\">3466</div></td><td>Standard_E4_2as_v4</td><td><div class=\"dni-plaintext\">4</div></td><td><div class=\"dni-plaintext\">32</div></td><td><div class=\"dni-plaintext\">4</div></td><td><div class=\"dni-plaintext\">0.436</div></td><td><div class=\"dni-plaintext\">230</div></td></tr><tr style=\"display: none\"><td><i><div class=\"dni-plaintext\">81</div></i></td><td>vmN87</td><td><div class=\"dni-plaintext\">2</div></td><td><div class=\"dni-plaintext\">32</div></td><td><div class=\"dni-plaintext\">200</div></td><td>Standard_E4_2as_v4</td><td><div class=\"dni-plaintext\">4</div></td><td><div class=\"dni-plaintext\">32</div></td><td><div class=\"dni-plaintext\">4</div></td><td><div class=\"dni-plaintext\">0.436</div></td><td><div class=\"dni-plaintext\">230</div></td></tr></tbody><tfoot><tr><td colspan=\"11\" style=\"text-align: center;\"><button style=\"margin: 2px;\" onclick=\"var allRows = document.querySelectorAll(&#39;#table_637775337595424886 tbody tr:nth-child(n)&#39;); for (let i = 0; i &lt; allRows.length; i++) { allRows[i].style.display=&#39;none&#39;; } document.querySelector(&#39;#page_637775337595424886&#39;).innerHTML = 1; var page = parseInt(document.querySelector(&#39;#page_637775337595424886&#39;).innerHTML) - 1; var pageRows = document.querySelectorAll(`#table_637775337595424886 tbody tr:nth-child(n + ${page * 25 + 1 })`); for (let j = 0; j &lt; 25; j++) { pageRows[j].style.display=&#39;table-row&#39;; } \">⏮</button><button style=\"margin: 2px;\" onclick=\"var allRows = document.querySelectorAll(&#39;#table_637775337595424886 tbody tr:nth-child(n)&#39;); for (let i = 0; i &lt; allRows.length; i++) { allRows[i].style.display=&#39;none&#39;; } var page = parseInt(document.querySelector(&#39;#page_637775337595424886&#39;).innerHTML) - 1; page = parseInt(page) + parseInt(-10); page = page &lt; 0 ? 0 : page; page = page > 3 ? 3 : page; document.querySelector(&#39;#page_637775337595424886&#39;).innerHTML = page + 1; var page = parseInt(document.querySelector(&#39;#page_637775337595424886&#39;).innerHTML) - 1; var pageRows = document.querySelectorAll(`#table_637775337595424886 tbody tr:nth-child(n + ${page * 25 + 1 })`); for (let j = 0; j &lt; 25; j++) { pageRows[j].style.display=&#39;table-row&#39;; } \">⏪</button><button style=\"margin: 2px;\" onclick=\"var allRows = document.querySelectorAll(&#39;#table_637775337595424886 tbody tr:nth-child(n)&#39;); for (let i = 0; i &lt; allRows.length; i++) { allRows[i].style.display=&#39;none&#39;; } var page = parseInt(document.querySelector(&#39;#page_637775337595424886&#39;).innerHTML) - 1; page = parseInt(page) + parseInt(-1); page = page &lt; 0 ? 0 : page; page = page > 3 ? 3 : page; document.querySelector(&#39;#page_637775337595424886&#39;).innerHTML = page + 1; var page = parseInt(document.querySelector(&#39;#page_637775337595424886&#39;).innerHTML) - 1; var pageRows = document.querySelectorAll(`#table_637775337595424886 tbody tr:nth-child(n + ${page * 25 + 1 })`); for (let j = 0; j &lt; 25; j++) { pageRows[j].style.display=&#39;table-row&#39;; } \">◀️</button><b style=\"margin: 2px;\">Page</b><b id=\"page_637775337595424886\" style=\"margin: 2px;\">1</b><button style=\"margin: 2px;\" onclick=\"var allRows = document.querySelectorAll(&#39;#table_637775337595424886 tbody tr:nth-child(n)&#39;); for (let i = 0; i &lt; allRows.length; i++) { allRows[i].style.display=&#39;none&#39;; } var page = parseInt(document.querySelector(&#39;#page_637775337595424886&#39;).innerHTML) - 1; page = parseInt(page) + parseInt(1); page = page &lt; 0 ? 0 : page; page = page > 3 ? 3 : page; document.querySelector(&#39;#page_637775337595424886&#39;).innerHTML = page + 1; var page = parseInt(document.querySelector(&#39;#page_637775337595424886&#39;).innerHTML) - 1; var pageRows = document.querySelectorAll(`#table_637775337595424886 tbody tr:nth-child(n + ${page * 25 + 1 })`); for (let j = 0; j &lt; 25; j++) { pageRows[j].style.display=&#39;table-row&#39;; } \">▶️</button><button style=\"margin: 2px;\" onclick=\"var allRows = document.querySelectorAll(&#39;#table_637775337595424886 tbody tr:nth-child(n)&#39;); for (let i = 0; i &lt; allRows.length; i++) { allRows[i].style.display=&#39;none&#39;; } var page = parseInt(document.querySelector(&#39;#page_637775337595424886&#39;).innerHTML) - 1; page = parseInt(page) + parseInt(10); page = page &lt; 0 ? 0 : page; page = page > 3 ? 3 : page; document.querySelector(&#39;#page_637775337595424886&#39;).innerHTML = page + 1; var page = parseInt(document.querySelector(&#39;#page_637775337595424886&#39;).innerHTML) - 1; var pageRows = document.querySelectorAll(`#table_637775337595424886 tbody tr:nth-child(n + ${page * 25 + 1 })`); for (let j = 0; j &lt; 25; j++) { pageRows[j].style.display=&#39;table-row&#39;; } \">⏩</button><button style=\"margin: 2px;\" onclick=\"var allRows = document.querySelectorAll(&#39;#table_637775337595424886 tbody tr:nth-child(n)&#39;); for (let i = 0; i &lt; allRows.length; i++) { allRows[i].style.display=&#39;none&#39;; } document.querySelector(&#39;#page_637775337595424886&#39;).innerHTML = 4; var page = parseInt(document.querySelector(&#39;#page_637775337595424886&#39;).innerHTML) - 1; var pageRows = document.querySelectorAll(`#table_637775337595424886 tbody tr:nth-child(n + ${page * 25 + 1 })`); for (let j = 0; j &lt; 25; j++) { pageRows[j].style.display=&#39;table-row&#39;; } \">⏭️</button></td></tr></tfoot></table><script>var page = parseInt(document.querySelector('#page_637775337595424886').innerHTML) - 1; var pageRows = document.querySelectorAll(`#table_637775337595424886 tbody tr:nth-child(n + ${page * 25 + 1 })`); for (let j = 0; j < 25; j++) { pageRows[j].style.display='table-row'; } </script>"
      ]
     },
     "metadata": {},
     "output_type": "display_data"
    },
    {
     "name": "stdout",
     "output_type": "stream",
     "text": [
      "\r\n",
      "\u001b[32;1mMimeTypes\u001b[0m\r\n",
      "\u001b[32;1m---------\u001b[0m\r\n",
      "{text/html}\r\n",
      "\r\n"
     ]
    }
   ],
   "source": [
    "$csv = ($ret2.vmRecords | ConvertTo-Csv -NoTypeInformation) -join \"`n\"\n",
    "$df2 = [Microsoft.Data.Analysis.DataFrame]::LoadCsvFromString($csv)\n",
    "[Microsoft.DotNet.Interactive.Kernel]::display($df2)"
   ]
  },
  {
   "cell_type": "markdown",
   "metadata": {
    "dotnet_interactive": {
     "language": "pwsh"
    }
   },
   "source": [
    "The model chose completely different VM sizes, which helped to lower the cost but without affecting the performance"
   ]
  },
  {
   "cell_type": "markdown",
   "metadata": {},
   "source": [
    "## How it really works"
   ]
  },
  {
   "cell_type": "markdown",
   "metadata": {},
   "source": [
    "This section is for those who what to peek under the hood. But if you really want to dig deeper, it is better to watch a few courses below:\n",
    "\n",
    "\n",
    "- [Basic Modeling for Discrete Optimization](https://www.coursera.org/learn/basic-modeling)\n",
    "- [Advanced Modeling for Discrete Optimization](https://www.coursera.org/learn/advanced-modeling)\n",
    "\n",
    "\n",
    "The overall solution diagram (using mermaid) is below"
   ]
  },
  {
   "cell_type": "code",
   "execution_count": null,
   "metadata": {
    "dotnet_interactive": {
     "language": "csharp"
    }
   },
   "outputs": [
    {
     "data": {
      "text/html": [
       "<div style=\"background-color:white;\">\r\n",
       "<script type=\"text/javascript\">\r\n",
       "\r\n",
       "loadMermaid_4e6d91ae8f47491fa7047fe37ee725e0 = () => {\r\n",
       " \r\n",
       "        (require.config({ 'paths': { 'context': '1.0.252001', 'mermaidUri' : 'https://colombod.github.io/dotnet-interactive-cdn/extensionlab/1.0.252001/mermaid/mermaidapi', 'urlArgs': 'cacheBuster=a80eaae9bb2344c8ba085d643eeccd0a' }}) || require)(['mermaidUri'], (mermaid) => {\r\n",
       "\r\n",
       "            let renderTarget = document.getElementById('4e6d91ae8f47491fa7047fe37ee725e0');\r\n",
       "            mermaid.render( \r\n",
       "                'mermaid_4e6d91ae8f47491fa7047fe37ee725e0', \r\n",
       "                `flowchart LR\n",
       "    data[minizinc data] --> pwsh[PowerShell Wrapper]\n",
       "    model[minizinc model] --> pwsh[PowerShell Wrapper]\n",
       "    pwsh -.calls.-> mz[minizinc.exe]\n",
       "    mz --uses--> solver[solver GECODE]\n",
       "    mz -.returns results.-> pwsh\n",
       "    pwsh --parses and returns-->r[results]\n",
       "\n",
       "    source[\"source servers details (CPU, RAM, Disks)\"] -.-> data\n",
       "    azureVM[\"Azure VM pricing and ACU\"]  -.-> data\n",
       "    azureDisk[\"Azure Disk prices\"]  -.-> data`, \r\n",
       "                g => {\r\n",
       "                    renderTarget.innerHTML = g \r\n",
       "                });\r\n",
       "        },\r\n",
       "        (error) => {\r\n",
       "            console.log(error);\r\n",
       "        });\r\n",
       "}\r\n",
       "// ensure `require` is available globally\r\n",
       "if ((typeof(require) !==  typeof(Function)) || (typeof(require.config) !== typeof(Function))) {\r\n",
       "    let require_script = document.createElement('script');\r\n",
       "    require_script.setAttribute('src', 'https://cdnjs.cloudflare.com/ajax/libs/require.js/2.3.6/require.min.js');\r\n",
       "    require_script.setAttribute('type', 'text/javascript');\r\n",
       "    \r\n",
       "    \r\n",
       "    require_script.onload = function() {\r\n",
       "        loadMermaid_4e6d91ae8f47491fa7047fe37ee725e0();\r\n",
       "    };\r\n",
       "\r\n",
       "    document.getElementsByTagName('head')[0].appendChild(require_script);\r\n",
       "}\r\n",
       "else {\r\n",
       "    loadMermaid_4e6d91ae8f47491fa7047fe37ee725e0();\r\n",
       "}\r\n",
       "\r\n",
       "</script>\r\n",
       "<div id=\"4e6d91ae8f47491fa7047fe37ee725e0\"></div>\r\n",
       "</div>\r\n"
      ]
     },
     "metadata": {},
     "output_type": "display_data"
    }
   ],
   "source": [
    "#!mermaid\n",
    "flowchart LR\n",
    "    data[minizinc data] --> pwsh[PowerShell Wrapper]\n",
    "    model[minizinc model] --> pwsh[PowerShell Wrapper]\n",
    "    pwsh -.calls.-> mz[minizinc.exe]\n",
    "    mz --uses--> solver[solver GECODE]\n",
    "    mz -.returns results.-> pwsh\n",
    "    pwsh --parses and returns-->r[results]\n",
    "\n",
    "    source[\"source servers details (CPU, RAM, Disks)\"] -.-> data\n",
    "    azureVM[\"Azure VM pricing and ACU\"]  -.-> data\n",
    "    azureDisk[\"Azure Disk prices\"]  -.-> data"
   ]
  },
  {
   "cell_type": "markdown",
   "metadata": {
    "dotnet_interactive": {
     "language": "csharp"
    }
   },
   "source": [
    "The main piece of the solution is the [model](./vm-optimization-minizinc/vmCostsCalculation-integer.mzn). As I mentioned before, the model uses a declarative approach to describe what we need. And that is the beauty of it. We don't need to tell it how to find a solution. We define a model in a form of variables we want to find, constraints, and objective functions. And the model finds a solution for us by itself. Let us see how it is done in our case:\n",
    "\n",
    "The first constraint of the model requires that for all source servers we want to find such a target counterpart, that the amount  of RAM on it is more or equal to the source VM\n",
    "\n",
    "```console\n",
    "constraint forall(vm in existingVMs)(\n",
    "    vmSizeRAM[selectedSize[vm]] >= vmRAM[vm]\n",
    ");\n",
    "```\n",
    "\n",
    "\n",
    "The second constraint for the CPU is similar, but in this case, we allow it to be lower by 20%. It does not mean that all VMs are going to have fewer CPUs, it is just the lower boundary, to save costs a bit.\n",
    "\n",
    "```console\n",
    "constraint forall(vm in existingVMs)(\n",
    "   vmSizeCPU[selectedSize[vm]] >=  vmCPU[vm] * 0.8\n",
    ");\n",
    "```\n",
    "\n",
    "Besides that, we have two objective functions, the total price, and the total ACU. Each of them is just a sum of the corresponding values of all target VMs which our model is going to pick\n",
    "\n",
    "```console\n",
    "var int: totalPrice = sum(vm in existingVMs)(vmSizePrice[selectedSize[vm]]);\n",
    "var int: totalACU = sum(vm in existingVMs)( vmSizeACU[selectedSize[vm]] );\n",
    "```\n",
    "\n",
    "And the last, but not least - `decision variables`, actually what we are looking for. Here we simply say that for each VM in the input array we want to find a corresponding VM size in the cloud, in a way that satisfies our constraints. Basically, we define an array of `decision variables` which our solver will try to calculate for us.\n",
    "\n",
    "```console\n",
    "array[existingVMs] of var vmSizes: selectedSize;\n",
    "```\n",
    "\n",
    "For all to work, the model lacks a statement that should tell which of the objective functions we want to optimize and how. For that, there is the `solve` keyword. There are a few options here:\n",
    "\n",
    "- `solve satisfy` - seeks for any/all solutions which satisfy given constraints\n",
    "- `solve minimize ...` - tries to minimize the objective function and satisfy constraints\n",
    "- `solve maximize ...` - tries to maximize the objective function and satisfy constraints"
   ]
  },
  {
   "cell_type": "markdown",
   "metadata": {},
   "source": [
    "On our implementation, the `Start-MinizincVMOptimizationModel` cmdlet plugs the correct `solve` operator into the model and runs it by calling minizinc\n",
    "\n",
    "However, by default minizinc does not have a syntax to optimize for multiple parameters at a time. So we need to run the model twice. First, we run the model optimizing for one function, then get the result, supply it back to the model as a constraint and try optimizing for the second function. That is exactly what this pipeline does `Start-MinizincVMOptimizationModel -Costs | Start-MinizincVMOptimizationModel -Performance`\n",
    "\n",
    "\n",
    "1. Plug `solve  minimize totalPrice;` to the model\n",
    "2. The model executes, PowerShell takes the output from minizinc, parses it, and passes to the next command via PowerShell pipeline\n",
    "3. This input gets transformed into a constraint + another `solve` statement - `constraint totalACU >= $($InputObject.totalACU); solve  minimize totalPrice;` or `constraint totalPrice <= $($InputObject.totalPrice * 10000); solve  maximize totalACU;` where `$($InputObject.xxx)` is theresult from the previous command\n",
    "4. The model executes, PowerShell takes the output from minizinc, parses it, and passes to the next command via PowerShell pipeline"
   ]
  },
  {
   "cell_type": "markdown",
   "metadata": {},
   "source": [
    "In the end, here is what is happening. The input to the model is the set of VMs with their sizes and all possible target VM sizes along with their attributes and ACU from Azure. For each VM the model tries to find the counterpart from the list of sizes such that it satisfies all constraints and at the same time tries to optimize the objective function."
   ]
  }
 ],
 "metadata": {
  "kernelspec": {
   "display_name": ".NET (C#)",
   "language": "C#",
   "name": ".net-csharp"
  },
  "language_info": {
   "file_extension": ".cs",
   "mimetype": "text/x-csharp",
   "name": "C#",
   "pygments_lexer": "csharp",
   "version": "9.0"
  }
 },
 "nbformat": 4,
 "nbformat_minor": 2
}

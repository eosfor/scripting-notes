{
 "cells": [
  {
   "cell_type": "markdown",
   "metadata": {},
   "source": [
    "# Visualizing traffic flow through Azure Firewall"
   ]
  },
  {
   "cell_type": "markdown",
   "metadata": {},
   "source": [
    "Here we just want to pull data from Log Analytics attached to Azure Firewall and visualize traffic flows it sees"
   ]
  },
  {
   "cell_type": "markdown",
   "metadata": {},
   "source": [
    "but first - lets import some JS :)"
   ]
  },
  {
   "cell_type": "code",
   "execution_count": null,
   "metadata": {
    "dotnet_interactive": {
     "language": "javascript"
    },
    "polyglot_notebook": {
     "kernelName": "javascript"
    },
    "vscode": {
     "languageId": "polyglot-notebook"
    }
   },
   "outputs": [],
   "source": [
    "d3 = await import(\"https://cdn.jsdelivr.net/npm/d3@7/+esm\");\n",
    "d3co = await import(\"https://cdn.jsdelivr.net/npm/d3-color@3.1.0/+esm\");\n",
    "d3a = await import(\"https://cdn.jsdelivr.net/npm/d3-array@3.2.4/+esm\");\n",
    "d3c = await import(\"https://cdn.jsdelivr.net/npm/d3-collection@1.0.7/+esm\");\n",
    "d3p = await import(\"https://cdn.jsdelivr.net/npm/d3-path@3.1.0/+esm\")\n",
    "d3sh = await import(\"https://cdn.jsdelivr.net/npm/d3-shape@3.2.0/+esm\");\n",
    "d3sa = await import(\"https://cdn.jsdelivr.net/npm/d3-sankey@0/+esm\");\n",
    "d3f = await import(\"https://cdn.jsdelivr.net/npm/d3-fetch@3.0.1/+esm\");"
   ]
  },
  {
   "cell_type": "markdown",
   "metadata": {},
   "source": [
    "now it is time to pull our data from Azure"
   ]
  },
  {
   "cell_type": "code",
   "execution_count": null,
   "metadata": {
    "dotnet_interactive": {
     "language": "pwsh"
    },
    "polyglot_notebook": {
     "kernelName": "pwsh"
    },
    "tags": [
     "parameters"
    ],
    "vscode": {
     "languageId": "polyglot-notebook"
    }
   },
   "outputs": [],
   "source": [
    "# this sets some parameters for the PS script\n",
    "WorkspaceID = '2cc447f2-d22b-4f8c-8786-f522710c1b25'\n",
    "$dateFilter = 'ago(1d)'"
   ]
  },
  {
   "cell_type": "code",
   "execution_count": null,
   "metadata": {
    "dotnet_interactive": {
     "language": "pwsh"
    },
    "polyglot_notebook": {
     "kernelName": "pwsh"
    },
    "vscode": {
     "languageId": "polyglot-notebook"
    }
   },
   "outputs": [],
   "source": [
    "# this executes Log Analytics query and pulls data\n",
    "$query = @\"\n",
    "AZFWApplicationRule | where TimeGenerated >= $dateFilter\n",
    "\"@\n",
    "\n",
    "$data = Invoke-AzOperationalInsightsQuery -WorkspaceId $WorkspaceID -Query $query -ErrorAction Stop | Select-Object -ExpandProperty Results\n",
    "\n",
    "$sourceIpGroups = $data | Group-Object SourceIp\n",
    "\n",
    "$dataSet = \n",
    "foreach ($group in $sourceIpGroups) {\n",
    "    $source = $group.Name\n",
    "    $targets = $group.Group | Group-Object DestinationIp, Action\n",
    "\n",
    "    foreach($target in $targets) {\n",
    "        [PSCustomObject]@{\n",
    "            source = $source;\n",
    "            sourceName = $source\n",
    "            target = $target.Group[0].DestinationIp\n",
    "            action = $target.Group[0].Action\n",
    "            value = $target.Count\n",
    "        }\n",
    "    }\n",
    "}"
   ]
  },
  {
   "cell_type": "markdown",
   "metadata": {},
   "source": [
    "Now, we should transform data, so it can be consumed by d3js."
   ]
  },
  {
   "cell_type": "code",
   "execution_count": null,
   "metadata": {
    "dotnet_interactive": {
     "language": "pwsh"
    },
    "polyglot_notebook": {
     "kernelName": "pwsh"
    },
    "vscode": {
     "languageId": "polyglot-notebook"
    }
   },
   "outputs": [],
   "source": [
    "# some quick transformations to prepare data for d3ks-sankey + exporting to json\n",
    "$i = 0\n",
    "$nodes = ($data.source + $data.target) | Select-Object -Unique\n",
    "\n",
    "$links = $data | % {\n",
    "    [pscustomobject]@{\n",
    "        source = $nodes.IndexOf($_.source)\n",
    "        target = $nodes.IndexOf($_.target)\n",
    "        value = $_.value\n",
    "    }\n",
    "}\n",
    "\n",
    "[pscustomobject]@{\n",
    "    nodes = $nodes | % { [pscustomobject]@{name = $_} }\n",
    "    links = $links\n",
    "} | ConvertTo-Json -Depth 10 | out-file \"traffic-data/data.json\""
   ]
  },
  {
   "cell_type": "markdown",
   "metadata": {},
   "source": [
    "Prepare a canvas"
   ]
  },
  {
   "cell_type": "code",
   "execution_count": null,
   "metadata": {
    "dotnet_interactive": {
     "language": "html"
    },
    "polyglot_notebook": {
     "kernelName": "html"
    },
    "vscode": {
     "languageId": "polyglot-notebook"
    }
   },
   "outputs": [],
   "source": [
    "<div style=\"display: flex; justify-content: space-between;\">\n",
    "    <div id=\"graph-container\" style=\"flex-grow: 1;\"></div>\n",
    "</div>"
   ]
  },
  {
   "cell_type": "markdown",
   "metadata": {},
   "source": [
    "and visualize!\n",
    "\n",
    "This imports the `json` file we just exported, and shows it in the canvas above"
   ]
  },
  {
   "cell_type": "code",
   "execution_count": null,
   "metadata": {
    "dotnet_interactive": {
     "language": "javascript"
    },
    "polyglot_notebook": {
     "kernelName": "javascript"
    },
    "vscode": {
     "languageId": "polyglot-notebook"
    }
   },
   "outputs": [],
   "source": [
    "// visualize!\n",
    "\n",
    "const width = 800;\n",
    "const height = 2000;\n",
    "\n",
    "var data = await d3f.json(\"traffic-data/data.json\");\n",
    "\n",
    "// Create the SVG container.\n",
    "const svg = d3.select('#graph-container')\n",
    "    .append('svg')\n",
    "    .attr(\"width\", width)\n",
    "    .attr(\"height\", height)\n",
    "    .call(d3.zoom().on(\"zoom\", (event) => {\n",
    "        svg.attr(\"transform\", event.transform);\n",
    "    }))\n",
    "    .append(\"g\");\n",
    "\n",
    "drawSankey();\n",
    "\n",
    "function drawSankey() {\n",
    "    var sankey = d3sa.sankey()\n",
    "        .nodeAlign(d3sa.sankeyLeft)\n",
    "        .nodeWidth(20)\n",
    "        .nodePadding(20)\n",
    "        .extent([[1, 50], [width - 1, height - 5]]);\n",
    "    \n",
    "    var graph = sankey(data)\n",
    "\n",
    "    const color = d3.scaleOrdinal(d3.schemeSet3);\n",
    "\n",
    "    // Drawing nodes\n",
    "    const rect = svg.append(\"g\")\n",
    "        .attr(\"stroke\", \"#000\")\n",
    "        .selectAll(\"rect\")\n",
    "        .data(graph.nodes)\n",
    "        .join(\"rect\")\n",
    "        .attr(\"x\", d => d.x0)\n",
    "        .attr(\"y\", d => d.y0)\n",
    "        .attr(\"height\", d => d.y1 - d.y0 >= 3 ? d.y1 - d.y0 : 3)\n",
    "        .attr(\"width\", d => d.x1 - d.x0)\n",
    "        .attr(\"fill\", d => color(d.name));\n",
    "    \n",
    "    rect.append(\"title\")\n",
    "        .text(d => `${d.name}\\n${d.targetLinks.length > 0 ? d.targetLinks.map(o => o.source.name).join(\"\\n\") : \"\"}`);\n",
    "\n",
    "    // Creating gradients for links\n",
    "    const defs = svg.append(\"defs\");\n",
    "    graph.links.forEach((link, i) => {\n",
    "        const gradient = defs.append(\"linearGradient\")\n",
    "            .attr(\"id\", \"gradient\" + i)\n",
    "            .attr(\"gradientUnits\", \"userSpaceOnUse\")\n",
    "            .attr(\"x1\", link.source.x1)\n",
    "            .attr(\"x2\", link.target.x0);\n",
    "\n",
    "        gradient.append(\"stop\")\n",
    "            .attr(\"offset\", \"0%\")\n",
    "            .attr(\"stop-color\", color(link.source.name));\n",
    "\n",
    "        gradient.append(\"stop\")\n",
    "            .attr(\"offset\", \"100%\")\n",
    "            .attr(\"stop-color\", color(link.target.name));\n",
    "    });\n",
    "\n",
    "    // Drawing links with gradient\n",
    "    svg.append(\"g\")\n",
    "        .attr(\"fill\", \"none\")\n",
    "        .attr(\"stroke-opacity\", 0.5)\n",
    "        .selectAll(\"path\")\n",
    "        .data(graph.links)\n",
    "        .join(\"path\")\n",
    "        .attr(\"d\", d3sa.sankeyLinkHorizontal())\n",
    "        .attr(\"stroke\", (d, i) => `url(#gradient${i})`)\n",
    "        .attr(\"stroke-width\", d => Math.max(1, d.width))\n",
    "        .append(\"title\")\n",
    "        .text(d => `${d.source.name} → ${d.target.name}`);\n",
    "\n",
    "    // Drawing labels for the nodes\n",
    "    svg.append(\"g\")\n",
    "        .selectAll(\"text\")\n",
    "        .data(graph.nodes)\n",
    "        .join(\"text\")\n",
    "        .attr(\"x\", d => d.x0 < width / 2 ? d.x1 + 6 : d.x0 - 6)\n",
    "        .attr(\"y\", d => (d.y1 + d.y0) / 2)\n",
    "        .attr(\"dy\", \"0.35em\")\n",
    "        .attr(\"text-anchor\", d => d.x0 < width / 2 ? \"start\" : \"end\")\n",
    "        .attr(\"font-size\", \"15px\")\n",
    "        .text(d => d.name);\n",
    "}"
   ]
  }
 ],
 "metadata": {
  "kernelspec": {
   "display_name": ".NET (C#)",
   "language": "C#",
   "name": ".net-csharp"
  },
  "language_info": {
   "name": "python"
  },
  "polyglot_notebook": {
   "kernelInfo": {
    "defaultKernelName": "csharp",
    "items": [
     {
      "aliases": [],
      "name": "csharp"
     }
    ]
   }
  }
 },
 "nbformat": 4,
 "nbformat_minor": 2
}

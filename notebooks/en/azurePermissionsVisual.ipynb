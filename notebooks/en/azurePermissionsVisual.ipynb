{
 "cells": [
  {
   "cell_type": "markdown",
   "id": "8459b988",
   "metadata": {
    "polyglot_notebook": {
     "kernelName": "pwsh"
    }
   },
   "source": [
    "Managing Azure access can quickly become overwhelming: dozens of groups, hundreds of users, thousands of permissions. A simple, dynamic **tree visualization** instantly reveals structure, gaps, and potential risks.\n",
    "\n",
    "If you can extract it — you can visualize it."
   ]
  },
  {
   "cell_type": "markdown",
   "id": "48504c8b",
   "metadata": {},
   "source": [
    "## 🧹 Group Membership View"
   ]
  },
  {
   "cell_type": "markdown",
   "id": "263bf44e",
   "metadata": {},
   "source": [
    ">NOTE: below is test data just to show how visuals should look like"
   ]
  },
  {
   "cell_type": "markdown",
   "id": "85cc3aca",
   "metadata": {},
   "source": [
    "The first visualization shows **which users belong to which groups**:"
   ]
  },
  {
   "cell_type": "code",
   "execution_count": 1,
   "metadata": {
    "polyglot_notebook": {
     "kernelName": "pwsh"
    }
   },
   "outputs": [
    {
     "data": {
      "application/vnd.vega.v5+json": {
       "": "https://vega.github.io/schema/vega/v5.json",
       "data": [
        {
         "name": "tree",
         "transform": [
          {
           "key": "id",
           "parentKey": "parent",
           "type": "stratify"
          },
          {
           "as": [
            "y",
            "x",
            "depth",
            "children"
           ],
           "method": "tidy",
           "separation": "false",
           "size": [
            {
             "signal": "height"
            },
            {
             "signal": "width - 100"
            }
           ],
           "type": "tree"
          }
         ],
         "type": "json",
         "url": "permissionsData/userGroupData.json"
        },
        {
         "name": "links",
         "source": "tree",
         "transform": [
          {
           "type": "treelinks"
          },
          {
           "orient": "horizontal",
           "shape": "diagonal",
           "type": "linkpath"
          }
         ]
        }
       ],
       "description": "An example of Cartesian layouts for a node-link diagram of hierarchical data.",
       "height": 400,
       "marks": [
        {
         "encode": {
          "update": {
           "path": {
            "field": "path"
           },
           "stroke": {
            "value": "#ccc"
           }
          }
         },
         "from": {
          "data": "links"
         },
         "type": "path"
        },
        {
         "encode": {
          "enter": {
           "size": {
            "value": 100
           },
           "stroke": {
            "value": "#fff"
           }
          },
          "update": {
           "fill": {
            "field": "depth",
            "scale": "color"
           },
           "x": {
            "field": "x"
           },
           "y": {
            "field": "y"
           }
          }
         },
         "from": {
          "data": "tree"
         },
         "type": "symbol"
        },
        {
         "encode": {
          "enter": {
           "baseline": {
            "value": "middle"
           },
           "fontSize": {
            "value": 9
           },
           "text": {
            "field": "name"
           }
          },
          "update": {
           "align": {
            "signal": "datum.children ? 'right' : 'left'"
           },
           "dx": {
            "signal": "datum.children ? -7 : 7"
           },
           "opacity": {
            "signal": "labels ? 1 : 0"
           },
           "x": {
            "field": "x"
           },
           "y": {
            "field": "y"
           }
          }
         },
         "from": {
          "data": "tree"
         },
         "type": "text"
        }
       ],
       "padding": 5,
       "scales": [
        {
         "domain": [
          0,
          1,
          2
         ],
         "name": "color",
         "range": [
          "#5e4fa2",
          "#3288bd",
          "#66c2a5"
         ],
         "type": "ordinal"
        }
       ],
       "signals": [
        {
         "bind": {
          "input": "checkbox"
         },
         "name": "labels",
         "value": true
        }
       ],
       "width": 600
      }
     },
     "metadata": {},
     "output_type": "display_data"
    }
   ],
   "source": [
    "@\"\n",
    "{\n",
    "  \"$schema\": \"https://vega.github.io/schema/vega/v5.json\",\n",
    "  \"description\": \"An example of Cartesian layouts for a node-link diagram of hierarchical data.\",\n",
    "  \"width\": 600,\n",
    "  \"height\": 400,\n",
    "  \"padding\": 5,\n",
    "  \"signals\": [\n",
    "    {\"name\": \"labels\", \"value\": true, \"bind\": {\"input\": \"checkbox\"}}\n",
    "  ],\n",
    "  \"data\": [\n",
    "    {\n",
    "      \"name\": \"tree\",\n",
    "      \"url\": \"permissionsData/userGroupData.json\",\n",
    "      \"type\": \"json\",\n",
    "      \"transform\": [\n",
    "        {\"type\": \"stratify\", \"key\": \"id\", \"parentKey\": \"parent\"},\n",
    "        {\n",
    "          \"type\": \"tree\",\n",
    "          \"method\": \"tidy\",\n",
    "          \"size\": [{\"signal\": \"height\"}, {\"signal\": \"width - 100\"}],\n",
    "          \"separation\": \"false\",\n",
    "          \"as\": [\"y\", \"x\", \"depth\", \"children\"]\n",
    "        }\n",
    "      ]\n",
    "    },\n",
    "    {\n",
    "      \"name\": \"links\",\n",
    "      \"source\": \"tree\",\n",
    "      \"transform\": [\n",
    "        {\"type\": \"treelinks\"},\n",
    "        {\n",
    "          \"type\": \"linkpath\",\n",
    "          \"orient\": \"horizontal\",\n",
    "          \"shape\": \"diagonal\"\n",
    "        }\n",
    "      ]\n",
    "    }\n",
    "  ],\n",
    "  \"scales\": [\n",
    "    {\n",
    "      \"name\": \"color\",\n",
    "      \"type\": \"ordinal\",\n",
    "      \"domain\": [0, 1, 2],\n",
    "      \"range\": [\"#5e4fa2\", \"#3288bd\", \"#66c2a5\"]\n",
    "    }\n",
    "  ],\n",
    "  \"marks\": [\n",
    "    {\n",
    "      \"type\": \"path\",\n",
    "      \"from\": {\"data\": \"links\"},\n",
    "      \"encode\": {\n",
    "        \"update\": {\"path\": {\"field\": \"path\"}, \"stroke\": {\"value\": \"#ccc\"}}\n",
    "      }\n",
    "    },\n",
    "    {\n",
    "      \"type\": \"symbol\",\n",
    "      \"from\": {\"data\": \"tree\"},\n",
    "      \"encode\": {\n",
    "        \"enter\": {\"size\": {\"value\": 100}, \"stroke\": {\"value\": \"#fff\"}},\n",
    "        \"update\": {\n",
    "          \"x\": {\"field\": \"x\"},\n",
    "          \"y\": {\"field\": \"y\"},\n",
    "          \"fill\": {\"scale\": \"color\", \"field\": \"depth\"}\n",
    "        }\n",
    "      }\n",
    "    },\n",
    "    {\n",
    "      \"type\": \"text\",\n",
    "      \"from\": {\"data\": \"tree\"},\n",
    "      \"encode\": {\n",
    "        \"enter\": {\n",
    "          \"text\": {\"field\": \"name\"},\n",
    "          \"fontSize\": {\"value\": 9},\n",
    "          \"baseline\": {\"value\": \"middle\"}\n",
    "        },\n",
    "        \"update\": {\n",
    "          \"x\": {\"field\": \"x\"},\n",
    "          \"y\": {\"field\": \"y\"},\n",
    "          \"dx\": {\"signal\": \"datum.children ? -7 : 7\"},\n",
    "          \"align\": {\"signal\": \"datum.children ? 'right' : 'left'\"},\n",
    "          \"opacity\": {\"signal\": \"labels ? 1 : 0\"}\n",
    "        }\n",
    "      }\n",
    "    }\n",
    "  ]\n",
    "}\n",
    "\"@ | Out-Display -MimeType \"application/vnd.vega.v5+json\""
   ]
  },
  {
   "cell_type": "markdown",
   "id": "e187c523",
   "metadata": {},
   "source": [
    "## 🛡️ Permissions View\n",
    "\n",
    "The second visualization shows **who has what permissions** across resources:"
   ]
  },
  {
   "cell_type": "code",
   "execution_count": 2,
   "id": "75e54d60",
   "metadata": {
    "polyglot_notebook": {
     "kernelName": "pwsh"
    }
   },
   "outputs": [
    {
     "data": {
      "application/vnd.vega.v5+json": {
       "": "https://vega.github.io/schema/vega/v5.json",
       "data": [
        {
         "name": "tree",
         "transform": [
          {
           "key": "id",
           "parentKey": "parent",
           "type": "stratify"
          },
          {
           "as": [
            "y",
            "x",
            "depth",
            "children"
           ],
           "method": "tidy",
           "separation": "false",
           "size": [
            {
             "signal": "height"
            },
            {
             "signal": "width - 100"
            }
           ],
           "type": "tree"
          }
         ],
         "type": "json",
         "url": "permissionsData/prodScopesAndPermissions.json"
        },
        {
         "name": "links",
         "source": "tree",
         "transform": [
          {
           "type": "treelinks"
          },
          {
           "orient": "horizontal",
           "shape": "diagonal",
           "type": "linkpath"
          }
         ]
        }
       ],
       "description": "An example of Cartesian layouts for a node-link diagram of hierarchical data.",
       "height": 1200,
       "marks": [
        {
         "encode": {
          "update": {
           "path": {
            "field": "path"
           },
           "stroke": {
            "value": "#ccc"
           }
          }
         },
         "from": {
          "data": "links"
         },
         "type": "path"
        },
        {
         "encode": {
          "enter": {
           "size": {
            "value": 100
           },
           "stroke": {
            "value": "#fff"
           }
          },
          "update": {
           "fill": {
            "field": "depth",
            "scale": "color"
           },
           "x": {
            "field": "x"
           },
           "y": {
            "field": "y"
           }
          }
         },
         "from": {
          "data": "tree"
         },
         "type": "symbol"
        },
        {
         "encode": {
          "enter": {
           "baseline": {
            "value": "middle"
           },
           "fontSize": {
            "value": 9
           },
           "text": {
            "field": "name"
           }
          },
          "update": {
           "align": {
            "signal": "datum.children ? 'right' : 'left'"
           },
           "dx": {
            "signal": "datum.children ? -7 : 7"
           },
           "opacity": {
            "signal": "labels ? 1 : 0"
           },
           "x": {
            "field": "x"
           },
           "y": {
            "field": "y"
           }
          }
         },
         "from": {
          "data": "tree"
         },
         "type": "text"
        }
       ],
       "padding": 5,
       "scales": [
        {
         "domain": [
          0,
          1,
          2
         ],
         "name": "color",
         "range": [
          "#5e4fa2",
          "#3288bd",
          "#66c2a5"
         ],
         "type": "ordinal"
        }
       ],
       "signals": [
        {
         "bind": {
          "input": "checkbox"
         },
         "name": "labels",
         "value": true
        }
       ],
       "width": 600
      }
     },
     "metadata": {},
     "output_type": "display_data"
    }
   ],
   "source": [
    "@\"\n",
    "{\n",
    "  \"$schema\": \"https://vega.github.io/schema/vega/v5.json\",\n",
    "  \"description\": \"An example of Cartesian layouts for a node-link diagram of hierarchical data.\",\n",
    "  \"width\": 600,\n",
    "  \"height\": 1200,\n",
    "  \"padding\": 5,\n",
    "  \"signals\": [\n",
    "    {\"name\": \"labels\", \"value\": true, \"bind\": {\"input\": \"checkbox\"}}\n",
    "  ],\n",
    "  \"data\": [\n",
    "    {\n",
    "      \"name\": \"tree\",\n",
    "      \"url\": \"permissionsData/prodScopesAndPermissions.json\",\n",
    "      \"type\": \"json\",\n",
    "      \"transform\": [\n",
    "        {\"type\": \"stratify\", \"key\": \"id\", \"parentKey\": \"parent\"},\n",
    "        {\n",
    "          \"type\": \"tree\",\n",
    "          \"method\": \"tidy\",\n",
    "          \"size\": [{\"signal\": \"height\"}, {\"signal\": \"width - 100\"}],\n",
    "          \"separation\": \"false\",\n",
    "          \"as\": [\"y\", \"x\", \"depth\", \"children\"]\n",
    "        }\n",
    "      ]\n",
    "    },\n",
    "    {\n",
    "      \"name\": \"links\",\n",
    "      \"source\": \"tree\",\n",
    "      \"transform\": [\n",
    "        {\"type\": \"treelinks\"},\n",
    "        {\n",
    "          \"type\": \"linkpath\",\n",
    "          \"orient\": \"horizontal\",\n",
    "          \"shape\": \"diagonal\"\n",
    "        }\n",
    "      ]\n",
    "    }\n",
    "  ],\n",
    "  \"scales\": [\n",
    "    {\n",
    "      \"name\": \"color\",\n",
    "      \"type\": \"ordinal\",\n",
    "      \"domain\": [0, 1, 2],\n",
    "      \"range\": [\"#5e4fa2\", \"#3288bd\", \"#66c2a5\"]\n",
    "    }\n",
    "  ],\n",
    "  \"marks\": [\n",
    "    {\n",
    "      \"type\": \"path\",\n",
    "      \"from\": {\"data\": \"links\"},\n",
    "      \"encode\": {\n",
    "        \"update\": {\"path\": {\"field\": \"path\"}, \"stroke\": {\"value\": \"#ccc\"}}\n",
    "      }\n",
    "    },\n",
    "    {\n",
    "      \"type\": \"symbol\",\n",
    "      \"from\": {\"data\": \"tree\"},\n",
    "      \"encode\": {\n",
    "        \"enter\": {\"size\": {\"value\": 100}, \"stroke\": {\"value\": \"#fff\"}},\n",
    "        \"update\": {\n",
    "          \"x\": {\"field\": \"x\"},\n",
    "          \"y\": {\"field\": \"y\"},\n",
    "          \"fill\": {\"scale\": \"color\", \"field\": \"depth\"}\n",
    "        }\n",
    "      }\n",
    "    },\n",
    "    {\n",
    "      \"type\": \"text\",\n",
    "      \"from\": {\"data\": \"tree\"},\n",
    "      \"encode\": {\n",
    "        \"enter\": {\n",
    "          \"text\": {\"field\": \"name\"},\n",
    "          \"fontSize\": {\"value\": 9},\n",
    "          \"baseline\": {\"value\": \"middle\"}\n",
    "        },\n",
    "        \"update\": {\n",
    "          \"x\": {\"field\": \"x\"},\n",
    "          \"y\": {\"field\": \"y\"},\n",
    "          \"dx\": {\"signal\": \"datum.children ? -7 : 7\"},\n",
    "          \"align\": {\"signal\": \"datum.children ? 'right' : 'left'\"},\n",
    "          \"opacity\": {\"signal\": \"labels ? 1 : 0\"}\n",
    "        }\n",
    "      }\n",
    "    }\n",
    "  ]\n",
    "}\n",
    "\"@ | Out-Display -MimeType \"application/vnd.vega.v5+json\""
   ]
  },
  {
   "cell_type": "markdown",
   "id": "7719fdc7",
   "metadata": {},
   "source": [
    "## 🛠️ How the data is collected\n",
    "\n",
    "The data is generated with two PowerShell scripts:\n",
    "\n",
    "- one extracts **group memberships**\n",
    "- another builds **role assignment relationships** between users, groups, and scopes."
   ]
  },
  {
   "cell_type": "code",
   "execution_count": null,
   "metadata": {
    "polyglot_notebook": {
     "kernelName": "pwsh"
    }
   },
   "outputs": [],
   "source": [
    "Install-Module Az\n",
    "Install-Module ipmgmt"
   ]
  },
  {
   "cell_type": "code",
   "execution_count": null,
   "metadata": {
    "polyglot_notebook": {
     "kernelName": "pwsh"
    }
   },
   "outputs": [],
   "source": [
    "$subscriptionDetails = @{}\n",
    "$currentContext = Get-AzContext\n",
    "\n",
    "$users = Get-AzADUser\n",
    "$groups = Get-AzADGroup\n",
    "$servicePrincipals = Get-AzADServicePrincipal\n",
    "$applications = Get-AzADApplication\n",
    "\n",
    "Get-AzSubscription | % {\n",
    "    Select-AzSubscription -SubscriptionObject $_  | out-null\n",
    "    $subscriptionDetails[$_.Name] = @{\n",
    "        users = $users\n",
    "        groups = $groups\n",
    "        assignments = Get-AzRoleAssignment\n",
    "        servicePrincipals = $servicePrincipals\n",
    "        applications = $applications\n",
    "    }\n",
    "}\n",
    "\n",
    "Set-AzContext -Context $currentContext | out-null\n",
    "\n",
    "# process data for group membership visualization\n",
    "$userIndex = @{}\n",
    "\n",
    "$users | % {\n",
    "    $userIndex[$_.UserPrincipalName] = $_\n",
    "}\n",
    "\n",
    "$rootName = 'groupsRoot'\n",
    "$rootChildren = $groups | % {\n",
    "    $g = $_\n",
    "    $members = Get-AzADGroupMember -GroupObjectId $g.Id -WarningAction Ignore\n",
    "\n",
    "    $children = @($members | % { [pscustomobject]@{name = $userIndex[$_.UserPrincipalName].DisplayName; value = 1 } })\n",
    "\n",
    "    [pscustomobject]@{\n",
    "        name = $g.DisplayName\n",
    "        children = $children\n",
    "        value = $children.Count\n",
    "    }\n",
    "}\n",
    "\n",
    "[pscustomobject]@{\n",
    "    name = $rootName\n",
    "    children = $rootChildren\n",
    "    value = 1\n",
    "} | ConvertTo-Json -Depth 10 | Out-File 'permissionsData/userGroupData.json' -Force"
   ]
  },
  {
   "cell_type": "code",
   "execution_count": null,
   "metadata": {
    "polyglot_notebook": {
     "kernelName": "pwsh"
    }
   },
   "outputs": [],
   "source": [
    "# data processing functions\n",
    "\n",
    "function generateName($o) {\n",
    "    if ($o -is [Microsoft.Azure.PowerShell.Cmdlets.Resources.MSGraph.Models.ApiV10.MicrosoftGraphUser]) {\n",
    "        return \"user`:$($o.UserPrincipalName)\"\n",
    "    }\n",
    "\n",
    "    if ($o -is [Microsoft.Azure.PowerShell.Cmdlets.Resources.MSGraph.Models.ApiV10.MicrosoftGraphGroup]) {\n",
    "        return \"group`:$($o.DisplayName)\"\n",
    "    }\n",
    "\n",
    "    if ($o -is [Microsoft.Azure.PowerShell.Cmdlets.Resources.MSGraph.Models.ApiV10.MicrosoftGraphServicePrincipal]) {\n",
    "        return \"srvPrincipal`:$($o.DisplayName)\"\n",
    "    }\n",
    "\n",
    "    if ($o -is [Microsoft.Azure.PowerShell.Cmdlets.Resources.MSGraph.Models.ApiV10.MicrosoftGraphApplication]) {\n",
    "        return \"application`:$($o.DisplayName)\"\n",
    "    }\n",
    "}\n",
    "\n",
    "function Get-PermissionDetails {\n",
    "    param(\n",
    "        $InputObject, # $groups + $users + $servicePrincipals + $applications\n",
    "        $SubscriptionName\n",
    "    )\n",
    "\n",
    "    $users = $InputObject[$SubscriptionName].users\n",
    "    $groups = $InputObject[$SubscriptionName].groups\n",
    "    $assignments = $InputObject[$SubscriptionName].assignments\n",
    "    $servicePrincipals = $InputObject[$SubscriptionName].servicePrincipals\n",
    "    $applications = $InputObject[$SubscriptionName].applications\n",
    "\n",
    "    $rootChildren = @(($users + $groups + $servicePrincipals + $applications) | % {\n",
    "            $id = $_.id\n",
    "            $name = generateName $_\n",
    "            $permissions = $assignments | ?  ObjectId -eq $id  | Group-Object -Property Scope\n",
    "            $children = $permissions | % {\n",
    "                $rdNames = $_.Group.RoleDefinitionName | % { @([pscustomobject]@{ name = $_; value = 1; children = @() }) }\n",
    "                [pscustomobject]@{\n",
    "                    name     = \"scope`:$(($_.Name -split \"/\")[-1])\"\n",
    "                    children = @($rdNames)\n",
    "                    value    = @($rdNames).Count\n",
    "                } }\n",
    "            $ret = [pscustomobject]@{\n",
    "                name     = $name\n",
    "                value    = @($children).Count\n",
    "                children = @($children) #$children.Count -gt 1 ? $children : \"[ $children ]\"\n",
    "            }\n",
    "            $ret\n",
    "        })\n",
    "\n",
    "    [pscustomobject]@{\n",
    "        name     = $SubscriptionName\n",
    "        children = @($rootChildren) | ? { $_.value -gt 0 }\n",
    "        value    = @($rootChildren).Count\n",
    "    }\n",
    "}\n",
    "\n",
    "\n",
    "$subscriptionDetails = @{}\n",
    "$currentContext = Get-AzContext\n",
    "\n",
    "$users = Get-AzADUser\n",
    "$groups = Get-AzADGroup\n",
    "$servicePrincipals = Get-AzADServicePrincipal\n",
    "$applications = Get-AzADApplication\n",
    "$assignments = Get-AzRoleAssignment\n",
    "\n",
    "Get-AzSubscription | % {\n",
    "    Select-AzSubscription -SubscriptionObject $_  | out-null\n",
    "    $subscriptionDetails[$_.Name] = @{\n",
    "        users = $users\n",
    "        groups = $groups\n",
    "        assignments = Get-AzRoleAssignment\n",
    "        servicePrincipals = $servicePrincipals\n",
    "        applications = $applications\n",
    "    }\n",
    "}\n",
    "\n",
    "Set-AzContext -Context $currentContext | out-null\n",
    "\n",
    "\n",
    "# process data\n",
    "Get-PermissionDetails -InputObject $subscriptionDetails -SubscriptionName 'some-subscription-name' | ConvertTo-Json -Depth 100 | Out-File \"src/data/prodScopesAndPermissions.json\""
   ]
  },
  {
   "cell_type": "markdown",
   "id": "c591f122",
   "metadata": {},
   "source": [
    "However, the output data structures are not compatible with vega transforms, to adjust it, we have to run one more step, and then use the results as a source in the cells above, like this:\n",
    "\n",
    "```json\n",
    "      \"url\": \"permissionsData/prodScopesAndPermissions_flat.json\",\n",
    "```"
   ]
  },
  {
   "cell_type": "code",
   "execution_count": null,
   "id": "4462bae4",
   "metadata": {
    "polyglot_notebook": {
     "kernelName": "pwsh"
    }
   },
   "outputs": [],
   "source": [
    "$inputPath = \"notebooks/en/permissionsData/userGroupData.json\"\n",
    "$outputPath = \"notebooks/en/permissionsData/userGroupData_flat.json\"\n",
    "\n",
    "$tree = Get-Content $inputPath -Raw | ConvertFrom-Json\n",
    "\n",
    "$flattened = @()\n",
    "$idCounter = 0\n",
    "\n",
    "function Flatten-Tree {\n",
    "    param(\n",
    "        [Parameter(Mandatory)] $Node,\n",
    "        [Parameter()] $ParentId,\n",
    "        [ref] $FlatList,\n",
    "        [ref] $IdCounter\n",
    "    )\n",
    "\n",
    "    $IdCounter.Value++\n",
    "\n",
    "    $currentId = $IdCounter.Value\n",
    "\n",
    "    $FlatList.Value += [pscustomobject]@{\n",
    "        id     = $currentId\n",
    "        name   = $Node.name\n",
    "        parent = $ParentId\n",
    "    }\n",
    "\n",
    "    foreach ($child in $Node.children) {\n",
    "        Flatten-Tree -Node $child -ParentId $currentId -FlatList $FlatList -IdCounter $IdCounter\n",
    "    }\n",
    "}\n",
    "\n",
    "Flatten-Tree -Node $tree -FlatList ([ref]$flattened) -IdCounter ([ref]$idCounter)\n",
    "\n",
    "$flattened | ConvertTo-Json -Depth 5 | Out-File $outputPath -Force\n",
    "\n",
    "Write-Output \"Flattened data saved to $outputPath\""
   ]
  }
 ],
 "metadata": {
  "kernelspec": {
   "display_name": ".NET (C#)",
   "language": "C#",
   "name": ".net-csharp"
  },
  "language_info": {
   "name": "polyglot-notebook"
  },
  "polyglot_notebook": {
   "kernelInfo": {
    "defaultKernelName": "csharp",
    "items": [
     {
      "aliases": [],
      "name": "csharp"
     },
     {
      "aliases": [],
      "languageName": "pwsh",
      "name": "pwsh"
     }
    ]
   }
  }
 },
 "nbformat": 4,
 "nbformat_minor": 5
}

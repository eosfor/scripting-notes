{
 "cells": [
  {
   "cell_type": "markdown",
   "id": "c051afc2",
   "metadata": {},
   "source": [
    "# 💰 Counting Other People`s Money with PowerShell"
   ]
  },
  {
   "cell_type": "markdown",
   "id": "4de5e26f",
   "metadata": {},
   "source": [
    "You thought PowerShell was just for managing servers? Think again! Today, we`re going to engage in a noble pursuit: **counting other people’s money**. And not just anywhere — we’re diving into the official filings of the U.S. Securities and Exchange Commission (SEC). All from the comfort of the console, with a splash of [Vega](https://vega.github.io) and a hint of analytical mischief."
   ]
  },
  {
   "cell_type": "markdown",
   "id": "3bb372c6",
   "metadata": {},
   "source": [
    "Our target of curiosity: Form 4, where corporate big shots report their stock transactions:\n",
    "- Sold something? Gotta report it.\n",
    "- Gifted shares to the spouse? Still report it.\n",
    "- Got a bonus in shares? Even if it’s “just a thank you” — report it!\n",
    "\n",
    "Why do we care? Well… we’re just curious who dumped their shares right before the price tanked 😉"
   ]
  },
  {
   "cell_type": "markdown",
   "id": "7b72f7ec",
   "metadata": {},
   "source": [
    "To do this, we`ll need two trusty PowerShell functions:\n",
    "- **Get-RecentSecForm4XmlUrls** — our investigator, crawling through the SEC archives to extract URLs to XML filings.\n",
    "- **Convert-Form4XmlToRecord** — parses the XML and turns it into a proper PowerShell object. Because reading raw XML? Painful. Let the script suffer.\n"
   ]
  },
  {
   "cell_type": "code",
   "execution_count": 1,
   "id": "86d81a1a",
   "metadata": {
    "polyglot_notebook": {
     "kernelName": "pwsh"
    }
   },
   "outputs": [],
   "source": [
    "<#\n",
    ".SYNOPSIS\n",
    "Retrieves a list of XML URLs for recent Form 4 insider filings from the SEC for a specified CIK.\n",
    "\n",
    ".DESCRIPTION\n",
    "This function queries the SEC EDGAR submissions API for a given company identified by its CIK (Central Index Key),\n",
    "and returns a list of links to XML versions of Form 4 insider trading reports filed within the past N days.\n",
    "\n",
    ".PARAMETER CIK\n",
    "The Central Index Key (CIK) of the company. Defaults to Microsoft Corporation (0000789019).\n",
    "\n",
    ".PARAMETER DaysBack\n",
    "Number of days in the past to include filings. Defaults to 100 days.\n",
    "\n",
    ".OUTPUTS\n",
    "[PSCustomObject] with the following fields:\n",
    "- FilingDate\n",
    "- ReportDate\n",
    "- XmlUrl\n",
    "\n",
    ".EXAMPLE\n",
    "Get-RecentSecForm4XmlUrls -CIK \"0000320193\" -DaysBack 30\n",
    "Retrieves recent Form 4 XML links for Apple Inc. over the past 30 days.\n",
    "\n",
    ".EXAMPLE\n",
    "Get-RecentSecForm4XmlUrls\n",
    "Returns recent Form 4 filings for Microsoft Corporation from the past 100 days.\n",
    "\n",
    ".NOTES\n",
    "A custom User-Agent header is required to access the SEC data endpoints.\n",
    "#>\n",
    "\n",
    "function Get-RecentSecForm4XmlUrls {\n",
    "    param (\n",
    "        [string]$CIK = \"0000789019\",\n",
    "        [int]$DaysBack = 100\n",
    "    )\n",
    "\n",
    "    $headers = @{\n",
    "        \"User-Agent\" = \"PowerShellScript/1.0 (eosfor@gmail.com)\"\n",
    "        \"Accept-Encoding\" = \"gzip, deflate\"\n",
    "    }\n",
    "\n",
    "    $url = \"https://data.sec.gov/submissions/CIK$CIK.json\"\n",
    "    $data = Invoke-RestMethod -Uri $url -Headers $headers\n",
    "\n",
    "    $cikTrimmed = $CIK.TrimStart(\"0\")\n",
    "    $cutoffDate = (Get-Date).AddDays(-$DaysBack)\n",
    "\n",
    "    $results = @()\n",
    "\n",
    "    for ($i = 0; $i -lt $data.filings.recent.form.Length; $i++) {\n",
    "        $formType = $data.filings.recent.form[$i]\n",
    "        if ($formType -ne \"4\") { continue }\n",
    "\n",
    "        $filingDate = Get-Date $data.filings.recent.filingDate[$i]\n",
    "        if ($filingDate -lt $cutoffDate) { continue }\n",
    "\n",
    "        $accessionNumber = $data.filings.recent.accessionNumber[$i]\n",
    "        $primaryDoc = $data.filings.recent.primaryDocument[$i]\n",
    "        $reportDate = $data.filings.recent.reportDate[$i]\n",
    "\n",
    "        $folder = $accessionNumber -replace \"-\", \"\"\n",
    "        $xmlFileName = [System.IO.Path]::GetFileNameWithoutExtension($primaryDoc) + \".xml\"\n",
    "        $xmlUrl = \"https://www.sec.gov/Archives/edgar/data/$cikTrimmed/$folder/$xmlFileName\"\n",
    "\n",
    "        $results += [PSCustomObject]@{\n",
    "            FilingDate = $filingDate.ToString(\"yyyy-MM-dd\")\n",
    "            ReportDate = $reportDate\n",
    "            XmlUrl     = $xmlUrl\n",
    "        }\n",
    "    }\n",
    "\n",
    "    return $results\n",
    "}"
   ]
  },
  {
   "cell_type": "code",
   "execution_count": 2,
   "id": "0c1346c0",
   "metadata": {
    "polyglot_notebook": {
     "kernelName": "pwsh"
    }
   },
   "outputs": [],
   "source": [
    "<#\n",
    ".SYNOPSIS\n",
    "Converts a Form 4 XML document into a structured PowerShell object representing insider transactions.\n",
    "\n",
    ".DESCRIPTION\n",
    "This function takes an object with an XmlUrl (typically output from Get-RecentSecForm4XmlUrls), downloads the Form 4 XML,\n",
    "and extracts detailed information about the issuer, insider, role, transaction type, number of shares, price,\n",
    "ownership nature, and any associated footnotes.\n",
    "\n",
    ".PARAMETER InputObject\n",
    "An object containing XmlUrl, FilingDate, and ReportDate fields. Usually piped from Get-RecentSecForm4XmlUrls.\n",
    "\n",
    ".OUTPUTS\n",
    "[PSCustomObject] with the following fields:\n",
    "- FilingDate\n",
    "- ReportDate\n",
    "- Issuer\n",
    "- InsiderName\n",
    "- InsiderRole\n",
    "- SecurityTitle\n",
    "- TransactionDate\n",
    "- TransactionCode\n",
    "- SharesTransacted\n",
    "- PricePerShare\n",
    "- SharesOwnedAfterTxn\n",
    "- OwnershipType\n",
    "- IndirectOwnershipNature\n",
    "- Footnote\n",
    "- XmlUrl\n",
    "\n",
    ".EXAMPLE\n",
    "Get-RecentSecForm4XmlUrls -CIK \"0000789019\" | Convert-Form4XmlToRecord\n",
    "Returns parsed insider transactions for Microsoft Corporation.\n",
    "\n",
    ".NOTES\n",
    "Only non-derivative transactions are processed. If the XML cannot be downloaded, a warning is displayed.\n",
    "#>\n",
    "\n",
    "function Convert-Form4XmlToRecord {\n",
    "    [CmdletBinding()]\n",
    "    param (\n",
    "        [Parameter(ValueFromPipeline = $true)]\n",
    "        [pscustomobject]$InputObject\n",
    "    )\n",
    "\n",
    "    process {\n",
    "        $headers = @{\n",
    "            \"User-Agent\" = \"PowerShellScript/1.0 (eosfor@gmail.com)\"\n",
    "        }\n",
    "\n",
    "        try {\n",
    "            [xml]$doc = Invoke-WebRequest -Uri $InputObject.XmlUrl -Headers $headers -UseBasicParsing\n",
    "        }\n",
    "        catch {\n",
    "            Write-Warning \"Download failed: $($InputObject.XmlUrl)\"\n",
    "            return\n",
    "        }\n",
    "\n",
    "        $issuer = $doc.ownershipDocument.issuer.issuerName\n",
    "        $owner = $doc.ownershipDocument.reportingOwner.reportingOwnerId.rptOwnerName\n",
    "        $ownerRelationship = $doc.ownershipDocument.reportingOwner.reportingOwnerRelationship\n",
    "        $relationship = ($ownerRelationship | Get-Member -MemberType Properties | Where-Object { $ownerRelationship.$($_.Name) -eq \"1\" }).Name\n",
    "\n",
    "        # Собираем footnotes в хештаблицу\n",
    "        $footnotes = @{}\n",
    "\n",
    "        if ($doc.ownershipDocument.footnotes -and $doc.ownershipDocument.footnotes.footnote) {\n",
    "            $rawFootnotes = $doc.ownershipDocument.footnotes.footnote\n",
    "\n",
    "            # Убедимся, что это массив\n",
    "            if ($rawFootnotes -is [System.Array]) {\n",
    "                foreach ($f in $rawFootnotes) {\n",
    "                    $footnotes[$f.id] = $f.'#text' ?? $f.InnerText\n",
    "                }\n",
    "            }\n",
    "            else {\n",
    "                $footnotes[$rawFootnotes.id] = $rawFootnotes.'#text' ?? $rawFootnotes.InnerText\n",
    "            }\n",
    "        }\n",
    "\n",
    "        $transactions = $doc.ownershipDocument.nonDerivativeTable.nonDerivativeTransaction\n",
    "        foreach ($txn in $transactions) {\n",
    "            # если есть одна или несколько сносок — собираем их все\n",
    "            $note = $null\n",
    "            if ($txn.footnoteId) {\n",
    "                $ids = if ($txn.footnoteId -is [System.Array]) {\n",
    "                    $txn.footnoteId | ForEach-Object { $_.id }\n",
    "                } else {\n",
    "                    @($txn.footnoteId.id)\n",
    "                }\n",
    "\n",
    "                $note = ($ids | ForEach-Object { $footnotes[$_] }) -join \"; \"\n",
    "            }\n",
    "\n",
    "            [PSCustomObject]@{\n",
    "                FilingDate              = $InputObject.FilingDate\n",
    "                ReportDate              = $InputObject.ReportDate\n",
    "                Issuer                  = $issuer\n",
    "                InsiderName             = $owner\n",
    "                InsiderRole             = $relationship\n",
    "                SecurityTitle           = $txn.securityTitle.value\n",
    "                TransactionDate         = $txn.transactionDate.value\n",
    "                TransactionCode         = $txn.transactionCoding.transactionCode\n",
    "                SharesTransacted        = $txn.transactionAmounts.transactionShares.value\n",
    "                PricePerShare           = $txn.transactionAmounts.transactionPricePerShare.value\n",
    "                SharesOwnedAfterTxn     = $txn.postTransactionAmounts.sharesOwnedFollowingTransaction.value\n",
    "                OwnershipType           = $txn.ownershipNature.directOrIndirectOwnership.value\n",
    "                IndirectOwnershipNature = $txn.ownershipNature.natureOfOwnership.value\n",
    "                Footnote                = $note\n",
    "                XmlUrl                  = $InputObject.XmlUrl\n",
    "            }\n",
    "        }\n",
    "    }\n",
    "}"
   ]
  },
  {
   "cell_type": "markdown",
   "id": "c09556a0",
   "metadata": {},
   "source": [
    "📥 Let's fire up our surveillance script and stash the data in a variable named $allData. Think of it as “doing a background check,” but legally. You can put your CIK here"
   ]
  },
  {
   "cell_type": "code",
   "execution_count": 3,
   "id": "478c91b1",
   "metadata": {
    "polyglot_notebook": {
     "kernelName": "pwsh"
    }
   },
   "outputs": [
    {
     "data": {
      "text/plain": []
     },
     "metadata": {},
     "output_type": "display_data"
    }
   ],
   "source": [
    "$allData = \n",
    "Get-RecentSecForm4XmlUrls -CIK \"0000789019\" -DaysBack 107 |\n",
    "    Convert-Form4XmlToRecord"
   ]
  },
  {
   "cell_type": "markdown",
   "id": "eae2320b",
   "metadata": {},
   "source": [
    "🧹 Next step — let's clean house. We only care about transactions where money actually moved. If the number of shares is 0 — skip it. We`re here for the real million-dollar moves (or at least a few solid trades)."
   ]
  },
  {
   "cell_type": "code",
   "execution_count": 4,
   "id": "b4b91c26",
   "metadata": {
    "polyglot_notebook": {
     "kernelName": "pwsh"
    }
   },
   "outputs": [],
   "source": [
    "$data = $allData |\n",
    "    Select-Object TransactionDate, SharesTransacted, TransactionCode |\n",
    "    Where-Object { $_.TransactionCode -in @(\"S\", \"P\", \"F\", \"A\", \"M\", \"G\") -and $_.SharesTransacted -gt 0 }\n",
    "\n",
    "$data = $data | ForEach-Object {\n",
    "    $action = switch ($_.TransactionCode) {\n",
    "        \"S\" { \"Sell\"; break }\n",
    "        \"F\" { \"Sell\"; break }\n",
    "        \"G\" { \"Sell\"; break }\n",
    "        \"A\" { \"Buy\"; break }\n",
    "        \"P\" { \"Buy\"; break }\n",
    "        \"M\" { \"Buy\"; break }\n",
    "        default { \"Other\" }\n",
    "    }\n",
    "\n",
    "    $_ | Add-Member -NotePropertyName Action -NotePropertyValue $action -Force -PassThru\n",
    "}"
   ]
  },
  {
   "cell_type": "markdown",
   "id": "e0294bdb",
   "metadata": {},
   "source": [
    "📊 Time to aggregate who bought or sold how much. We’ll group by insider name and transaction type. If the price is known — we’ll calculate totals. If not — we label it as “unknown,” like old-school accounting."
   ]
  },
  {
   "cell_type": "code",
   "execution_count": 5,
   "id": "0af309bf",
   "metadata": {
    "polyglot_notebook": {
     "kernelName": "pwsh"
    }
   },
   "outputs": [],
   "source": [
    "$data2 = $allData |\n",
    "    # Filter only transactions with non-zero number of shares\n",
    "    Where-Object { $_.SharesTransacted -gt 0 } |\n",
    "\n",
    "    # Group by InsiderName and TransactionCode (e.g., \"John Smith|S\")\n",
    "    Group-Object { \"$($_.InsiderName)|$($_.TransactionCode)\" } |\n",
    "\n",
    "    ForEach-Object {\n",
    "        $parts = $_.Name -split '\\|'     # Split group name into [InsiderName, TransactionCode]\n",
    "        $group = $_.Group                # Access the actual group of transactions\n",
    "\n",
    "        # Filter only those deals with valid numeric and positive price per share\n",
    "        $validDeals = $group | Where-Object {\n",
    "            [double]::TryParse($_.PricePerShare, [ref]$null) -and [double]$_.PricePerShare -gt 0\n",
    "        }\n",
    "\n",
    "        # Sum all shares transacted in the group\n",
    "        $sharesSum = ($group | Measure-Object -Property SharesTransacted -Sum).Sum\n",
    "\n",
    "        # Calculate total value by summing (Shares × Price) across valid deals\n",
    "        $totalValue = ($validDeals | ForEach-Object {\n",
    "            [double]$_.SharesTransacted * [double]$_.PricePerShare\n",
    "        }) | Measure-Object -Sum | Select-Object -ExpandProperty Sum\n",
    "\n",
    "        # Display value only if valid (not null or NaN)\n",
    "        $valueDisplay = if ($totalValue -and $totalValue -gt 0 -and -not [double]::IsNaN($totalValue)) {\n",
    "            [math]::Round($totalValue, 2)\n",
    "        } else {\n",
    "            \"unknown\"\n",
    "        }\n",
    "\n",
    "        # Return summary object for each (InsiderName, TransactionCode) group\n",
    "        [PSCustomObject]@{\n",
    "            Insider            = $parts[0]\n",
    "            TransactionCode    = $parts[1]\n",
    "            Count              = $_.Count\n",
    "            TotalShares        = [math]::Round($sharesSum, 2)\n",
    "            TotalValue         = if ($valueDisplay -is [string]) { $null } else { $valueDisplay }\n",
    "            TotalValueDisplay  = \"$valueDisplay\"\n",
    "        }\n",
    "    }"
   ]
  },
  {
   "cell_type": "markdown",
   "id": "edf59f6e",
   "metadata": {},
   "source": [
    "📋 This part just breaks down each transaction into a clean row: date, who, what, how much. If the price is listed — great. If not — well, you guessed it: “unknown.” The point is, nobody escapes the ledger 🕵️‍♂️"
   ]
  },
  {
   "cell_type": "code",
   "execution_count": 6,
   "id": "1c1f05ac",
   "metadata": {
    "polyglot_notebook": {
     "kernelName": "pwsh"
    }
   },
   "outputs": [],
   "source": [
    "$data3 = $allData |\n",
    "    # Filter transactions with shares > 0 and valid date format (YYYY-MM-DD)\n",
    "    Where-Object {\n",
    "        $_.SharesTransacted -gt 0 -and\n",
    "        $_.TransactionDate -match '^\\d{4}-\\d{2}-\\d{2}$'\n",
    "    } |\n",
    "\n",
    "    # Process each valid transaction\n",
    "    ForEach-Object {\n",
    "        $value = $null              # Holds calculated total value (shares * price)\n",
    "        $display = \"unknown\"     # Default display if value is unknown\n",
    "\n",
    "        # Calculate total value if price is valid and > 0\n",
    "        if ([double]::TryParse($_.PricePerShare, [ref]$null) -and [double]$_.PricePerShare -gt 0) {\n",
    "            $value = [math]::Round([double]$_.SharesTransacted * [double]$_.PricePerShare, 2)\n",
    "            $display = \"$value\"     # Use calculated value for display\n",
    "        }\n",
    "\n",
    "        # Return a simplified transaction record\n",
    "        [PSCustomObject]@{\n",
    "            Insider            = $_.InsiderName\n",
    "            TransactionDate    = $_.TransactionDate\n",
    "            TransactionCode    = $_.TransactionCode\n",
    "            SharesTransacted   = [int]$_.SharesTransacted\n",
    "            TotalValue         = $value\n",
    "            TotalValueDisplay  = $display\n",
    "        }\n",
    "    }"
   ]
  },
  {
   "cell_type": "markdown",
   "id": "f6d1a194",
   "metadata": {},
   "source": [
    "💾 Final touch — export our precious data to CSV, so we can plot fancy charts and show off that PowerShell isn’t just for Get-Process."
   ]
  },
  {
   "cell_type": "code",
   "execution_count": 7,
   "id": "3b3e148b",
   "metadata": {
    "polyglot_notebook": {
     "kernelName": "pwsh"
    }
   },
   "outputs": [],
   "source": [
    "$allData | Export-Csv allData.csv -NoTypeInformation\n",
    "$data | Export-Csv -Path \"form4-trades.csv\" -NoTypeInformation\n",
    "$data2 | Export-Csv -Path \"insider-heatmap.csv\" -NoTypeInformation\n",
    "$data3 | Export-Csv -NoTypeInformation -Path \"insider-scatter.csv\""
   ]
  },
  {
   "cell_type": "markdown",
   "id": "162369e0",
   "metadata": {},
   "source": [
    "🔧 Almost forgot! To make all this work smoothly, we had to contribute a little something to dotnet/interactive. Why? Because the CustomMimeType parameter in Out-Display was… well, kind of there but not really working. Now it works — JSON specs right from the notebook cell, beautiful charts and all. Feel free to thank the author of [PR #3671](https://github.com/dotnet/interactive/pull/3671), and that's, actually, me 😉"
   ]
  },
  {
   "cell_type": "markdown",
   "id": "c94d8e32",
   "metadata": {},
   "source": [
    "📈 Scatter Plot — our first visual interrogation:\n",
    "\t•\tX — transaction date\n",
    "\t•\tY — number of shares\n",
    "\t•\tColor — green (buy) or red (sell)\n",
    "\t•\tTooltip — who, when, how much, and the SEC code letter\n",
    "\n",
    "A quick way to spot who knew what and sold just in time 💸"
   ]
  },
  {
   "cell_type": "markdown",
   "id": "4c2d6d2e",
   "metadata": {},
   "source": [
    "And this is how it looks. Pretty, informative, and just a little incriminating."
   ]
  },
  {
   "cell_type": "code",
   "execution_count": 8,
   "id": "c27f09e5",
   "metadata": {
    "polyglot_notebook": {
     "kernelName": "pwsh"
    }
   },
   "outputs": [
    {
     "data": {
      "application/vnd.vegalite.v5+json": {
       "": "https://vega.github.io/schema/vega-lite/v5.json",
       "data": {
        "format": {
         "type": "csv"
        },
        "url": "form4-trades.csv"
       },
       "description": "Insider Trading Scatter Plot",
       "encoding": {
        "color": {
         "field": "Action",
         "scale": {
          "domain": [
           "Buy",
           "Sell"
          ],
          "range": [
           "green",
           "red"
          ]
         },
         "title": "Transaction Type",
         "type": "nominal"
        },
        "tooltip": [
         {
          "field": "TransactionDate",
          "title": "Date",
          "type": "temporal"
         },
         {
          "field": "SharesTransacted",
          "title": "Shares",
          "type": "quantitative"
         },
         {
          "field": "TransactionCode",
          "title": "Code",
          "type": "nominal"
         }
        ],
        "x": {
         "field": "TransactionDate",
         "title": "Transaction Date",
         "type": "temporal"
        },
        "y": {
         "field": "SharesTransacted",
         "title": "Shares Transacted",
         "type": "quantitative"
        }
       },
       "mark": "point"
      }
     },
     "metadata": {},
     "output_type": "display_data"
    }
   ],
   "source": [
    "@\"\n",
    "{\n",
    "  \"$schema\": \"https://vega.github.io/schema/vega-lite/v5.json\",\n",
    "  \"description\": \"Insider Trading Scatter Plot\",\n",
    "  \"data\": {\n",
    "    \"url\": \"form4-trades.csv\",\n",
    "    \"format\": {\"type\": \"csv\"}\n",
    "  },\n",
    "  \"mark\": \"point\",\n",
    "  \"encoding\": {\n",
    "    \"x\": {\n",
    "      \"field\": \"TransactionDate\",\n",
    "      \"type\": \"temporal\",\n",
    "      \"title\": \"Transaction Date\"\n",
    "    },\n",
    "    \"y\": {\n",
    "      \"field\": \"SharesTransacted\",\n",
    "      \"type\": \"quantitative\",\n",
    "      \"title\": \"Shares Transacted\"\n",
    "    },\n",
    "    \"color\": {\n",
    "      \"field\": \"Action\",\n",
    "      \"type\": \"nominal\",\n",
    "      \"scale\": {\n",
    "        \"domain\": [\"Buy\", \"Sell\"],\n",
    "        \"range\": [\"green\", \"red\"]\n",
    "      },\n",
    "      \"title\": \"Transaction Type\"\n",
    "    },\n",
    "    \"tooltip\": [\n",
    "      {\"field\": \"TransactionDate\", \"type\": \"temporal\", \"title\": \"Date\"},\n",
    "      {\"field\": \"SharesTransacted\", \"type\": \"quantitative\", \"title\": \"Shares\"},\n",
    "      {\"field\": \"TransactionCode\", \"type\": \"nominal\", \"title\": \"Code\"}\n",
    "    ]\n",
    "  }\n",
    "}\n",
    "\"@ | Out-Display -MimeType \"application/vnd.vegalite.v5+json\""
   ]
  },
  {
   "cell_type": "markdown",
   "id": "509222c4",
   "metadata": {},
   "source": [
    "### 🔍 `TransactionCode` meaning\n",
    "\n",
    "| Code | What it means       | How to interpret it                                                   |\n",
    "|------|----------------------|------------------------------------------------------------------------|\n",
    "| A    | Award                | Shares granted, usually a bonus. Like a gift card, but in stock.      |\n",
    "| S    | Sale                 | Sold shares. Sometimes en masse. Often... right before a price drop.  |\n",
    "| F    | Tax                  | Shares withheld to pay taxes. At least they didn’t keep those.        |\n",
    "| M    | Option Exercise      | Exercised an option. Buy low, sell high — the corporate dream.        |\n",
    "| G    | Gift                 | Given away. To family. Or a trust. Or a charity. No judgment here.    |\n",
    "| P    | Purchase             | Bought shares. With their own money. Respect.                         |\n",
    "| I    | Discretionary        | Auto-trade via plan. Legit? Depends who you ask.                      |\n",
    "| C    | Conversion           | Transformed derivatives into common shares. Totally by the book.      |"
   ]
  },
  {
   "cell_type": "markdown",
   "id": "16c5e923",
   "metadata": {},
   "source": [
    "🔥 Heatmap — follow the heat to find the insiders:\n",
    "- X — transaction type\n",
    "- Y — insider\n",
    "- Color — green if we know the amount, gray if unknown\n",
    "- Tooltip — how many trades, shares, and how much total value\n",
    "\n",
    "Anyone can make mistakes — but heatmaps? They never lie. 💼"
   ]
  },
  {
   "cell_type": "code",
   "execution_count": 9,
   "id": "b7cb67f1",
   "metadata": {
    "polyglot_notebook": {
     "kernelName": "pwsh"
    }
   },
   "outputs": [
    {
     "data": {
      "application/vnd.vegalite.v5+json": {
       "": "https://vega.github.io/schema/vega-lite/v5.json",
       "config": {
        "axis": {
         "labelFontSize": 10,
         "titleFontSize": 12
        },
        "view": {
         "stroke": "transparent"
        }
       },
       "data": {
        "format": {
         "type": "csv"
        },
        "url": "insider-heatmap.csv"
       },
       "description": "Heatmap of Insider Transaction Totals",
       "encoding": {
        "color": {
         "condition": {
          "field": "TotalValue",
          "scale": {
           "scheme": "greens"
          },
          "test": "isValid(datum.TotalValue) && datum.TotalValue != ''",
          "type": "quantitative"
         },
         "value": "#eeeeee"
        },
        "tooltip": [
         {
          "field": "Insider",
          "title": "Insider",
          "type": "nominal"
         },
         {
          "field": "TransactionCode",
          "title": "Transaction Code",
          "type": "nominal"
         },
         {
          "field": "Count",
          "title": "Number of Trades",
          "type": "quantitative"
         },
         {
          "field": "TotalShares",
          "title": "Total Shares",
          "type": "quantitative"
         },
         {
          "field": "TotalValueDisplay",
          "title": "Total Value ($)",
          "type": "nominal"
         }
        ],
        "x": {
         "field": "TransactionCode",
         "title": "Transaction Type",
         "type": "nominal"
        },
        "y": {
         "field": "Insider",
         "sort": "-x",
         "title": "Insider",
         "type": "nominal"
        }
       },
       "mark": "rect"
      }
     },
     "metadata": {},
     "output_type": "display_data"
    }
   ],
   "source": [
    "@\"\n",
    "{\n",
    "  \"$schema\": \"https://vega.github.io/schema/vega-lite/v5.json\",\n",
    "  \"description\": \"Heatmap of Insider Transaction Totals\",\n",
    "  \"data\": {\n",
    "    \"url\": \"insider-heatmap.csv\",\n",
    "    \"format\": {\"type\": \"csv\"}\n",
    "  },\n",
    "  \"mark\": \"rect\",\n",
    "  \"encoding\": {\n",
    "    \"x\": {\n",
    "      \"field\": \"TransactionCode\",\n",
    "      \"type\": \"nominal\",\n",
    "      \"title\": \"Transaction Type\"\n",
    "    },\n",
    "    \"y\": {\n",
    "      \"field\": \"Insider\",\n",
    "      \"type\": \"nominal\",\n",
    "      \"title\": \"Insider\",\n",
    "      \"sort\": \"-x\"\n",
    "    },\n",
    "    \"color\": {\n",
    "      \"condition\": {\n",
    "        \"test\": \"isValid(datum.TotalValue) && datum.TotalValue != ''\",\n",
    "        \"field\": \"TotalValue\",\n",
    "        \"type\": \"quantitative\",\n",
    "        \"scale\": { \"scheme\": \"greens\" }\n",
    "      },\n",
    "      \"value\": \"#eeeeee\"\n",
    "    },\n",
    "    \"tooltip\": [\n",
    "      { \"field\": \"Insider\", \"type\": \"nominal\", \"title\": \"Insider\" },\n",
    "      { \"field\": \"TransactionCode\", \"type\": \"nominal\", \"title\": \"Transaction Code\" },\n",
    "      { \"field\": \"Count\", \"type\": \"quantitative\", \"title\": \"Number of Trades\" },\n",
    "      { \"field\": \"TotalShares\", \"type\": \"quantitative\", \"title\": \"Total Shares\" },\n",
    "      { \"field\": \"TotalValueDisplay\", \"type\": \"nominal\", \"title\": \"Total Value ($)\" }\n",
    "    ]\n",
    "  },\n",
    "  \"config\": {\n",
    "    \"axis\": {\n",
    "      \"labelFontSize\": 10,\n",
    "      \"titleFontSize\": 12\n",
    "    },\n",
    "    \"view\": {\n",
    "      \"stroke\": \"transparent\"\n",
    "    }\n",
    "  }\n",
    "}\n",
    "\"@ | Out-Display -MimeType \"application/vnd.vegalite.v5+json\""
   ]
  },
  {
   "cell_type": "markdown",
   "id": "c6524c47",
   "metadata": {},
   "source": [
    "🔵 Bubble Chart — where every bubble is a trade, and size shows how big it was. The bigger the bubble — the juicier the deal:\n",
    "- X — date\n",
    "- Y — who\n",
    "- Size — number of shares\n",
    "- Color — transaction type\n",
    "- Tooltip — all the dirty details\n",
    "\n",
    "Makes it pretty obvious who burst the greed bubble first 😄"
   ]
  },
  {
   "cell_type": "code",
   "execution_count": 10,
   "id": "655278ec",
   "metadata": {
    "polyglot_notebook": {
     "kernelName": "pwsh"
    }
   },
   "outputs": [
    {
     "data": {
      "application/vnd.vegalite.v5+json": {
       "": "https://vega.github.io/schema/vega-lite/v5.json",
       "config": {
        "axis": {
         "labelFontSize": 10,
         "titleFontSize": 12
        },
        "legend": {
         "labelFontSize": 10,
         "titleFontSize": 12
        },
        "view": {
         "stroke": "transparent"
        }
       },
       "data": {
        "format": {
         "type": "csv"
        },
        "url": "insider-scatter.csv"
       },
       "description": "Bubble Chart: Insider vs Date vs Transaction Type",
       "encoding": {
        "color": {
         "field": "label",
         "title": "Transaction Type",
         "type": "nominal"
        },
        "size": {
         "field": "SharesTransacted",
         "title": "Shares Transacted",
         "type": "quantitative"
        },
        "tooltip": [
         {
          "field": "Insider",
          "title": "Insider",
          "type": "nominal"
         },
         {
          "field": "TransactionDate",
          "title": "Date",
          "type": "temporal"
         },
         {
          "field": "TransactionCode",
          "title": "Transaction Code",
          "type": "nominal"
         },
         {
          "field": "SharesTransacted",
          "title": "Shares Transacted",
          "type": "quantitative"
         },
         {
          "field": "TotalValueDisplay",
          "title": "Total Value ($)",
          "type": "nominal"
         }
        ],
        "x": {
         "field": "TransactionDate",
         "title": "Transaction Date",
         "type": "temporal"
        },
        "y": {
         "field": "Insider",
         "sort": "-x",
         "title": "Insider",
         "type": "nominal"
        }
       },
       "mark": {
        "opacity": 0.7,
        "type": "circle"
       },
       "transform": [
        {
         "default": "Unknown",
         "from": {
          "data": {
           "values": [
            {
             "code": "A",
             "label": "Award"
            },
            {
             "code": "S",
             "label": "Sale"
            },
            {
             "code": "F",
             "label": "Tax"
            },
            {
             "code": "M",
             "label": "Exercise"
            },
            {
             "code": "G",
             "label": "Gift"
            },
            {
             "code": "P",
             "label": "Purchase"
            },
            {
             "code": "I",
             "label": "Discretionary"
            },
            {
             "code": "C",
             "label": "Conversion"
            }
           ]
          },
          "fields": [
           "label"
          ],
          "key": "code"
         },
         "lookup": "TransactionCode"
        }
       ],
       "width": 800
      }
     },
     "metadata": {},
     "output_type": "display_data"
    }
   ],
   "source": [
    "@\"\n",
    "{\n",
    "  \"$schema\": \"https://vega.github.io/schema/vega-lite/v5.json\",\n",
    "  \"description\": \"Bubble Chart: Insider vs Date vs Transaction Type\",\n",
    "  \"width\": 800,\n",
    "  \"data\": {\n",
    "    \"url\": \"insider-scatter.csv\",\n",
    "    \"format\": { \"type\": \"csv\" }\n",
    "  },\n",
    "  \"transform\": [\n",
    "    {\n",
    "      \"lookup\": \"TransactionCode\",\n",
    "      \"from\": {\n",
    "        \"data\": {\n",
    "          \"values\": [\n",
    "            { \"code\": \"A\", \"label\": \"Award\" },\n",
    "            { \"code\": \"S\", \"label\": \"Sale\" },\n",
    "            { \"code\": \"F\", \"label\": \"Tax\" },\n",
    "            { \"code\": \"M\", \"label\": \"Exercise\" },\n",
    "            { \"code\": \"G\", \"label\": \"Gift\" },\n",
    "            { \"code\": \"P\", \"label\": \"Purchase\" },\n",
    "            { \"code\": \"I\", \"label\": \"Discretionary\" },\n",
    "            { \"code\": \"C\", \"label\": \"Conversion\" }\n",
    "          ]\n",
    "        },\n",
    "        \"key\": \"code\",\n",
    "        \"fields\": [\"label\"]\n",
    "      },\n",
    "      \"default\": \"Unknown\"\n",
    "    }\n",
    "  ],\n",
    "  \"mark\": {\n",
    "    \"type\": \"circle\",\n",
    "    \"opacity\": 0.7\n",
    "  },\n",
    "  \"encoding\": {\n",
    "    \"x\": {\n",
    "      \"field\": \"TransactionDate\",\n",
    "      \"type\": \"temporal\",\n",
    "      \"title\": \"Transaction Date\"\n",
    "    },\n",
    "    \"y\": {\n",
    "      \"field\": \"Insider\",\n",
    "      \"type\": \"nominal\",\n",
    "      \"title\": \"Insider\",\n",
    "      \"sort\": \"-x\"\n",
    "    },\n",
    "    \"color\": {\n",
    "      \"field\": \"label\",\n",
    "      \"type\": \"nominal\",\n",
    "      \"title\": \"Transaction Type\"\n",
    "    },\n",
    "    \"size\": {\n",
    "      \"field\": \"SharesTransacted\",\n",
    "      \"type\": \"quantitative\",\n",
    "      \"title\": \"Shares Transacted\"\n",
    "    },\n",
    "    \"tooltip\": [\n",
    "      { \"field\": \"Insider\", \"type\": \"nominal\", \"title\": \"Insider\" },\n",
    "      { \"field\": \"TransactionDate\", \"type\": \"temporal\", \"title\": \"Date\" },\n",
    "      { \"field\": \"TransactionCode\", \"type\": \"nominal\", \"title\": \"Transaction Code\" },\n",
    "      { \"field\": \"SharesTransacted\", \"type\": \"quantitative\", \"title\": \"Shares Transacted\" },\n",
    "      { \"field\": \"TotalValueDisplay\", \"type\": \"nominal\", \"title\": \"Total Value ($)\" }\n",
    "    ]\n",
    "  },\n",
    "  \"config\": {\n",
    "    \"axis\": {\n",
    "      \"labelFontSize\": 10,\n",
    "      \"titleFontSize\": 12\n",
    "    },\n",
    "    \"legend\": {\n",
    "      \"labelFontSize\": 10,\n",
    "      \"titleFontSize\": 12\n",
    "    },\n",
    "    \"view\": {\n",
    "      \"stroke\": \"transparent\"\n",
    "    }\n",
    "  }\n",
    "}\n",
    "\"@ | Out-Display -MimeType \"application/vnd.vegalite.v5+json\""
   ]
  }
 ],
 "metadata": {
  "kernelspec": {
   "display_name": ".NET (PowerShell)",
   "language": "PowerShell",
   "name": ".net-pwsh"
  },
  "polyglot_notebook": {
   "kernelInfo": {
    "defaultKernelName": "pwsh",
    "items": [
     {
      "aliases": [],
      "languageName": "pwsh",
      "name": "pwsh"
     }
    ]
   }
  }
 },
 "nbformat": 4,
 "nbformat_minor": 5
}

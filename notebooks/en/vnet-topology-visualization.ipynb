{
 "cells": [
  {
   "cell_type": "markdown",
   "metadata": {},
   "source": [
    "# How to visualize your VNET topology in Azure with PowerShell"
   ]
  },
  {
   "cell_type": "markdown",
   "metadata": {},
   "source": [
    "> This notebook does work on Linux but does not work in Binder for some reason :("
   ]
  },
  {
   "cell_type": "markdown",
   "metadata": {},
   "source": [
    "## Scenario\n",
    "\n",
    "Assume we have some network topology in Azure. The topology is dynamic, VNETs being added and removed dynamically, and at any particular moment, we can't say how it looks without exploring it. We want to visualize the topology somehow, at any point in time. Additionally, we want to highlight VNETs, where VNET peering was not configured correctly, as we know that this kind of thing happens from time to time due to some bugs in automated procedures we have. In addition to this, we also know that there are a few devices connected to some networks. Someone complained that one of these devices does not work as expected, and we want to see where it is"
   ]
  },
  {
   "cell_type": "markdown",
   "metadata": {},
   "source": [
    "## Preparation\n",
    "\n",
    "In this section we are going to prepare a lab, where we going to run a few experiments."
   ]
  },
  {
   "cell_type": "markdown",
   "metadata": {},
   "source": [
    "Before everything, we need to install a few modules, just in case. This step is also useful in Binder, where there are no such modules"
   ]
  },
  {
   "cell_type": "code",
   "execution_count": null,
   "metadata": {
    "dotnet_interactive": {
     "language": "pwsh"
    }
   },
   "outputs": [],
   "source": [
    "Install-Module -Name PSQuickGraph -AllowPrerelease -RequiredVersion \"2.0.2-alpha\"\n",
    "Install-Module -Name ipmgmt\n",
    "Install-Module -Name Az -Scope CurrentUser -Repository PSGallery"
   ]
  },
  {
   "cell_type": "markdown",
   "metadata": {},
   "source": [
    "And load them"
   ]
  },
  {
   "cell_type": "code",
   "execution_count": null,
   "metadata": {
    "dotnet_interactive": {
     "language": "pwsh"
    }
   },
   "outputs": [],
   "source": [
    "Import-Module ipmgmt\n",
    "Import-Module PSQuickGraph -RequiredVersion \"2.0.2\""
   ]
  },
  {
   "cell_type": "markdown",
   "metadata": {},
   "source": [
    "Log in to Azure. It will fail in Binder ..."
   ]
  },
  {
   "cell_type": "code",
   "execution_count": null,
   "metadata": {
    "dotnet_interactive": {
     "language": "pwsh"
    }
   },
   "outputs": [],
   "source": [
    "Login-AzAccount"
   ]
  },
  {
   "cell_type": "markdown",
   "metadata": {},
   "source": [
    "and it will ask you to use this"
   ]
  },
  {
   "cell_type": "code",
   "execution_count": null,
   "metadata": {
    "dotnet_interactive": {
     "language": "pwsh"
    }
   },
   "outputs": [],
   "source": [
    "Connect-AzAccount -UseDeviceAuthentication"
   ]
  },
  {
   "cell_type": "markdown",
   "metadata": {},
   "source": [
    "set the initial constants"
   ]
  },
  {
   "cell_type": "code",
   "execution_count": null,
   "metadata": {
    "dotnet_interactive": {
     "language": "pwsh"
    }
   },
   "outputs": [],
   "source": [
    "$rgName = \"vnet-test\"\n",
    "$region = \"eastus2\"\n",
    "$baseNet = \"10.96.0.0/16\""
   ]
  },
  {
   "cell_type": "markdown",
   "metadata": {
    "dotnet_interactive": {
     "language": "pwsh"
    }
   },
   "source": [
    "Create the resource group for our experiment, just in case."
   ]
  },
  {
   "cell_type": "code",
   "execution_count": null,
   "metadata": {
    "dotnet_interactive": {
     "language": "pwsh"
    }
   },
   "outputs": [],
   "source": [
    "New-AzResourceGroup -Name $rgName -Location $region"
   ]
  },
  {
   "cell_type": "markdown",
   "metadata": {},
   "source": [
    "Now, we can prepare a set of parameters for VNETs. We are using the `ipmgmt`, which we looked at in the [previous](https://github.com/eosfor/scripting-notes/blob/main/notebooks/ru/ipmgmt.ipynb) notebook. Here we simply make an array of hashtables and pass it to the `Get-VLSMBreakdown` cmdlet, which returns us the IP ranges we are looking for. We just iterate from \"A\" to \"K\" and for each character create an element in this array."
   ]
  },
  {
   "cell_type": "code",
   "execution_count": null,
   "metadata": {
    "dotnet_interactive": {
     "language": "pwsh"
    }
   },
   "outputs": [],
   "source": [
    "$vnets = \"A\"..\"K\" | % { @{type = \"VNET-$_\"; size = (256-2)} }"
   ]
  },
  {
   "cell_type": "markdown",
   "metadata": {},
   "source": [
    "Now we just pass the array to the commandlet, and it returns a list of ranges we need."
   ]
  },
  {
   "cell_type": "code",
   "execution_count": null,
   "metadata": {
    "dotnet_interactive": {
     "language": "pwsh"
    }
   },
   "outputs": [
    {
     "name": "stdout",
     "output_type": "stream",
     "text": [
      "\r\n",
      "\u001b[32;1mtype   Network    Netmask       FirstUsable LastUsable   Usable Cidr\u001b[0m\r\n",
      "\u001b[32;1m----   -------    -------       ----------- ----------   ------ ----\u001b[0m\r\n",
      "VNET-K 10.96.10.0 255.255.255.0 10.96.10.1  10.96.10.254    254   24\r\n",
      "VNET-J 10.96.9.0  255.255.255.0 10.96.9.1   10.96.9.254     254   24\r\n",
      "VNET-I 10.96.8.0  255.255.255.0 10.96.8.1   10.96.8.254     254   24\r\n",
      "VNET-H 10.96.7.0  255.255.255.0 10.96.7.1   10.96.7.254     254   24\r\n",
      "VNET-G 10.96.6.0  255.255.255.0 10.96.6.1   10.96.6.254     254   24\r\n",
      "VNET-F 10.96.5.0  255.255.255.0 10.96.5.1   10.96.5.254     254   24\r\n",
      "VNET-E 10.96.4.0  255.255.255.0 10.96.4.1   10.96.4.254     254   24\r\n",
      "VNET-D 10.96.3.0  255.255.255.0 10.96.3.1   10.96.3.254     254   24\r\n",
      "VNET-C 10.96.2.0  255.255.255.0 10.96.2.1   10.96.2.254     254   24\r\n",
      "VNET-B 10.96.1.0  255.255.255.0 10.96.1.1   10.96.1.254     254   24\r\n",
      "VNET-A 10.96.0.0  255.255.255.0 10.96.0.1   10.96.0.254     254   24\r\n",
      "\r\n"
     ]
    }
   ],
   "source": [
    "Get-VLSMBreakdown -Network $baseNet -SubnetSize $vnets | ? type -ne 'reserved' | \n",
    "    ft type, network, netmask, *usable, cidr -AutoSize"
   ]
  },
  {
   "cell_type": "markdown",
   "metadata": {},
   "source": [
    "At this point, we can create these networks. To simplify, we create only one subnet in each, but nothing stops us from using `Get-VLSMBreakdown` to break each VNET into subnets if we need to."
   ]
  },
  {
   "cell_type": "code",
   "execution_count": null,
   "metadata": {
    "dotnet_interactive": {
     "language": "pwsh"
    }
   },
   "outputs": [],
   "source": [
    "Get-VLSMBreakdown -Network $baseNet -SubnetSize $vnets | ? type -ne 'reserved' | % {\n",
    "    $addressPrefix = \"$($_.network)/$($_.cidr)\"\n",
    "    $subnet = New-AzVirtualNetworkSubnetConfig -Name \"default\" -AddressPrefix $addressPrefix\n",
    "    New-AzVirtualNetwork -Name $_.type -ResourceGroupName $rgName -Location $region -AddressPrefix $addressPrefix -Subnet $subnet | out-null\n",
    "}"
   ]
  },
  {
   "cell_type": "markdown",
   "metadata": {},
   "source": [
    "Adding VNET peering"
   ]
  },
  {
   "cell_type": "code",
   "execution_count": null,
   "metadata": {
    "dotnet_interactive": {
     "language": "pwsh"
    }
   },
   "outputs": [],
   "source": [
    "$nets = Get-AzVirtualNetwork -ResourceGroupName $rgName"
   ]
  },
  {
   "cell_type": "markdown",
   "metadata": {},
   "source": [
    "We are going to use hub-and-spoke topology, as we usually do in Landing Zones. Ans to simulate a misconfiguration, we skip one VNET peering link"
   ]
  },
  {
   "cell_type": "code",
   "execution_count": null,
   "metadata": {
    "dotnet_interactive": {
     "language": "pwsh"
    }
   },
   "outputs": [
    {
     "name": "stdout",
     "output_type": "stream",
     "text": [
      "\u001b[91mAdd-AzVirtualNetworkPeering: \r\n",
      "\u001b[96mLine |\r\n",
      "\u001b[96m   5 | \u001b[0m     \u001b[96mAdd-AzVirtualNetworkPeering `\u001b[0m\r\n",
      "\u001b[96m     | \u001b[91m     ~~~~~~~~~~~~~~~~~~~~~~~~~~~~~\r\n",
      "\u001b[91m\u001b[96m     | \u001b[91mPeering with the specified name already exists\u001b[0m\r\n",
      "\u001b[91mAdd-AzVirtualNetworkPeering: \r\n",
      "\u001b[96mLine |\r\n",
      "\u001b[96m   5 | \u001b[0m     \u001b[96mAdd-AzVirtualNetworkPeering `\u001b[0m\r\n",
      "\u001b[96m     | \u001b[91m     ~~~~~~~~~~~~~~~~~~~~~~~~~~~~~\r\n",
      "\u001b[91m\u001b[96m     | \u001b[91mPeering with the specified name already exists\u001b[0m\r\n",
      "\u001b[91mAdd-AzVirtualNetworkPeering: \r\n",
      "\u001b[96mLine |\r\n",
      "\u001b[96m   5 | \u001b[0m     \u001b[96mAdd-AzVirtualNetworkPeering `\u001b[0m\r\n",
      "\u001b[96m     | \u001b[91m     ~~~~~~~~~~~~~~~~~~~~~~~~~~~~~\r\n",
      "\u001b[91m\u001b[96m     | \u001b[91mPeering with the specified name already exists\u001b[0m\r\n",
      "\u001b[91mAdd-AzVirtualNetworkPeering: \r\n",
      "\u001b[96mLine |\r\n",
      "\u001b[96m   5 | \u001b[0m     \u001b[96mAdd-AzVirtualNetworkPeering `\u001b[0m\r\n",
      "\u001b[96m     | \u001b[91m     ~~~~~~~~~~~~~~~~~~~~~~~~~~~~~\r\n",
      "\u001b[91m\u001b[96m     | \u001b[91mPeering with the specified name already exists\u001b[0m\r\n",
      "\u001b[91mAdd-AzVirtualNetworkPeering: \r\n",
      "\u001b[96mLine |\r\n",
      "\u001b[96m   5 | \u001b[0m     \u001b[96mAdd-AzVirtualNetworkPeering `\u001b[0m\r\n",
      "\u001b[96m     | \u001b[91m     ~~~~~~~~~~~~~~~~~~~~~~~~~~~~~\r\n",
      "\u001b[91m\u001b[96m     | \u001b[91mPeering with the specified name already exists\u001b[0m\r\n",
      "\u001b[91mAdd-AzVirtualNetworkPeering: \r\n",
      "\u001b[96mLine |\r\n",
      "\u001b[96m   5 | \u001b[0m     \u001b[96mAdd-AzVirtualNetworkPeering `\u001b[0m\r\n",
      "\u001b[96m     | \u001b[91m     ~~~~~~~~~~~~~~~~~~~~~~~~~~~~~\r\n",
      "\u001b[91m\u001b[96m     | \u001b[91mPeering with the specified name already exists\u001b[0m\r\n",
      "\u001b[91mAdd-AzVirtualNetworkPeering: \r\n",
      "\u001b[96mLine |\r\n",
      "\u001b[96m   5 | \u001b[0m     \u001b[96mAdd-AzVirtualNetworkPeering `\u001b[0m\r\n",
      "\u001b[96m     | \u001b[91m     ~~~~~~~~~~~~~~~~~~~~~~~~~~~~~\r\n",
      "\u001b[91m\u001b[96m     | \u001b[91mPeering with the specified name already exists\u001b[0m\r\n",
      "\u001b[91mAdd-AzVirtualNetworkPeering: \r\n",
      "\u001b[96mLine |\r\n",
      "\u001b[96m   5 | \u001b[0m     \u001b[96mAdd-AzVirtualNetworkPeering `\u001b[0m\r\n",
      "\u001b[96m     | \u001b[91m     ~~~~~~~~~~~~~~~~~~~~~~~~~~~~~\r\n",
      "\u001b[91m\u001b[96m     | \u001b[91mPeering with the specified name already exists\u001b[0m\r\n",
      "\u001b[91mAdd-AzVirtualNetworkPeering: \r\n",
      "\u001b[96mLine |\r\n",
      "\u001b[96m   5 | \u001b[0m     \u001b[96mAdd-AzVirtualNetworkPeering `\u001b[0m\r\n",
      "\u001b[96m     | \u001b[91m     ~~~~~~~~~~~~~~~~~~~~~~~~~~~~~\r\n",
      "\u001b[91m\u001b[96m     | \u001b[91mPeering with the specified name already exists\u001b[0m\r\n",
      "\u001b[91mAdd-AzVirtualNetworkPeering: \r\n",
      "\u001b[96mLine |\r\n",
      "\u001b[96m   5 | \u001b[0m     \u001b[96mAdd-AzVirtualNetworkPeering `\u001b[0m\r\n",
      "\u001b[96m     | \u001b[91m     ~~~~~~~~~~~~~~~~~~~~~~~~~~~~~\r\n",
      "\u001b[91m\u001b[96m     | \u001b[91mPeering with the specified name already exists\u001b[0m\r\n",
      "\u001b[91mAdd-AzVirtualNetworkPeering: \r\n",
      "\u001b[96mLine |\r\n",
      "\u001b[96m  12 | \u001b[0m     \u001b[96mAdd-AzVirtualNetworkPeering `\u001b[0m\r\n",
      "\u001b[96m     | \u001b[91m     ~~~~~~~~~~~~~~~~~~~~~~~~~~~~~\r\n",
      "\u001b[91m\u001b[96m     | \u001b[91mPeering with the specified name already exists\u001b[0m\r\n",
      "\u001b[91mAdd-AzVirtualNetworkPeering: \r\n",
      "\u001b[96mLine |\r\n",
      "\u001b[96m  12 | \u001b[0m     \u001b[96mAdd-AzVirtualNetworkPeering `\u001b[0m\r\n",
      "\u001b[96m     | \u001b[91m     ~~~~~~~~~~~~~~~~~~~~~~~~~~~~~\r\n",
      "\u001b[91m\u001b[96m     | \u001b[91mPeering with the specified name already exists\u001b[0m\r\n",
      "\u001b[91mAdd-AzVirtualNetworkPeering: \r\n",
      "\u001b[96mLine |\r\n",
      "\u001b[96m  12 | \u001b[0m     \u001b[96mAdd-AzVirtualNetworkPeering `\u001b[0m\r\n",
      "\u001b[96m     | \u001b[91m     ~~~~~~~~~~~~~~~~~~~~~~~~~~~~~\r\n",
      "\u001b[91m\u001b[96m     | \u001b[91mPeering with the specified name already exists\u001b[0m\r\n",
      "\u001b[91mAdd-AzVirtualNetworkPeering: \r\n",
      "\u001b[96mLine |\r\n",
      "\u001b[96m  12 | \u001b[0m     \u001b[96mAdd-AzVirtualNetworkPeering `\u001b[0m\r\n",
      "\u001b[96m     | \u001b[91m     ~~~~~~~~~~~~~~~~~~~~~~~~~~~~~\r\n",
      "\u001b[91m\u001b[96m     | \u001b[91mPeering with the specified name already exists\u001b[0m\r\n",
      "\u001b[91mAdd-AzVirtualNetworkPeering: \r\n",
      "\u001b[96mLine |\r\n",
      "\u001b[96m  12 | \u001b[0m     \u001b[96mAdd-AzVirtualNetworkPeering `\u001b[0m\r\n",
      "\u001b[96m     | \u001b[91m     ~~~~~~~~~~~~~~~~~~~~~~~~~~~~~\r\n",
      "\u001b[91m\u001b[96m     | \u001b[91mPeering with the specified name already exists\u001b[0m\r\n",
      "\u001b[91mAdd-AzVirtualNetworkPeering: \r\n",
      "\u001b[96mLine |\r\n",
      "\u001b[96m  12 | \u001b[0m     \u001b[96mAdd-AzVirtualNetworkPeering `\u001b[0m\r\n",
      "\u001b[96m     | \u001b[91m     ~~~~~~~~~~~~~~~~~~~~~~~~~~~~~\r\n",
      "\u001b[91m\u001b[96m     | \u001b[91mPeering with the specified name already exists\u001b[0m\r\n",
      "\u001b[91mAdd-AzVirtualNetworkPeering: \r\n",
      "\u001b[96mLine |\r\n",
      "\u001b[96m  12 | \u001b[0m     \u001b[96mAdd-AzVirtualNetworkPeering `\u001b[0m\r\n",
      "\u001b[96m     | \u001b[91m     ~~~~~~~~~~~~~~~~~~~~~~~~~~~~~\r\n",
      "\u001b[91m\u001b[96m     | \u001b[91mPeering with the specified name already exists\u001b[0m\r\n"
     ]
    },
    {
     "ename": "Error",
     "evalue": "System.OperationCanceledException: Command :SubmitCode: $hub = $nets[0]\n$spokes = $nets[1..($nets.count-1) ... cancelled.",
     "output_type": "error",
     "traceback": [
      "System.OperationCanceledException: Command :SubmitCode: $hub = $nets[0]\n",
      "$spokes = $nets[1..($nets.count-1) ... cancelled."
     ]
    }
   ],
   "source": [
    "$hub = $nets[0]\n",
    "$spokes = $nets[1..($nets.count-1)]\n",
    "\n",
    "$spokes | % {\n",
    "    Add-AzVirtualNetworkPeering `\n",
    "        -Name \"$($hub.Name)-$($_.Name)\" `\n",
    "        -VirtualNetwork $hub `\n",
    "        -RemoteVirtualNetworkId $_.Id | out-null\n",
    "}\n",
    "\n",
    "$spokes | select -Skip 1 |  % {      \n",
    "    Add-AzVirtualNetworkPeering `\n",
    "        -Name \"$($_.Name)-$($hub.Name)\" `\n",
    "        -VirtualNetwork $_ `\n",
    "        -RemoteVirtualNetworkId $hub.Id | out-null\n",
    "}"
   ]
  },
  {
   "cell_type": "markdown",
   "metadata": {},
   "source": [
    "To model the network devices we add a few NICs into random VNETs. This is a lab, and we don't need full VMs for that. Well, in this case for the sake of the experiment we need a NIC to exist in a specific VNET. For that we use `begin`, `process`, and `end` script block parameters of the `Foreach-Object`. In this case, we initialize the variable in the `begin` script block and use it in the `process`, so it is guaranteed to be initialized with the correct value."
   ]
  },
  {
   "cell_type": "code",
   "execution_count": null,
   "metadata": {
    "dotnet_interactive": {
     "language": "pwsh"
    }
   },
   "outputs": [],
   "source": [
    "1..4 | % {$idx = 0} {\n",
    "    $vnetForNIC = $spokes[$idx]\n",
    "    New-AzNetworkInterface -Name \"NetworkInterface-$idx\" -ResourceGroupName $rgName -Location $region -SubnetId $vnetForNIC.Subnets[0].Id\n",
    "    $idx = Get-Random -Minimum 1 -Maximum ($spokes.Count-1)\n",
    "}"
   ]
  },
  {
   "cell_type": "markdown",
   "metadata": {},
   "source": [
    "## Experiment\n",
    "\n",
    "If all the above worked well, we are ready for the experiment. Let us read everything again, and create an empty graph"
   ]
  },
  {
   "cell_type": "code",
   "execution_count": null,
   "metadata": {
    "dotnet_interactive": {
     "language": "pwsh"
    }
   },
   "outputs": [],
   "source": [
    "$vnets = Get-AzVirtualNetwork -ResourceGroupName $rgName\n",
    "$g = New-Graph"
   ]
  },
  {
   "cell_type": "markdown",
   "metadata": {
    "dotnet_interactive": {
     "language": "pwsh"
    }
   },
   "source": [
    "We need to fill the graph with data, and we are going to do it in a few iterations. At fist, we will add VNETs, then VNET peerings, and at the end - NICs"
   ]
  },
  {
   "cell_type": "markdown",
   "metadata": {},
   "source": [
    "#### Adding VNETs"
   ]
  },
  {
   "cell_type": "markdown",
   "metadata": {},
   "source": [
    "We have everything we need to add VNETs to the graph. However, there is a little problem. We can add any objects to the graph, but when we do it, the graph \"converts\" it into a special type - `PSGraph.Model.PSVertex`. There is the `Label` property in this type, and it is a key property for comparison operations, search and visualization. Another property of interest is the `OriginalObject` property. It has a link to the origunal object, which was used to create the vertex. To initialize the `Label` property the `ToString()` method is being called on each object. In cas of `PSVirtualNetwork` this call returns the name of the type, but we need unique names as labels. To overcome this we have a constructor for the `PSGraph.Model.PSVertex` whch take as `Label` as `string` and the original object. This way we can override the labeling mechanism and provide our own labels."
   ]
  },
  {
   "cell_type": "code",
   "execution_count": null,
   "metadata": {
    "dotnet_interactive": {
     "language": "pwsh"
    }
   },
   "outputs": [],
   "source": [
    "$vnets | % {\n",
    "    Add-Vertex -Graph $g -Vertex ([PSGraph.Model.PSVertex]::new($_.Id, $_))\n",
    "}"
   ]
  },
  {
   "cell_type": "markdown",
   "metadata": {},
   "source": [
    "#### Adding VNET peerings"
   ]
  },
  {
   "cell_type": "markdown",
   "metadata": {},
   "source": [
    "At this point, we have VNETs in the graph. Now we need to add connections between these networks. To do that we iterate through the graph vertices, pull the `OriginalObject` property of each of them, and peek into it to find VNET's peerings. Each peering stores the `resourceID` of the remote VNET. As far as we use VNET resource IDs as labels on the graph, we can just search the graph for the corresponding vertex, and use it as a target for the graph edge. So the source is the current VNET, and the target is the VNET pointed by the peering information."
   ]
  },
  {
   "cell_type": "code",
   "execution_count": null,
   "metadata": {
    "dotnet_interactive": {
     "language": "pwsh"
    }
   },
   "outputs": [],
   "source": [
    "foreach ($v in $g.Vertices){\n",
    "    foreach($p in $v.OriginalObject.VirtualNetworkPeerings) {\n",
    "        foreach ($rvn in $p.RemoteVirtualNetwork) {\n",
    "            $targetVertex = $g.Vertices.Where({$_.Label -eq $rvn.id})[0]\n",
    "            Add-Edge -From $v -To $targetVertex -Graph $g\n",
    "        }\n",
    "    }\n",
    "}"
   ]
  },
  {
   "cell_type": "markdown",
   "metadata": {},
   "source": [
    "Now we have networks and links between them. So we can visualize the topology. But we want to highlight misconfigured networks. Here we cheat a bit because we know how exactly the network was misconfigured. In the real scenario, you would test for more than one misconfigured thing. But in our case, just for simplicity, we are running through vertices again, and colorizing those which does not have outgoing edges."
   ]
  },
  {
   "cell_type": "code",
   "execution_count": null,
   "metadata": {
    "dotnet_interactive": {
     "language": "pwsh"
    }
   },
   "outputs": [],
   "source": [
    "$g.Vertices | % { if ( $g.OutDegree($_) -eq 0 ) \n",
    "                    { $_.GVertexParameters.Fillcolor = [QuikGraph.Graphviz.Dot.GraphvizColor]::OrangeRed  } \n",
    "                }"
   ]
  },
  {
   "cell_type": "markdown",
   "metadata": {},
   "source": [
    "#### Adding NICs"
   ]
  },
  {
   "cell_type": "markdown",
   "metadata": {},
   "source": [
    "The last step we need to to is to add NICs to our graph. We read them first"
   ]
  },
  {
   "cell_type": "code",
   "execution_count": null,
   "metadata": {
    "dotnet_interactive": {
     "language": "pwsh"
    }
   },
   "outputs": [],
   "source": [
    "$nics = Get-AzNetworkInterface -ResourceGroupName $rgName"
   ]
  },
  {
   "cell_type": "markdown",
   "metadata": {},
   "source": [
    "Each NIC has a reference to its subnet in the `IpConfigurations` property, stored as a `resourceID`. It is a string, so we can just cut everything after `/subnets/` and use the rest of the string as a reference to a VNET."
   ]
  },
  {
   "cell_type": "code",
   "execution_count": null,
   "metadata": {
    "dotnet_interactive": {
     "language": "pwsh"
    }
   },
   "outputs": [],
   "source": [
    "$nics | % {\n",
    "    $vnetID = $_.IpConfigurations[0].Subnet.Id -replace \"/subnets/.+\", \"\"\n",
    "    $targetVertex = $g.Vertices.Where({$_.Label -eq $vnetID})[0]\n",
    "    Add-Edge -Graph $g -From ([PSGraph.Model.PSVertex]::new($_.name, $_)) -To $targetVertex\n",
    "}"
   ]
  },
  {
   "cell_type": "markdown",
   "metadata": {},
   "source": [
    "Now, we have everything we need in the graph. As the last step we want to color **NICs only**, so they are easily visible on the visualization"
   ]
  },
  {
   "cell_type": "code",
   "execution_count": null,
   "metadata": {
    "dotnet_interactive": {
     "language": "pwsh"
    }
   },
   "outputs": [],
   "source": [
    "$g.Vertices | \n",
    "    ? {$_.OriginalObject.GetType() -eq [Microsoft.Azure.Commands.Network.Models.PSNetworkInterface]} | \n",
    "    % {  $_.GVertexParameters.Fillcolor = [QuikGraph.Graphviz.Dot.GraphvizColor]::WhiteSmoke }"
   ]
  },
  {
   "cell_type": "markdown",
   "metadata": {},
   "source": [
    "#### Exporting and visualizing"
   ]
  },
  {
   "cell_type": "markdown",
   "metadata": {},
   "source": [
    "Now we just export the data into SVG and [Graphviz format](https://www.graphviz.org/doc/info/lang.html)."
   ]
  },
  {
   "cell_type": "code",
   "execution_count": null,
   "metadata": {
    "dotnet_interactive": {
     "language": "pwsh"
    }
   },
   "outputs": [],
   "source": [
    "Export-Graph -Graph $g -Path \"$($env:TEMP)\\topology.svg\" -Format MSAGL_MDS\n",
    "Export-Graph -Graph $g -Path \"$($env:TEMP)\\topology.gv\" -Format Graphviz"
   ]
  },
  {
   "cell_type": "code",
   "execution_count": null,
   "metadata": {
    "dotnet_interactive": {
     "language": "csharp"
    }
   },
   "outputs": [
    {
     "data": {
      "text/html": [
       "<?xml version=\"1.0\" encoding=\"utf-8\"?>\r\n",
       "<!--SvgWriter version 0.0.0.0-->\r\n",
       "<svg xmlns:xlink=\"http://www.w3.org/1999/xlink\" width=\"3654.58234230003\" height=\"1029.34014329532\" id=\"svg2\" version=\"1.1\" xmlns=\"http://www.w3.org/2000/svg\">\r\n",
       "  <g transform=\"translate(1408.865029018989,515.5224432872996)\">\r\n",
       "    <!--Edges-->\r\n",
       "    <path fill=\"none\" stroke=\"#000000\" stroke-opacity=\"1\" stroke-width=\"1\" d=\"M 161.20687049473 29.16729179028 L 136.22114462748 23.12947023623 A 87.31055879913,87.31055879913 0 0 0 130.41191494907 21.93292198664 A 76.31989242199,76.31989242199 0 0 0 124.53206257176 21.16241129247 L 65.6564041381 15.76377518689 A 159.37141318268,159.37141318268 180 0 1 56.48145558744 14.65338171201 A 42.19847326923,42.19847326923 180 0 1 47.59615347409 12.30345497755 L 25.64105743315 3.84668688296\" />\r\n",
       "    <polygon stroke=\"#000000\" stroke-opacity=\"1\" stroke-width=\"1\" fill=\"#000000\" fill-opacity=\"1\" points=\"26.43792089181 1.77790439175 16.30938267989 .25226811224 24.8441939745 5.91546937417\" />\r\n",
       "    <path fill=\"none\" stroke=\"#000000\" stroke-opacity=\"1\" stroke-width=\"1\" d=\"M 1104.94801700104 -230.75543380545 L 1079.21397550769 -222.72967873329 A 73.16941149983,73.16941149983 180 0 1 1071.28760436744 -220.73583600751 A 94.5526642997,94.5526642997 180 0 1 1063.19774232848 -219.53558547203 L 271.33044829785 -136.86005383246 A 27.24095102952,27.24095102952 0 0 0 257.07162536719 -130.98157045492 A 16.33020215358,16.33020215358 0 0 0 250.98900486541 -117.89958990189 L 252.29819082276 -59.18813810661 A 8.54064051219,8.54064051219 180 0 1 249.30174618173 -52.49943603959 A 10.94069336277,10.94069336277 180 0 1 242.15783081682 -49.88326227631 L 79.29406604071 -50.54470291157 A 1.82119278366,1.82119278366 180 0 1 79.16675860422 -50.54967638133 L 79.16678800399 -50.55009110973 L 228.95897706934 -40.42231362115\" />\r\n",
       "    <polygon stroke=\"#000000\" stroke-opacity=\"1\" stroke-width=\"1\" fill=\"#000000\" fill-opacity=\"1\" points=\"228.80942589917 -38.21041696552 238.93619809951 -39.74773188776 229.1085282395 -42.63421027678\" />\r\n",
       "    <path fill=\"none\" stroke=\"#000000\" stroke-opacity=\"1\" stroke-width=\"1\" d=\"M -747.12259463251 209.31577467765 L -686.87906887635 194.47008259238 A 224.38550893732,224.38550893732 180 0 1 -677.561801405 192.38327072338 A 730.62907361022,730.62907361022 180 0 1 -668.18818225705 190.55600160461 L -343.85380559057 129.52858121723 A 18.98188557224,18.98188557224 0 0 0 -337.56893314039 127.13354437212 A 15.96823758646,15.96823758646 0 0 0 -332.69303639157 122.56380915108 L -327.91716331221 115.6866753508 A 19.05322467552,19.05322467552 0 0 0 -324.57621875947 103.27513096272 A 49.19150319895,49.19150319895 0 0 0 -327.5143082768 90.0742763726 L -350.12741530712 29.42718847778 A 7.96083354816,7.96083354816 180 0 1 -346.09969614957 19.46262018247 A 33.66891321912,33.66891321912 180 0 1 -332.24472505611 16.18063958397 L -102.8376112863 11.69777708169 A 10.30863951949,10.30863951949 180 0 1 -100.32691758474 11.95779641864 A 4.43433717169,4.43433717169 0 0 0 -97.88567695076 11.82745330461 L -73.83000056211 3.51742904573\" />\r\n",
       "    <polygon stroke=\"#000000\" stroke-opacity=\"1\" stroke-width=\"1\" fill=\"#000000\" fill-opacity=\"1\" points=\"-73.10613180878 5.61286847354 -64.37808413853 .25226811224 -74.55386931545 1.42198961792\" />\r\n",
       "    <path fill=\"none\" stroke=\"#000000\" stroke-opacity=\"1\" stroke-width=\"1\" d=\"M -559.10811483368 -124.08486255668 L -438.21226831612 -105.4620517355\" />\r\n",
       "    <polygon stroke=\"#000000\" stroke-opacity=\"1\" stroke-width=\"1\" fill=\"#000000\" fill-opacity=\"1\" points=\"-438.54978614789 -103.27094834202 -428.32883963012 -103.9396071852 -437.87475048436 -107.65315512898\" />\r\n",
       "    <path fill=\"none\" stroke=\"#000000\" stroke-opacity=\"1\" stroke-width=\"1\" d=\"M -237.21669726874 -210.54301354233 L -201.09947312765 -197.13757024612 A 81.8193275834,81.8193275834 0 0 0 -192.42261247415 -194.45469844871 A 102.95756796828,102.95756796828 0 0 0 -183.51678952403 -192.64755719656 L 224.90799081741 -128.38922999225 A 18.2896287045,18.2896287045 180 0 1 232.65173888769 -125.23627799072 A 8.82027167495,8.82027167495 180 0 1 236.35680434447 -118.46135368254 L 239.17948529125 -58.91501940213 A .91846456055,.91846456055 180 0 1 238.85383217365 -58.16912566067 A 1.22445466329,1.22445466329 180 0 1 238.05277862392 -57.88114430987 L 79.67406431396 -59.44864279433 A .38279058373,.38279058373 180 0 1 79.6088548659 -59.45489380264 A .17170578407,.17170578407 0 0 0 79.54428031558 -59.45438168646 L -9.33374415094 -41.70600451985\" />\r\n",
       "    <polygon stroke=\"#000000\" stroke-opacity=\"1\" stroke-width=\"1\" fill=\"#000000\" fill-opacity=\"1\" points=\"-9.7678827425 -43.88002753053 -19.14012820921 -39.74773188776 -8.89960555937 -39.53198150916\" />\r\n",
       "    <path fill=\"none\" stroke=\"#000000\" stroke-opacity=\"1\" stroke-width=\"1\" d=\"M 1804.53730656081 463.81770000802 L 1719.88662041877 295.72002866029\" />\r\n",
       "    <polygon stroke=\"#000000\" stroke-opacity=\"1\" stroke-width=\"1\" fill=\"#000000\" fill-opacity=\"1\" points=\"1721.8666739333 294.7229125952 1715.3889205155 286.78858445567 1717.90656690423 296.71714472537\" />\r\n",
       "    <path fill=\"none\" stroke=\"#000000\" stroke-opacity=\"1\" stroke-width=\"1\" d=\"M -787.47030809451 77.81073925827 L -717.21749134227 63.121631734 A 209.88210149899,209.88210149899 180 0 1 -708.61271762054 61.50899982164 A 263.79612579634,263.79612579634 180 0 1 -699.95290326574 60.21959527491 L -357.16484346437 14.98118081991 A 80.83609802837,80.83609802837 0 0 0 -344.77327815863 12.34446444082 A 47.6782319653,47.6782319653 180 0 1 -332.32879096698 10.39218749801 L -114.64211997266 5.35789211168\" />\r\n",
       "    <polygon stroke=\"#000000\" stroke-opacity=\"1\" stroke-width=\"1\" fill=\"#000000\" fill-opacity=\"1\" points=\"-113.51023037985 7.26411306356 -106.04371293553 .25226811224 -115.77400956548 3.45167115981\" />\r\n",
       "    <path fill=\"none\" stroke=\"#000000\" stroke-opacity=\"1\" stroke-width=\"1\" d=\"M 319.64860240242 .25226811224 L 716.58425409631 23.35648422365 C736.62953914687 24.52324915355 752.8864516943 26.67830717421 765.3549917386 29.82165828565 L 1616.2879184588 244.34404434348\" />\r\n",
       "    <polygon stroke=\"#000000\" stroke-opacity=\"1\" stroke-width=\"1\" fill=\"#000000\" fill-opacity=\"1\" points=\"1615.74597696203 246.49373078149 1625.984527332 246.78858445567 1616.82985995557 242.19435790547\" />\r\n",
       "    <path fill=\"none\" stroke=\"#000000\" stroke-opacity=\"1\" stroke-width=\"1\" d=\"M -43.54526974003 .25226811224 L -96.64898712312 15.20297173918 A 7.35616426691,7.35616426691 180 0 1 -100.08242078373 15.33594989246 A 16.39255712212,16.39255712212 0 0 0 -103.58169519287 15.02142502709 L -332.20269210067 19.07486562696 A 23.81569668272,23.81569668272 0 0 0 -342.46443275311 21.60205679276 A 6.16243164733,6.16243164733 0 0 0 -345.51561846046 29.14752084277 L -324.47956255648 89.17894966298 A 193.0554638811,193.0554638811 180 0 1 -319.88646338459 104.2245183395 A 16.92625372733,16.92625372733 180 0 1 -322.43920245119 118.27014869916 L -327.9467161216 126.06511081626 A 22.51244148268,22.51244148268 180 0 1 -334.42988639412 132.1827347754 A 24.22203529686,24.22203529686 180 0 1 -342.7577835423 135.42762653573 L -667.1657418917 196.46824446999 A 714.3197569075,714.3197569075 0 0 0 -676.33214911116 198.25511564248 A 219.4302276689,219.4302276689 0 0 0 -685.44344869594 200.29580097706 L -712.33679347686 206.92307437697\" />\r\n",
       "    <polygon stroke=\"#000000\" stroke-opacity=\"1\" stroke-width=\"1\" fill=\"#000000\" fill-opacity=\"1\" points=\"-712.86724236408 204.77052325197 -722.046324118 209.31577467765 -711.80634458964 209.07562550197\" />\r\n",
       "    <path fill=\"none\" stroke=\"#000000\" stroke-opacity=\"1\" stroke-width=\"1\" d=\"M -85.21089853703 .25226811224 L -99.1223667784 8.45193487005 A 1.74172915091,1.74172915091 180 0 1 -100.55331460161 8.60521315989 A 4.59592723207,4.59592723207 0 0 0 -102.09352737972 8.37412913629 L -332.28675801154 13.28641354099 A 25.72850252826,25.72850252826 0 0 0 -344.70719665341 16.78853646086 A 33.12731122301,33.12731122301 180 0 1 -357.07185485965 21.02054145467 L -699.19324581781 66.17131104113 A 256.65156050006,256.65156050006 0 0 0 -707.61815214171 67.42574100023 A 204.18643148815,204.18643148815 0 0 0 -715.98951141472 68.99462631067 L -748.36554369209 75.76410604567\" />\r\n",
       "    <polygon stroke=\"#000000\" stroke-opacity=\"1\" stroke-width=\"1\" fill=\"#000000\" fill-opacity=\"1\" points=\"-748.81927135278 73.59408678825 -758.15386798653 77.81073925827 -747.9118160314 77.9341253031\" />\r\n",
       "    <path fill=\"none\" stroke=\"#000000\" stroke-opacity=\"1\" stroke-width=\"1\" d=\"M 303.45527967669 -39.74773188776 L 79.07241492609 -48.32401846555 L 79.07234860647 -48.32266333462 A 2.22660924194,2.22660924194 0 0 0 79.19906647239 -48.31871794087 L 243.18409386505 -47.88379176792 A 13.34506957216,13.34506957216 0 0 0 251.89538767312 -51.08881214311 A 10.5287938291,10.5287938291 0 0 0 255.57786720563 -59.25641778273 L 254.64705499564 -117.75914895673 A 10.8716306146,10.8716306146 180 0 1 259.1059199326 -126.71198891007 A 20.88919404491,20.88919404491 180 0 1 269.25604170282 -130.61823752081 L 1063.74524953602 -213.56061803633 A 101.85126877268,101.85126877268 0 0 0 1072.46087217613 -214.85369020361 A 78.83217125706,78.83217125706 0 0 0 1081.00035377591 -217.00177748739 L 1115.55402161389 -227.77813669175\" />\r\n",
       "    <polygon stroke=\"#000000\" stroke-opacity=\"1\" stroke-width=\"1\" fill=\"#000000\" fill-opacity=\"1\" points=\"1116.21407249466 -225.66172812948 1125.1005236904 -230.75543380545 1114.89397073313 -229.89454525402\" />\r\n",
       "    <path fill=\"none\" stroke=\"#000000\" stroke-opacity=\"1\" stroke-width=\"1\" d=\"M 109.89803494515 -39.74773188776 L 79.35553415978 -55.00223639809 A .00621364984,.00621364984 180 0 1 79.35995077849 -55.01378852815 A .48287244528,.48287244528 0 0 0 79.48406517733 -54.99667285295 L 240.10530472037 -53.88220329309 A 6.1011872145,6.1011872145 0 0 0 244.09240592084 -55.32886059124 A 4.66632735275,4.66632735275 0 0 0 245.738838057 -59.05157875437 L 243.67290460494 -118.18047179222 A 56.91166516697,56.91166516697 180 0 1 248.06694202006 -142.17864331504 A 65.31680591734,65.31680591734 0 0 0 253.13763640211 -166.18211359713 L 254.7471184707 -249.72037689958 A 12.02288791005,12.02288791005 0 0 0 254.14851617452 -253.70517004159 A 3.4679026047,3.4679026047 0 0 0 251.50301355971 -256.02920586091 L 202.70887414026 -265.32641631235 A 167.42096963965,167.42096963965 0 0 0 194.23965898035 -266.71619691239 A 113.11922815576,113.11922815576 180 0 1 185.79147491022 -268.20941993652 L 141.16296879684 -277.85580915402\" />\r\n",
       "    <polygon stroke=\"#000000\" stroke-opacity=\"1\" stroke-width=\"1\" fill=\"#000000\" fill-opacity=\"1\" points=\"141.63134234888 -280.022714455 131.38869065218 -279.96850571312 140.69459524479 -275.68890385304\" />\r\n",
       "    <path fill=\"none\" stroke=\"#000000\" stroke-opacity=\"1\" stroke-width=\"1\" d=\"M 31.85461552723 .25226811224 L 50.52388491671 7.00076231011 A 36.83026643683,36.83026643683 0 0 0 57.58006592535 8.7866241736 A 127.4457510353,127.4457510353 0 0 0 64.83874587978 9.6635119481 L 122.71430711409 14.97595674581 A 109.637854465,109.637854465 180 0 1 131.38800012945 16.1226841037 A 140.1912404673,140.1912404673 180 0 1 139.96091303399 17.88349609337 L 177.61414917524 26.85058864638\" />\r\n",
       "    <polygon stroke=\"#000000\" stroke-opacity=\"1\" stroke-width=\"1\" fill=\"#000000\" fill-opacity=\"1\" points=\"177.10054845209 29.00722182447 187.34209276795 29.16729179028 178.12774989838 24.69395546829\" />\r\n",
       "    <path fill=\"none\" stroke=\"#000000\" stroke-opacity=\"1\" stroke-width=\"1\" d=\"M 45.37895336797 -39.74773188776 L 79.44990723768 -57.22830904227 A .08212318478,.08212318478 180 0 1 79.51260920182 -57.23339842814 A .22254524872,.22254524872 0 0 0 79.57906474565 -57.22265782364 L 239.07904167215 -55.88167380148 A 3.66718546212,3.66718546212 0 0 0 241.47675949871 -56.74764173621 A 2.77727167327,2.77727167327 0 0 0 242.45916167412 -58.98329907825 L 240.01485447471 -118.32091273738 A 15.11768612185,15.11768612185 0 0 0 234.31002247736 -129.53861014303 A 26.27961260157,26.27961260157 0 0 0 222.05363314809 -134.91719061071 L -182.65196986256 -198.58490399064 A 95.77474454784,95.77474454784 180 0 1 -190.93833635649 -200.26631854775 A 76.13276503205,76.13276503205 180 0 1 -199.01165771252 -202.76260596088 L -210.59873411427 -207.06332118378\" />\r\n",
       "    <polygon stroke=\"#000000\" stroke-opacity=\"1\" stroke-width=\"1\" fill=\"#000000\" fill-opacity=\"1\" points=\"-209.82730488892 -209.14172184726 -219.97379363888 -210.54301354233 -211.37016333963 -204.9849205203\" />\r\n",
       "    <path fill=\"none\" stroke=\"#000000\" stroke-opacity=\"1\" stroke-width=\"1\" d=\"M 367.97436125387 -39.74773188776 L 78.97804184819 -46.09794582136 A .00093755639,.00093755639 0 0 0 78.97797281193 -46.09607218703 A 2.50167202256,2.50167202256 0 0 0 79.10406690408 -46.09273297018 L 244.21035691327 -45.88432125953 A 9.10469871957,9.10469871957 0 0 0 250.22010110745 -48.13944935881 A 9.59990490563,9.59990490563 180 0 1 256.22798223066 -50.51201931369 L 681.50011895959 -64.54563533779 A 60.95206944375,60.95206944375 0 0 0 689.25128414985 -65.2991970404 A 49.17440978116,49.17440978116 0 0 0 696.80747395127 -67.14850515603 L 710.89367596746 -71.80407502084\" />\r\n",
       "    <polygon stroke=\"#000000\" stroke-opacity=\"1\" stroke-width=\"1\" fill=\"#000000\" fill-opacity=\"1\" points=\"711.58937690108 -69.69911597643 720.38853260648 -74.94217913071 710.19797503384 -73.90903406525\" />\r\n",
       "    <path fill=\"none\" stroke=\"#000000\" stroke-opacity=\"1\" stroke-width=\"1\" d=\"M -80.42331754794 -39.74773188776 L -99.28307878423 -45.95433521706 A 34.8282000078,34.8282000078 0 0 0 -104.5211129886 -47.23853541057 A 39.99677611973,39.99677611973 0 0 0 -109.89364211142 -47.75265262137 L -211.55133920347 -50.58791621266 A 57.16257940689,57.16257940689 180 0 1 -218.77500217235 -51.24982648577 A 65.34743065964,65.34743065964 180 0 1 -225.87227620359 -52.76571682675 L -257.23825882939 -61.31102463591\" />\r\n",
       "    <polygon stroke=\"#000000\" stroke-opacity=\"1\" stroke-width=\"1\" fill=\"#000000\" fill-opacity=\"1\" points=\"-256.65551610652 -63.45001114513 -266.88660344293 -63.9396071852 -257.82100155226 -59.17203812669\" />\r\n",
       "    <path fill=\"none\" stroke=\"#000000\" stroke-opacity=\"1\" stroke-width=\"1\" d=\"M -22.71245534153 .25226811224 L -95.41229729548 18.57849017374 A 10.37807892585,10.37807892585 180 0 1 -99.83483620891 18.72053012749 A 22.72598620658,22.72598620658 0 0 0 -104.32577909945 18.34507297248 L -332.16065914524 21.96909166994 A 14.45898979349,14.45898979349 0 0 0 -338.87878741715 23.74609303062 A 4.31047251432,4.31047251432 0 0 0 -340.90382161379 28.86785320776 L -321.44481683617 88.28362295336 A 119.50653935198,119.50653935198 0 0 0 -315.97336730797 102.04274697621 A 56.31518263331,56.31518263331 0 0 0 -308.01829704675 114.41442020965 L -205.17025829573 235.92467867412 A 593.11792865285,593.11792865285 0 0 0 -196.38681707687 246.06702108868 A 605.34027827742,605.34027827742 180 0 1 -189.38721607109 254.10875303383\" />\r\n",
       "    <polygon stroke=\"#000000\" stroke-opacity=\"1\" stroke-width=\"1\" fill=\"#000000\" fill-opacity=\"1\" points=\"-191.07783164362 255.54286298555 -182.91836413201 261.73462705523 -187.69660049857 252.67464308212\" />\r\n",
       "    <path fill=\"none\" stroke=\"#000000\" stroke-opacity=\"1\" stroke-width=\"1\" d=\"M 739.5083571564 -74.94217913071 L 698.69033641719 -61.45159117261 A 55.31717060041,55.31717060041 180 0 1 690.25717557818 -59.38217285633 A 66.11397037189,66.11397037189 180 0 1 681.60604622192 -58.5465704594 L 251.50498379296 -45.41910906993 A 7.50267436224,7.50267436224 0 0 0 248.37118705775 -44.6268241387 A 6.99540684357,6.99540684357 180 0 1 245.2366199615 -43.88485075114 L 79.00906733577 -43.86674799949 A 2.67955145972,2.67955145972 180 0 1 78.88360451947 -43.86967316289 A .00110064534,.00110064534 180 0 1 78.8836687703 -43.87187317718 L 422.49412288639 -39.86435368748\" />\r\n",
       "    <polygon stroke=\"#000000\" stroke-opacity=\"1\" stroke-width=\"1\" fill=\"#000000\" fill-opacity=\"1\" points=\"422.46826845578 -37.64755782045 432.49344283105 -39.74773188776 422.51997731699 -42.08114955451\" />\r\n",
       "    <path fill=\"none\" stroke=\"#000000\" stroke-opacity=\"1\" stroke-width=\"1\" d=\"M -175.05459654024 261.73462705523 L -183.02307927285 252.32894327339 A 608.06438140191,608.06438140191 0 0 0 -191.85199760196 242.13888299731 A 595.32190556247,595.32190556247 180 0 1 -200.67847422993 231.9467551102 L -304.47348553286 109.31324943925 A 187.43596144059,187.43596144059 180 0 1 -312.60952887217 98.98691317861 A 38.66272723542,38.66272723542 180 0 1 -318.41007111586 87.38829624374 L -336.29202476712 28.58818557274 A 2.41873243885,2.41873243885 180 0 1 -335.34810292159 25.89122227022 A 5.84613114957,5.84613114957 180 0 1 -332.1186261898 24.86331771292 L -105.06986300602 21.66872091788 A 29.29657040497,29.29657040497 180 0 1 -99.58619867604 22.10812133299 A 13.45922098881,13.45922098881 0 0 0 -94.17560746784 21.9540086083 L -11.61416423424 2.54116660123\" />\r\n",
       "    <polygon stroke=\"#000000\" stroke-opacity=\"1\" stroke-width=\"1\" fill=\"#000000\" fill-opacity=\"1\" points=\"-11.1067276547 4.69925846337 -1.87964094303 .25226811224 -12.12160081378 .3830747391\" />\r\n",
       "    <path fill=\"none\" stroke=\"#000000\" stroke-opacity=\"1\" stroke-width=\"1\" d=\"M 478.92105775585 -465.5224432873 L 1104.38397661223 -273.68769826107\" />\r\n",
       "    <polygon stroke=\"#000000\" stroke-opacity=\"1\" stroke-width=\"1\" fill=\"#000000\" fill-opacity=\"1\" points=\"1103.73390923142 -271.56820191333 1113.94440678886 -270.75543380545 1105.03404399303 -275.80719460881\" />\r\n",
       "    <path fill=\"none\" stroke=\"#000000\" stroke-opacity=\"1\" stroke-width=\"1\" d=\"M -244.04413147382 -63.9396071852 L -222.4443423757 -58.06057433075 A 45.35352277792,45.35352277792 0 0 0 -217.86102976357 -57.06443928909 A 34.86328375176,34.86328375176 0 0 0 -213.19619182785 -56.61982842815 L -110.84365872766 -53.77694111763 A 54.73341546259,54.73341546259 180 0 1 -103.52971116209 -53.08049574317 A 46.17320277371,46.17320277371 180 0 1 -96.40269373774 -51.32375122791 L -71.1043543637 -42.90520464625\" />\r\n",
       "    <polygon stroke=\"#000000\" stroke-opacity=\"1\" stroke-width=\"1\" fill=\"#000000\" fill-opacity=\"1\" points=\"-71.80434922335 -40.80166963011 -61.61592110106 -39.74773188776 -70.40435950404 -45.00873966239\" />\r\n",
       "    <path fill=\"none\" stroke=\"#000000\" stroke-opacity=\"1\" stroke-width=\"1\" d=\"M 160.02683993764 -279.96850571312 L 189.07740892401 -273.61813978912 A 57.9232326991,57.9232326991 0 0 0 195.17097188536 -272.62294879224 A 64.39884026212,64.39884026212 180 0 1 201.27143003813 -271.66013042024 L 252.66656575545 -261.00053110485 A 8.78150109625,8.78150109625 180 0 1 259.01534556031 -255.71606355005 A 22.71416303154,22.71416303154 180 0 1 260.69066254372 -246.7028337349 L 259.07836321779 -163.70499380202 A 48.88334635106,48.88334635106 180 0 1 252.91183203004 -140.8711638066 A 44.31849179229,44.31849179229 0 0 0 247.33095473518 -118.04003084705 L 249.01851443988 -59.11985843049 A 6.5869792638,6.5869792638 180 0 1 246.70074371782 -53.91278908975 A 8.52587971095,8.52587971095 180 0 1 241.1315677686 -51.8827327847 L 79.38906560902 -52.77068788226 A 1.24753378438,1.24753378438 180 0 1 79.26137952204 -52.77794446049 A .00089711536,.00089711536 0 0 0 79.26116108188 -52.77616375391 L 164.50954976262 -41.10424244867\" />\r\n",
       "    <polygon stroke=\"#000000\" stroke-opacity=\"1\" stroke-width=\"1\" fill=\"#000000\" fill-opacity=\"1\" points=\"164.20881861074 -38.90778777307 174.41711652233 -39.74773188776 164.8102809145 -43.30069712427\" />\r\n",
       "    <!--nodes-->\r\n",
       "    <rect fill=\"#f0ffff\" fill-opacity=\"1\" stroke=\"#000000\" stroke-opacity=\"1\" stroke-width=\"1\" x=\"-318.20847849963\" y=\"29.16729179028\" width=\"1060.8\" height=\"40\" rx=\"3\" ry=\"3\" />\r\n",
       "    <text x=\"-312.90447849963\" y=\"62.50062512361\" font-family=\"Arial\" font-size=\"16\" fill=\"#000000\">\r\n",
       "      <tspan x=\"-312.90447849963\" dy=\"0\">6: /subscriptions/0f47daf8-38d9-4100-9afc-7ceca28f800d/resourceGroups/vnet-test/providers/Microsoft.Network/virtualNetworks/VNET-G</tspan>\r\n",
       "    </text>\r\n",
       "    <rect fill=\"#f0ffff\" fill-opacity=\"1\" stroke=\"#000000\" stroke-opacity=\"1\" stroke-width=\"1\" x=\"648.75291933135\" y=\"-270.75543380545\" width=\"1060.8\" height=\"40\" rx=\"3\" ry=\"3\" />\r\n",
       "    <text x=\"654.05691933135\" y=\"-237.42210047211\" font-family=\"Arial\" font-size=\"16\" fill=\"#000000\">\r\n",
       "      <tspan x=\"654.05691933135\" dy=\"0\">4: /subscriptions/0f47daf8-38d9-4100-9afc-7ceca28f800d/resourceGroups/vnet-test/providers/Microsoft.Network/virtualNetworks/VNET-E</tspan>\r\n",
       "    </text>\r\n",
       "    <rect fill=\"#f0ffff\" fill-opacity=\"1\" stroke=\"#000000\" stroke-opacity=\"1\" stroke-width=\"1\" x=\"-1346.14406501726\" y=\"209.31577467765\" width=\"1060.8\" height=\"40\" rx=\"3\" ry=\"3\" />\r\n",
       "    <text x=\"-1340.84006501726\" y=\"242.64910801098\" font-family=\"Arial\" font-size=\"16\" fill=\"#000000\">\r\n",
       "      <tspan x=\"-1340.84006501726\" dy=\"0\">2: /subscriptions/0f47daf8-38d9-4100-9afc-7ceca28f800d/resourceGroups/vnet-test/providers/Microsoft.Network/virtualNetworks/VNET-C</tspan>\r\n",
       "    </text>\r\n",
       "    <rect fill=\"#f0ffff\" fill-opacity=\"1\" stroke=\"#000000\" stroke-opacity=\"1\" stroke-width=\"1\" x=\"-738.62811483368\" y=\"-157.91150381409\" width=\"179.52\" height=\"40\" rx=\"3\" ry=\"3\" />\r\n",
       "    <text x=\"-737.73051483368\" y=\"-124.57817048076\" font-family=\"Arial\" font-size=\"16\" fill=\"#000000\">\r\n",
       "      <tspan x=\"-737.73051483368\" dy=\"0\">13: NetworkInterface-8</tspan>\r\n",
       "    </text>\r\n",
       "    <rect fill=\"#f0ffff\" fill-opacity=\"1\" stroke=\"#000000\" stroke-opacity=\"1\" stroke-width=\"1\" x=\"-812.87966142281\" y=\"-250.54301354233\" width=\"1060.8\" height=\"40\" rx=\"3\" ry=\"3\" />\r\n",
       "    <text x=\"-807.57566142281\" y=\"-217.209680209\" font-family=\"Arial\" font-size=\"16\" fill=\"#000000\">\r\n",
       "      <tspan x=\"-807.57566142281\" dy=\"0\">7: /subscriptions/0f47daf8-38d9-4100-9afc-7ceca28f800d/resourceGroups/vnet-test/providers/Microsoft.Network/virtualNetworks/VNET-H</tspan>\r\n",
       "    </text>\r\n",
       "    <rect fill=\"#f0ffff\" fill-opacity=\"1\" stroke=\"#000000\" stroke-opacity=\"1\" stroke-width=\"1\" x=\"1174.91731328104\" y=\"246.78858445567\" width=\"1060.8\" height=\"40\" rx=\"3\" ry=\"3\" />\r\n",
       "    <text x=\"1180.22131328104\" y=\"280.121917789\" font-family=\"Arial\" font-size=\"16\" fill=\"#000000\">\r\n",
       "      <tspan x=\"1180.22131328104\" dy=\"0\">1: /subscriptions/0f47daf8-38d9-4100-9afc-7ceca28f800d/resourceGroups/vnet-test/providers/Microsoft.Network/virtualNetworks/VNET-B</tspan>\r\n",
       "    </text>\r\n",
       "    <rect fill=\"#f0ffff\" fill-opacity=\"1\" stroke=\"#000000\" stroke-opacity=\"1\" stroke-width=\"1\" x=\"1724.84891379527\" y=\"463.81770000802\" width=\"179.52\" height=\"40\" rx=\"3\" ry=\"3\" />\r\n",
       "    <text x=\"1725.74651379527\" y=\"497.15103334135\" font-family=\"Arial\" font-size=\"16\" fill=\"#000000\">\r\n",
       "      <tspan x=\"1725.74651379527\" dy=\"0\">11: NetworkInterface-0</tspan>\r\n",
       "    </text>\r\n",
       "    <rect fill=\"#f0ffff\" fill-opacity=\"1\" stroke=\"#000000\" stroke-opacity=\"1\" stroke-width=\"1\" x=\"-1398.86502901899\" y=\"77.81073925827\" width=\"1060.8\" height=\"40\" rx=\"3\" ry=\"3\" />\r\n",
       "    <text x=\"-1393.56102901899\" y=\"111.1440725916\" font-family=\"Arial\" font-size=\"16\" fill=\"#000000\">\r\n",
       "      <tspan x=\"-1393.56102901899\" dy=\"0\">3: /subscriptions/0f47daf8-38d9-4100-9afc-7ceca28f800d/resourceGroups/vnet-test/providers/Microsoft.Network/virtualNetworks/VNET-D</tspan>\r\n",
       "    </text>\r\n",
       "    <rect fill=\"#f0ffff\" fill-opacity=\"1\" stroke=\"#000000\" stroke-opacity=\"1\" stroke-width=\"1\" x=\"-554.35591530105\" y=\"-39.74773188776\" width=\"1060.8\" height=\"40\" rx=\"3\" ry=\"3\" />\r\n",
       "    <text x=\"-549.05191530105\" y=\"-6.41439855443\" font-family=\"Arial\" font-size=\"16\" fill=\"#000000\">\r\n",
       "      <tspan x=\"-549.05191530105\" dy=\"0\">0: /subscriptions/0f47daf8-38d9-4100-9afc-7ceca28f800d/resourceGroups/vnet-test/providers/Microsoft.Network/virtualNetworks/VNET-A</tspan>\r\n",
       "    </text>\r\n",
       "    <rect fill=\"#f0ffff\" fill-opacity=\"1\" stroke=\"#000000\" stroke-opacity=\"1\" stroke-width=\"1\" x=\"260.06177590302\" y=\"-114.94217913071\" width=\"1060.8\" height=\"40\" rx=\"3\" ry=\"3\" />\r\n",
       "    <text x=\"265.36577590302\" y=\"-81.60884579737\" font-family=\"Arial\" font-size=\"16\" fill=\"#000000\">\r\n",
       "      <tspan x=\"265.36577590302\" dy=\"0\">8: /subscriptions/0f47daf8-38d9-4100-9afc-7ceca28f800d/resourceGroups/vnet-test/providers/Microsoft.Network/virtualNetworks/VNET-I</tspan>\r\n",
       "    </text>\r\n",
       "    <rect fill=\"#f0ffff\" fill-opacity=\"1\" stroke=\"#000000\" stroke-opacity=\"1\" stroke-width=\"1\" x=\"-696.52250705903\" y=\"261.73462705523\" width=\"1068.96\" height=\"40\" rx=\"3\" ry=\"3\" />\r\n",
       "    <text x=\"-691.17770705903\" y=\"295.06796038856\" font-family=\"Arial\" font-size=\"16\" fill=\"#000000\">\r\n",
       "      <tspan x=\"-691.17770705903\" dy=\"0\">10: /subscriptions/0f47daf8-38d9-4100-9afc-7ceca28f800d/resourceGroups/vnet-test/providers/Microsoft.Network/virtualNetworks/VNET-K</tspan>\r\n",
       "    </text>\r\n",
       "    <rect fill=\"#f0ffff\" fill-opacity=\"1\" stroke=\"#000000\" stroke-opacity=\"1\" stroke-width=\"1\" x=\"323.95254521337\" y=\"-505.5224432873\" width=\"179.52\" height=\"40\" rx=\"3\" ry=\"3\" />\r\n",
       "    <text x=\"324.85014521337\" y=\"-472.18910995397\" font-family=\"Arial\" font-size=\"16\" fill=\"#000000\">\r\n",
       "      <tspan x=\"324.85014521337\" dy=\"0\">12: NetworkInterface-3</tspan>\r\n",
       "    </text>\r\n",
       "    <rect fill=\"#f0ffff\" fill-opacity=\"1\" stroke=\"#000000\" stroke-opacity=\"1\" stroke-width=\"1\" x=\"-828.89253545627\" y=\"-103.9396071852\" width=\"1060.8\" height=\"40\" rx=\"3\" ry=\"3\" />\r\n",
       "    <text x=\"-823.58853545627\" y=\"-70.60627385187\" font-family=\"Arial\" font-size=\"16\" fill=\"#000000\">\r\n",
       "      <tspan x=\"-823.58853545627\" dy=\"0\">9: /subscriptions/0f47daf8-38d9-4100-9afc-7ceca28f800d/resourceGroups/vnet-test/providers/Microsoft.Network/virtualNetworks/VNET-J</tspan>\r\n",
       "    </text>\r\n",
       "    <rect fill=\"#f0ffff\" fill-opacity=\"1\" stroke=\"#000000\" stroke-opacity=\"1\" stroke-width=\"1\" x=\"-432.49238659593\" y=\"-319.96850571312\" width=\"1060.8\" height=\"40\" rx=\"3\" ry=\"3\" />\r\n",
       "    <text x=\"-427.18838659593\" y=\"-286.63517237979\" font-family=\"Arial\" font-size=\"16\" fill=\"#000000\">\r\n",
       "      <tspan x=\"-427.18838659593\" dy=\"0\">5: /subscriptions/0f47daf8-38d9-4100-9afc-7ceca28f800d/resourceGroups/vnet-test/providers/Microsoft.Network/virtualNetworks/VNET-F</tspan>\r\n",
       "    </text>\r\n",
       "    <!--end of nodes-->\r\n",
       "  </g>\r\n",
       "</svg>"
      ]
     },
     "metadata": {},
     "output_type": "display_data"
    }
   ],
   "source": [
    "using System.IO;\n",
    "\n",
    "var path = Path.GetTempPath();\n",
    "var svg = File.ReadAllText($\"{path}\\\\topology.svg\");\n",
    "var gv = File.ReadAllText($\"{path}\\\\topology.gv\");\n",
    "svg.DisplayAs(\"text/html\"); // this will embed a big SVG into the notebook, and it is not very convenient"
   ]
  },
  {
   "cell_type": "markdown",
   "metadata": {},
   "source": [
    "So we are going to do it a bit differently. We will use HTML and [vis.js](https://visjs.org/). First we prepare a canvas"
   ]
  },
  {
   "cell_type": "code",
   "execution_count": null,
   "metadata": {
    "dotnet_interactive": {
     "language": "html"
    }
   },
   "outputs": [
    {
     "data": {
      "text/html": [
       "<div id=\"mynetwork\" style=\"height: 800px;\"></div>"
      ]
     },
     "metadata": {},
     "output_type": "display_data"
    }
   ],
   "source": [
    "#!html\n",
    "<div id=\"mynetwork\" style=\"height: 800px;\"></div>"
   ]
  },
  {
   "cell_type": "markdown",
   "metadata": {},
   "source": [
    "And then visualize the graph. pay attention to the line `#!share --from csharp gv`. It is a convenient way to \"share\" variables within the same kernel between different languages. In this case, we used C# to read the Graphviz file into the `gv` variable, and then use that variable within the block of JavaScript!"
   ]
  },
  {
   "cell_type": "code",
   "execution_count": null,
   "metadata": {
    "dotnet_interactive": {
     "language": "javascript"
    }
   },
   "outputs": [],
   "source": [
    "#!js\n",
    "#!share --from csharp gv\n",
    "\n",
    "visRequire = interactive.configureRequire({\n",
    "    paths: {\n",
    "        visjs: \"https://visjs.github.io/vis-network/standalone/umd/vis-network.min\"\n",
    "    }\n",
    "});\n",
    "    \n",
    "visRequire([\"visjs\"], visjs => {\n",
    "    \n",
    "    var container = document.getElementById(\"mynetwork\");\n",
    "    var dot = gv;\n",
    "    var parsedData = visjs.parseDOTNetwork(dot);\n",
    "\n",
    "    var data = {\n",
    "        nodes: parsedData.nodes,\n",
    "        edges: parsedData.edges\n",
    "    };\n",
    "    var options = parsedData.options;\n",
    "    options = {\n",
    "        physics: {\n",
    "            solver: \"forceAtlas2Based\",\n",
    "            enabled: false,\n",
    "            forceAtlas2Based: {\n",
    "                theta: 0.5,\n",
    "                gravitationalConstant: -50,\n",
    "                centralGravity: 0.01,\n",
    "                springConstant: 0.08,\n",
    "                springLength: 100,\n",
    "                damping: 0.4,\n",
    "                avoidOverlap: 0.7\n",
    "              },\n",
    "            barnesHut: {\n",
    "                theta: 0.5,\n",
    "                gravitationalConstant: -2000,\n",
    "                centralGravity: 0.3,\n",
    "                springLength: 95,\n",
    "                springConstant: 0.04,\n",
    "                damping: 0.09,\n",
    "                avoidOverlap: 0\n",
    "            }\n",
    "        },\n",
    "        interaction: { hover: true, zoomView: true },\n",
    "        layout: { randomSeed: 'Mickey' }\n",
    "    }\n",
    "\n",
    "    var network = new visjs.Network(container, data, options); \n",
    "    network.stabilize(600)\n",
    "});"
   ]
  },
  {
   "cell_type": "markdown",
   "metadata": {},
   "source": [
    "Voila! Here we see, that the misconfigured VNET is marked red. And it has a NIC attached to it. Which is, potentially, the root cause of the hypothetical problem :)"
   ]
  }
 ],
 "metadata": {
  "kernelspec": {
   "display_name": ".NET (C#)",
   "language": "C#",
   "name": ".net-csharp"
  },
  "language_info": {
   "name": "C#"
  }
 },
 "nbformat": 4,
 "nbformat_minor": 2
}

{
 "cells": [
  {
   "cell_type": "markdown",
   "metadata": {},
   "source": [
    "# Еще немного про визуализацию графов в Azure"
   ]
  },
  {
   "cell_type": "markdown",
   "metadata": {},
   "source": [
    "> Этот ноутбук работает на Linux, а значит должно работать и в [![Binder](https://mybinder.org/badge_logo.svg)](https://mybinder.org/v2/gh/eosfor/scripting-notes/HEAD)"
   ]
  },
  {
   "cell_type": "markdown",
   "metadata": {},
   "source": [
    "## Сценарий\n",
    "\n",
    "Предположим, что у нас есть некая сетевая структура - звезда. Она динамичная, сетки на периферии добавляются и исчезают динамически и нам заранее не известно сколько их есть на данный момент. Первое, что мы хотим сделать - визуализировать топологию сети. Так же мы хотим подсвечивать сети, пиринг на которых не сконфигурирован до конца, поскольку мы знаем что такая проблема иногда возникает из-за ошибок в автоматизации создания сетей. И наконец, к сетям подключены устройства, и мы знаем что одно из них странно себя ведет - где-то работает, а где-то нет. Мы хотим посмотреть, в каких сетях эти устройства для дальнейшего анализа и идентификации проблемы."
   ]
  },
  {
   "cell_type": "markdown",
   "metadata": {},
   "source": [
    "## Подготовка\n",
    "\n",
    "В этой секции мы подготовим наш стенд. Создадим сети, пиринги между ними. Эмулируем ошибку, а так же добавим сетевые интерфейсы - они сыграют роль виртуальных машин в этих сетях"
   ]
  },
  {
   "cell_type": "code",
   "execution_count": null,
   "metadata": {
    "dotnet_interactive": {
     "language": "pwsh"
    }
   },
   "outputs": [],
   "source": [
    "Install-Module -Name PSQuickGraph -AllowPrerelease -RequiredVersion \"2.0.2-alpha\""
   ]
  },
  {
   "cell_type": "markdown",
   "metadata": {},
   "source": [
    "Загрузим нужные модули"
   ]
  },
  {
   "cell_type": "code",
   "execution_count": null,
   "metadata": {
    "dotnet_interactive": {
     "language": "pwsh"
    }
   },
   "outputs": [],
   "source": [
    "Import-Module ipmgmt\n",
    "Import-Module PSQuickGraph -RequiredVersion \"2.0.2\""
   ]
  },
  {
   "cell_type": "markdown",
   "metadata": {},
   "source": [
    "Авторизуемся в Azure"
   ]
  },
  {
   "cell_type": "code",
   "execution_count": null,
   "metadata": {
    "dotnet_interactive": {
     "language": "pwsh"
    }
   },
   "outputs": [],
   "source": [
    "Login-AzAccount"
   ]
  },
  {
   "cell_type": "markdown",
   "metadata": {},
   "source": [
    "Зададим начальные константы"
   ]
  },
  {
   "cell_type": "code",
   "execution_count": null,
   "metadata": {
    "dotnet_interactive": {
     "language": "pwsh"
    }
   },
   "outputs": [],
   "source": [
    "$rgName = \"vnet-test\"\n",
    "$region = \"eastus2\"\n",
    "$baseNet = \"10.96.0.0/16\""
   ]
  },
  {
   "cell_type": "markdown",
   "metadata": {
    "dotnet_interactive": {
     "language": "pwsh"
    }
   },
   "source": [
    "Создадим ресурсную группу, если еще нет такой. Чтоб два раза не вставать и в портал не ходить"
   ]
  },
  {
   "cell_type": "code",
   "execution_count": null,
   "metadata": {
    "dotnet_interactive": {
     "language": "pwsh"
    }
   },
   "outputs": [],
   "source": [
    "New-AzResourceGroup -Name $rgName -Location $region"
   ]
  },
  {
   "cell_type": "markdown",
   "metadata": {},
   "source": [
    "Подготовим параметры для создания сетей. Здесь мы используем модуль `ipmgmt`, который рассматривали в [передыдущем](https://github.com/eosfor/scripting-notes/blob/main/notebooks/ru/ipmgmt.ipynb) ноутбуке. Мы просто формируем массив из хеш таблиц. Этот массив, можно использовать в команде `Get-VLSMBreakdown`, чтобы рассчитать диапазоны сеток, которые мы хотим создать. Мы просто итерируем по алфавиту от \"A\" до \"K\", для каждой буквы создаем соответствующую хеш таблицу. В ней есть имя сети и ее размер."
   ]
  },
  {
   "cell_type": "code",
   "execution_count": null,
   "metadata": {
    "dotnet_interactive": {
     "language": "pwsh"
    }
   },
   "outputs": [],
   "source": [
    "$vnets = \"A\"..\"K\" | % { @{type = \"VNET-$_\"; size = (256-2)} }"
   ]
  },
  {
   "cell_type": "markdown",
   "metadata": {},
   "source": [
    "Теперь просто передаем этот массив в команду, которая и посчитает нам разбиение сети на подсети. Нам надо отфильтровать зарезервированные, чтобы не сбивало с толку."
   ]
  },
  {
   "cell_type": "code",
   "execution_count": null,
   "metadata": {
    "dotnet_interactive": {
     "language": "pwsh"
    }
   },
   "outputs": [
    {
     "name": "stdout",
     "output_type": "stream",
     "text": [
      "\r\n",
      "\u001b[32;1mtype   Network    Netmask       FirstUsable LastUsable   Usable Cidr\u001b[0m\r\n",
      "\u001b[32;1m----   -------    -------       ----------- ----------   ------ ----\u001b[0m\r\n",
      "VNET-K 10.96.10.0 255.255.255.0 10.96.10.1  10.96.10.254    254   24\r\n",
      "VNET-J 10.96.9.0  255.255.255.0 10.96.9.1   10.96.9.254     254   24\r\n",
      "VNET-I 10.96.8.0  255.255.255.0 10.96.8.1   10.96.8.254     254   24\r\n",
      "VNET-H 10.96.7.0  255.255.255.0 10.96.7.1   10.96.7.254     254   24\r\n",
      "VNET-G 10.96.6.0  255.255.255.0 10.96.6.1   10.96.6.254     254   24\r\n",
      "VNET-F 10.96.5.0  255.255.255.0 10.96.5.1   10.96.5.254     254   24\r\n",
      "VNET-E 10.96.4.0  255.255.255.0 10.96.4.1   10.96.4.254     254   24\r\n",
      "VNET-D 10.96.3.0  255.255.255.0 10.96.3.1   10.96.3.254     254   24\r\n",
      "VNET-C 10.96.2.0  255.255.255.0 10.96.2.1   10.96.2.254     254   24\r\n",
      "VNET-B 10.96.1.0  255.255.255.0 10.96.1.1   10.96.1.254     254   24\r\n",
      "VNET-A 10.96.0.0  255.255.255.0 10.96.0.1   10.96.0.254     254   24\r\n",
      "\r\n"
     ]
    }
   ],
   "source": [
    "Get-VLSMBreakdown -Network $baseNet -SubnetSize $vnets | ? type -ne 'reserved' | \n",
    "    ft type, network, netmask, *usable, cidr -AutoSize"
   ]
  },
  {
   "cell_type": "markdown",
   "metadata": {},
   "source": [
    "Теперь можно эти сети создать. В каждой сети одна подсеть, для простоты. Но ничто не мешает использовать `Get-VLSMBreakdown` еще раз, автоматически посчитать подсети и каждую из них разделить как вам надо."
   ]
  },
  {
   "cell_type": "code",
   "execution_count": null,
   "metadata": {
    "dotnet_interactive": {
     "language": "pwsh"
    }
   },
   "outputs": [],
   "source": [
    "Get-VLSMBreakdown -Network $baseNet -SubnetSize $vnets | ? type -ne 'reserved' | % {\n",
    "    $addressPrefix = \"$($_.network)/$($_.cidr)\"\n",
    "    $subnet = New-AzVirtualNetworkSubnetConfig -Name \"default\" -AddressPrefix $addressPrefix\n",
    "    New-AzVirtualNetwork -Name $_.type -ResourceGroupName $rgName -Location $region -AddressPrefix $addressPrefix -Subnet $subnet\n",
    "}"
   ]
  },
  {
   "cell_type": "markdown",
   "metadata": {},
   "source": [
    "Теперь добавим VNET Peering"
   ]
  },
  {
   "cell_type": "code",
   "execution_count": null,
   "metadata": {
    "dotnet_interactive": {
     "language": "pwsh"
    }
   },
   "outputs": [],
   "source": [
    "$nets = Get-AzVirtualNetwork -ResourceGroupName $rgName"
   ]
  },
  {
   "cell_type": "markdown",
   "metadata": {},
   "source": [
    "Построим hub-and-spoke топологию. В данном случае нам все равно какая из сеток будет хабом. Потому возьмем нулевую в качестве hub, остальные - spokes. Ну и пропустим один обратный пиринг, почему бы и нет ;)"
   ]
  },
  {
   "cell_type": "code",
   "execution_count": null,
   "metadata": {
    "dotnet_interactive": {
     "language": "pwsh"
    }
   },
   "outputs": [],
   "source": [
    "$hub = $nets[0]\n",
    "$spokes = $nets[1..($nets.count-1)]\n",
    "\n",
    "$spokes | % {\n",
    "    Add-AzVirtualNetworkPeering `\n",
    "        -Name \"$($hub.Name)-$($_.Name)\" `\n",
    "        -VirtualNetwork $hub `\n",
    "        -RemoteVirtualNetworkId $_.Id\n",
    "}\n",
    "\n",
    "$spokes | select -Skip 1 |  % {      \n",
    "    Add-AzVirtualNetworkPeering `\n",
    "        -Name \"$($_.Name)-$($hub.Name)\" `\n",
    "        -VirtualNetwork $_ `\n",
    "        -RemoteVirtualNetworkId $hub.Id\n",
    "}"
   ]
  },
  {
   "cell_type": "markdown",
   "metadata": {},
   "source": [
    "Для моделирования устройств, чтобы не создавать виртуальных машин просто добавим пару-тройку сетевух в случайные сеточки. Ну, не совсем в случайные. Тут есть пример хитрого синтаксиса для командлета `... | % {} {} {}`. Командлет `Foreach-Object` принимает три скриптблока `begin`, `process`, `end`. В данном случае мы инициализируем переменную в `begin` блоке, а затем используем ее в `process`. Таким образом она остается локальной внутри командлета, но вместе с тем оказывается проинициализиованной. Таким образом нулевая сеть в списке `spokes` всегда будет содержать сетевой интерфейс. Остальные расположатся случайным образом"
   ]
  },
  {
   "cell_type": "code",
   "execution_count": null,
   "metadata": {
    "dotnet_interactive": {
     "language": "pwsh"
    }
   },
   "outputs": [],
   "source": [
    "1..4 | % {$idx = 0} {\n",
    "    $vnetForNIC = $spokes[$idx]\n",
    "    New-AzNetworkInterface -Name \"NetworkInterface-$idx\" -ResourceGroupName $rgName -Location $region -SubnetId $vnetForNIC.Subnets[0].Id\n",
    "    $idx = Get-Random -Minimum 1 -Maximum ($spokes.Count-1)\n",
    "}"
   ]
  },
  {
   "cell_type": "markdown",
   "metadata": {},
   "source": [
    "## Игра\n",
    "\n",
    "Если все прошло нормально - мы готовы к эксперименту. Прочитаем все сеточки из нашей ресурсной группы, ну и за одно создадим пустой граф"
   ]
  },
  {
   "cell_type": "code",
   "execution_count": null,
   "metadata": {
    "dotnet_interactive": {
     "language": "pwsh"
    }
   },
   "outputs": [],
   "source": [
    "$vnets = Get-AzVirtualNetwork -ResourceGroupName $rgName\n",
    "$g = New-Graph"
   ]
  },
  {
   "cell_type": "markdown",
   "metadata": {
    "dotnet_interactive": {
     "language": "pwsh"
    }
   },
   "source": [
    "Граф нам придется заполнять в несколько проходов. В первый проход мы добавим сети, затем пиринги и, наконец, сетевые интерфейсы."
   ]
  },
  {
   "cell_type": "markdown",
   "metadata": {},
   "source": [
    "#### Первая часть \"Марлезонского балета\" - VNETs"
   ]
  },
  {
   "cell_type": "markdown",
   "metadata": {},
   "source": [
    "У нас есть все необходимое, чтобы добавить в граф сети. Однако есть одна небольшя проблема. В граф можно добавлять любые объекты. При этом добавляемый объект преобразуется в специальный тип `PSGraph.Model.PSVertex`. Одним из важнейших свойств в этом типе является свойство `Label`, которое используется для сравнения вершин при добавлении, поиске и визуализации. Кроме того, этот тип содержит свойство `OriginalObject`, которое в свою очередь хранит целый объект, из которого получается эта вершина. По сути граф представляет собой упрощенную *in-memory* графовую базу данных, поскольку хранит все объекты, которые вы в него передали. Для того чтобы автоматически заполнить поле `Label` у каждого объекта, который вы передаете в граф, вызывается метод `ToString()`. Однако для объектов типа `PSVirtualNetwork` вызов `ToString()` возвращает только имя типа, что делает все `Label` всех вершин графа одинаковыми. Нам же необходимо, чтобы каждый уникальный объект имел свою уникальную `Label`. Для этого есть другой способ. У `PSGraph.Model.PSVertex` есть конструктор, который принимает `Label` и сам оригинальный объект. Таким образом мы можем переопределить `Label` в нашем коде, и просто передать уже готовое значение, и в дополнение к ней передеать сам оригинальный объект. Это мы и делаем ниже. В качестве метки выбран `resourceID` виртуальной сети, вторым параметром передается сам объект сети.\n",
    "\n",
    "> При экспорте в `dot` или `GraphML` данные из `OriginalObject` теряются."
   ]
  },
  {
   "cell_type": "code",
   "execution_count": null,
   "metadata": {
    "dotnet_interactive": {
     "language": "pwsh"
    }
   },
   "outputs": [],
   "source": [
    "$vnets | % {\n",
    "    Add-Vertex -Graph $g -Vertex ([PSGraph.Model.PSVertex]::new($_.Id, $_))\n",
    "}"
   ]
  },
  {
   "cell_type": "markdown",
   "metadata": {},
   "source": [
    "#### Вторая часть \"Марлезонского балета\" - VNET peerings"
   ]
  },
  {
   "cell_type": "markdown",
   "metadata": {},
   "source": [
    "В этот момент у нас в графе уже есть сети, но нет связей между ними - network peering. Чтобы их добавить мы побежим по самому графу - по всем вершинам, которые мы только что в него добавили. Как уже упоминалось, какждая вершина, в своем свойстве `OriginalObject` хранит оригинальный объект, из которого она создалась. В нашем случае это объект `PSVirtualNetwork`, мы его передали вторым параметром. Соотвественно, нам нужно для каждой вершины графа заглянуть в свойство `OriginalObject`, в котором хранится сеть, и в ней уже для каждого peering посмотреть, накакую сеть он показывает. Эта сеть хранится в виде `resourceID`. Мы предполагаем, что все возможные сети уже есть в графе, мы их добавили на предыдущем шаге. Это означает, что имея этот `resourceID` мы, в этом же графе можем найти вершину, являющуюся второй частью peering, и создать между ними ребро.\n",
    "\n",
    "Простыми словами - мы бежим по графу, вершинами которого являются сети. Для каждой вершины смотрим, с кем настроен ее peering. Используя `resourceID` из этого peering находим в графе вторую сеть и связываем их ребром."
   ]
  },
  {
   "cell_type": "code",
   "execution_count": null,
   "metadata": {
    "dotnet_interactive": {
     "language": "pwsh"
    }
   },
   "outputs": [],
   "source": [
    "foreach ($v in $g.Vertices){\n",
    "    foreach($p in $v.OriginalObject.VirtualNetworkPeerings) {\n",
    "        foreach ($rvn in $p.RemoteVirtualNetwork) {\n",
    "            $targetVertex = $g.Vertices.Where({$_.Label -eq $rvn.id})[0]\n",
    "            Add-Edge -From $v -To $targetVertex -Graph $g\n",
    "        }\n",
    "    }\n",
    "}"
   ]
  },
  {
   "cell_type": "markdown",
   "metadata": {},
   "source": [
    "В этот момент у нас в графе есть сетки и связи между ними. И это решает нашу первую задачу - нарисовать граф. Теперь мы хотим подсветить те сети, у которых не полностью сконфигурирован пиринг. Здесь мы немного схитрим, конечно. Мы знаем как именно он \"неправильно\" сконфигурирован - у него осутствует исходящая связь. Поэтому пробежимся во всем вершинам еще раз, и покрасим цветом все те, у которых отсуствует исходящая связь. Мы можем точно так же покрасить и те, у которых нет входящих связей - но для простоты опустим этот момент"
   ]
  },
  {
   "cell_type": "code",
   "execution_count": null,
   "metadata": {
    "dotnet_interactive": {
     "language": "pwsh"
    }
   },
   "outputs": [],
   "source": [
    "$g.Vertices | % { if ( $g.OutDegree($_) -eq 0 ) \n",
    "                    { $_.GVertexParameters.Fillcolor = [QuikGraph.Graphviz.Dot.GraphvizColor]::OrangeRed  } \n",
    "                }"
   ]
  },
  {
   "cell_type": "markdown",
   "metadata": {},
   "source": [
    "#### Третья часть \"Марлезонского балета\" - NICs"
   ]
  },
  {
   "cell_type": "markdown",
   "metadata": {},
   "source": [
    "На данном этапе в нашем графе присутствует топология сети, и покрашены \"поврежденные\" вершины. Пришло время добавить сетевые интерфейсы. Прочитаем их для начала"
   ]
  },
  {
   "cell_type": "code",
   "execution_count": null,
   "metadata": {
    "dotnet_interactive": {
     "language": "pwsh"
    }
   },
   "outputs": [],
   "source": [
    "$nics = Get-AzNetworkInterface -ResourceGroupName $rgName"
   ]
  },
  {
   "cell_type": "markdown",
   "metadata": {},
   "source": [
    "В свойстве `IpConfigurations` каждого интерфейса указана подсеть, в которую он подключен, в виде `resourceID`. И частью этого `resourceID` является и `resourceID` той виртуальной сети, в которой эта подсеть находится. Таким образом нам надо просто отрезать все, начиная с `/subnets/` и до конца строки, что мы и делаем регулярным выражением. А дальше все, как мы делали выше - находим в том же графе нужную сеть, и добавляем ребро между интерфейсом и сеткой."
   ]
  },
  {
   "cell_type": "code",
   "execution_count": null,
   "metadata": {
    "dotnet_interactive": {
     "language": "pwsh"
    }
   },
   "outputs": [],
   "source": [
    "$nics | % {\n",
    "    $vnetID = $_.IpConfigurations[0].Subnet.Id -replace \"/subnets/.+\", \"\"\n",
    "    $targetVertex = $g.Vertices.Where({$_.Label -eq $vnetID})[0]\n",
    "    Add-Edge -Graph $g -From ([PSGraph.Model.PSVertex]::new($_.name, $_)) -To $targetVertex\n",
    "}"
   ]
  },
  {
   "cell_type": "markdown",
   "metadata": {},
   "source": [
    "теперь в графе есть объекты двух типов - сети и сетевые интерфейсы. Мы хотим покрасить **только** сетевые интерфейсы, с тем, чтобы они выделялись в визуализации. Для этого мы побежим по вершинам графа еще раз, заглянем в каждую, в свойство `OriginalObject` и проверим его тип. Если это `Microsoft.Azure.Commands.Network.Models.PSNetworkInterface` - покрасим в соответствующий цвет"
   ]
  },
  {
   "cell_type": "code",
   "execution_count": null,
   "metadata": {
    "dotnet_interactive": {
     "language": "pwsh"
    }
   },
   "outputs": [],
   "source": [
    "$g.Vertices | \n",
    "    ? {$_.OriginalObject.GetType() -eq [Microsoft.Azure.Commands.Network.Models.PSNetworkInterface]} | \n",
    "    % {  $_.GVertexParameters.Fillcolor = [QuikGraph.Graphviz.Dot.GraphvizColor]::WhiteSmoke }"
   ]
  },
  {
   "cell_type": "markdown",
   "metadata": {},
   "source": [
    "#### Экспорт и визуализация"
   ]
  },
  {
   "cell_type": "markdown",
   "metadata": {},
   "source": [
    "Нам осталось только экспортнуть граф, как мы это делали [раньше](https://github.com/eosfor/scripting-notes/blob/main/notebooks/ru/analyze-sysmon-events.ipynb)."
   ]
  },
  {
   "cell_type": "code",
   "execution_count": null,
   "metadata": {
    "dotnet_interactive": {
     "language": "pwsh"
    }
   },
   "outputs": [],
   "source": [
    "Export-Graph -Graph $g -Path \"$($env:TEMP)\\topology.svg\" -Format MSAGL_MDS\n",
    "Export-Graph -Graph $g -Path \"$($env:TEMP)\\topology.gv\" -Format Graphviz"
   ]
  },
  {
   "cell_type": "code",
   "execution_count": null,
   "metadata": {
    "dotnet_interactive": {
     "language": "csharp"
    }
   },
   "outputs": [],
   "source": [
    "using System.IO;\n",
    "\n",
    "var path = Path.GetTempPath();\n",
    "var svg = File.ReadAllText($\"{path}\\\\topology.svg\");\n",
    "var gv = File.ReadAllText($\"{path}\\\\topology.gv\");\n",
    "/// svg.DisplayAs(\"text/html\"); // эта строка покажет большую картинку, которая не влезает в секцию вывода"
   ]
  },
  {
   "cell_type": "code",
   "execution_count": null,
   "metadata": {
    "dotnet_interactive": {
     "language": "html"
    }
   },
   "outputs": [
    {
     "data": {
      "text/html": [
       "<div id=\"mynetwork\" style=\"height: 800px;\"></div>"
      ]
     },
     "metadata": {},
     "output_type": "display_data"
    }
   ],
   "source": [
    "#!html\n",
    "<div id=\"mynetwork\" style=\"height: 800px;\"></div>"
   ]
  },
  {
   "cell_type": "markdown",
   "metadata": {},
   "source": [
    "И отрисовать его в vis.js"
   ]
  },
  {
   "cell_type": "code",
   "execution_count": null,
   "metadata": {
    "dotnet_interactive": {
     "language": "javascript"
    }
   },
   "outputs": [],
   "source": [
    "#!js\n",
    "#!share --from csharp gv\n",
    "\n",
    "visRequire = interactive.configureRequire({\n",
    "    paths: {\n",
    "        visjs: \"https://visjs.github.io/vis-network/standalone/umd/vis-network.min\"\n",
    "    }\n",
    "});\n",
    "    \n",
    "visRequire([\"visjs\"], visjs => {\n",
    "    \n",
    "    var container = document.getElementById(\"mynetwork\");\n",
    "    var dot = gv;\n",
    "    var parsedData = visjs.parseDOTNetwork(dot);\n",
    "\n",
    "    var data = {\n",
    "        nodes: parsedData.nodes,\n",
    "        edges: parsedData.edges\n",
    "    };\n",
    "    var options = parsedData.options;\n",
    "    options = {\n",
    "        physics: {\n",
    "            solver: \"forceAtlas2Based\",\n",
    "            enabled: false,\n",
    "            forceAtlas2Based: {\n",
    "                theta: 0.5,\n",
    "                gravitationalConstant: -50,\n",
    "                centralGravity: 0.01,\n",
    "                springConstant: 0.08,\n",
    "                springLength: 100,\n",
    "                damping: 0.4,\n",
    "                avoidOverlap: 0.7\n",
    "              },\n",
    "            barnesHut: {\n",
    "                theta: 0.5,\n",
    "                gravitationalConstant: -2000,\n",
    "                centralGravity: 0.3,\n",
    "                springLength: 95,\n",
    "                springConstant: 0.04,\n",
    "                damping: 0.09,\n",
    "                avoidOverlap: 0\n",
    "            }\n",
    "        },\n",
    "        interaction: { hover: true, zoomView: true },\n",
    "        layout: { randomSeed: 'Mickey' }\n",
    "    }\n",
    "\n",
    "    var network = new visjs.Network(container, data, options); \n",
    "    network.stabilize(600)\n",
    "});"
   ]
  },
  {
   "cell_type": "markdown",
   "metadata": {},
   "source": [
    "Если теперь присмотреться к картинке, то вы увидите, что \"поврежденная\" сеть покрашена красным цветом, и к ней присоединен один из сетевых интерфейсов. Это, собственно и является потенциальной причиной проблем на этом устройстве."
   ]
  }
 ],
 "metadata": {
  "kernelspec": {
   "display_name": ".NET (C#)",
   "language": "C#",
   "name": ".net-csharp"
  },
  "language_info": {
   "name": "C#"
  }
 },
 "nbformat": 4,
 "nbformat_minor": 2
}

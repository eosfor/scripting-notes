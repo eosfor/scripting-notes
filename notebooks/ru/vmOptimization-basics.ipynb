{
 "cells": [
  {
   "cell_type": "markdown",
   "metadata": {},
   "source": [
    "# Оптимизация стоимости виртуальных машин при миграции в облако"
   ]
  },
  {
   "cell_type": "markdown",
   "metadata": {},
   "source": [
    "## Сценарий\n",
    "\n",
    "Пришла пора смигрировать сервера из физизеского датацентра в облако? Один из шагов в этом нелегком деле - подбор размеров виртуальных машин в облаке. При этом, мы хотим уменьшить стоимость, но увеличить производительность наших виртуальных машин. Теоретически мы могли бы просто подобрать машины по размеру, по количеству CPU и RAM. И это, вроде, не самая сложная в мире задача. Однако в этом случае ни минимальная цена ни максимальная производительность не гарантированны. Хорошо, допустим мы всегда можем выбирать машины с минимальной ценой. Но в этом случае мы теряем производительность. Если же мы начнем выбирать машины с максимальной производительностью - вырастет и цена. Как с этим, быть? Возможно ли вообще получить максимальную производительность по минимальной цене? Давайте разбираться."
   ]
  },
  {
   "cell_type": "markdown",
   "metadata": {},
   "source": [
    "Но сначала выполним вот это, чтобы заработал [mermaid](https://mermaid-js.github.io/mermaid/#/./flowchart?id=flowcharts-basic-syntax) и [Microsoft Dataframe](https://devblogs.microsoft.com/dotnet/an-introduction-to-dataframe/). Они пригодится нам для простеньких диаграм и отображения табличных данных"
   ]
  },
  {
   "cell_type": "code",
   "execution_count": null,
   "metadata": {
    "dotnet_interactive": {
     "language": "csharp"
    }
   },
   "outputs": [
    {
     "data": {
      "text/html": [
       "<div><div></div><div></div><div><strong>Installed Packages</strong><ul><li><span>Microsoft.DotNet.Interactive.ExtensionLab, 1.0.0-beta.21606.1</span></li></ul></div></div>"
      ]
     },
     "metadata": {},
     "output_type": "display_data"
    },
    {
     "data": {
      "text/markdown": [
       "Loading extensions from `Microsoft.DotNet.Interactive.ExtensionLab.dll`"
      ]
     },
     "metadata": {},
     "output_type": "display_data"
    },
    {
     "data": {
      "text/html": [
       "<details><summary>Create strongly-typed dataframes using<code>#!linqify</code>.</summary>\r\n",
       "    <p>The <code>#!linqify</code> magic command replaces a <a href=\"https://www.nuget.org/packages/Microsoft.Data.Analysis/\"><code>Microsoft.Data.Analysis.DataFrame</code></a> variable with a generated, strongly-typed data frame, allowing the use of LINQ operations over the contained data.</p>\r\n",
       "    </details>"
      ]
     },
     "metadata": {},
     "output_type": "display_data"
    },
    {
     "data": {
      "text/html": [
       "<details><summary>Inspect code compilation details using the <code>#!inspect</code> magic command.</summary>\r\n",
       "    <p>The <code>#!inspect</code> magic command allows you to see the C# decompilation, IL, and JIT Asm for the code in a C# cell.</p>\r\n",
       "    <img src=\"https://user-images.githubusercontent.com/547415/109560515-d5749a00-7a90-11eb-9fa3-51b737345bb4.png\" width=\"75%\" />\r\n",
       "    </details>"
      ]
     },
     "metadata": {},
     "output_type": "display_data"
    },
    {
     "data": {
      "text/html": [
       "<details><summary>Explain things visually using the <a href=\"https://mermaid-js.github.io/mermaid/\">Mermaid language</a>.</summary>\r\n",
       "    <p>This extension adds a new kernel that can render Mermaid markdown. This code will render a sequence diagram:</p>\r\n",
       "<pre>\r\n",
       "    <code>\r\n",
       "#!mermaid\r\n",
       "sequenceDiagram\r\n",
       "    participant Alice\r\n",
       "    participant Bob\r\n",
       "    Alice->>John: Hello John, how are you?\r\n",
       "    loop Healthcheck\r\n",
       "        John->>John: Fight against hypochondria\r\n",
       "    end\r\n",
       "    Note right of John: Rational thoughts prevail!\r\n",
       "    John-->>Alice: Great!\r\n",
       "    John->>Bob: How about you?\r\n",
       "    Bob-->>John: Jolly good!\r\n",
       "    </code>\r\n",
       "</pre>\r\n",
       "<p>This extension also adds gestures to render a class diagram from any type. Use the <code>ExploreWithUmlClassDiagram().Display();</code> extension method on <code>System.Type</code> to render its class diagram.</p>\r\n",
       "\r\n",
       "<pre>\r\n",
       "    <code>\r\n",
       "typeof(List&lt;string&gt;).ExploreWithUmlClassDiagram().Display();\r\n",
       "    </code>\r\n",
       "</pre>\r\n",
       "    <img src=\"https://mermaid-js.github.io/mermaid/img/header.png\" width=\"30%\">\r\n",
       "    </details>"
      ]
     },
     "metadata": {},
     "output_type": "display_data"
    },
    {
     "data": {
      "text/markdown": [
       "Loading extensions from `Microsoft.Data.Analysis.Interactive.dll`"
      ]
     },
     "metadata": {},
     "output_type": "display_data"
    },
    {
     "data": {
      "text/html": [
       "<details><summary>Explore data visually using the <a href=\"https://github.com/nteract/data-explorer\">nteract Data Explorer</a>.</summary>\r\n",
       "    <p>This extension adds the ability to sort, filter, and visualize data using the <a href=\"https://github.com/nteract/data-explorer\">nteract Data Explorer</a>. Use the <code>ExploreWithNteract()</code> extension method with variables of type <code>JsonElement</code>, <code>IEnumerable<T></code> or <code>IDataView</code> to render the data explorer.</p>\r\n",
       "<pre>\r\n",
       "    <code>\r\n",
       "    using Microsoft.Data.Analysis;\r\n",
       "    using System.Collections.Generic;\r\n",
       "    using Microsoft.ML;\r\n",
       "\r\n",
       "    var dataFrame = DataFrame.LoadCsv(\"./Data.csv\");\r\n",
       "\r\n",
       "    dataFrame.ExploreWithNteract().Display();\r\n",
       "    </code>\r\n",
       "</pre>\r\n",
       "\r\n",
       "<p>To set the nteract Data Explorer use the following code</p>\r\n",
       "<pre>\r\n",
       "    <code>\r\n",
       "    DataExplorer.SetDefault<TabularDataResource, NteractDataExplorer>();\r\n",
       "    </code>\r\n",
       "</pre>\r\n",
       "    <img src=\"https://user-images.githubusercontent.com/547415/109559345-621e5880-7a8f-11eb-8b98-d4feeaac116f.png\" width=\"75%\">\r\n",
       "    </details>"
      ]
     },
     "metadata": {},
     "output_type": "display_data"
    },
    {
     "data": {
      "text/html": [
       "<details><summary>Use the <code>#!record</code> magic command to keep a transcript of the code you run.</summary>\r\n",
       "    <p>Once you enable transcripts using <code>#!record</code>, each code submission (including re-running cells) is recorded in the specified file. The JSON format used is the same format recognized by the .NET Interactive <code>stdio</code> and <code>http</code> APIs and can be used to replay an interactive session via automation.</p>\r\n",
       "    <img src=\"https://user-images.githubusercontent.com/547415/109562409-343b1300-7a93-11eb-8ebf-79bb6af028cf.png\" width=\"75%\" />\r\n",
       "    </details>"
      ]
     },
     "metadata": {},
     "output_type": "display_data"
    },
    {
     "data": {
      "text/html": [
       "<details><summary>Explore data visually using the <a href=\"https://github.com/microsoft/SandDance\">SandDance Explorer</a>.</summary>\r\n",
       "    <p>This extension adds the ability to sort, filter, and visualize data using the <a href=\"https://github.com/microsoft/SandDance\">SandDance Explorer</a>. Use the <code>ExploreWithSandDance()</code> extension method with variables of type <code>JsonElement</code>, <code>IEnumerable<T></code> or <code>IDataView</code> to render the data explorer.</p>\r\n",
       "<pre>\r\n",
       "    <code>\r\n",
       "    using Microsoft.Data.Analysis;\r\n",
       "    using System.Collections.Generic;\r\n",
       "    using Microsoft.ML;\r\n",
       "\r\n",
       "    var dataFrame = DataFrame.LoadCsv(\"./Data.csv\");\r\n",
       "\r\n",
       "    dataFrame.ExploreWithSandDance().Display();\r\n",
       "    </code>\r\n",
       "</pre>\r\n",
       "<p>To set the SandDance Explorer use the following code</p>\r\n",
       "<pre>\r\n",
       "    <code>\r\n",
       "    DataExplorer.SetDefault<TabularDataResource, SandDanceDataExplorer>();\r\n",
       "    </code>\r\n",
       "</pre>\r\n",
       "    <img src=\"https://user-images.githubusercontent.com/11507384/54236654-52d42800-44d1-11e9-859e-6c5d297a46d2.gif\" width=\"30%\">\r\n",
       "    </details>"
      ]
     },
     "metadata": {},
     "output_type": "display_data"
    },
    {
     "data": {
      "text/html": [
       "<details><summary>Query SQLite databases.</summary>\r\n",
       "    <p>This extension adds support for connecting to SQLite databases using the <code>#!connect sqlite</code> magic command. For more information, run a cell using the <code>#!sql</code> magic command.</p>\r\n",
       "    </details>"
      ]
     },
     "metadata": {},
     "output_type": "display_data"
    }
   ],
   "source": [
    "#r \"nuget:Microsoft.DotNet.Interactive.ExtensionLab,*-*\""
   ]
  },
  {
   "cell_type": "markdown",
   "metadata": {},
   "source": [
    "## Minizinc"
   ]
  },
  {
   "cell_type": "markdown",
   "metadata": {},
   "source": [
    "Как написано на [официальном сайте](https://www.minizinc.org/)\n",
    "\n",
    "> MiniZinc is a free and open-source **constraint modeling language**.\n",
    ">\n",
    "> You can use MiniZinc to model constraint satisfaction and optimization problems in a **high-level**, **solver-independent** way, taking advantage of a large library of pre-defined constraints. Your model is then compiled into FlatZinc, a solver input language that is understood by a wide range of solvers.\n",
    ">\n",
    "> MiniZinc is developed at [Monash University](http://www.monash.edu/) in collaboration with [Data61 Decision Sciences](https://research.csiro.au/data61/tag/decision-sciences/) and the [University of Melbourne](http://unimelb.edu.au/).\n",
    "\n",
    "Говоря простыми словами это, с одной стороны, специальный **декларативный** язык программирования, используемый для описания определенного класса оптимизационных задач. С другой стороны это, своего рода, абстракция над некоторым количеством `solvers` (решателей?- я буду использовать слово solver), что позволяет нам написать код один раз и попробовать его с разными solvers.\n",
    "\n",
    "В нашем сценарии мы пытаемся решить оптимизационную задачу с ограничениями. И мы попытаемся использовать этот инструмент для ее решения."
   ]
  },
  {
   "cell_type": "markdown",
   "metadata": {},
   "source": [
    "## Что мы делаем"
   ]
  },
  {
   "cell_type": "markdown",
   "metadata": {},
   "source": [
    "В этом разделе мы быстро проделаем наш эксперимент, посмотрим оценим и разберем его результат. Те же, кому будут интересны детали реализации смогут найти их в слежующем разделе. Чтобы все это работало на Windows системах, необходимо скачать и установить [minizinc](https://www.minizinc.org/). Кроме того, необходимо убедиться что путь к нему есть в **PATH**, поскольку функционал ниже пытается достать до minizinc именно так"
   ]
  },
  {
   "cell_type": "markdown",
   "metadata": {},
   "source": [
    "> Для того чтобы спрятать излишнюю сложность, чась функционала, относительно несложная на самом деле, была спрятана [вот тут](./vm-optimization-minizinc/helperFunctions.ps1)."
   ]
  },
  {
   "cell_type": "markdown",
   "metadata": {},
   "source": [
    "Начнем с простого описания. Наше решение состоит из [minizinc модели](./vm-optimization-minizinc/vmCostsCalculation-integer.mzn), написанной на соответвующем языке, [набора входных данных](./vm-optimization-minizinc/vmData.dzn) для этой модели и [скриптов](./vm-optimization-minizinc/helperFunctions.ps1), которые упрощаяют использование minizinc, передачу ему нужных данных и получение результатов. Входные данные содержат следующую информацию:\n",
    "\n",
    "- данные об исходных серверах - их CPU, RAM и суммарные размеры дисков\n",
    "- данные о виртуальных машинах в Azure из региона eastus2, включая . Про то как их выгрузить будет отдельный рассказ\n",
    "- данные о дисках в Azure\n",
    "\n",
    "Модель пытается **самостоятельно** подобрать подходящий размер виртуальной машины в облаке исходя из ограничений, описанных в модели для каждого исходного сервера. Например, модель требует чтобы объем RAM для соответствующей машины в облаке было больше или равно объему RAM исходной машины. Ключевое слово здесь - **самостоятельно**. Это означает что мы не говорим как подбирать, мы только задаем ограничение, требующее, чтобы это было так. Модель же, самостоятельно ищет решение, удовлетворяющее всем ограничениям. При этом, мы можем сказать модели, чтобы она пыталась либо минимизировать общую стоимость всех машин, либо максимизировать суммарную производительность, и учитывала это при выборе соотвествующих виртуальных машин.\n",
    "\n",
    "При удачном стечении обстоятельств солвер гарантирует, что решение, которое он предложил, будет оптимальным, либо близким к оптимальному."
   ]
  },
  {
   "cell_type": "markdown",
   "metadata": {},
   "source": [
    "Чтобы использовать эту модель, загрузим наши функции - [dot sourcing](https://docs.microsoft.com/en-us/powershell/module/microsoft.powershell.core/about/about_scripts?view=powershell-7.2#script-scope-and-dot-sourcing)"
   ]
  },
  {
   "cell_type": "code",
   "execution_count": null,
   "metadata": {
    "dotnet_interactive": {
     "language": "pwsh"
    }
   },
   "outputs": [],
   "source": [
    ". .\\vm-optimization-minizinc\\helperFunctions.ps1"
   ]
  },
  {
   "cell_type": "markdown",
   "metadata": {},
   "source": [
    "Проведем три теста: \n",
    "\n",
    "- простой тест, где мы оптимизируем отдельно по цене и отдельно по производительности, чтобы иметь данные для сравнения\n",
    "- сначала мнимизируем суммарную цену, а затем, зафиксировав ее, попытаемся максимизировать производительность. Это будет означать, что найдя минимум по цене, мы попытаемся подобрать такие машины, чтобы суммарная производительность увеличилась, не увеличивая цены\n",
    "- сначала максимизируем производительность, и затем, с зафиксированной производительностью пытаться минимизировать ее стоимость. Это будет означать, что найдя максимум по производительности, мы попытаемся подобрать такие машины, чтобы суммарная цена уменьшилась, не уменьшая производительности"
   ]
  },
  {
   "cell_type": "markdown",
   "metadata": {},
   "source": [
    "### Оптимизируем отдельно"
   ]
  },
  {
   "cell_type": "markdown",
   "metadata": {},
   "source": [
    "Минимизируем по цене"
   ]
  },
  {
   "cell_type": "code",
   "execution_count": null,
   "metadata": {
    "dotnet_interactive": {
     "language": "pwsh"
    }
   },
   "outputs": [
    {
     "name": "stdout",
     "output_type": "stream",
     "text": [
      "\r\n",
      "\u001b[32;1mtotalPrice totalACU vmRecords\u001b[0m\r\n",
      "\u001b[32;1m---------- -------- ---------\u001b[0m\r\n",
      "   42.4778     9200 {@{sourceVMName=vmN1; sourceVMCPU=2; sourceVMRAM=12; sourceVMDisk=460; selecte…\r\n",
      "\r\n"
     ]
    }
   ],
   "source": [
    "Start-MinizincVMOptimizationModel -Costs"
   ]
  },
  {
   "cell_type": "markdown",
   "metadata": {},
   "source": [
    "Максимизируем по производительности"
   ]
  },
  {
   "cell_type": "code",
   "execution_count": null,
   "metadata": {
    "dotnet_interactive": {
     "language": "pwsh"
    }
   },
   "outputs": [
    {
     "name": "stdout",
     "output_type": "stream",
     "text": [
      "\r\n",
      "\u001b[32;1mtotalPrice totalACU vmRecords\u001b[0m\r\n",
      "\u001b[32;1m---------- -------- ---------\u001b[0m\r\n",
      "   146.496    18860 {@{sourceVMName=vmN1; sourceVMCPU=2; sourceVMRAM=12; sourceVMDisk=460; selecte…\r\n",
      "\r\n"
     ]
    }
   ],
   "source": [
    "Start-MinizincVMOptimizationModel -Performance"
   ]
  },
  {
   "cell_type": "markdown",
   "metadata": {},
   "source": [
    "Как видно из этих двух тестов, в первом случае мы получили некую суммарную цену, которая значительно меньше суммарной цены во втором случае. При этом видно, что увеличение производительность в два раза, дает увеличение цены почти более чем в 3 раза. Возникает вопрос, а можно ли лучше?"
   ]
  },
  {
   "cell_type": "markdown",
   "metadata": {},
   "source": [
    "### Минимизируем цену в ущерб производительности"
   ]
  },
  {
   "cell_type": "markdown",
   "metadata": {},
   "source": [
    "В качестве оценки производительнсть виртуальной машины будем использовать некий синтетический параметр, который Microsoft называет [Azure compute unit (ACU)](https://docs.microsoft.com/en-us/azure/virtual-machines/acu). В наших экспериментах мы будем пытаться его максимизировать, стараясь сохранить минимальную цену."
   ]
  },
  {
   "cell_type": "markdown",
   "metadata": {
    "dotnet_interactive": {
     "language": "pwsh"
    }
   },
   "source": [
    "В этом эксперименте мы  сначала минимизируем общую цену, и затем, зафиксировав это значение, максимизируем ACU"
   ]
  },
  {
   "cell_type": "code",
   "execution_count": null,
   "metadata": {
    "dotnet_interactive": {
     "language": "pwsh"
    }
   },
   "outputs": [
    {
     "name": "stdout",
     "output_type": "stream",
     "text": [
      "\r\n",
      "\u001b[32;1mtotalPrice totalACU vmRecords\u001b[0m\r\n",
      "\u001b[32;1m---------- -------- ---------\u001b[0m\r\n",
      "   42.4778     9410 {@{sourceVMName=vmN1; sourceVMCPU=2; sourceVMRAM=12; sourceVMDisk=460; selecte…\r\n",
      "\r\n"
     ]
    }
   ],
   "source": [
    "$ret = Start-MinizincVMOptimizationModel -Costs | Start-MinizincVMOptimizationModel -Performance\n",
    "$ret"
   ]
  },
  {
   "cell_type": "markdown",
   "metadata": {},
   "source": [
    "Здесь мы видим, что минимальная цена осталась минимальной, но модель смогла найти выриант, при котором суммарная производительность стала немного больше"
   ]
  },
  {
   "cell_type": "markdown",
   "metadata": {},
   "source": [
    "Давайте посмотрим, что же подобрала нам модель. Для этого воспользуемся [DataFrame](https://devblogs.microsoft.com/dotnet/an-introduction-to-dataframe/). Прото потому что .Net Interactive умеет его красиво отображать. Для этого просто выбросим наши результаты в csv строку, создадим соответсвующий объект и дернем extension method. Синтаксис кривоват, но что поделать, PowerShell не очень любит extension methods"
   ]
  },
  {
   "cell_type": "code",
   "execution_count": null,
   "metadata": {
    "dotnet_interactive": {
     "language": "pwsh"
    }
   },
   "outputs": [
    {
     "data": {
      "text/html": [
       "<table id=\"table_637774303650166353\"><caption><h3 style=\"text-align: center;\">DataFrame - 82 rows </h3></caption><thead><tr><th><i>index</i></th><th>sourceVMName</th><th>sourceVMCPU</th><th>sourceVMRAM</th><th>sourceVMDisk</th><th>selectedSize</th><th>targetVMCPU</th><th>targetVMRAM</th><th>targetVMDisk</th><th>targetVMPrice</th><th>targetVMACU</th></tr></thead><tbody><tr style=\"display: none\"><td><i><div class=\"dni-plaintext\">0</div></i></td><td>vmN1</td><td><div class=\"dni-plaintext\">2</div></td><td><div class=\"dni-plaintext\">12</div></td><td><div class=\"dni-plaintext\">460</div></td><td>Standard_A2m_v2</td><td><div class=\"dni-plaintext\">2</div></td><td><div class=\"dni-plaintext\">16</div></td><td><div class=\"dni-plaintext\">4</div></td><td><div class=\"dni-plaintext\">0.18</div></td><td><div class=\"dni-plaintext\">100</div></td></tr><tr style=\"display: none\"><td><i><div class=\"dni-plaintext\">1</div></i></td><td>vmN2</td><td><div class=\"dni-plaintext\">2</div></td><td><div class=\"dni-plaintext\">24</div></td><td><div class=\"dni-plaintext\">1440</div></td><td>Standard_A4m_v2</td><td><div class=\"dni-plaintext\">4</div></td><td><div class=\"dni-plaintext\">32</div></td><td><div class=\"dni-plaintext\">4</div></td><td><div class=\"dni-plaintext\">0.378</div></td><td><div class=\"dni-plaintext\">100</div></td></tr><tr style=\"display: none\"><td><i><div class=\"dni-plaintext\">2</div></i></td><td>vmN3</td><td><div class=\"dni-plaintext\">2</div></td><td><div class=\"dni-plaintext\">4</div></td><td><div class=\"dni-plaintext\">110</div></td><td>Standard_A2_v2</td><td><div class=\"dni-plaintext\">2</div></td><td><div class=\"dni-plaintext\">4</div></td><td><div class=\"dni-plaintext\">4</div></td><td><div class=\"dni-plaintext\">0.136</div></td><td><div class=\"dni-plaintext\">100</div></td></tr><tr style=\"display: none\"><td><i><div class=\"dni-plaintext\">3</div></i></td><td>vmN4</td><td><div class=\"dni-plaintext\">6</div></td><td><div class=\"dni-plaintext\">23</div></td><td><div class=\"dni-plaintext\">260</div></td><td>Standard_D8s_v4</td><td><div class=\"dni-plaintext\">8</div></td><td><div class=\"dni-plaintext\">32</div></td><td><div class=\"dni-plaintext\">4</div></td><td><div class=\"dni-plaintext\">0.752</div></td><td><div class=\"dni-plaintext\">195</div></td></tr><tr style=\"display: none\"><td><i><div class=\"dni-plaintext\">4</div></i></td><td>vmN5</td><td><div class=\"dni-plaintext\">3</div></td><td><div class=\"dni-plaintext\">16</div></td><td><div class=\"dni-plaintext\">1120</div></td><td>Standard_D4s_v4</td><td><div class=\"dni-plaintext\">4</div></td><td><div class=\"dni-plaintext\">16</div></td><td><div class=\"dni-plaintext\">4</div></td><td><div class=\"dni-plaintext\">0.376</div></td><td><div class=\"dni-plaintext\">195</div></td></tr><tr style=\"display: none\"><td><i><div class=\"dni-plaintext\">5</div></i></td><td>vmN6</td><td><div class=\"dni-plaintext\">2</div></td><td><div class=\"dni-plaintext\">32</div></td><td><div class=\"dni-plaintext\">200</div></td><td>Standard_A4m_v2</td><td><div class=\"dni-plaintext\">4</div></td><td><div class=\"dni-plaintext\">32</div></td><td><div class=\"dni-plaintext\">4</div></td><td><div class=\"dni-plaintext\">0.378</div></td><td><div class=\"dni-plaintext\">100</div></td></tr><tr style=\"display: none\"><td><i><div class=\"dni-plaintext\">6</div></i></td><td>vmN7</td><td><div class=\"dni-plaintext\">2</div></td><td><div class=\"dni-plaintext\">7</div></td><td><div class=\"dni-plaintext\">267</div></td><td>Standard_A2m_v2</td><td><div class=\"dni-plaintext\">2</div></td><td><div class=\"dni-plaintext\">16</div></td><td><div class=\"dni-plaintext\">4</div></td><td><div class=\"dni-plaintext\">0.18</div></td><td><div class=\"dni-plaintext\">100</div></td></tr><tr style=\"display: none\"><td><i><div class=\"dni-plaintext\">7</div></i></td><td>vmN8</td><td><div class=\"dni-plaintext\">3</div></td><td><div class=\"dni-plaintext\">32</div></td><td><div class=\"dni-plaintext\">134</div></td><td>Standard_A4m_v2</td><td><div class=\"dni-plaintext\">4</div></td><td><div class=\"dni-plaintext\">32</div></td><td><div class=\"dni-plaintext\">4</div></td><td><div class=\"dni-plaintext\">0.378</div></td><td><div class=\"dni-plaintext\">100</div></td></tr><tr style=\"display: none\"><td><i><div class=\"dni-plaintext\">8</div></i></td><td>vmN9</td><td><div class=\"dni-plaintext\">2</div></td><td><div class=\"dni-plaintext\">8</div></td><td><div class=\"dni-plaintext\">213</div></td><td>Standard_A2m_v2</td><td><div class=\"dni-plaintext\">2</div></td><td><div class=\"dni-plaintext\">16</div></td><td><div class=\"dni-plaintext\">4</div></td><td><div class=\"dni-plaintext\">0.18</div></td><td><div class=\"dni-plaintext\">100</div></td></tr><tr style=\"display: none\"><td><i><div class=\"dni-plaintext\">9</div></i></td><td>vmN11</td><td><div class=\"dni-plaintext\">2</div></td><td><div class=\"dni-plaintext\">4</div></td><td><div class=\"dni-plaintext\">77</div></td><td>Standard_A2_v2</td><td><div class=\"dni-plaintext\">2</div></td><td><div class=\"dni-plaintext\">4</div></td><td><div class=\"dni-plaintext\">4</div></td><td><div class=\"dni-plaintext\">0.136</div></td><td><div class=\"dni-plaintext\">100</div></td></tr><tr style=\"display: none\"><td><i><div class=\"dni-plaintext\">10</div></i></td><td>vmN12</td><td><div class=\"dni-plaintext\">3</div></td><td><div class=\"dni-plaintext\">46</div></td><td><div class=\"dni-plaintext\">150</div></td><td>Standard_A8m_v2</td><td><div class=\"dni-plaintext\">8</div></td><td><div class=\"dni-plaintext\">64</div></td><td><div class=\"dni-plaintext\">4</div></td><td><div class=\"dni-plaintext\">0.794</div></td><td><div class=\"dni-plaintext\">100</div></td></tr><tr style=\"display: none\"><td><i><div class=\"dni-plaintext\">11</div></i></td><td>vmN13</td><td><div class=\"dni-plaintext\">4</div></td><td><div class=\"dni-plaintext\">8</div></td><td><div class=\"dni-plaintext\">208</div></td><td>Standard_A4_v2</td><td><div class=\"dni-plaintext\">4</div></td><td><div class=\"dni-plaintext\">8</div></td><td><div class=\"dni-plaintext\">4</div></td><td><div class=\"dni-plaintext\">0.286</div></td><td><div class=\"dni-plaintext\">100</div></td></tr><tr style=\"display: none\"><td><i><div class=\"dni-plaintext\">12</div></i></td><td>vmN14</td><td><div class=\"dni-plaintext\">2</div></td><td><div class=\"dni-plaintext\">16</div></td><td><div class=\"dni-plaintext\">578</div></td><td>Standard_A2m_v2</td><td><div class=\"dni-plaintext\">2</div></td><td><div class=\"dni-plaintext\">16</div></td><td><div class=\"dni-plaintext\">4</div></td><td><div class=\"dni-plaintext\">0.18</div></td><td><div class=\"dni-plaintext\">100</div></td></tr><tr style=\"display: none\"><td><i><div class=\"dni-plaintext\">13</div></i></td><td>vmN15</td><td><div class=\"dni-plaintext\">10</div></td><td><div class=\"dni-plaintext\">27</div></td><td><div class=\"dni-plaintext\">525</div></td><td>Standard_D8s_v4</td><td><div class=\"dni-plaintext\">8</div></td><td><div class=\"dni-plaintext\">32</div></td><td><div class=\"dni-plaintext\">4</div></td><td><div class=\"dni-plaintext\">0.752</div></td><td><div class=\"dni-plaintext\">195</div></td></tr><tr style=\"display: none\"><td><i><div class=\"dni-plaintext\">14</div></i></td><td>vmN17</td><td><div class=\"dni-plaintext\">1</div></td><td><div class=\"dni-plaintext\">20</div></td><td><div class=\"dni-plaintext\">20</div></td><td>Standard_A4m_v2</td><td><div class=\"dni-plaintext\">4</div></td><td><div class=\"dni-plaintext\">32</div></td><td><div class=\"dni-plaintext\">4</div></td><td><div class=\"dni-plaintext\">0.378</div></td><td><div class=\"dni-plaintext\">100</div></td></tr><tr style=\"display: none\"><td><i><div class=\"dni-plaintext\">15</div></i></td><td>vmN18</td><td><div class=\"dni-plaintext\">3</div></td><td><div class=\"dni-plaintext\">25</div></td><td><div class=\"dni-plaintext\">450</div></td><td>Standard_A4m_v2</td><td><div class=\"dni-plaintext\">4</div></td><td><div class=\"dni-plaintext\">32</div></td><td><div class=\"dni-plaintext\">4</div></td><td><div class=\"dni-plaintext\">0.378</div></td><td><div class=\"dni-plaintext\">100</div></td></tr><tr style=\"display: none\"><td><i><div class=\"dni-plaintext\">16</div></i></td><td>vmN19</td><td><div class=\"dni-plaintext\">5</div></td><td><div class=\"dni-plaintext\">30</div></td><td><div class=\"dni-plaintext\">545</div></td><td>Standard_A4m_v2</td><td><div class=\"dni-plaintext\">4</div></td><td><div class=\"dni-plaintext\">32</div></td><td><div class=\"dni-plaintext\">4</div></td><td><div class=\"dni-plaintext\">0.378</div></td><td><div class=\"dni-plaintext\">100</div></td></tr><tr style=\"display: none\"><td><i><div class=\"dni-plaintext\">17</div></i></td><td>vmN20</td><td><div class=\"dni-plaintext\">5</div></td><td><div class=\"dni-plaintext\">35</div></td><td><div class=\"dni-plaintext\">380</div></td><td>Standard_A8m_v2</td><td><div class=\"dni-plaintext\">8</div></td><td><div class=\"dni-plaintext\">64</div></td><td><div class=\"dni-plaintext\">4</div></td><td><div class=\"dni-plaintext\">0.794</div></td><td><div class=\"dni-plaintext\">100</div></td></tr><tr style=\"display: none\"><td><i><div class=\"dni-plaintext\">18</div></i></td><td>vmN21</td><td><div class=\"dni-plaintext\">4</div></td><td><div class=\"dni-plaintext\">48</div></td><td><div class=\"dni-plaintext\">402</div></td><td>Standard_A8m_v2</td><td><div class=\"dni-plaintext\">8</div></td><td><div class=\"dni-plaintext\">64</div></td><td><div class=\"dni-plaintext\">4</div></td><td><div class=\"dni-plaintext\">0.794</div></td><td><div class=\"dni-plaintext\">100</div></td></tr><tr style=\"display: none\"><td><i><div class=\"dni-plaintext\">19</div></i></td><td>vmN22</td><td><div class=\"dni-plaintext\">2</div></td><td><div class=\"dni-plaintext\">29</div></td><td><div class=\"dni-plaintext\">163</div></td><td>Standard_A4m_v2</td><td><div class=\"dni-plaintext\">4</div></td><td><div class=\"dni-plaintext\">32</div></td><td><div class=\"dni-plaintext\">4</div></td><td><div class=\"dni-plaintext\">0.378</div></td><td><div class=\"dni-plaintext\">100</div></td></tr><tr style=\"display: none\"><td><i><div class=\"dni-plaintext\">20</div></i></td><td>vmN23</td><td><div class=\"dni-plaintext\">2</div></td><td><div class=\"dni-plaintext\">29</div></td><td><div class=\"dni-plaintext\">163</div></td><td>Standard_A4m_v2</td><td><div class=\"dni-plaintext\">4</div></td><td><div class=\"dni-plaintext\">32</div></td><td><div class=\"dni-plaintext\">4</div></td><td><div class=\"dni-plaintext\">0.378</div></td><td><div class=\"dni-plaintext\">100</div></td></tr><tr style=\"display: none\"><td><i><div class=\"dni-plaintext\">21</div></i></td><td>vmN24</td><td><div class=\"dni-plaintext\">2</div></td><td><div class=\"dni-plaintext\">29</div></td><td><div class=\"dni-plaintext\">163</div></td><td>Standard_A4m_v2</td><td><div class=\"dni-plaintext\">4</div></td><td><div class=\"dni-plaintext\">32</div></td><td><div class=\"dni-plaintext\">4</div></td><td><div class=\"dni-plaintext\">0.378</div></td><td><div class=\"dni-plaintext\">100</div></td></tr><tr style=\"display: none\"><td><i><div class=\"dni-plaintext\">22</div></i></td><td>vmN25</td><td><div class=\"dni-plaintext\">2</div></td><td><div class=\"dni-plaintext\">29</div></td><td><div class=\"dni-plaintext\">163</div></td><td>Standard_A4m_v2</td><td><div class=\"dni-plaintext\">4</div></td><td><div class=\"dni-plaintext\">32</div></td><td><div class=\"dni-plaintext\">4</div></td><td><div class=\"dni-plaintext\">0.378</div></td><td><div class=\"dni-plaintext\">100</div></td></tr><tr style=\"display: none\"><td><i><div class=\"dni-plaintext\">23</div></i></td><td>vmN26</td><td><div class=\"dni-plaintext\">2</div></td><td><div class=\"dni-plaintext\">29</div></td><td><div class=\"dni-plaintext\">163</div></td><td>Standard_A4m_v2</td><td><div class=\"dni-plaintext\">4</div></td><td><div class=\"dni-plaintext\">32</div></td><td><div class=\"dni-plaintext\">4</div></td><td><div class=\"dni-plaintext\">0.378</div></td><td><div class=\"dni-plaintext\">100</div></td></tr><tr style=\"display: none\"><td><i><div class=\"dni-plaintext\">24</div></i></td><td>vmN27</td><td><div class=\"dni-plaintext\">2</div></td><td><div class=\"dni-plaintext\">29</div></td><td><div class=\"dni-plaintext\">163</div></td><td>Standard_A4m_v2</td><td><div class=\"dni-plaintext\">4</div></td><td><div class=\"dni-plaintext\">32</div></td><td><div class=\"dni-plaintext\">4</div></td><td><div class=\"dni-plaintext\">0.378</div></td><td><div class=\"dni-plaintext\">100</div></td></tr><tr style=\"display: none\"><td><i><div class=\"dni-plaintext\">25</div></i></td><td>vmN28</td><td><div class=\"dni-plaintext\">2</div></td><td><div class=\"dni-plaintext\">29</div></td><td><div class=\"dni-plaintext\">163</div></td><td>Standard_A4m_v2</td><td><div class=\"dni-plaintext\">4</div></td><td><div class=\"dni-plaintext\">32</div></td><td><div class=\"dni-plaintext\">4</div></td><td><div class=\"dni-plaintext\">0.378</div></td><td><div class=\"dni-plaintext\">100</div></td></tr><tr style=\"display: none\"><td><i><div class=\"dni-plaintext\">26</div></i></td><td>vmN29</td><td><div class=\"dni-plaintext\">2</div></td><td><div class=\"dni-plaintext\">29</div></td><td><div class=\"dni-plaintext\">163</div></td><td>Standard_A4m_v2</td><td><div class=\"dni-plaintext\">4</div></td><td><div class=\"dni-plaintext\">32</div></td><td><div class=\"dni-plaintext\">4</div></td><td><div class=\"dni-plaintext\">0.378</div></td><td><div class=\"dni-plaintext\">100</div></td></tr><tr style=\"display: none\"><td><i><div class=\"dni-plaintext\">27</div></i></td><td>vmN30</td><td><div class=\"dni-plaintext\">2</div></td><td><div class=\"dni-plaintext\">29</div></td><td><div class=\"dni-plaintext\">163</div></td><td>Standard_A4m_v2</td><td><div class=\"dni-plaintext\">4</div></td><td><div class=\"dni-plaintext\">32</div></td><td><div class=\"dni-plaintext\">4</div></td><td><div class=\"dni-plaintext\">0.378</div></td><td><div class=\"dni-plaintext\">100</div></td></tr><tr style=\"display: none\"><td><i><div class=\"dni-plaintext\">28</div></i></td><td>vmN31</td><td><div class=\"dni-plaintext\">8</div></td><td><div class=\"dni-plaintext\">90</div></td><td><div class=\"dni-plaintext\">6431</div></td><td>Standard_E16_4as_v4</td><td><div class=\"dni-plaintext\">16</div></td><td><div class=\"dni-plaintext\">128</div></td><td><div class=\"dni-plaintext\">4</div></td><td><div class=\"dni-plaintext\">1.744</div></td><td><div class=\"dni-plaintext\">230</div></td></tr><tr style=\"display: none\"><td><i><div class=\"dni-plaintext\">29</div></i></td><td>vmN32</td><td><div class=\"dni-plaintext\">7</div></td><td><div class=\"dni-plaintext\">180</div></td><td><div class=\"dni-plaintext\">1722</div></td><td>Standard_M8_2ms</td><td><div class=\"dni-plaintext\">8</div></td><td><div class=\"dni-plaintext\">218.75</div></td><td><div class=\"dni-plaintext\">4</div></td><td><div class=\"dni-plaintext\">2.1069</div></td><td><div class=\"dni-plaintext\">160</div></td></tr><tr style=\"display: none\"><td><i><div class=\"dni-plaintext\">30</div></i></td><td>vmN35</td><td><div class=\"dni-plaintext\">5</div></td><td><div class=\"dni-plaintext\">48</div></td><td><div class=\"dni-plaintext\">249</div></td><td>Standard_A8m_v2</td><td><div class=\"dni-plaintext\">8</div></td><td><div class=\"dni-plaintext\">64</div></td><td><div class=\"dni-plaintext\">4</div></td><td><div class=\"dni-plaintext\">0.794</div></td><td><div class=\"dni-plaintext\">100</div></td></tr><tr style=\"display: none\"><td><i><div class=\"dni-plaintext\">31</div></i></td><td>vmN36</td><td><div class=\"dni-plaintext\">2</div></td><td><div class=\"dni-plaintext\">26</div></td><td><div class=\"dni-plaintext\">224</div></td><td>Standard_A4m_v2</td><td><div class=\"dni-plaintext\">4</div></td><td><div class=\"dni-plaintext\">32</div></td><td><div class=\"dni-plaintext\">4</div></td><td><div class=\"dni-plaintext\">0.378</div></td><td><div class=\"dni-plaintext\">100</div></td></tr><tr style=\"display: none\"><td><i><div class=\"dni-plaintext\">32</div></i></td><td>vmN37</td><td><div class=\"dni-plaintext\">2</div></td><td><div class=\"dni-plaintext\">26</div></td><td><div class=\"dni-plaintext\">224</div></td><td>Standard_A4m_v2</td><td><div class=\"dni-plaintext\">4</div></td><td><div class=\"dni-plaintext\">32</div></td><td><div class=\"dni-plaintext\">4</div></td><td><div class=\"dni-plaintext\">0.378</div></td><td><div class=\"dni-plaintext\">100</div></td></tr><tr style=\"display: none\"><td><i><div class=\"dni-plaintext\">33</div></i></td><td>vmN38</td><td><div class=\"dni-plaintext\">2</div></td><td><div class=\"dni-plaintext\">26</div></td><td><div class=\"dni-plaintext\">224</div></td><td>Standard_A4m_v2</td><td><div class=\"dni-plaintext\">4</div></td><td><div class=\"dni-plaintext\">32</div></td><td><div class=\"dni-plaintext\">4</div></td><td><div class=\"dni-plaintext\">0.378</div></td><td><div class=\"dni-plaintext\">100</div></td></tr><tr style=\"display: none\"><td><i><div class=\"dni-plaintext\">34</div></i></td><td>vmN39</td><td><div class=\"dni-plaintext\">2</div></td><td><div class=\"dni-plaintext\">26</div></td><td><div class=\"dni-plaintext\">224</div></td><td>Standard_A4m_v2</td><td><div class=\"dni-plaintext\">4</div></td><td><div class=\"dni-plaintext\">32</div></td><td><div class=\"dni-plaintext\">4</div></td><td><div class=\"dni-plaintext\">0.378</div></td><td><div class=\"dni-plaintext\">100</div></td></tr><tr style=\"display: none\"><td><i><div class=\"dni-plaintext\">35</div></i></td><td>vmN40</td><td><div class=\"dni-plaintext\">5</div></td><td><div class=\"dni-plaintext\">50</div></td><td><div class=\"dni-plaintext\">4675</div></td><td>Standard_A8m_v2</td><td><div class=\"dni-plaintext\">8</div></td><td><div class=\"dni-plaintext\">64</div></td><td><div class=\"dni-plaintext\">4</div></td><td><div class=\"dni-plaintext\">0.794</div></td><td><div class=\"dni-plaintext\">100</div></td></tr><tr style=\"display: none\"><td><i><div class=\"dni-plaintext\">36</div></i></td><td>vmN41</td><td><div class=\"dni-plaintext\">2</div></td><td><div class=\"dni-plaintext\">32</div></td><td><div class=\"dni-plaintext\">200</div></td><td>Standard_A4m_v2</td><td><div class=\"dni-plaintext\">4</div></td><td><div class=\"dni-plaintext\">32</div></td><td><div class=\"dni-plaintext\">4</div></td><td><div class=\"dni-plaintext\">0.378</div></td><td><div class=\"dni-plaintext\">100</div></td></tr><tr style=\"display: none\"><td><i><div class=\"dni-plaintext\">37</div></i></td><td>vmN42</td><td><div class=\"dni-plaintext\">6</div></td><td><div class=\"dni-plaintext\">60</div></td><td><div class=\"dni-plaintext\">380</div></td><td>Standard_A8m_v2</td><td><div class=\"dni-plaintext\">8</div></td><td><div class=\"dni-plaintext\">64</div></td><td><div class=\"dni-plaintext\">4</div></td><td><div class=\"dni-plaintext\">0.794</div></td><td><div class=\"dni-plaintext\">100</div></td></tr><tr style=\"display: none\"><td><i><div class=\"dni-plaintext\">38</div></i></td><td>vmN43</td><td><div class=\"dni-plaintext\">6</div></td><td><div class=\"dni-plaintext\">58</div></td><td><div class=\"dni-plaintext\">336</div></td><td>Standard_A8m_v2</td><td><div class=\"dni-plaintext\">8</div></td><td><div class=\"dni-plaintext\">64</div></td><td><div class=\"dni-plaintext\">4</div></td><td><div class=\"dni-plaintext\">0.794</div></td><td><div class=\"dni-plaintext\">100</div></td></tr><tr style=\"display: none\"><td><i><div class=\"dni-plaintext\">39</div></i></td><td>vmN44</td><td><div class=\"dni-plaintext\">7</div></td><td><div class=\"dni-plaintext\">98</div></td><td><div class=\"dni-plaintext\">296</div></td><td>Standard_E16_4as_v4</td><td><div class=\"dni-plaintext\">16</div></td><td><div class=\"dni-plaintext\">128</div></td><td><div class=\"dni-plaintext\">4</div></td><td><div class=\"dni-plaintext\">1.744</div></td><td><div class=\"dni-plaintext\">230</div></td></tr><tr style=\"display: none\"><td><i><div class=\"dni-plaintext\">40</div></i></td><td>vmN45</td><td><div class=\"dni-plaintext\">2</div></td><td><div class=\"dni-plaintext\">15</div></td><td><div class=\"dni-plaintext\">574</div></td><td>Standard_A2m_v2</td><td><div class=\"dni-plaintext\">2</div></td><td><div class=\"dni-plaintext\">16</div></td><td><div class=\"dni-plaintext\">4</div></td><td><div class=\"dni-plaintext\">0.18</div></td><td><div class=\"dni-plaintext\">100</div></td></tr><tr style=\"display: none\"><td><i><div class=\"dni-plaintext\">41</div></i></td><td>vmN46</td><td><div class=\"dni-plaintext\">2</div></td><td><div class=\"dni-plaintext\">4</div></td><td><div class=\"dni-plaintext\">77</div></td><td>Standard_A2_v2</td><td><div class=\"dni-plaintext\">2</div></td><td><div class=\"dni-plaintext\">4</div></td><td><div class=\"dni-plaintext\">4</div></td><td><div class=\"dni-plaintext\">0.136</div></td><td><div class=\"dni-plaintext\">100</div></td></tr><tr style=\"display: none\"><td><i><div class=\"dni-plaintext\">42</div></i></td><td>vmN47</td><td><div class=\"dni-plaintext\">2</div></td><td><div class=\"dni-plaintext\">4</div></td><td><div class=\"dni-plaintext\">77</div></td><td>Standard_A2_v2</td><td><div class=\"dni-plaintext\">2</div></td><td><div class=\"dni-plaintext\">4</div></td><td><div class=\"dni-plaintext\">4</div></td><td><div class=\"dni-plaintext\">0.136</div></td><td><div class=\"dni-plaintext\">100</div></td></tr><tr style=\"display: none\"><td><i><div class=\"dni-plaintext\">43</div></i></td><td>vmN48</td><td><div class=\"dni-plaintext\">2</div></td><td><div class=\"dni-plaintext\">4</div></td><td><div class=\"dni-plaintext\">149</div></td><td>Standard_A2_v2</td><td><div class=\"dni-plaintext\">2</div></td><td><div class=\"dni-plaintext\">4</div></td><td><div class=\"dni-plaintext\">4</div></td><td><div class=\"dni-plaintext\">0.136</div></td><td><div class=\"dni-plaintext\">100</div></td></tr><tr style=\"display: none\"><td><i><div class=\"dni-plaintext\">44</div></i></td><td>vmN49</td><td><div class=\"dni-plaintext\">8</div></td><td><div class=\"dni-plaintext\">20</div></td><td><div class=\"dni-plaintext\">426</div></td><td>Standard_D8s_v4</td><td><div class=\"dni-plaintext\">8</div></td><td><div class=\"dni-plaintext\">32</div></td><td><div class=\"dni-plaintext\">4</div></td><td><div class=\"dni-plaintext\">0.752</div></td><td><div class=\"dni-plaintext\">195</div></td></tr><tr style=\"display: none\"><td><i><div class=\"dni-plaintext\">45</div></i></td><td>vmN50</td><td><div class=\"dni-plaintext\">6</div></td><td><div class=\"dni-plaintext\">32</div></td><td><div class=\"dni-plaintext\">120</div></td><td>Standard_D8s_v4</td><td><div class=\"dni-plaintext\">8</div></td><td><div class=\"dni-plaintext\">32</div></td><td><div class=\"dni-plaintext\">4</div></td><td><div class=\"dni-plaintext\">0.752</div></td><td><div class=\"dni-plaintext\">195</div></td></tr><tr style=\"display: none\"><td><i><div class=\"dni-plaintext\">46</div></i></td><td>vmN51</td><td><div class=\"dni-plaintext\">2</div></td><td><div class=\"dni-plaintext\">32</div></td><td><div class=\"dni-plaintext\">2509</div></td><td>Standard_A4m_v2</td><td><div class=\"dni-plaintext\">4</div></td><td><div class=\"dni-plaintext\">32</div></td><td><div class=\"dni-plaintext\">4</div></td><td><div class=\"dni-plaintext\">0.378</div></td><td><div class=\"dni-plaintext\">100</div></td></tr><tr style=\"display: none\"><td><i><div class=\"dni-plaintext\">47</div></i></td><td>vmN52</td><td><div class=\"dni-plaintext\">5</div></td><td><div class=\"dni-plaintext\">20</div></td><td><div class=\"dni-plaintext\">273</div></td><td>Standard_A4m_v2</td><td><div class=\"dni-plaintext\">4</div></td><td><div class=\"dni-plaintext\">32</div></td><td><div class=\"dni-plaintext\">4</div></td><td><div class=\"dni-plaintext\">0.378</div></td><td><div class=\"dni-plaintext\">100</div></td></tr><tr style=\"display: none\"><td><i><div class=\"dni-plaintext\">48</div></i></td><td>vmN53</td><td><div class=\"dni-plaintext\">6</div></td><td><div class=\"dni-plaintext\">50</div></td><td><div class=\"dni-plaintext\">419</div></td><td>Standard_A8m_v2</td><td><div class=\"dni-plaintext\">8</div></td><td><div class=\"dni-plaintext\">64</div></td><td><div class=\"dni-plaintext\">4</div></td><td><div class=\"dni-plaintext\">0.794</div></td><td><div class=\"dni-plaintext\">100</div></td></tr><tr style=\"display: none\"><td><i><div class=\"dni-plaintext\">49</div></i></td><td>vmN54</td><td><div class=\"dni-plaintext\">3</div></td><td><div class=\"dni-plaintext\">40</div></td><td><div class=\"dni-plaintext\">237</div></td><td>Standard_A8m_v2</td><td><div class=\"dni-plaintext\">8</div></td><td><div class=\"dni-plaintext\">64</div></td><td><div class=\"dni-plaintext\">4</div></td><td><div class=\"dni-plaintext\">0.794</div></td><td><div class=\"dni-plaintext\">100</div></td></tr><tr style=\"display: none\"><td><i><div class=\"dni-plaintext\">50</div></i></td><td>vmN55</td><td><div class=\"dni-plaintext\">8</div></td><td><div class=\"dni-plaintext\">46</div></td><td><div class=\"dni-plaintext\">2267</div></td><td>Standard_A8m_v2</td><td><div class=\"dni-plaintext\">8</div></td><td><div class=\"dni-plaintext\">64</div></td><td><div class=\"dni-plaintext\">4</div></td><td><div class=\"dni-plaintext\">0.794</div></td><td><div class=\"dni-plaintext\">100</div></td></tr><tr style=\"display: none\"><td><i><div class=\"dni-plaintext\">51</div></i></td><td>vmN56</td><td><div class=\"dni-plaintext\">1</div></td><td><div class=\"dni-plaintext\">20</div></td><td><div class=\"dni-plaintext\">20</div></td><td>Standard_A4m_v2</td><td><div class=\"dni-plaintext\">4</div></td><td><div class=\"dni-plaintext\">32</div></td><td><div class=\"dni-plaintext\">4</div></td><td><div class=\"dni-plaintext\">0.378</div></td><td><div class=\"dni-plaintext\">100</div></td></tr><tr style=\"display: none\"><td><i><div class=\"dni-plaintext\">52</div></i></td><td>vmN57</td><td><div class=\"dni-plaintext\">3</div></td><td><div class=\"dni-plaintext\">16</div></td><td><div class=\"dni-plaintext\">149</div></td><td>Standard_D4s_v4</td><td><div class=\"dni-plaintext\">4</div></td><td><div class=\"dni-plaintext\">16</div></td><td><div class=\"dni-plaintext\">4</div></td><td><div class=\"dni-plaintext\">0.376</div></td><td><div class=\"dni-plaintext\">195</div></td></tr><tr style=\"display: none\"><td><i><div class=\"dni-plaintext\">53</div></i></td><td>vmN58</td><td><div class=\"dni-plaintext\">2</div></td><td><div class=\"dni-plaintext\">10</div></td><td><div class=\"dni-plaintext\">149</div></td><td>Standard_A2m_v2</td><td><div class=\"dni-plaintext\">2</div></td><td><div class=\"dni-plaintext\">16</div></td><td><div class=\"dni-plaintext\">4</div></td><td><div class=\"dni-plaintext\">0.18</div></td><td><div class=\"dni-plaintext\">100</div></td></tr><tr style=\"display: none\"><td><i><div class=\"dni-plaintext\">54</div></i></td><td>vmN59</td><td><div class=\"dni-plaintext\">2</div></td><td><div class=\"dni-plaintext\">10</div></td><td><div class=\"dni-plaintext\">149</div></td><td>Standard_A2m_v2</td><td><div class=\"dni-plaintext\">2</div></td><td><div class=\"dni-plaintext\">16</div></td><td><div class=\"dni-plaintext\">4</div></td><td><div class=\"dni-plaintext\">0.18</div></td><td><div class=\"dni-plaintext\">100</div></td></tr><tr style=\"display: none\"><td><i><div class=\"dni-plaintext\">55</div></i></td><td>vmN61</td><td><div class=\"dni-plaintext\">4</div></td><td><div class=\"dni-plaintext\">35</div></td><td><div class=\"dni-plaintext\">170</div></td><td>Standard_A8m_v2</td><td><div class=\"dni-plaintext\">8</div></td><td><div class=\"dni-plaintext\">64</div></td><td><div class=\"dni-plaintext\">4</div></td><td><div class=\"dni-plaintext\">0.794</div></td><td><div class=\"dni-plaintext\">100</div></td></tr><tr style=\"display: none\"><td><i><div class=\"dni-plaintext\">56</div></i></td><td>vmN62</td><td><div class=\"dni-plaintext\">8</div></td><td><div class=\"dni-plaintext\">70</div></td><td><div class=\"dni-plaintext\">2882</div></td><td>Standard_E16_4as_v4</td><td><div class=\"dni-plaintext\">16</div></td><td><div class=\"dni-plaintext\">128</div></td><td><div class=\"dni-plaintext\">4</div></td><td><div class=\"dni-plaintext\">1.744</div></td><td><div class=\"dni-plaintext\">230</div></td></tr><tr style=\"display: none\"><td><i><div class=\"dni-plaintext\">57</div></i></td><td>vmN63</td><td><div class=\"dni-plaintext\">2</div></td><td><div class=\"dni-plaintext\">15</div></td><td><div class=\"dni-plaintext\">151</div></td><td>Standard_A2m_v2</td><td><div class=\"dni-plaintext\">2</div></td><td><div class=\"dni-plaintext\">16</div></td><td><div class=\"dni-plaintext\">4</div></td><td><div class=\"dni-plaintext\">0.18</div></td><td><div class=\"dni-plaintext\">100</div></td></tr><tr style=\"display: none\"><td><i><div class=\"dni-plaintext\">58</div></i></td><td>vmN64</td><td><div class=\"dni-plaintext\">2</div></td><td><div class=\"dni-plaintext\">15</div></td><td><div class=\"dni-plaintext\">151</div></td><td>Standard_A2m_v2</td><td><div class=\"dni-plaintext\">2</div></td><td><div class=\"dni-plaintext\">16</div></td><td><div class=\"dni-plaintext\">4</div></td><td><div class=\"dni-plaintext\">0.18</div></td><td><div class=\"dni-plaintext\">100</div></td></tr><tr style=\"display: none\"><td><i><div class=\"dni-plaintext\">59</div></i></td><td>vmN65</td><td><div class=\"dni-plaintext\">2</div></td><td><div class=\"dni-plaintext\">15</div></td><td><div class=\"dni-plaintext\">151</div></td><td>Standard_A2m_v2</td><td><div class=\"dni-plaintext\">2</div></td><td><div class=\"dni-plaintext\">16</div></td><td><div class=\"dni-plaintext\">4</div></td><td><div class=\"dni-plaintext\">0.18</div></td><td><div class=\"dni-plaintext\">100</div></td></tr><tr style=\"display: none\"><td><i><div class=\"dni-plaintext\">60</div></i></td><td>vmN66</td><td><div class=\"dni-plaintext\">2</div></td><td><div class=\"dni-plaintext\">15</div></td><td><div class=\"dni-plaintext\">151</div></td><td>Standard_A2m_v2</td><td><div class=\"dni-plaintext\">2</div></td><td><div class=\"dni-plaintext\">16</div></td><td><div class=\"dni-plaintext\">4</div></td><td><div class=\"dni-plaintext\">0.18</div></td><td><div class=\"dni-plaintext\">100</div></td></tr><tr style=\"display: none\"><td><i><div class=\"dni-plaintext\">61</div></i></td><td>vmN67</td><td><div class=\"dni-plaintext\">6</div></td><td><div class=\"dni-plaintext\">160</div></td><td><div class=\"dni-plaintext\">1328</div></td><td>Standard_M8_2ms</td><td><div class=\"dni-plaintext\">8</div></td><td><div class=\"dni-plaintext\">218.75</div></td><td><div class=\"dni-plaintext\">4</div></td><td><div class=\"dni-plaintext\">2.1069</div></td><td><div class=\"dni-plaintext\">160</div></td></tr><tr style=\"display: none\"><td><i><div class=\"dni-plaintext\">62</div></i></td><td>vmN68</td><td><div class=\"dni-plaintext\">2</div></td><td><div class=\"dni-plaintext\">4</div></td><td><div class=\"dni-plaintext\">110</div></td><td>Standard_A2_v2</td><td><div class=\"dni-plaintext\">2</div></td><td><div class=\"dni-plaintext\">4</div></td><td><div class=\"dni-plaintext\">4</div></td><td><div class=\"dni-plaintext\">0.136</div></td><td><div class=\"dni-plaintext\">100</div></td></tr><tr style=\"display: none\"><td><i><div class=\"dni-plaintext\">63</div></i></td><td>vmN69</td><td><div class=\"dni-plaintext\">2</div></td><td><div class=\"dni-plaintext\">20</div></td><td><div class=\"dni-plaintext\">245</div></td><td>Standard_A4m_v2</td><td><div class=\"dni-plaintext\">4</div></td><td><div class=\"dni-plaintext\">32</div></td><td><div class=\"dni-plaintext\">4</div></td><td><div class=\"dni-plaintext\">0.378</div></td><td><div class=\"dni-plaintext\">100</div></td></tr><tr style=\"display: none\"><td><i><div class=\"dni-plaintext\">64</div></i></td><td>vmN70</td><td><div class=\"dni-plaintext\">2</div></td><td><div class=\"dni-plaintext\">31</div></td><td><div class=\"dni-plaintext\">225</div></td><td>Standard_A4m_v2</td><td><div class=\"dni-plaintext\">4</div></td><td><div class=\"dni-plaintext\">32</div></td><td><div class=\"dni-plaintext\">4</div></td><td><div class=\"dni-plaintext\">0.378</div></td><td><div class=\"dni-plaintext\">100</div></td></tr><tr style=\"display: none\"><td><i><div class=\"dni-plaintext\">65</div></i></td><td>vmN71</td><td><div class=\"dni-plaintext\">2</div></td><td><div class=\"dni-plaintext\">31</div></td><td><div class=\"dni-plaintext\">225</div></td><td>Standard_A4m_v2</td><td><div class=\"dni-plaintext\">4</div></td><td><div class=\"dni-plaintext\">32</div></td><td><div class=\"dni-plaintext\">4</div></td><td><div class=\"dni-plaintext\">0.378</div></td><td><div class=\"dni-plaintext\">100</div></td></tr><tr style=\"display: none\"><td><i><div class=\"dni-plaintext\">66</div></i></td><td>vmN72</td><td><div class=\"dni-plaintext\">4</div></td><td><div class=\"dni-plaintext\">24</div></td><td><div class=\"dni-plaintext\">3036</div></td><td>Standard_A4m_v2</td><td><div class=\"dni-plaintext\">4</div></td><td><div class=\"dni-plaintext\">32</div></td><td><div class=\"dni-plaintext\">4</div></td><td><div class=\"dni-plaintext\">0.378</div></td><td><div class=\"dni-plaintext\">100</div></td></tr><tr style=\"display: none\"><td><i><div class=\"dni-plaintext\">67</div></i></td><td>vmN73</td><td><div class=\"dni-plaintext\">2</div></td><td><div class=\"dni-plaintext\">32</div></td><td><div class=\"dni-plaintext\">200</div></td><td>Standard_A4m_v2</td><td><div class=\"dni-plaintext\">4</div></td><td><div class=\"dni-plaintext\">32</div></td><td><div class=\"dni-plaintext\">4</div></td><td><div class=\"dni-plaintext\">0.378</div></td><td><div class=\"dni-plaintext\">100</div></td></tr><tr style=\"display: none\"><td><i><div class=\"dni-plaintext\">68</div></i></td><td>vmN74</td><td><div class=\"dni-plaintext\">6</div></td><td><div class=\"dni-plaintext\">50</div></td><td><div class=\"dni-plaintext\">287</div></td><td>Standard_A8m_v2</td><td><div class=\"dni-plaintext\">8</div></td><td><div class=\"dni-plaintext\">64</div></td><td><div class=\"dni-plaintext\">4</div></td><td><div class=\"dni-plaintext\">0.794</div></td><td><div class=\"dni-plaintext\">100</div></td></tr><tr style=\"display: none\"><td><i><div class=\"dni-plaintext\">69</div></i></td><td>vmN75</td><td><div class=\"dni-plaintext\">3</div></td><td><div class=\"dni-plaintext\">65</div></td><td><div class=\"dni-plaintext\">153</div></td><td>Standard_E16_4as_v4</td><td><div class=\"dni-plaintext\">16</div></td><td><div class=\"dni-plaintext\">128</div></td><td><div class=\"dni-plaintext\">4</div></td><td><div class=\"dni-plaintext\">1.744</div></td><td><div class=\"dni-plaintext\">230</div></td></tr><tr style=\"display: none\"><td><i><div class=\"dni-plaintext\">70</div></i></td><td>vmN76</td><td><div class=\"dni-plaintext\">2</div></td><td><div class=\"dni-plaintext\">16</div></td><td><div class=\"dni-plaintext\">150</div></td><td>Standard_A2m_v2</td><td><div class=\"dni-plaintext\">2</div></td><td><div class=\"dni-plaintext\">16</div></td><td><div class=\"dni-plaintext\">4</div></td><td><div class=\"dni-plaintext\">0.18</div></td><td><div class=\"dni-plaintext\">100</div></td></tr><tr style=\"display: none\"><td><i><div class=\"dni-plaintext\">71</div></i></td><td>vmN77</td><td><div class=\"dni-plaintext\">2</div></td><td><div class=\"dni-plaintext\">4</div></td><td><div class=\"dni-plaintext\">77</div></td><td>Standard_A2_v2</td><td><div class=\"dni-plaintext\">2</div></td><td><div class=\"dni-plaintext\">4</div></td><td><div class=\"dni-plaintext\">4</div></td><td><div class=\"dni-plaintext\">0.136</div></td><td><div class=\"dni-plaintext\">100</div></td></tr><tr style=\"display: none\"><td><i><div class=\"dni-plaintext\">72</div></i></td><td>vmN78</td><td><div class=\"dni-plaintext\">8</div></td><td><div class=\"dni-plaintext\">36</div></td><td><div class=\"dni-plaintext\">650</div></td><td>Standard_A8m_v2</td><td><div class=\"dni-plaintext\">8</div></td><td><div class=\"dni-plaintext\">64</div></td><td><div class=\"dni-plaintext\">4</div></td><td><div class=\"dni-plaintext\">0.794</div></td><td><div class=\"dni-plaintext\">100</div></td></tr><tr style=\"display: none\"><td><i><div class=\"dni-plaintext\">73</div></i></td><td>vmN79</td><td><div class=\"dni-plaintext\">3</div></td><td><div class=\"dni-plaintext\">50</div></td><td><div class=\"dni-plaintext\">800</div></td><td>Standard_A8m_v2</td><td><div class=\"dni-plaintext\">8</div></td><td><div class=\"dni-plaintext\">64</div></td><td><div class=\"dni-plaintext\">4</div></td><td><div class=\"dni-plaintext\">0.794</div></td><td><div class=\"dni-plaintext\">100</div></td></tr><tr style=\"display: none\"><td><i><div class=\"dni-plaintext\">74</div></i></td><td>vmN80</td><td><div class=\"dni-plaintext\">2</div></td><td><div class=\"dni-plaintext\">11</div></td><td><div class=\"dni-plaintext\">148</div></td><td>Standard_A2m_v2</td><td><div class=\"dni-plaintext\">2</div></td><td><div class=\"dni-plaintext\">16</div></td><td><div class=\"dni-plaintext\">4</div></td><td><div class=\"dni-plaintext\">0.18</div></td><td><div class=\"dni-plaintext\">100</div></td></tr><tr style=\"display: none\"><td><i><div class=\"dni-plaintext\">75</div></i></td><td>vmN81</td><td><div class=\"dni-plaintext\">4</div></td><td><div class=\"dni-plaintext\">24</div></td><td><div class=\"dni-plaintext\">1862</div></td><td>Standard_A4m_v2</td><td><div class=\"dni-plaintext\">4</div></td><td><div class=\"dni-plaintext\">32</div></td><td><div class=\"dni-plaintext\">4</div></td><td><div class=\"dni-plaintext\">0.378</div></td><td><div class=\"dni-plaintext\">100</div></td></tr><tr style=\"display: none\"><td><i><div class=\"dni-plaintext\">76</div></i></td><td>vmN82</td><td><div class=\"dni-plaintext\">4</div></td><td><div class=\"dni-plaintext\">30</div></td><td><div class=\"dni-plaintext\">539</div></td><td>Standard_A4m_v2</td><td><div class=\"dni-plaintext\">4</div></td><td><div class=\"dni-plaintext\">32</div></td><td><div class=\"dni-plaintext\">4</div></td><td><div class=\"dni-plaintext\">0.378</div></td><td><div class=\"dni-plaintext\">100</div></td></tr><tr style=\"display: none\"><td><i><div class=\"dni-plaintext\">77</div></i></td><td>vmN83</td><td><div class=\"dni-plaintext\">2</div></td><td><div class=\"dni-plaintext\">16</div></td><td><div class=\"dni-plaintext\">181</div></td><td>Standard_A2m_v2</td><td><div class=\"dni-plaintext\">2</div></td><td><div class=\"dni-plaintext\">16</div></td><td><div class=\"dni-plaintext\">4</div></td><td><div class=\"dni-plaintext\">0.18</div></td><td><div class=\"dni-plaintext\">100</div></td></tr><tr style=\"display: none\"><td><i><div class=\"dni-plaintext\">78</div></i></td><td>vmN84</td><td><div class=\"dni-plaintext\">1</div></td><td><div class=\"dni-plaintext\">16</div></td><td><div class=\"dni-plaintext\">2601</div></td><td>Standard_A2m_v2</td><td><div class=\"dni-plaintext\">2</div></td><td><div class=\"dni-plaintext\">16</div></td><td><div class=\"dni-plaintext\">4</div></td><td><div class=\"dni-plaintext\">0.18</div></td><td><div class=\"dni-plaintext\">100</div></td></tr><tr style=\"display: none\"><td><i><div class=\"dni-plaintext\">79</div></i></td><td>vmN85</td><td><div class=\"dni-plaintext\">3</div></td><td><div class=\"dni-plaintext\">24</div></td><td><div class=\"dni-plaintext\">244</div></td><td>Standard_A4m_v2</td><td><div class=\"dni-plaintext\">4</div></td><td><div class=\"dni-plaintext\">32</div></td><td><div class=\"dni-plaintext\">4</div></td><td><div class=\"dni-plaintext\">0.378</div></td><td><div class=\"dni-plaintext\">100</div></td></tr><tr style=\"display: none\"><td><i><div class=\"dni-plaintext\">80</div></i></td><td>vmN86</td><td><div class=\"dni-plaintext\">2</div></td><td><div class=\"dni-plaintext\">20</div></td><td><div class=\"dni-plaintext\">3466</div></td><td>Standard_A4m_v2</td><td><div class=\"dni-plaintext\">4</div></td><td><div class=\"dni-plaintext\">32</div></td><td><div class=\"dni-plaintext\">4</div></td><td><div class=\"dni-plaintext\">0.378</div></td><td><div class=\"dni-plaintext\">100</div></td></tr><tr style=\"display: none\"><td><i><div class=\"dni-plaintext\">81</div></i></td><td>vmN87</td><td><div class=\"dni-plaintext\">2</div></td><td><div class=\"dni-plaintext\">32</div></td><td><div class=\"dni-plaintext\">200</div></td><td>Standard_A4m_v2</td><td><div class=\"dni-plaintext\">4</div></td><td><div class=\"dni-plaintext\">32</div></td><td><div class=\"dni-plaintext\">4</div></td><td><div class=\"dni-plaintext\">0.378</div></td><td><div class=\"dni-plaintext\">100</div></td></tr></tbody><tfoot><tr><td colspan=\"11\" style=\"text-align: center;\"><button style=\"margin: 2px;\" onclick=\"var allRows = document.querySelectorAll(&#39;#table_637774303650166353 tbody tr:nth-child(n)&#39;); for (let i = 0; i &lt; allRows.length; i++) { allRows[i].style.display=&#39;none&#39;; } document.querySelector(&#39;#page_637774303650166353&#39;).innerHTML = 1; var page = parseInt(document.querySelector(&#39;#page_637774303650166353&#39;).innerHTML) - 1; var pageRows = document.querySelectorAll(`#table_637774303650166353 tbody tr:nth-child(n + ${page * 25 + 1 })`); for (let j = 0; j &lt; 25; j++) { pageRows[j].style.display=&#39;table-row&#39;; } \">⏮</button><button style=\"margin: 2px;\" onclick=\"var allRows = document.querySelectorAll(&#39;#table_637774303650166353 tbody tr:nth-child(n)&#39;); for (let i = 0; i &lt; allRows.length; i++) { allRows[i].style.display=&#39;none&#39;; } var page = parseInt(document.querySelector(&#39;#page_637774303650166353&#39;).innerHTML) - 1; page = parseInt(page) + parseInt(-10); page = page &lt; 0 ? 0 : page; page = page > 3 ? 3 : page; document.querySelector(&#39;#page_637774303650166353&#39;).innerHTML = page + 1; var page = parseInt(document.querySelector(&#39;#page_637774303650166353&#39;).innerHTML) - 1; var pageRows = document.querySelectorAll(`#table_637774303650166353 tbody tr:nth-child(n + ${page * 25 + 1 })`); for (let j = 0; j &lt; 25; j++) { pageRows[j].style.display=&#39;table-row&#39;; } \">⏪</button><button style=\"margin: 2px;\" onclick=\"var allRows = document.querySelectorAll(&#39;#table_637774303650166353 tbody tr:nth-child(n)&#39;); for (let i = 0; i &lt; allRows.length; i++) { allRows[i].style.display=&#39;none&#39;; } var page = parseInt(document.querySelector(&#39;#page_637774303650166353&#39;).innerHTML) - 1; page = parseInt(page) + parseInt(-1); page = page &lt; 0 ? 0 : page; page = page > 3 ? 3 : page; document.querySelector(&#39;#page_637774303650166353&#39;).innerHTML = page + 1; var page = parseInt(document.querySelector(&#39;#page_637774303650166353&#39;).innerHTML) - 1; var pageRows = document.querySelectorAll(`#table_637774303650166353 tbody tr:nth-child(n + ${page * 25 + 1 })`); for (let j = 0; j &lt; 25; j++) { pageRows[j].style.display=&#39;table-row&#39;; } \">◀️</button><b style=\"margin: 2px;\">Page</b><b id=\"page_637774303650166353\" style=\"margin: 2px;\">1</b><button style=\"margin: 2px;\" onclick=\"var allRows = document.querySelectorAll(&#39;#table_637774303650166353 tbody tr:nth-child(n)&#39;); for (let i = 0; i &lt; allRows.length; i++) { allRows[i].style.display=&#39;none&#39;; } var page = parseInt(document.querySelector(&#39;#page_637774303650166353&#39;).innerHTML) - 1; page = parseInt(page) + parseInt(1); page = page &lt; 0 ? 0 : page; page = page > 3 ? 3 : page; document.querySelector(&#39;#page_637774303650166353&#39;).innerHTML = page + 1; var page = parseInt(document.querySelector(&#39;#page_637774303650166353&#39;).innerHTML) - 1; var pageRows = document.querySelectorAll(`#table_637774303650166353 tbody tr:nth-child(n + ${page * 25 + 1 })`); for (let j = 0; j &lt; 25; j++) { pageRows[j].style.display=&#39;table-row&#39;; } \">▶️</button><button style=\"margin: 2px;\" onclick=\"var allRows = document.querySelectorAll(&#39;#table_637774303650166353 tbody tr:nth-child(n)&#39;); for (let i = 0; i &lt; allRows.length; i++) { allRows[i].style.display=&#39;none&#39;; } var page = parseInt(document.querySelector(&#39;#page_637774303650166353&#39;).innerHTML) - 1; page = parseInt(page) + parseInt(10); page = page &lt; 0 ? 0 : page; page = page > 3 ? 3 : page; document.querySelector(&#39;#page_637774303650166353&#39;).innerHTML = page + 1; var page = parseInt(document.querySelector(&#39;#page_637774303650166353&#39;).innerHTML) - 1; var pageRows = document.querySelectorAll(`#table_637774303650166353 tbody tr:nth-child(n + ${page * 25 + 1 })`); for (let j = 0; j &lt; 25; j++) { pageRows[j].style.display=&#39;table-row&#39;; } \">⏩</button><button style=\"margin: 2px;\" onclick=\"var allRows = document.querySelectorAll(&#39;#table_637774303650166353 tbody tr:nth-child(n)&#39;); for (let i = 0; i &lt; allRows.length; i++) { allRows[i].style.display=&#39;none&#39;; } document.querySelector(&#39;#page_637774303650166353&#39;).innerHTML = 4; var page = parseInt(document.querySelector(&#39;#page_637774303650166353&#39;).innerHTML) - 1; var pageRows = document.querySelectorAll(`#table_637774303650166353 tbody tr:nth-child(n + ${page * 25 + 1 })`); for (let j = 0; j &lt; 25; j++) { pageRows[j].style.display=&#39;table-row&#39;; } \">⏭️</button></td></tr></tfoot></table><script>var page = parseInt(document.querySelector('#page_637774303650166353').innerHTML) - 1; var pageRows = document.querySelectorAll(`#table_637774303650166353 tbody tr:nth-child(n + ${page * 25 + 1 })`); for (let j = 0; j < 25; j++) { pageRows[j].style.display='table-row'; } </script>"
      ]
     },
     "metadata": {},
     "output_type": "display_data"
    },
    {
     "name": "stdout",
     "output_type": "stream",
     "text": [
      "\r\n",
      "\u001b[32;1mMimeTypes\u001b[0m\r\n",
      "\u001b[32;1m---------\u001b[0m\r\n",
      "{text/html}\r\n",
      "\r\n"
     ]
    }
   ],
   "source": [
    "$csv = ($ret.vmRecords | ConvertTo-Csv -NoTypeInformation) -join \"`n\"\n",
    "$df = [Microsoft.Data.Analysis.DataFrame]::LoadCsvFromString($csv)\n",
    "[Microsoft.DotNet.Interactive.Kernel]::display($df)"
   ]
  },
  {
   "cell_type": "markdown",
   "metadata": {},
   "source": [
    "Тут стоит обратить внимание на то, что `targetVMACU` везде 100. Это, наверное, и послужило прибавкой в суммарной производительности"
   ]
  },
  {
   "cell_type": "markdown",
   "metadata": {},
   "source": [
    "К слову сказать, при отображении можно обойтись и без DataFrame. Как показано ниже, но для больших таблиц это может быть не очень удобно."
   ]
  },
  {
   "cell_type": "code",
   "execution_count": null,
   "metadata": {
    "dotnet_interactive": {
     "language": "pwsh"
    }
   },
   "outputs": [],
   "source": [
    "$view = $ret.vmRecords | ConvertTo-Html -Fragment\n",
    "[Microsoft.DotNet.Interactive.Kernel]::HTML($view) | Out-Display"
   ]
  },
  {
   "cell_type": "markdown",
   "metadata": {},
   "source": [
    "### Минимизируем цену, без потери производительности"
   ]
  },
  {
   "cell_type": "markdown",
   "metadata": {},
   "source": [
    "Теперь попробуем другой подход. Сначала максимизируем производительность, зафиксируем ее и попытаемся минимизировать цену не теряя производительности"
   ]
  },
  {
   "cell_type": "code",
   "execution_count": null,
   "metadata": {
    "dotnet_interactive": {
     "language": "pwsh"
    }
   },
   "outputs": [
    {
     "name": "stdout",
     "output_type": "stream",
     "text": [
      "\r\n",
      "\u001b[32;1mtotalPrice totalACU vmRecords\u001b[0m\r\n",
      "\u001b[32;1m---------- -------- ---------\u001b[0m\r\n",
      "    54.936    18860 {@{sourceVMName=vmN1; sourceVMCPU=2; sourceVMRAM=12; sourceVMDisk=460; selecte…\r\n",
      "\r\n"
     ]
    }
   ],
   "source": [
    "$ret2 = Start-MinizincVMOptimizationModel -Performance | Start-MinizincVMOptimizationModel -Costs\n",
    "$ret2"
   ]
  },
  {
   "cell_type": "markdown",
   "metadata": {},
   "source": [
    "И, о ужас, в наше конкретном случае оказывается, что увеличив цену всего на ~20% мы можем получить увеличение суммарной производительности в два раза! Это успех я щетаю! Как же так вышло?"
   ]
  },
  {
   "cell_type": "code",
   "execution_count": null,
   "metadata": {
    "dotnet_interactive": {
     "language": "pwsh"
    }
   },
   "outputs": [
    {
     "data": {
      "text/html": [
       "<table id=\"table_637774369055735459\"><caption><h3 style=\"text-align: center;\">DataFrame - 82 rows </h3></caption><thead><tr><th><i>index</i></th><th>sourceVMName</th><th>sourceVMCPU</th><th>sourceVMRAM</th><th>sourceVMDisk</th><th>selectedSize</th><th>targetVMCPU</th><th>targetVMRAM</th><th>targetVMDisk</th><th>targetVMPrice</th><th>targetVMACU</th></tr></thead><tbody><tr style=\"display: none\"><td><i><div class=\"dni-plaintext\">0</div></i></td><td>vmN1</td><td><div class=\"dni-plaintext\">2</div></td><td><div class=\"dni-plaintext\">12</div></td><td><div class=\"dni-plaintext\">460</div></td><td>Standard_E4_2as_v4</td><td><div class=\"dni-plaintext\">4</div></td><td><div class=\"dni-plaintext\">32</div></td><td><div class=\"dni-plaintext\">4</div></td><td><div class=\"dni-plaintext\">0.436</div></td><td><div class=\"dni-plaintext\">230</div></td></tr><tr style=\"display: none\"><td><i><div class=\"dni-plaintext\">1</div></i></td><td>vmN2</td><td><div class=\"dni-plaintext\">2</div></td><td><div class=\"dni-plaintext\">24</div></td><td><div class=\"dni-plaintext\">1440</div></td><td>Standard_E4_2as_v4</td><td><div class=\"dni-plaintext\">4</div></td><td><div class=\"dni-plaintext\">32</div></td><td><div class=\"dni-plaintext\">4</div></td><td><div class=\"dni-plaintext\">0.436</div></td><td><div class=\"dni-plaintext\">230</div></td></tr><tr style=\"display: none\"><td><i><div class=\"dni-plaintext\">2</div></i></td><td>vmN3</td><td><div class=\"dni-plaintext\">2</div></td><td><div class=\"dni-plaintext\">4</div></td><td><div class=\"dni-plaintext\">110</div></td><td>Standard_E4_2as_v4</td><td><div class=\"dni-plaintext\">4</div></td><td><div class=\"dni-plaintext\">32</div></td><td><div class=\"dni-plaintext\">4</div></td><td><div class=\"dni-plaintext\">0.436</div></td><td><div class=\"dni-plaintext\">230</div></td></tr><tr style=\"display: none\"><td><i><div class=\"dni-plaintext\">3</div></i></td><td>vmN4</td><td><div class=\"dni-plaintext\">6</div></td><td><div class=\"dni-plaintext\">23</div></td><td><div class=\"dni-plaintext\">260</div></td><td>Standard_E8_2as_v4</td><td><div class=\"dni-plaintext\">8</div></td><td><div class=\"dni-plaintext\">64</div></td><td><div class=\"dni-plaintext\">4</div></td><td><div class=\"dni-plaintext\">0.872</div></td><td><div class=\"dni-plaintext\">230</div></td></tr><tr style=\"display: none\"><td><i><div class=\"dni-plaintext\">4</div></i></td><td>vmN5</td><td><div class=\"dni-plaintext\">3</div></td><td><div class=\"dni-plaintext\">16</div></td><td><div class=\"dni-plaintext\">1120</div></td><td>Standard_E4_2as_v4</td><td><div class=\"dni-plaintext\">4</div></td><td><div class=\"dni-plaintext\">32</div></td><td><div class=\"dni-plaintext\">4</div></td><td><div class=\"dni-plaintext\">0.436</div></td><td><div class=\"dni-plaintext\">230</div></td></tr><tr style=\"display: none\"><td><i><div class=\"dni-plaintext\">5</div></i></td><td>vmN6</td><td><div class=\"dni-plaintext\">2</div></td><td><div class=\"dni-plaintext\">32</div></td><td><div class=\"dni-plaintext\">200</div></td><td>Standard_E4_2as_v4</td><td><div class=\"dni-plaintext\">4</div></td><td><div class=\"dni-plaintext\">32</div></td><td><div class=\"dni-plaintext\">4</div></td><td><div class=\"dni-plaintext\">0.436</div></td><td><div class=\"dni-plaintext\">230</div></td></tr><tr style=\"display: none\"><td><i><div class=\"dni-plaintext\">6</div></i></td><td>vmN7</td><td><div class=\"dni-plaintext\">2</div></td><td><div class=\"dni-plaintext\">7</div></td><td><div class=\"dni-plaintext\">267</div></td><td>Standard_E4_2as_v4</td><td><div class=\"dni-plaintext\">4</div></td><td><div class=\"dni-plaintext\">32</div></td><td><div class=\"dni-plaintext\">4</div></td><td><div class=\"dni-plaintext\">0.436</div></td><td><div class=\"dni-plaintext\">230</div></td></tr><tr style=\"display: none\"><td><i><div class=\"dni-plaintext\">7</div></i></td><td>vmN8</td><td><div class=\"dni-plaintext\">3</div></td><td><div class=\"dni-plaintext\">32</div></td><td><div class=\"dni-plaintext\">134</div></td><td>Standard_E4_2as_v4</td><td><div class=\"dni-plaintext\">4</div></td><td><div class=\"dni-plaintext\">32</div></td><td><div class=\"dni-plaintext\">4</div></td><td><div class=\"dni-plaintext\">0.436</div></td><td><div class=\"dni-plaintext\">230</div></td></tr><tr style=\"display: none\"><td><i><div class=\"dni-plaintext\">8</div></i></td><td>vmN9</td><td><div class=\"dni-plaintext\">2</div></td><td><div class=\"dni-plaintext\">8</div></td><td><div class=\"dni-plaintext\">213</div></td><td>Standard_E4_2as_v4</td><td><div class=\"dni-plaintext\">4</div></td><td><div class=\"dni-plaintext\">32</div></td><td><div class=\"dni-plaintext\">4</div></td><td><div class=\"dni-plaintext\">0.436</div></td><td><div class=\"dni-plaintext\">230</div></td></tr><tr style=\"display: none\"><td><i><div class=\"dni-plaintext\">9</div></i></td><td>vmN11</td><td><div class=\"dni-plaintext\">2</div></td><td><div class=\"dni-plaintext\">4</div></td><td><div class=\"dni-plaintext\">77</div></td><td>Standard_E4_2as_v4</td><td><div class=\"dni-plaintext\">4</div></td><td><div class=\"dni-plaintext\">32</div></td><td><div class=\"dni-plaintext\">4</div></td><td><div class=\"dni-plaintext\">0.436</div></td><td><div class=\"dni-plaintext\">230</div></td></tr><tr style=\"display: none\"><td><i><div class=\"dni-plaintext\">10</div></i></td><td>vmN12</td><td><div class=\"dni-plaintext\">3</div></td><td><div class=\"dni-plaintext\">46</div></td><td><div class=\"dni-plaintext\">150</div></td><td>Standard_E8_2as_v4</td><td><div class=\"dni-plaintext\">8</div></td><td><div class=\"dni-plaintext\">64</div></td><td><div class=\"dni-plaintext\">4</div></td><td><div class=\"dni-plaintext\">0.872</div></td><td><div class=\"dni-plaintext\">230</div></td></tr><tr style=\"display: none\"><td><i><div class=\"dni-plaintext\">11</div></i></td><td>vmN13</td><td><div class=\"dni-plaintext\">4</div></td><td><div class=\"dni-plaintext\">8</div></td><td><div class=\"dni-plaintext\">208</div></td><td>Standard_E4_2as_v4</td><td><div class=\"dni-plaintext\">4</div></td><td><div class=\"dni-plaintext\">32</div></td><td><div class=\"dni-plaintext\">4</div></td><td><div class=\"dni-plaintext\">0.436</div></td><td><div class=\"dni-plaintext\">230</div></td></tr><tr style=\"display: none\"><td><i><div class=\"dni-plaintext\">12</div></i></td><td>vmN14</td><td><div class=\"dni-plaintext\">2</div></td><td><div class=\"dni-plaintext\">16</div></td><td><div class=\"dni-plaintext\">578</div></td><td>Standard_E4_2as_v4</td><td><div class=\"dni-plaintext\">4</div></td><td><div class=\"dni-plaintext\">32</div></td><td><div class=\"dni-plaintext\">4</div></td><td><div class=\"dni-plaintext\">0.436</div></td><td><div class=\"dni-plaintext\">230</div></td></tr><tr style=\"display: none\"><td><i><div class=\"dni-plaintext\">13</div></i></td><td>vmN15</td><td><div class=\"dni-plaintext\">10</div></td><td><div class=\"dni-plaintext\">27</div></td><td><div class=\"dni-plaintext\">525</div></td><td>Standard_E8_2as_v4</td><td><div class=\"dni-plaintext\">8</div></td><td><div class=\"dni-plaintext\">64</div></td><td><div class=\"dni-plaintext\">4</div></td><td><div class=\"dni-plaintext\">0.872</div></td><td><div class=\"dni-plaintext\">230</div></td></tr><tr style=\"display: none\"><td><i><div class=\"dni-plaintext\">14</div></i></td><td>vmN17</td><td><div class=\"dni-plaintext\">1</div></td><td><div class=\"dni-plaintext\">20</div></td><td><div class=\"dni-plaintext\">20</div></td><td>Standard_E4_2as_v4</td><td><div class=\"dni-plaintext\">4</div></td><td><div class=\"dni-plaintext\">32</div></td><td><div class=\"dni-plaintext\">4</div></td><td><div class=\"dni-plaintext\">0.436</div></td><td><div class=\"dni-plaintext\">230</div></td></tr><tr style=\"display: none\"><td><i><div class=\"dni-plaintext\">15</div></i></td><td>vmN18</td><td><div class=\"dni-plaintext\">3</div></td><td><div class=\"dni-plaintext\">25</div></td><td><div class=\"dni-plaintext\">450</div></td><td>Standard_E4_2as_v4</td><td><div class=\"dni-plaintext\">4</div></td><td><div class=\"dni-plaintext\">32</div></td><td><div class=\"dni-plaintext\">4</div></td><td><div class=\"dni-plaintext\">0.436</div></td><td><div class=\"dni-plaintext\">230</div></td></tr><tr style=\"display: none\"><td><i><div class=\"dni-plaintext\">16</div></i></td><td>vmN19</td><td><div class=\"dni-plaintext\">5</div></td><td><div class=\"dni-plaintext\">30</div></td><td><div class=\"dni-plaintext\">545</div></td><td>Standard_E4_2as_v4</td><td><div class=\"dni-plaintext\">4</div></td><td><div class=\"dni-plaintext\">32</div></td><td><div class=\"dni-plaintext\">4</div></td><td><div class=\"dni-plaintext\">0.436</div></td><td><div class=\"dni-plaintext\">230</div></td></tr><tr style=\"display: none\"><td><i><div class=\"dni-plaintext\">17</div></i></td><td>vmN20</td><td><div class=\"dni-plaintext\">5</div></td><td><div class=\"dni-plaintext\">35</div></td><td><div class=\"dni-plaintext\">380</div></td><td>Standard_E8_2as_v4</td><td><div class=\"dni-plaintext\">8</div></td><td><div class=\"dni-plaintext\">64</div></td><td><div class=\"dni-plaintext\">4</div></td><td><div class=\"dni-plaintext\">0.872</div></td><td><div class=\"dni-plaintext\">230</div></td></tr><tr style=\"display: none\"><td><i><div class=\"dni-plaintext\">18</div></i></td><td>vmN21</td><td><div class=\"dni-plaintext\">4</div></td><td><div class=\"dni-plaintext\">48</div></td><td><div class=\"dni-plaintext\">402</div></td><td>Standard_E8_2as_v4</td><td><div class=\"dni-plaintext\">8</div></td><td><div class=\"dni-plaintext\">64</div></td><td><div class=\"dni-plaintext\">4</div></td><td><div class=\"dni-plaintext\">0.872</div></td><td><div class=\"dni-plaintext\">230</div></td></tr><tr style=\"display: none\"><td><i><div class=\"dni-plaintext\">19</div></i></td><td>vmN22</td><td><div class=\"dni-plaintext\">2</div></td><td><div class=\"dni-plaintext\">29</div></td><td><div class=\"dni-plaintext\">163</div></td><td>Standard_E4_2as_v4</td><td><div class=\"dni-plaintext\">4</div></td><td><div class=\"dni-plaintext\">32</div></td><td><div class=\"dni-plaintext\">4</div></td><td><div class=\"dni-plaintext\">0.436</div></td><td><div class=\"dni-plaintext\">230</div></td></tr><tr style=\"display: none\"><td><i><div class=\"dni-plaintext\">20</div></i></td><td>vmN23</td><td><div class=\"dni-plaintext\">2</div></td><td><div class=\"dni-plaintext\">29</div></td><td><div class=\"dni-plaintext\">163</div></td><td>Standard_E4_2as_v4</td><td><div class=\"dni-plaintext\">4</div></td><td><div class=\"dni-plaintext\">32</div></td><td><div class=\"dni-plaintext\">4</div></td><td><div class=\"dni-plaintext\">0.436</div></td><td><div class=\"dni-plaintext\">230</div></td></tr><tr style=\"display: none\"><td><i><div class=\"dni-plaintext\">21</div></i></td><td>vmN24</td><td><div class=\"dni-plaintext\">2</div></td><td><div class=\"dni-plaintext\">29</div></td><td><div class=\"dni-plaintext\">163</div></td><td>Standard_E4_2as_v4</td><td><div class=\"dni-plaintext\">4</div></td><td><div class=\"dni-plaintext\">32</div></td><td><div class=\"dni-plaintext\">4</div></td><td><div class=\"dni-plaintext\">0.436</div></td><td><div class=\"dni-plaintext\">230</div></td></tr><tr style=\"display: none\"><td><i><div class=\"dni-plaintext\">22</div></i></td><td>vmN25</td><td><div class=\"dni-plaintext\">2</div></td><td><div class=\"dni-plaintext\">29</div></td><td><div class=\"dni-plaintext\">163</div></td><td>Standard_E4_2as_v4</td><td><div class=\"dni-plaintext\">4</div></td><td><div class=\"dni-plaintext\">32</div></td><td><div class=\"dni-plaintext\">4</div></td><td><div class=\"dni-plaintext\">0.436</div></td><td><div class=\"dni-plaintext\">230</div></td></tr><tr style=\"display: none\"><td><i><div class=\"dni-plaintext\">23</div></i></td><td>vmN26</td><td><div class=\"dni-plaintext\">2</div></td><td><div class=\"dni-plaintext\">29</div></td><td><div class=\"dni-plaintext\">163</div></td><td>Standard_E4_2as_v4</td><td><div class=\"dni-plaintext\">4</div></td><td><div class=\"dni-plaintext\">32</div></td><td><div class=\"dni-plaintext\">4</div></td><td><div class=\"dni-plaintext\">0.436</div></td><td><div class=\"dni-plaintext\">230</div></td></tr><tr style=\"display: none\"><td><i><div class=\"dni-plaintext\">24</div></i></td><td>vmN27</td><td><div class=\"dni-plaintext\">2</div></td><td><div class=\"dni-plaintext\">29</div></td><td><div class=\"dni-plaintext\">163</div></td><td>Standard_E4_2as_v4</td><td><div class=\"dni-plaintext\">4</div></td><td><div class=\"dni-plaintext\">32</div></td><td><div class=\"dni-plaintext\">4</div></td><td><div class=\"dni-plaintext\">0.436</div></td><td><div class=\"dni-plaintext\">230</div></td></tr><tr style=\"display: none\"><td><i><div class=\"dni-plaintext\">25</div></i></td><td>vmN28</td><td><div class=\"dni-plaintext\">2</div></td><td><div class=\"dni-plaintext\">29</div></td><td><div class=\"dni-plaintext\">163</div></td><td>Standard_E4_2as_v4</td><td><div class=\"dni-plaintext\">4</div></td><td><div class=\"dni-plaintext\">32</div></td><td><div class=\"dni-plaintext\">4</div></td><td><div class=\"dni-plaintext\">0.436</div></td><td><div class=\"dni-plaintext\">230</div></td></tr><tr style=\"display: none\"><td><i><div class=\"dni-plaintext\">26</div></i></td><td>vmN29</td><td><div class=\"dni-plaintext\">2</div></td><td><div class=\"dni-plaintext\">29</div></td><td><div class=\"dni-plaintext\">163</div></td><td>Standard_E4_2as_v4</td><td><div class=\"dni-plaintext\">4</div></td><td><div class=\"dni-plaintext\">32</div></td><td><div class=\"dni-plaintext\">4</div></td><td><div class=\"dni-plaintext\">0.436</div></td><td><div class=\"dni-plaintext\">230</div></td></tr><tr style=\"display: none\"><td><i><div class=\"dni-plaintext\">27</div></i></td><td>vmN30</td><td><div class=\"dni-plaintext\">2</div></td><td><div class=\"dni-plaintext\">29</div></td><td><div class=\"dni-plaintext\">163</div></td><td>Standard_E4_2as_v4</td><td><div class=\"dni-plaintext\">4</div></td><td><div class=\"dni-plaintext\">32</div></td><td><div class=\"dni-plaintext\">4</div></td><td><div class=\"dni-plaintext\">0.436</div></td><td><div class=\"dni-plaintext\">230</div></td></tr><tr style=\"display: none\"><td><i><div class=\"dni-plaintext\">28</div></i></td><td>vmN31</td><td><div class=\"dni-plaintext\">8</div></td><td><div class=\"dni-plaintext\">90</div></td><td><div class=\"dni-plaintext\">6431</div></td><td>Standard_E16_4as_v4</td><td><div class=\"dni-plaintext\">16</div></td><td><div class=\"dni-plaintext\">128</div></td><td><div class=\"dni-plaintext\">4</div></td><td><div class=\"dni-plaintext\">1.744</div></td><td><div class=\"dni-plaintext\">230</div></td></tr><tr style=\"display: none\"><td><i><div class=\"dni-plaintext\">29</div></i></td><td>vmN32</td><td><div class=\"dni-plaintext\">7</div></td><td><div class=\"dni-plaintext\">180</div></td><td><div class=\"dni-plaintext\">1722</div></td><td>Standard_E32_16as_v4</td><td><div class=\"dni-plaintext\">32</div></td><td><div class=\"dni-plaintext\">256</div></td><td><div class=\"dni-plaintext\">4</div></td><td><div class=\"dni-plaintext\">3.488</div></td><td><div class=\"dni-plaintext\">230</div></td></tr><tr style=\"display: none\"><td><i><div class=\"dni-plaintext\">30</div></i></td><td>vmN35</td><td><div class=\"dni-plaintext\">5</div></td><td><div class=\"dni-plaintext\">48</div></td><td><div class=\"dni-plaintext\">249</div></td><td>Standard_E8_2as_v4</td><td><div class=\"dni-plaintext\">8</div></td><td><div class=\"dni-plaintext\">64</div></td><td><div class=\"dni-plaintext\">4</div></td><td><div class=\"dni-plaintext\">0.872</div></td><td><div class=\"dni-plaintext\">230</div></td></tr><tr style=\"display: none\"><td><i><div class=\"dni-plaintext\">31</div></i></td><td>vmN36</td><td><div class=\"dni-plaintext\">2</div></td><td><div class=\"dni-plaintext\">26</div></td><td><div class=\"dni-plaintext\">224</div></td><td>Standard_E4_2as_v4</td><td><div class=\"dni-plaintext\">4</div></td><td><div class=\"dni-plaintext\">32</div></td><td><div class=\"dni-plaintext\">4</div></td><td><div class=\"dni-plaintext\">0.436</div></td><td><div class=\"dni-plaintext\">230</div></td></tr><tr style=\"display: none\"><td><i><div class=\"dni-plaintext\">32</div></i></td><td>vmN37</td><td><div class=\"dni-plaintext\">2</div></td><td><div class=\"dni-plaintext\">26</div></td><td><div class=\"dni-plaintext\">224</div></td><td>Standard_E4_2as_v4</td><td><div class=\"dni-plaintext\">4</div></td><td><div class=\"dni-plaintext\">32</div></td><td><div class=\"dni-plaintext\">4</div></td><td><div class=\"dni-plaintext\">0.436</div></td><td><div class=\"dni-plaintext\">230</div></td></tr><tr style=\"display: none\"><td><i><div class=\"dni-plaintext\">33</div></i></td><td>vmN38</td><td><div class=\"dni-plaintext\">2</div></td><td><div class=\"dni-plaintext\">26</div></td><td><div class=\"dni-plaintext\">224</div></td><td>Standard_E4_2as_v4</td><td><div class=\"dni-plaintext\">4</div></td><td><div class=\"dni-plaintext\">32</div></td><td><div class=\"dni-plaintext\">4</div></td><td><div class=\"dni-plaintext\">0.436</div></td><td><div class=\"dni-plaintext\">230</div></td></tr><tr style=\"display: none\"><td><i><div class=\"dni-plaintext\">34</div></i></td><td>vmN39</td><td><div class=\"dni-plaintext\">2</div></td><td><div class=\"dni-plaintext\">26</div></td><td><div class=\"dni-plaintext\">224</div></td><td>Standard_E4_2as_v4</td><td><div class=\"dni-plaintext\">4</div></td><td><div class=\"dni-plaintext\">32</div></td><td><div class=\"dni-plaintext\">4</div></td><td><div class=\"dni-plaintext\">0.436</div></td><td><div class=\"dni-plaintext\">230</div></td></tr><tr style=\"display: none\"><td><i><div class=\"dni-plaintext\">35</div></i></td><td>vmN40</td><td><div class=\"dni-plaintext\">5</div></td><td><div class=\"dni-plaintext\">50</div></td><td><div class=\"dni-plaintext\">4675</div></td><td>Standard_E8_2as_v4</td><td><div class=\"dni-plaintext\">8</div></td><td><div class=\"dni-plaintext\">64</div></td><td><div class=\"dni-plaintext\">4</div></td><td><div class=\"dni-plaintext\">0.872</div></td><td><div class=\"dni-plaintext\">230</div></td></tr><tr style=\"display: none\"><td><i><div class=\"dni-plaintext\">36</div></i></td><td>vmN41</td><td><div class=\"dni-plaintext\">2</div></td><td><div class=\"dni-plaintext\">32</div></td><td><div class=\"dni-plaintext\">200</div></td><td>Standard_E4_2as_v4</td><td><div class=\"dni-plaintext\">4</div></td><td><div class=\"dni-plaintext\">32</div></td><td><div class=\"dni-plaintext\">4</div></td><td><div class=\"dni-plaintext\">0.436</div></td><td><div class=\"dni-plaintext\">230</div></td></tr><tr style=\"display: none\"><td><i><div class=\"dni-plaintext\">37</div></i></td><td>vmN42</td><td><div class=\"dni-plaintext\">6</div></td><td><div class=\"dni-plaintext\">60</div></td><td><div class=\"dni-plaintext\">380</div></td><td>Standard_E8_2as_v4</td><td><div class=\"dni-plaintext\">8</div></td><td><div class=\"dni-plaintext\">64</div></td><td><div class=\"dni-plaintext\">4</div></td><td><div class=\"dni-plaintext\">0.872</div></td><td><div class=\"dni-plaintext\">230</div></td></tr><tr style=\"display: none\"><td><i><div class=\"dni-plaintext\">38</div></i></td><td>vmN43</td><td><div class=\"dni-plaintext\">6</div></td><td><div class=\"dni-plaintext\">58</div></td><td><div class=\"dni-plaintext\">336</div></td><td>Standard_E8_2as_v4</td><td><div class=\"dni-plaintext\">8</div></td><td><div class=\"dni-plaintext\">64</div></td><td><div class=\"dni-plaintext\">4</div></td><td><div class=\"dni-plaintext\">0.872</div></td><td><div class=\"dni-plaintext\">230</div></td></tr><tr style=\"display: none\"><td><i><div class=\"dni-plaintext\">39</div></i></td><td>vmN44</td><td><div class=\"dni-plaintext\">7</div></td><td><div class=\"dni-plaintext\">98</div></td><td><div class=\"dni-plaintext\">296</div></td><td>Standard_E16_4as_v4</td><td><div class=\"dni-plaintext\">16</div></td><td><div class=\"dni-plaintext\">128</div></td><td><div class=\"dni-plaintext\">4</div></td><td><div class=\"dni-plaintext\">1.744</div></td><td><div class=\"dni-plaintext\">230</div></td></tr><tr style=\"display: none\"><td><i><div class=\"dni-plaintext\">40</div></i></td><td>vmN45</td><td><div class=\"dni-plaintext\">2</div></td><td><div class=\"dni-plaintext\">15</div></td><td><div class=\"dni-plaintext\">574</div></td><td>Standard_E4_2as_v4</td><td><div class=\"dni-plaintext\">4</div></td><td><div class=\"dni-plaintext\">32</div></td><td><div class=\"dni-plaintext\">4</div></td><td><div class=\"dni-plaintext\">0.436</div></td><td><div class=\"dni-plaintext\">230</div></td></tr><tr style=\"display: none\"><td><i><div class=\"dni-plaintext\">41</div></i></td><td>vmN46</td><td><div class=\"dni-plaintext\">2</div></td><td><div class=\"dni-plaintext\">4</div></td><td><div class=\"dni-plaintext\">77</div></td><td>Standard_E4_2as_v4</td><td><div class=\"dni-plaintext\">4</div></td><td><div class=\"dni-plaintext\">32</div></td><td><div class=\"dni-plaintext\">4</div></td><td><div class=\"dni-plaintext\">0.436</div></td><td><div class=\"dni-plaintext\">230</div></td></tr><tr style=\"display: none\"><td><i><div class=\"dni-plaintext\">42</div></i></td><td>vmN47</td><td><div class=\"dni-plaintext\">2</div></td><td><div class=\"dni-plaintext\">4</div></td><td><div class=\"dni-plaintext\">77</div></td><td>Standard_E4_2as_v4</td><td><div class=\"dni-plaintext\">4</div></td><td><div class=\"dni-plaintext\">32</div></td><td><div class=\"dni-plaintext\">4</div></td><td><div class=\"dni-plaintext\">0.436</div></td><td><div class=\"dni-plaintext\">230</div></td></tr><tr style=\"display: none\"><td><i><div class=\"dni-plaintext\">43</div></i></td><td>vmN48</td><td><div class=\"dni-plaintext\">2</div></td><td><div class=\"dni-plaintext\">4</div></td><td><div class=\"dni-plaintext\">149</div></td><td>Standard_E4_2as_v4</td><td><div class=\"dni-plaintext\">4</div></td><td><div class=\"dni-plaintext\">32</div></td><td><div class=\"dni-plaintext\">4</div></td><td><div class=\"dni-plaintext\">0.436</div></td><td><div class=\"dni-plaintext\">230</div></td></tr><tr style=\"display: none\"><td><i><div class=\"dni-plaintext\">44</div></i></td><td>vmN49</td><td><div class=\"dni-plaintext\">8</div></td><td><div class=\"dni-plaintext\">20</div></td><td><div class=\"dni-plaintext\">426</div></td><td>Standard_E8_2as_v4</td><td><div class=\"dni-plaintext\">8</div></td><td><div class=\"dni-plaintext\">64</div></td><td><div class=\"dni-plaintext\">4</div></td><td><div class=\"dni-plaintext\">0.872</div></td><td><div class=\"dni-plaintext\">230</div></td></tr><tr style=\"display: none\"><td><i><div class=\"dni-plaintext\">45</div></i></td><td>vmN50</td><td><div class=\"dni-plaintext\">6</div></td><td><div class=\"dni-plaintext\">32</div></td><td><div class=\"dni-plaintext\">120</div></td><td>Standard_E8_2as_v4</td><td><div class=\"dni-plaintext\">8</div></td><td><div class=\"dni-plaintext\">64</div></td><td><div class=\"dni-plaintext\">4</div></td><td><div class=\"dni-plaintext\">0.872</div></td><td><div class=\"dni-plaintext\">230</div></td></tr><tr style=\"display: none\"><td><i><div class=\"dni-plaintext\">46</div></i></td><td>vmN51</td><td><div class=\"dni-plaintext\">2</div></td><td><div class=\"dni-plaintext\">32</div></td><td><div class=\"dni-plaintext\">2509</div></td><td>Standard_E4_2as_v4</td><td><div class=\"dni-plaintext\">4</div></td><td><div class=\"dni-plaintext\">32</div></td><td><div class=\"dni-plaintext\">4</div></td><td><div class=\"dni-plaintext\">0.436</div></td><td><div class=\"dni-plaintext\">230</div></td></tr><tr style=\"display: none\"><td><i><div class=\"dni-plaintext\">47</div></i></td><td>vmN52</td><td><div class=\"dni-plaintext\">5</div></td><td><div class=\"dni-plaintext\">20</div></td><td><div class=\"dni-plaintext\">273</div></td><td>Standard_E4_2as_v4</td><td><div class=\"dni-plaintext\">4</div></td><td><div class=\"dni-plaintext\">32</div></td><td><div class=\"dni-plaintext\">4</div></td><td><div class=\"dni-plaintext\">0.436</div></td><td><div class=\"dni-plaintext\">230</div></td></tr><tr style=\"display: none\"><td><i><div class=\"dni-plaintext\">48</div></i></td><td>vmN53</td><td><div class=\"dni-plaintext\">6</div></td><td><div class=\"dni-plaintext\">50</div></td><td><div class=\"dni-plaintext\">419</div></td><td>Standard_E8_2as_v4</td><td><div class=\"dni-plaintext\">8</div></td><td><div class=\"dni-plaintext\">64</div></td><td><div class=\"dni-plaintext\">4</div></td><td><div class=\"dni-plaintext\">0.872</div></td><td><div class=\"dni-plaintext\">230</div></td></tr><tr style=\"display: none\"><td><i><div class=\"dni-plaintext\">49</div></i></td><td>vmN54</td><td><div class=\"dni-plaintext\">3</div></td><td><div class=\"dni-plaintext\">40</div></td><td><div class=\"dni-plaintext\">237</div></td><td>Standard_E8_2as_v4</td><td><div class=\"dni-plaintext\">8</div></td><td><div class=\"dni-plaintext\">64</div></td><td><div class=\"dni-plaintext\">4</div></td><td><div class=\"dni-plaintext\">0.872</div></td><td><div class=\"dni-plaintext\">230</div></td></tr><tr style=\"display: none\"><td><i><div class=\"dni-plaintext\">50</div></i></td><td>vmN55</td><td><div class=\"dni-plaintext\">8</div></td><td><div class=\"dni-plaintext\">46</div></td><td><div class=\"dni-plaintext\">2267</div></td><td>Standard_E8_2as_v4</td><td><div class=\"dni-plaintext\">8</div></td><td><div class=\"dni-plaintext\">64</div></td><td><div class=\"dni-plaintext\">4</div></td><td><div class=\"dni-plaintext\">0.872</div></td><td><div class=\"dni-plaintext\">230</div></td></tr><tr style=\"display: none\"><td><i><div class=\"dni-plaintext\">51</div></i></td><td>vmN56</td><td><div class=\"dni-plaintext\">1</div></td><td><div class=\"dni-plaintext\">20</div></td><td><div class=\"dni-plaintext\">20</div></td><td>Standard_E4_2as_v4</td><td><div class=\"dni-plaintext\">4</div></td><td><div class=\"dni-plaintext\">32</div></td><td><div class=\"dni-plaintext\">4</div></td><td><div class=\"dni-plaintext\">0.436</div></td><td><div class=\"dni-plaintext\">230</div></td></tr><tr style=\"display: none\"><td><i><div class=\"dni-plaintext\">52</div></i></td><td>vmN57</td><td><div class=\"dni-plaintext\">3</div></td><td><div class=\"dni-plaintext\">16</div></td><td><div class=\"dni-plaintext\">149</div></td><td>Standard_E4_2as_v4</td><td><div class=\"dni-plaintext\">4</div></td><td><div class=\"dni-plaintext\">32</div></td><td><div class=\"dni-plaintext\">4</div></td><td><div class=\"dni-plaintext\">0.436</div></td><td><div class=\"dni-plaintext\">230</div></td></tr><tr style=\"display: none\"><td><i><div class=\"dni-plaintext\">53</div></i></td><td>vmN58</td><td><div class=\"dni-plaintext\">2</div></td><td><div class=\"dni-plaintext\">10</div></td><td><div class=\"dni-plaintext\">149</div></td><td>Standard_E4_2as_v4</td><td><div class=\"dni-plaintext\">4</div></td><td><div class=\"dni-plaintext\">32</div></td><td><div class=\"dni-plaintext\">4</div></td><td><div class=\"dni-plaintext\">0.436</div></td><td><div class=\"dni-plaintext\">230</div></td></tr><tr style=\"display: none\"><td><i><div class=\"dni-plaintext\">54</div></i></td><td>vmN59</td><td><div class=\"dni-plaintext\">2</div></td><td><div class=\"dni-plaintext\">10</div></td><td><div class=\"dni-plaintext\">149</div></td><td>Standard_E4_2as_v4</td><td><div class=\"dni-plaintext\">4</div></td><td><div class=\"dni-plaintext\">32</div></td><td><div class=\"dni-plaintext\">4</div></td><td><div class=\"dni-plaintext\">0.436</div></td><td><div class=\"dni-plaintext\">230</div></td></tr><tr style=\"display: none\"><td><i><div class=\"dni-plaintext\">55</div></i></td><td>vmN61</td><td><div class=\"dni-plaintext\">4</div></td><td><div class=\"dni-plaintext\">35</div></td><td><div class=\"dni-plaintext\">170</div></td><td>Standard_E8_2as_v4</td><td><div class=\"dni-plaintext\">8</div></td><td><div class=\"dni-plaintext\">64</div></td><td><div class=\"dni-plaintext\">4</div></td><td><div class=\"dni-plaintext\">0.872</div></td><td><div class=\"dni-plaintext\">230</div></td></tr><tr style=\"display: none\"><td><i><div class=\"dni-plaintext\">56</div></i></td><td>vmN62</td><td><div class=\"dni-plaintext\">8</div></td><td><div class=\"dni-plaintext\">70</div></td><td><div class=\"dni-plaintext\">2882</div></td><td>Standard_E16_4as_v4</td><td><div class=\"dni-plaintext\">16</div></td><td><div class=\"dni-plaintext\">128</div></td><td><div class=\"dni-plaintext\">4</div></td><td><div class=\"dni-plaintext\">1.744</div></td><td><div class=\"dni-plaintext\">230</div></td></tr><tr style=\"display: none\"><td><i><div class=\"dni-plaintext\">57</div></i></td><td>vmN63</td><td><div class=\"dni-plaintext\">2</div></td><td><div class=\"dni-plaintext\">15</div></td><td><div class=\"dni-plaintext\">151</div></td><td>Standard_E4_2as_v4</td><td><div class=\"dni-plaintext\">4</div></td><td><div class=\"dni-plaintext\">32</div></td><td><div class=\"dni-plaintext\">4</div></td><td><div class=\"dni-plaintext\">0.436</div></td><td><div class=\"dni-plaintext\">230</div></td></tr><tr style=\"display: none\"><td><i><div class=\"dni-plaintext\">58</div></i></td><td>vmN64</td><td><div class=\"dni-plaintext\">2</div></td><td><div class=\"dni-plaintext\">15</div></td><td><div class=\"dni-plaintext\">151</div></td><td>Standard_E4_2as_v4</td><td><div class=\"dni-plaintext\">4</div></td><td><div class=\"dni-plaintext\">32</div></td><td><div class=\"dni-plaintext\">4</div></td><td><div class=\"dni-plaintext\">0.436</div></td><td><div class=\"dni-plaintext\">230</div></td></tr><tr style=\"display: none\"><td><i><div class=\"dni-plaintext\">59</div></i></td><td>vmN65</td><td><div class=\"dni-plaintext\">2</div></td><td><div class=\"dni-plaintext\">15</div></td><td><div class=\"dni-plaintext\">151</div></td><td>Standard_E4_2as_v4</td><td><div class=\"dni-plaintext\">4</div></td><td><div class=\"dni-plaintext\">32</div></td><td><div class=\"dni-plaintext\">4</div></td><td><div class=\"dni-plaintext\">0.436</div></td><td><div class=\"dni-plaintext\">230</div></td></tr><tr style=\"display: none\"><td><i><div class=\"dni-plaintext\">60</div></i></td><td>vmN66</td><td><div class=\"dni-plaintext\">2</div></td><td><div class=\"dni-plaintext\">15</div></td><td><div class=\"dni-plaintext\">151</div></td><td>Standard_E4_2as_v4</td><td><div class=\"dni-plaintext\">4</div></td><td><div class=\"dni-plaintext\">32</div></td><td><div class=\"dni-plaintext\">4</div></td><td><div class=\"dni-plaintext\">0.436</div></td><td><div class=\"dni-plaintext\">230</div></td></tr><tr style=\"display: none\"><td><i><div class=\"dni-plaintext\">61</div></i></td><td>vmN67</td><td><div class=\"dni-plaintext\">6</div></td><td><div class=\"dni-plaintext\">160</div></td><td><div class=\"dni-plaintext\">1328</div></td><td>Standard_E32_16as_v4</td><td><div class=\"dni-plaintext\">32</div></td><td><div class=\"dni-plaintext\">256</div></td><td><div class=\"dni-plaintext\">4</div></td><td><div class=\"dni-plaintext\">3.488</div></td><td><div class=\"dni-plaintext\">230</div></td></tr><tr style=\"display: none\"><td><i><div class=\"dni-plaintext\">62</div></i></td><td>vmN68</td><td><div class=\"dni-plaintext\">2</div></td><td><div class=\"dni-plaintext\">4</div></td><td><div class=\"dni-plaintext\">110</div></td><td>Standard_E4_2as_v4</td><td><div class=\"dni-plaintext\">4</div></td><td><div class=\"dni-plaintext\">32</div></td><td><div class=\"dni-plaintext\">4</div></td><td><div class=\"dni-plaintext\">0.436</div></td><td><div class=\"dni-plaintext\">230</div></td></tr><tr style=\"display: none\"><td><i><div class=\"dni-plaintext\">63</div></i></td><td>vmN69</td><td><div class=\"dni-plaintext\">2</div></td><td><div class=\"dni-plaintext\">20</div></td><td><div class=\"dni-plaintext\">245</div></td><td>Standard_E4_2as_v4</td><td><div class=\"dni-plaintext\">4</div></td><td><div class=\"dni-plaintext\">32</div></td><td><div class=\"dni-plaintext\">4</div></td><td><div class=\"dni-plaintext\">0.436</div></td><td><div class=\"dni-plaintext\">230</div></td></tr><tr style=\"display: none\"><td><i><div class=\"dni-plaintext\">64</div></i></td><td>vmN70</td><td><div class=\"dni-plaintext\">2</div></td><td><div class=\"dni-plaintext\">31</div></td><td><div class=\"dni-plaintext\">225</div></td><td>Standard_E4_2as_v4</td><td><div class=\"dni-plaintext\">4</div></td><td><div class=\"dni-plaintext\">32</div></td><td><div class=\"dni-plaintext\">4</div></td><td><div class=\"dni-plaintext\">0.436</div></td><td><div class=\"dni-plaintext\">230</div></td></tr><tr style=\"display: none\"><td><i><div class=\"dni-plaintext\">65</div></i></td><td>vmN71</td><td><div class=\"dni-plaintext\">2</div></td><td><div class=\"dni-plaintext\">31</div></td><td><div class=\"dni-plaintext\">225</div></td><td>Standard_E4_2as_v4</td><td><div class=\"dni-plaintext\">4</div></td><td><div class=\"dni-plaintext\">32</div></td><td><div class=\"dni-plaintext\">4</div></td><td><div class=\"dni-plaintext\">0.436</div></td><td><div class=\"dni-plaintext\">230</div></td></tr><tr style=\"display: none\"><td><i><div class=\"dni-plaintext\">66</div></i></td><td>vmN72</td><td><div class=\"dni-plaintext\">4</div></td><td><div class=\"dni-plaintext\">24</div></td><td><div class=\"dni-plaintext\">3036</div></td><td>Standard_E4_2as_v4</td><td><div class=\"dni-plaintext\">4</div></td><td><div class=\"dni-plaintext\">32</div></td><td><div class=\"dni-plaintext\">4</div></td><td><div class=\"dni-plaintext\">0.436</div></td><td><div class=\"dni-plaintext\">230</div></td></tr><tr style=\"display: none\"><td><i><div class=\"dni-plaintext\">67</div></i></td><td>vmN73</td><td><div class=\"dni-plaintext\">2</div></td><td><div class=\"dni-plaintext\">32</div></td><td><div class=\"dni-plaintext\">200</div></td><td>Standard_E4_2as_v4</td><td><div class=\"dni-plaintext\">4</div></td><td><div class=\"dni-plaintext\">32</div></td><td><div class=\"dni-plaintext\">4</div></td><td><div class=\"dni-plaintext\">0.436</div></td><td><div class=\"dni-plaintext\">230</div></td></tr><tr style=\"display: none\"><td><i><div class=\"dni-plaintext\">68</div></i></td><td>vmN74</td><td><div class=\"dni-plaintext\">6</div></td><td><div class=\"dni-plaintext\">50</div></td><td><div class=\"dni-plaintext\">287</div></td><td>Standard_E8_2as_v4</td><td><div class=\"dni-plaintext\">8</div></td><td><div class=\"dni-plaintext\">64</div></td><td><div class=\"dni-plaintext\">4</div></td><td><div class=\"dni-plaintext\">0.872</div></td><td><div class=\"dni-plaintext\">230</div></td></tr><tr style=\"display: none\"><td><i><div class=\"dni-plaintext\">69</div></i></td><td>vmN75</td><td><div class=\"dni-plaintext\">3</div></td><td><div class=\"dni-plaintext\">65</div></td><td><div class=\"dni-plaintext\">153</div></td><td>Standard_E16_4as_v4</td><td><div class=\"dni-plaintext\">16</div></td><td><div class=\"dni-plaintext\">128</div></td><td><div class=\"dni-plaintext\">4</div></td><td><div class=\"dni-plaintext\">1.744</div></td><td><div class=\"dni-plaintext\">230</div></td></tr><tr style=\"display: none\"><td><i><div class=\"dni-plaintext\">70</div></i></td><td>vmN76</td><td><div class=\"dni-plaintext\">2</div></td><td><div class=\"dni-plaintext\">16</div></td><td><div class=\"dni-plaintext\">150</div></td><td>Standard_E4_2as_v4</td><td><div class=\"dni-plaintext\">4</div></td><td><div class=\"dni-plaintext\">32</div></td><td><div class=\"dni-plaintext\">4</div></td><td><div class=\"dni-plaintext\">0.436</div></td><td><div class=\"dni-plaintext\">230</div></td></tr><tr style=\"display: none\"><td><i><div class=\"dni-plaintext\">71</div></i></td><td>vmN77</td><td><div class=\"dni-plaintext\">2</div></td><td><div class=\"dni-plaintext\">4</div></td><td><div class=\"dni-plaintext\">77</div></td><td>Standard_E4_2as_v4</td><td><div class=\"dni-plaintext\">4</div></td><td><div class=\"dni-plaintext\">32</div></td><td><div class=\"dni-plaintext\">4</div></td><td><div class=\"dni-plaintext\">0.436</div></td><td><div class=\"dni-plaintext\">230</div></td></tr><tr style=\"display: none\"><td><i><div class=\"dni-plaintext\">72</div></i></td><td>vmN78</td><td><div class=\"dni-plaintext\">8</div></td><td><div class=\"dni-plaintext\">36</div></td><td><div class=\"dni-plaintext\">650</div></td><td>Standard_E8_2as_v4</td><td><div class=\"dni-plaintext\">8</div></td><td><div class=\"dni-plaintext\">64</div></td><td><div class=\"dni-plaintext\">4</div></td><td><div class=\"dni-plaintext\">0.872</div></td><td><div class=\"dni-plaintext\">230</div></td></tr><tr style=\"display: none\"><td><i><div class=\"dni-plaintext\">73</div></i></td><td>vmN79</td><td><div class=\"dni-plaintext\">3</div></td><td><div class=\"dni-plaintext\">50</div></td><td><div class=\"dni-plaintext\">800</div></td><td>Standard_E8_2as_v4</td><td><div class=\"dni-plaintext\">8</div></td><td><div class=\"dni-plaintext\">64</div></td><td><div class=\"dni-plaintext\">4</div></td><td><div class=\"dni-plaintext\">0.872</div></td><td><div class=\"dni-plaintext\">230</div></td></tr><tr style=\"display: none\"><td><i><div class=\"dni-plaintext\">74</div></i></td><td>vmN80</td><td><div class=\"dni-plaintext\">2</div></td><td><div class=\"dni-plaintext\">11</div></td><td><div class=\"dni-plaintext\">148</div></td><td>Standard_E4_2as_v4</td><td><div class=\"dni-plaintext\">4</div></td><td><div class=\"dni-plaintext\">32</div></td><td><div class=\"dni-plaintext\">4</div></td><td><div class=\"dni-plaintext\">0.436</div></td><td><div class=\"dni-plaintext\">230</div></td></tr><tr style=\"display: none\"><td><i><div class=\"dni-plaintext\">75</div></i></td><td>vmN81</td><td><div class=\"dni-plaintext\">4</div></td><td><div class=\"dni-plaintext\">24</div></td><td><div class=\"dni-plaintext\">1862</div></td><td>Standard_E4_2as_v4</td><td><div class=\"dni-plaintext\">4</div></td><td><div class=\"dni-plaintext\">32</div></td><td><div class=\"dni-plaintext\">4</div></td><td><div class=\"dni-plaintext\">0.436</div></td><td><div class=\"dni-plaintext\">230</div></td></tr><tr style=\"display: none\"><td><i><div class=\"dni-plaintext\">76</div></i></td><td>vmN82</td><td><div class=\"dni-plaintext\">4</div></td><td><div class=\"dni-plaintext\">30</div></td><td><div class=\"dni-plaintext\">539</div></td><td>Standard_E4_2as_v4</td><td><div class=\"dni-plaintext\">4</div></td><td><div class=\"dni-plaintext\">32</div></td><td><div class=\"dni-plaintext\">4</div></td><td><div class=\"dni-plaintext\">0.436</div></td><td><div class=\"dni-plaintext\">230</div></td></tr><tr style=\"display: none\"><td><i><div class=\"dni-plaintext\">77</div></i></td><td>vmN83</td><td><div class=\"dni-plaintext\">2</div></td><td><div class=\"dni-plaintext\">16</div></td><td><div class=\"dni-plaintext\">181</div></td><td>Standard_E4_2as_v4</td><td><div class=\"dni-plaintext\">4</div></td><td><div class=\"dni-plaintext\">32</div></td><td><div class=\"dni-plaintext\">4</div></td><td><div class=\"dni-plaintext\">0.436</div></td><td><div class=\"dni-plaintext\">230</div></td></tr><tr style=\"display: none\"><td><i><div class=\"dni-plaintext\">78</div></i></td><td>vmN84</td><td><div class=\"dni-plaintext\">1</div></td><td><div class=\"dni-plaintext\">16</div></td><td><div class=\"dni-plaintext\">2601</div></td><td>Standard_E4_2as_v4</td><td><div class=\"dni-plaintext\">4</div></td><td><div class=\"dni-plaintext\">32</div></td><td><div class=\"dni-plaintext\">4</div></td><td><div class=\"dni-plaintext\">0.436</div></td><td><div class=\"dni-plaintext\">230</div></td></tr><tr style=\"display: none\"><td><i><div class=\"dni-plaintext\">79</div></i></td><td>vmN85</td><td><div class=\"dni-plaintext\">3</div></td><td><div class=\"dni-plaintext\">24</div></td><td><div class=\"dni-plaintext\">244</div></td><td>Standard_E4_2as_v4</td><td><div class=\"dni-plaintext\">4</div></td><td><div class=\"dni-plaintext\">32</div></td><td><div class=\"dni-plaintext\">4</div></td><td><div class=\"dni-plaintext\">0.436</div></td><td><div class=\"dni-plaintext\">230</div></td></tr><tr style=\"display: none\"><td><i><div class=\"dni-plaintext\">80</div></i></td><td>vmN86</td><td><div class=\"dni-plaintext\">2</div></td><td><div class=\"dni-plaintext\">20</div></td><td><div class=\"dni-plaintext\">3466</div></td><td>Standard_E4_2as_v4</td><td><div class=\"dni-plaintext\">4</div></td><td><div class=\"dni-plaintext\">32</div></td><td><div class=\"dni-plaintext\">4</div></td><td><div class=\"dni-plaintext\">0.436</div></td><td><div class=\"dni-plaintext\">230</div></td></tr><tr style=\"display: none\"><td><i><div class=\"dni-plaintext\">81</div></i></td><td>vmN87</td><td><div class=\"dni-plaintext\">2</div></td><td><div class=\"dni-plaintext\">32</div></td><td><div class=\"dni-plaintext\">200</div></td><td>Standard_E4_2as_v4</td><td><div class=\"dni-plaintext\">4</div></td><td><div class=\"dni-plaintext\">32</div></td><td><div class=\"dni-plaintext\">4</div></td><td><div class=\"dni-plaintext\">0.436</div></td><td><div class=\"dni-plaintext\">230</div></td></tr></tbody><tfoot><tr><td colspan=\"11\" style=\"text-align: center;\"><button style=\"margin: 2px;\" onclick=\"var allRows = document.querySelectorAll(&#39;#table_637774369055735459 tbody tr:nth-child(n)&#39;); for (let i = 0; i &lt; allRows.length; i++) { allRows[i].style.display=&#39;none&#39;; } document.querySelector(&#39;#page_637774369055735459&#39;).innerHTML = 1; var page = parseInt(document.querySelector(&#39;#page_637774369055735459&#39;).innerHTML) - 1; var pageRows = document.querySelectorAll(`#table_637774369055735459 tbody tr:nth-child(n + ${page * 25 + 1 })`); for (let j = 0; j &lt; 25; j++) { pageRows[j].style.display=&#39;table-row&#39;; } \">⏮</button><button style=\"margin: 2px;\" onclick=\"var allRows = document.querySelectorAll(&#39;#table_637774369055735459 tbody tr:nth-child(n)&#39;); for (let i = 0; i &lt; allRows.length; i++) { allRows[i].style.display=&#39;none&#39;; } var page = parseInt(document.querySelector(&#39;#page_637774369055735459&#39;).innerHTML) - 1; page = parseInt(page) + parseInt(-10); page = page &lt; 0 ? 0 : page; page = page > 3 ? 3 : page; document.querySelector(&#39;#page_637774369055735459&#39;).innerHTML = page + 1; var page = parseInt(document.querySelector(&#39;#page_637774369055735459&#39;).innerHTML) - 1; var pageRows = document.querySelectorAll(`#table_637774369055735459 tbody tr:nth-child(n + ${page * 25 + 1 })`); for (let j = 0; j &lt; 25; j++) { pageRows[j].style.display=&#39;table-row&#39;; } \">⏪</button><button style=\"margin: 2px;\" onclick=\"var allRows = document.querySelectorAll(&#39;#table_637774369055735459 tbody tr:nth-child(n)&#39;); for (let i = 0; i &lt; allRows.length; i++) { allRows[i].style.display=&#39;none&#39;; } var page = parseInt(document.querySelector(&#39;#page_637774369055735459&#39;).innerHTML) - 1; page = parseInt(page) + parseInt(-1); page = page &lt; 0 ? 0 : page; page = page > 3 ? 3 : page; document.querySelector(&#39;#page_637774369055735459&#39;).innerHTML = page + 1; var page = parseInt(document.querySelector(&#39;#page_637774369055735459&#39;).innerHTML) - 1; var pageRows = document.querySelectorAll(`#table_637774369055735459 tbody tr:nth-child(n + ${page * 25 + 1 })`); for (let j = 0; j &lt; 25; j++) { pageRows[j].style.display=&#39;table-row&#39;; } \">◀️</button><b style=\"margin: 2px;\">Page</b><b id=\"page_637774369055735459\" style=\"margin: 2px;\">1</b><button style=\"margin: 2px;\" onclick=\"var allRows = document.querySelectorAll(&#39;#table_637774369055735459 tbody tr:nth-child(n)&#39;); for (let i = 0; i &lt; allRows.length; i++) { allRows[i].style.display=&#39;none&#39;; } var page = parseInt(document.querySelector(&#39;#page_637774369055735459&#39;).innerHTML) - 1; page = parseInt(page) + parseInt(1); page = page &lt; 0 ? 0 : page; page = page > 3 ? 3 : page; document.querySelector(&#39;#page_637774369055735459&#39;).innerHTML = page + 1; var page = parseInt(document.querySelector(&#39;#page_637774369055735459&#39;).innerHTML) - 1; var pageRows = document.querySelectorAll(`#table_637774369055735459 tbody tr:nth-child(n + ${page * 25 + 1 })`); for (let j = 0; j &lt; 25; j++) { pageRows[j].style.display=&#39;table-row&#39;; } \">▶️</button><button style=\"margin: 2px;\" onclick=\"var allRows = document.querySelectorAll(&#39;#table_637774369055735459 tbody tr:nth-child(n)&#39;); for (let i = 0; i &lt; allRows.length; i++) { allRows[i].style.display=&#39;none&#39;; } var page = parseInt(document.querySelector(&#39;#page_637774369055735459&#39;).innerHTML) - 1; page = parseInt(page) + parseInt(10); page = page &lt; 0 ? 0 : page; page = page > 3 ? 3 : page; document.querySelector(&#39;#page_637774369055735459&#39;).innerHTML = page + 1; var page = parseInt(document.querySelector(&#39;#page_637774369055735459&#39;).innerHTML) - 1; var pageRows = document.querySelectorAll(`#table_637774369055735459 tbody tr:nth-child(n + ${page * 25 + 1 })`); for (let j = 0; j &lt; 25; j++) { pageRows[j].style.display=&#39;table-row&#39;; } \">⏩</button><button style=\"margin: 2px;\" onclick=\"var allRows = document.querySelectorAll(&#39;#table_637774369055735459 tbody tr:nth-child(n)&#39;); for (let i = 0; i &lt; allRows.length; i++) { allRows[i].style.display=&#39;none&#39;; } document.querySelector(&#39;#page_637774369055735459&#39;).innerHTML = 4; var page = parseInt(document.querySelector(&#39;#page_637774369055735459&#39;).innerHTML) - 1; var pageRows = document.querySelectorAll(`#table_637774369055735459 tbody tr:nth-child(n + ${page * 25 + 1 })`); for (let j = 0; j &lt; 25; j++) { pageRows[j].style.display=&#39;table-row&#39;; } \">⏭️</button></td></tr></tfoot></table><script>var page = parseInt(document.querySelector('#page_637774369055735459').innerHTML) - 1; var pageRows = document.querySelectorAll(`#table_637774369055735459 tbody tr:nth-child(n + ${page * 25 + 1 })`); for (let j = 0; j < 25; j++) { pageRows[j].style.display='table-row'; } </script>"
      ]
     },
     "metadata": {},
     "output_type": "display_data"
    },
    {
     "name": "stdout",
     "output_type": "stream",
     "text": [
      "\r\n",
      "\u001b[32;1mMimeTypes\u001b[0m\r\n",
      "\u001b[32;1m---------\u001b[0m\r\n",
      "{text/html}\r\n",
      "\r\n"
     ]
    }
   ],
   "source": [
    "$csv = ($ret2.vmRecords | ConvertTo-Csv -NoTypeInformation) -join \"`n\"\n",
    "$df2 = [Microsoft.Data.Analysis.DataFrame]::LoadCsvFromString($csv)\n",
    "[Microsoft.DotNet.Interactive.Kernel]::display($df2)"
   ]
  },
  {
   "cell_type": "markdown",
   "metadata": {
    "dotnet_interactive": {
     "language": "pwsh"
    }
   },
   "source": [
    "Модель выбрала совсем другие размеры виртуальных машин, но при этом старалась держать цену минимально возможной"
   ]
  },
  {
   "cell_type": "markdown",
   "metadata": {},
   "source": [
    "## Как это на самом деле работает"
   ]
  },
  {
   "cell_type": "markdown",
   "metadata": {},
   "source": [
    "Этот раздел для тех кто хочет немного погрузиться в детали. Однако деталей так много, что лучше погружаться в них вот тут:\n",
    "\n",
    "- [Basic Modeling for Discrete Optimization](https://www.coursera.org/learn/basic-modeling)\n",
    "- [Advanced Modeling for Discrete Optimization](https://www.coursera.org/learn/advanced-modeling)\n",
    "\n",
    "\n",
    "Ниже представлена mermaid диаграмма всей штуки."
   ]
  },
  {
   "cell_type": "code",
   "execution_count": null,
   "metadata": {
    "dotnet_interactive": {
     "language": "csharp"
    }
   },
   "outputs": [
    {
     "data": {
      "text/html": [
       "<div style=\"background-color:white;\">\r\n",
       "<script type=\"text/javascript\">\r\n",
       "\r\n",
       "loadMermaid_4e6d91ae8f47491fa7047fe37ee725e0 = () => {\r\n",
       " \r\n",
       "        (require.config({ 'paths': { 'context': '1.0.252001', 'mermaidUri' : 'https://colombod.github.io/dotnet-interactive-cdn/extensionlab/1.0.252001/mermaid/mermaidapi', 'urlArgs': 'cacheBuster=a80eaae9bb2344c8ba085d643eeccd0a' }}) || require)(['mermaidUri'], (mermaid) => {\r\n",
       "\r\n",
       "            let renderTarget = document.getElementById('4e6d91ae8f47491fa7047fe37ee725e0');\r\n",
       "            mermaid.render( \r\n",
       "                'mermaid_4e6d91ae8f47491fa7047fe37ee725e0', \r\n",
       "                `flowchart LR\n",
       "    data[minizinc data] --> pwsh[PowerShell Wrapper]\n",
       "    model[minizinc model] --> pwsh[PowerShell Wrapper]\n",
       "    pwsh -.calls.-> mz[minizinc.exe]\n",
       "    mz --uses--> solver[solver GECODE]\n",
       "    mz -.returns results.-> pwsh\n",
       "    pwsh --parses and returns-->r[results]\n",
       "\n",
       "    source[\"source servers details (CPU, RAM, Disks)\"] -.-> data\n",
       "    azureVM[\"Azure VM pricing and ACU\"]  -.-> data\n",
       "    azureDisk[\"Azure Disk prices\"]  -.-> data`, \r\n",
       "                g => {\r\n",
       "                    renderTarget.innerHTML = g \r\n",
       "                });\r\n",
       "        },\r\n",
       "        (error) => {\r\n",
       "            console.log(error);\r\n",
       "        });\r\n",
       "}\r\n",
       "// ensure `require` is available globally\r\n",
       "if ((typeof(require) !==  typeof(Function)) || (typeof(require.config) !== typeof(Function))) {\r\n",
       "    let require_script = document.createElement('script');\r\n",
       "    require_script.setAttribute('src', 'https://cdnjs.cloudflare.com/ajax/libs/require.js/2.3.6/require.min.js');\r\n",
       "    require_script.setAttribute('type', 'text/javascript');\r\n",
       "    \r\n",
       "    \r\n",
       "    require_script.onload = function() {\r\n",
       "        loadMermaid_4e6d91ae8f47491fa7047fe37ee725e0();\r\n",
       "    };\r\n",
       "\r\n",
       "    document.getElementsByTagName('head')[0].appendChild(require_script);\r\n",
       "}\r\n",
       "else {\r\n",
       "    loadMermaid_4e6d91ae8f47491fa7047fe37ee725e0();\r\n",
       "}\r\n",
       "\r\n",
       "</script>\r\n",
       "<div id=\"4e6d91ae8f47491fa7047fe37ee725e0\"></div>\r\n",
       "</div>\r\n"
      ]
     },
     "metadata": {},
     "output_type": "display_data"
    }
   ],
   "source": [
    "#!mermaid\n",
    "flowchart LR\n",
    "    data[minizinc data] --> pwsh[PowerShell Wrapper]\n",
    "    model[minizinc model] --> pwsh[PowerShell Wrapper]\n",
    "    pwsh -.calls.-> mz[minizinc.exe]\n",
    "    mz --uses--> solver[solver GECODE]\n",
    "    mz -.returns results.-> pwsh\n",
    "    pwsh --parses and returns-->r[results]\n",
    "\n",
    "    source[\"source servers details (CPU, RAM, Disks)\"] -.-> data\n",
    "    azureVM[\"Azure VM pricing and ACU\"]  -.-> data\n",
    "    azureDisk[\"Azure Disk prices\"]  -.-> data"
   ]
  },
  {
   "cell_type": "markdown",
   "metadata": {
    "dotnet_interactive": {
     "language": "csharp"
    }
   },
   "source": [
    "Основная часть \"Марлезонского балета\" - [модель](./vm-optimization-minizinc/vmCostsCalculation-integer.mzn). Как уже упоминалось, модель декларативно описывает результат. И в этом ее прелесть. Нам не хочется писать, как она должна искать решение. Мы описывем модель в виде набора ограничений и целевой функции. Давайте посмотрим на примерах, опустив описание переменных и типов даных\n",
    "\n",
    "Первое ограничение говорит о том, что для всех размеров виртуальных машин, которые подберет модель, требуется, чтобы объем RAM выбранной машины был больше или равен RAM исходной машины\n",
    "\n",
    "```console\n",
    "constraint forall(vm in existingVMs)(\n",
    "    vmSizeRAM[selectedSize[vm]] >= vmRAM[vm]\n",
    ");\n",
    "```\n",
    "\n",
    "То, же самое и для CPU, но с допущением, что по CPU, а это самый дорогой ресурс, мы разрешаем \"просесть\" на 20%\n",
    "\n",
    "```console\n",
    "constraint forall(vm in existingVMs)(\n",
    "   vmSizeCPU[selectedSize[vm]] >=  vmCPU[vm] * 0.8\n",
    ");\n",
    "```\n",
    "\n",
    "Кроме этого у нас есть два целевых функции, которые мы собираемся оптимизировать. Каждая из них просто подсчитывает соотвествующую сумму: цена всех выбранных машин и производительность.\n",
    "\n",
    "```console\n",
    "var int: totalPrice = sum(vm in existingVMs)(vmSizePrice[selectedSize[vm]]);\n",
    "var int: totalACU = sum(vm in existingVMs)( vmSizeACU[selectedSize[vm]] );\n",
    "```\n",
    "\n",
    "И, наконец, само важное и интересное. То, что называется decision variables, попросту - решения. Строка ниже говорит, что в качестве решения мы хотим получить массив, в котором для каждой их исходных машин будет находиться выбранный моделью размер соответствующей машины в облаке.\n",
    "\n",
    "```console\n",
    "array[existingVMs] of var vmSizes: selectedSize;\n",
    "```\n",
    "\n",
    "Чтобы все это заработало в модели не хватает указания, что именно мы оптимизируем. Для этого в ней обязательно должен присутствовать оператор `solve`. Есть несколько вариантов поиска решений: \n",
    "\n",
    "- `solve satisfy` - ищет любое/или все решения, удовлетворяющее ограничениям. \n",
    "- `solve minimize ...` - пытается минимизировать некую целевую функцию, например суммарную цену\n",
    "- `solve maximize ...` - пытается максимизировать некую целевую функцию, например суммарную производительность"
   ]
  },
  {
   "cell_type": "markdown",
   "metadata": {},
   "source": [
    "В нашем случае команда `Start-MinizincVMOptimizationModel` просто вставляет в модель подходящий оператор `solve` и запускает minizinc.\n",
    "\n",
    "Для того чтобы оптимизировать по нескольком параметрам нам нужно сначала оптимизировать по дному из них, зафиксировать это в виде ограничения и, затем, оптимизировать по второму. То есть команды `Start-MinizincVMOptimizationModel -Costs | Start-MinizincVMOptimizationModel -Performance` делают вот что:\n",
    "\n",
    "1. в модель вставляется операцию `solve  minimize totalPrice;`\n",
    "2. модель исполняется, извлекается результат из minizinc, парсится его и возвращается в PowerShell pipeline\n",
    "3. результат по pipeline передается во второй вызов который делает из него новое ограничение\n",
    "4. в новую модель добавляется ограничение, содержащее результат предыдущей оптимизации и запрос на новую - `constraint totalACU >= $($InputObject.totalACU); solve  minimize totalPrice;` или `constraint totalPrice <= $($InputObject.totalPrice * 10000); solve  maximize totalACU;` где `$($InputObject.xxx)` это результа предыдущей операции\n",
    "5. модель исполняется, извлекается результат из minizinc, парсится его и возвращается в PowerShell pipeline"
   ]
  },
  {
   "cell_type": "markdown",
   "metadata": {},
   "source": [
    "В конечном итоге происходит примерно следующее. На входе у модели есть размеры исходных машин, и все возможные размеры соответствующих машин в облаке. Для каждой из исходных, модель пытается подобрать такую машину в облаке, которая удовлетворяет заданным ограничениям по CPU и RAM. При этом рассчитываются суммарные цена и производительность и из всех возможных комбинаций выбираются те, для которых суммы удовлетворяют нашим требованиям максимальности и минимальности."
   ]
  }
 ],
 "metadata": {
  "kernelspec": {
   "display_name": ".NET (C#)",
   "language": "C#",
   "name": ".net-csharp"
  },
  "language_info": {
   "file_extension": ".cs",
   "mimetype": "text/x-csharp",
   "name": "C#",
   "pygments_lexer": "csharp",
   "version": "9.0"
  }
 },
 "nbformat": 4,
 "nbformat_minor": 2
}

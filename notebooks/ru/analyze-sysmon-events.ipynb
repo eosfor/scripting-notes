{
 "cells": [
  {
   "cell_type": "markdown",
   "metadata": {},
   "source": [
    "# Анализ связей между приложениями с использованием SysMon"
   ]
  },
  {
   "cell_type": "markdown",
   "metadata": {},
   "source": [
    "> Этот ноутбук НЕ работает на Linux."
   ]
  },
  {
   "cell_type": "markdown",
   "metadata": {},
   "source": [
    "## Сценарий\n",
    "\n",
    "У нас есть один или несколько серверов, и мы хотим знать, как запущенные на них приложения связаны между собой. Как они взаимодействуют по сети. Хотим увидеть граф связей между приложениями."
   ]
  },
  {
   "cell_type": "markdown",
   "metadata": {},
   "source": [
    "## Эксперимент"
   ]
  },
  {
   "cell_type": "markdown",
   "metadata": {},
   "source": [
    "В рамках эксперимента мы будем использовать следующие инструменты:\n",
    "\n",
    "- [Sysmon](https://docs.microsoft.com/en-us/sysinternals/downloads/sysmon) - иструмент для мониторинга за активностью всего. Кстати есть и [Sysmon for Linux](https://github.com/Sysinternals/SysmonForLinux)\n",
    "- Конфигурационные файлы для Sysmon [отсюда](https://github.com/SwiftOnSecurity/sysmon-config). Это конфигурация по-умолчанию, для ваших целей можно сделать свою\n",
    "\n",
    "Попросту говоря, [Sysmon](https://docs.microsoft.com/en-us/sysinternals/downloads/sysmon) это системный сервис + дравер, устанавливаемый в систему. Он умеет перехватывать различные операции, происходящие в системе и сохранять эти события их в EventLog. Параметр `-i` принимает путь к конфигурационному файлу, в котором можно задавать фильтрацию того, чего вы хотите или не хотите видеть в журнале событий. Кроме всего прочего Sysmon видит сетевые подключения, которые тот или иной процесс пытается установить с удаленными системами. Таким образом мы можем узнать какой процесс, когда и куда ходил, по какому протоколу и на какие порты пытался отправлять свои пакеты. Имея эти данные с одной машины мы можем увидеть процессы и их сетевые взаимодействия. Собрав данные с нескольких машин можно увидеть связи между ними.\n",
    "\n",
    "В этом эксперименте мы попробуем провернуть это все на локальной машине."
   ]
  },
  {
   "cell_type": "markdown",
   "metadata": {},
   "source": [
    "### Подготовка\n",
    "\n",
    "Прежде всего установим Sysmon вмест с его конфигом. Ну, то есть, скачаем, запустим процесс `cmd` с повышенными привилегиями, чтобы система дала установить драйвер, и пеенаправим вывод в файл, чтобы увидеть, что же вернет sysmon. Поскольку он запускается с повышенными привилегиями это, наверное, единственный способ получить его вывод."
   ]
  },
  {
   "cell_type": "code",
   "execution_count": null,
   "metadata": {
    "dotnet_interactive": {
     "language": "pwsh"
    },
    "vscode": {
     "languageId": "polyglot-notebook"
    }
   },
   "outputs": [],
   "source": [
    "$resFileName = \"sysmonInstallResult.txt\"\n",
    "\n",
    "# качнем в TEMP по-умолчанию\n",
    "Invoke-WebRequest -Uri \"https://live.sysinternals.com/Sysmon.exe\" -OutFile \"$($env:TEMP)\\sysmon.exe\"\n",
    "Invoke-WebRequest -Uri \"https://raw.githubusercontent.com/SwiftOnSecurity/sysmon-config/master/sysmonconfig-export.xml\" -OutFile \"$($env:TEMP)\\sysmonconfig-export.xml\""
   ]
  },
  {
   "cell_type": "markdown",
   "metadata": {},
   "source": [
    "На всякий случай поясняю что делает эта команда. Она запускает `cmd.exe`, который расположен по пути из `$env:comspec`, и передает ему примерно вот такое `/c %TEMP%\\sysmon.exe -i %TEMP%\\sysmonconfig-export.xml -accepteula > %TEMP%\\sysmonInstallResult.txt`. Таким образом при запуске стартанет процесс `cmd.exe`, среагирует UAC, покажет вам окно и спросит разрешения, дальше запустится сам sysmon. Его вывод будет перенаправлен туда, куда мы указали, за счет оператора `>`. Затем мы этот вывод читаем и выводим, чтобы понять, сработало или нет."
   ]
  },
  {
   "cell_type": "code",
   "execution_count": null,
   "metadata": {
    "dotnet_interactive": {
     "language": "pwsh"
    },
    "vscode": {
     "languageId": "polyglot-notebook"
    }
   },
   "outputs": [],
   "source": [
    "# запустим процесс с повышенными привилегиями и оператором перенаправления\n",
    "Start-Process -FilePath $env:comspec  -ArgumentList (\"/c\", \"$($env:TEMP)\\sysmon.exe\", \"-i\", \"$($env:TEMP)\\sysmonconfig-export.xml\", \"-accepteula\", \">\", \"$($env:TEMP)\\$resFileName\") `\n",
    "              -Verb runas\n",
    "\n",
    "gc \"$($env:TEMP)\\$resFileName\""
   ]
  },
  {
   "cell_type": "markdown",
   "metadata": {},
   "source": [
    "Теперь нужно добавить себя в группу \"Event Log Readers\" если вы еще не там, на всякий случай. .NET Interactive notebooks в VSCode отчего-то не работают, когда VSCode запущен с повышеными привилегиями. После этого все равно придется перелогиниться, поэтому это действие можно проделать руками."
   ]
  },
  {
   "cell_type": "markdown",
   "metadata": {},
   "source": [
    "### Игра\n",
    "\n",
    "Если все прошло хорошо - мы готовы. "
   ]
  },
  {
   "cell_type": "markdown",
   "metadata": {},
   "source": [
    "Установим модуль, который умеет работать с графами. На данный момент доступна только alpha версия, но она, вроде, работает. Сам модуль расположен [тут](https://github.com/eosfor/PSGraph/tree/master). Ветка `dev`, из которой периодически собирается alpha [тут](https://github.com/eosfor/PSGraph/tree/dev). Версия в ветке `master` тоже рабочая, но она не умеет многое из того что нам нужно."
   ]
  },
  {
   "cell_type": "code",
   "execution_count": null,
   "metadata": {
    "dotnet_interactive": {
     "language": "pwsh"
    },
    "vscode": {
     "languageId": "polyglot-notebook"
    }
   },
   "outputs": [],
   "source": [
    "Install-Module -Name PSQuickGraph -AllowPrerelease -RequiredVersion \"2.0.1-alpha\""
   ]
  },
  {
   "cell_type": "markdown",
   "metadata": {},
   "source": [
    "Импортнем его"
   ]
  },
  {
   "cell_type": "code",
   "execution_count": null,
   "metadata": {
    "dotnet_interactive": {
     "language": "pwsh"
    },
    "vscode": {
     "languageId": "polyglot-notebook"
    }
   },
   "outputs": [],
   "source": [
    "Import-Module PSQuickGraph -RequiredVersion \"2.0.1\""
   ]
  },
  {
   "cell_type": "markdown",
   "metadata": {},
   "source": [
    "Теперь, собственно, самое интересное. Нам нужно прочитать события из журнала событий, построить на них граф и нарисовать его, чем и займемся. Прежде всего, прочитаем журнал. Sysmon пишет события в `Microsoft-Windows-Sysmon/Operational`. Нас интересуют события с `id=3`. Это - попытки установления сетевых соединений процессами. Выгрузив их из журнала событий мы преобразум их в массив объектов, разбирая на именованные свойства, чтобы с ними было проще работать позже. Каждый объект, кроме всего прочего содержит source и destination маркеры. Source маркер это `<имя процесса>:<processId>`, а destination - `<IP адрес назначения>:<порт назначения>`. Адреса используются потому, что DNS имена не всегда известны. "
   ]
  },
  {
   "cell_type": "code",
   "execution_count": null,
   "metadata": {
    "dotnet_interactive": {
     "language": "pwsh"
    },
    "vscode": {
     "languageId": "polyglot-notebook"
    }
   },
   "outputs": [],
   "source": [
    "$ids = Get-WinEvent -LogName Microsoft-Windows-Sysmon/Operational | ? {$_.id -eq 3}\n",
    "$commObjects = $ids | % {\n",
    "    New-Object psobject -Property @{ \n",
    "        RuleName            = $_.Properties[0].value\n",
    "        UtcTime             = $_.Properties[1].value\n",
    "        ProcessGuid         = $_.Properties[2].value\n",
    "        ProcessId           = $_.Properties[3].value\n",
    "        Image               = $_.Properties[4].value\n",
    "        User                = $_.Properties[5].value\n",
    "        Protocol            = $_.Properties[6].value\n",
    "        Initiated           = $_.Properties[7].value\n",
    "        SourceIsIpv6        = $_.Properties[8].value\n",
    "        SourceIp            = $_.Properties[9].value\n",
    "        SourceHostname      = $_.Properties[10].value\n",
    "        SourcePort          = $_.Properties[11].value\n",
    "        SourcePortName      = $_.Properties[12].value\n",
    "        DestinationIsIpv6   = $_.Properties[13].value\n",
    "        DestinationIp       = $_.Properties[14].value\n",
    "        DestinationHostname = $_.Properties[15].value\n",
    "        DestinationPort     = $_.Properties[16].value\n",
    "        DestinationPortName = $_.Properties[17].value\n",
    "        SourceString   = \"$($_.Properties[4].value)`:$($_.Properties[3].value)\" # <имя процесса>:<processId>\n",
    "        DestinationString   = \"$($_.Properties[14].value)`:$($_.Properties[16].value)\" # <IP адрес назначения>:<порт назначения>\n",
    "    }\n",
    "}"
   ]
  },
  {
   "cell_type": "markdown",
   "metadata": {},
   "source": [
    "Теперь можно построить граф взаимодействий. Для этого надо сначала создать пустой граф командой `New-Graph`, а затем наполнить его. Чтобы это сделать мы просто бежим по всем объектам и добавляем в граф ребра от `source` маркера в `destination` маркер. При этом, команда умеет понять, существуют в графе соответствующие вершины или нет. Если вершин нет - они добавляются и между ними создается направленное ребро. Если вершины есть, то новые не создаются, просто добавляется еще одно ребро. Таким образом при создании графа не нужно думать добавляли мы такую вершину или нет, команда сделает все сама, просто подавайте данные."
   ]
  },
  {
   "cell_type": "code",
   "execution_count": null,
   "metadata": {
    "dotnet_interactive": {
     "language": "pwsh"
    },
    "vscode": {
     "languageId": "polyglot-notebook"
    }
   },
   "outputs": [],
   "source": [
    "$g = New-Graph\n",
    "$commObjects | % {\n",
    "    Add-Edge -From $_.SourceString -To $_.DestinationString -Graph $g\n",
    "}\n",
    "\n",
    "$g"
   ]
  },
  {
   "cell_type": "markdown",
   "metadata": {},
   "source": [
    "Граф собран. Покрасим некоторые вершины. Мы хотим выделить одним цветом те вершины, которые используются несколькими процессами. Другими словами, если, к одному и тому же `destination` обращаются с течением времени несколько разных `source`, то в эту вершину будет входить больше чем одно ребро. Другим цветом мы хотим покрасить вершины, у которых нет входящих ребер. Но чтобы не слишком перегружать картинку, выберем только те, у которых 0 входящих и больше двух исходящих ребер.\n",
    "\n",
    "Для этого нам нужно просто пробежать по всем вершинам графа, для каждой из них выяснить количество входящих и исходящих ребер и задать соответствующие цвета этой вершине"
   ]
  },
  {
   "cell_type": "code",
   "execution_count": null,
   "metadata": {
    "dotnet_interactive": {
     "language": "pwsh"
    },
    "vscode": {
     "languageId": "polyglot-notebook"
    }
   },
   "outputs": [],
   "source": [
    "$g.Vertices | % { if ($g.InDegree($_) -gt 1) { $_.GVertexParameters.Fillcolor = [QuikGraph.Graphviz.Dot.GraphvizColor]::AntiqueWhite } }\n",
    "$g.Vertices | % { if ( ($g.InDegree($_) -eq 0) -and ($g.OutDegree($_) -gt 2) ) { $_.GVertexParameters.Fillcolor = [QuikGraph.Graphviz.Dot.GraphvizColor]::BlueViolet } }"
   ]
  },
  {
   "cell_type": "markdown",
   "metadata": {},
   "source": [
    "Ну и наконец мы можем экспортировать граф. Это можно сделать в нескольких различных форматах. Первый из них, `Graphviz`. Это, так называемый, [dot](https://www.graphviz.org/doc/info/lang.html) формат, текстовый формат используемый утилитой [graphviz](https://www.graphviz.org/) и некоторыми другими, для хранения графов. Другой формат, который нас интересует, `MSAGL_MDS`. В этом случае создается SVG визуализация средствами библиотеки [MSAGL](https://github.com/microsoft/automatic-graph-layout). Команда поддерживат еще несколько форматов, но о них в другой раз."
   ]
  },
  {
   "cell_type": "code",
   "execution_count": null,
   "metadata": {
    "dotnet_interactive": {
     "language": "pwsh"
    },
    "vscode": {
     "languageId": "polyglot-notebook"
    }
   },
   "outputs": [],
   "source": [
    "Export-Graph -Graph $g -Path \"$($env:TEMP)\\comms.svg\" -Format MSAGL_MDS\n",
    "Export-Graph -Graph $g -Path \"$($env:TEMP)\\comms.gv\" -Format Graphviz"
   ]
  },
  {
   "cell_type": "markdown",
   "metadata": {},
   "source": [
    "Теперь нам придется написать пару строк на C#. На данный момент .NET Interactive ноутбуки не умеют взять, и просто показать картинку. Нужно использовать extension methods, а использовать их из PowerShell не очень удобно. Собственно здесь нам всего-то и надо прочитать два файли и дернуть extension method предоставляемый .NET Interactive kernel для того, чтобы отобразить SVG картинку. Однако граф большой, картинка в MSAGL получается большая, по понятным причинам, и смотреть ее в выводе самого ноутбука неудобно"
   ]
  },
  {
   "cell_type": "code",
   "execution_count": null,
   "metadata": {
    "dotnet_interactive": {
     "language": "csharp"
    },
    "vscode": {
     "languageId": "polyglot-notebook"
    }
   },
   "outputs": [],
   "source": [
    "using System.IO;\n",
    "\n",
    "var path = Path.GetTempPath();\n",
    "var svg = File.ReadAllText($\"{path}\\\\comms.svg\");\n",
    "var gv = File.ReadAllText($\"{path}\\\\comms.gv\");\n",
    "svg.DisplayAs(\"text/html\"); // эта строка покажет большую картинку, которая не влезает в секцию вывода"
   ]
  },
  {
   "cell_type": "markdown",
   "metadata": {},
   "source": [
    "Поэтому ее можно просто открыть в соседнем окне браузера. Там можно приближать, удалять, двигать."
   ]
  },
  {
   "cell_type": "code",
   "execution_count": null,
   "metadata": {
    "dotnet_interactive": {
     "language": "pwsh"
    },
    "vscode": {
     "languageId": "polyglot-notebook"
    }
   },
   "outputs": [],
   "source": [
    "& \"$($env:TEMP)\\comms.svg\""
   ]
  },
  {
   "cell_type": "markdown",
   "metadata": {},
   "source": [
    "Но у нас есть еще один, более интерактивный способ отобразить граф - javascript и библиотека [vis.js](https://visjs.org/) например. Мне удалось быстро найти примеры ипользования и адаптировать их. Но есть и другие варианты"
   ]
  },
  {
   "cell_type": "markdown",
   "metadata": {},
   "source": [
    "Первым делом надо создать место, в которое будет выведен граф. По-умолчанию создается слишком маленький контейнер, и такой большой граф в нем смотреть очень неудобно. Поэтому я просто, руками, задаю размер в 800px."
   ]
  },
  {
   "cell_type": "code",
   "execution_count": null,
   "metadata": {
    "dotnet_interactive": {
     "language": "html"
    },
    "vscode": {
     "languageId": "polyglot-notebook"
    }
   },
   "outputs": [],
   "source": [
    "#!html\n",
    "<div id=\"mynetwork\" style=\"height: 800px;\"></div>"
   ]
  },
  {
   "cell_type": "markdown",
   "metadata": {},
   "source": [
    "Теперь короткий кусок жабаскрипта. Но в этой ячейке есть еще кое-что интересное. .NET Interactive позволяет делиться переменными между разными языками. В данном случае мы прочитали файл в переменную `gv` в куске C# кода выше, и передаем ее значение прямо в javascript код. Для этого в начале ячейки просто говорим `#!share --from csharp gv`. Этот кусок кода показывает нам наш граф, отрисованный с помошью `forceAtlas2Based` алгоритма. Рассчет занимает какое-то время, поэтому надо подождать, может, секунд 30. Кроме того в vis.js есть багофича. После отрисовки, при включенной физике, граф никак не может прийти к стабильному состоянию. Поэтому в этом режиме \"картинка\" дергается, некоторые вершины перемещаются с места на место, смотреть неприятно. Единственное, что они рекомендуют, это задать вручную количество итераций и подождать - `network.stabilize(600)`. Можно попытаться побаловаться этим числом, авось на самом деле нужно меньше итераций. Я просто жду :)\n",
    "\n",
    "В итоге мы видим граф с вершинами трех цветов, два из них мы задали сами. Напомню, что белым цветом мы красили те вершины, которые используются сразу несколькими процессами, а фиолетовым - те, которые являются, как бы, корневыми, из них есть только исходящие ребра, но нет входящих. Это позволяет нам визуально наблюдать общие елементы двух \"подсистем\" - они белые, и \"корни\" этих \"подсистем\" - они фиолетовые. Граф можно приближать и удалять, таскать мышкой и так далее, что очень удобно."
   ]
  },
  {
   "cell_type": "code",
   "execution_count": null,
   "metadata": {
    "dotnet_interactive": {
     "language": "javascript"
    },
    "vscode": {
     "languageId": "polyglot-notebook"
    }
   },
   "outputs": [],
   "source": [
    "#!js\n",
    "#!share --from csharp gv\n",
    "\n",
    "visRequire = interactive.configureRequire({\n",
    "    paths: {\n",
    "        visjs: \"https://visjs.github.io/vis-network/standalone/umd/vis-network.min\"\n",
    "    }\n",
    "});\n",
    "    \n",
    "visRequire([\"visjs\"], visjs => {\n",
    "    \n",
    "    var container = document.getElementById(\"mynetwork\");\n",
    "    var dot = gv;\n",
    "    var parsedData = visjs.parseDOTNetwork(dot);\n",
    "\n",
    "    var data = {\n",
    "        nodes: parsedData.nodes,\n",
    "        edges: parsedData.edges\n",
    "    };\n",
    "    var options = parsedData.options;\n",
    "    options = {\n",
    "        physics: {\n",
    "            solver: \"barnesHut\",\n",
    "            enabled: false,\n",
    "            forceAtlas2Based: {\n",
    "                theta: 0.5,\n",
    "                gravitationalConstant: -50,\n",
    "                centralGravity: 0.01,\n",
    "                springConstant: 0.08,\n",
    "                springLength: 100,\n",
    "                damping: 0.4,\n",
    "                avoidOverlap: 0\n",
    "              },\n",
    "            barnesHut: {\n",
    "                theta: 0.5,\n",
    "                gravitationalConstant: -2000,\n",
    "                centralGravity: 0.3,\n",
    "                springLength: 95,\n",
    "                springConstant: 0.04,\n",
    "                damping: 0.09,\n",
    "                avoidOverlap: 0\n",
    "            }\n",
    "        },\n",
    "        interaction: { hover: true, zoomView: true },\n",
    "        layout: { randomSeed: 'Mickey' }\n",
    "    }\n",
    "\n",
    "    var network = new visjs.Network(container, data, options); \n",
    "    network.stabilize(600)\n",
    "});"
   ]
  }
 ],
 "metadata": {
  "kernelspec": {
   "display_name": ".NET (C#)",
   "language": "C#",
   "name": ".net-csharp"
  },
  "language_info": {
   "file_extension": ".cs",
   "mimetype": "text/x-csharp",
   "name": "C#",
   "pygments_lexer": "csharp",
   "version": "9.0"
  },
  "orig_nbformat": 4
 },
 "nbformat": 4,
 "nbformat_minor": 2
}

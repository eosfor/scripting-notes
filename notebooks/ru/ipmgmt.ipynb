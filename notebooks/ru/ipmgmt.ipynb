{
 "cells": [
  {
   "cell_type": "markdown",
   "metadata": {},
   "source": [
    "# Как рассчитать IP сети на PowerShell"
   ]
  },
  {
   "cell_type": "markdown",
   "metadata": {},
   "source": [
    "> Этот ноутбук работает на Linux"
   ]
  },
  {
   "cell_type": "markdown",
   "metadata": {},
   "source": [
    "**Сценарий**\n",
    "\n",
    "Предположим, что для всего, что мы планируем запускать в Azure, network team выделила нам диапазон адресов `10.172.0.0/16`. При этом мы пытаемся сделать автоматизированный механизм, который, получив на вход желаемый размер или список размеров сетей, сможет найти свободные блоки из указанного диапазона и рассчитать подсети и маски. Затем эти подсети и маски мы сможем использовать для создания сетей в Azure.\n",
    "\n",
    "Эти примеры можно затем использовать при автоматизации создания того, что Microsoft называет [Landing Zone](https://docs.microsoft.com/en-us/azure/cloud-adoption-framework/ready/landing-zone/), в части автоматического рассчета диапазонов сетей"
   ]
  },
  {
   "cell_type": "markdown",
   "metadata": {},
   "source": [
    "Начнем c загрузки модуля [ipmgmt](https://github.com/eosfor/ipmgmt)"
   ]
  },
  {
   "cell_type": "code",
   "execution_count": null,
   "metadata": {
    "dotnet_interactive": {
     "language": "pwsh"
    }
   },
   "outputs": [],
   "source": [
    "Import-Module ipmgmt"
   ]
  },
  {
   "cell_type": "markdown",
   "metadata": {},
   "source": [
    "Если он не установлен, его всегда можно установить из Powershell gallery"
   ]
  },
  {
   "cell_type": "code",
   "execution_count": null,
   "metadata": {
    "dotnet_interactive": {
     "language": "pwsh"
    }
   },
   "outputs": [],
   "source": [
    "Install-Module ipmgmt"
   ]
  },
  {
   "cell_type": "markdown",
   "metadata": {},
   "source": [
    "В этом модуле всего две команды. Одна из них предназначена для разбиения сетей на подсети. Вторая - может найти свободные диапазоны подходящего размера, исходя из \"корневой\" сети и списка занятых сетей в этой корневой сети"
   ]
  },
  {
   "cell_type": "code",
   "execution_count": null,
   "metadata": {
    "dotnet_interactive": {
     "language": "pwsh"
    }
   },
   "outputs": [
    {
     "name": "stdout",
     "output_type": "stream",
     "text": [
      "\r\n",
      "\u001b[32;1mCommandType     Name                                               Version    Source\u001b[0m\r\n",
      "\u001b[32;1m-----------     ----                                               -------    ------\u001b[0m\r\n",
      "Function        Get-IPRanges                                       0.1.5      ipmgmt\r\n",
      "Function        Get-VLSMBreakdown                                  0.1.5      ipmgmt\r\n",
      "\r\n"
     ]
    }
   ],
   "source": [
    "Get-Command -Module ipmgmt"
   ]
  },
  {
   "cell_type": "markdown",
   "metadata": {},
   "source": [
    "Теперь разобьем нашу корневую сеть на несколько подсетей. Для нас эти подсети станут виртуальными сетями в Azure. Для этого нам нужно указать эти сети и их размеры. В переменной `$subnets` содержится массив этих будущих сетей. В поле `type`  мы указываем имя будущей сети, а в поле `size` - ее размер. Размер - это количество возможных адресов в сети. В нашем примере мы создаем две /24 сети и их размер соответственно 256 адресов максимально возможных  минус 2 – нулевой и последний которые мы хотим исключить. Не забываем, что Azure отхватывает еще по 5 адресов в каждой подсети, которую мы создаем для своих нужд"
   ]
  },
  {
   "cell_type": "code",
   "execution_count": null,
   "metadata": {
    "dotnet_interactive": {
     "language": "pwsh"
    }
   },
   "outputs": [],
   "source": [
    "$subnets = @{type = \"VNET-HUB\"; size = (256-2)},\n",
    "           @{type = \"VNET-A\"; size = (256-2)}"
   ]
  },
  {
   "cell_type": "markdown",
   "metadata": {},
   "source": [
    "Сети готовы, можно разбивать"
   ]
  },
  {
   "cell_type": "code",
   "execution_count": null,
   "metadata": {
    "dotnet_interactive": {
     "language": "pwsh"
    }
   },
   "outputs": [
    {
     "name": "stdout",
     "output_type": "stream",
     "text": [
      "\r\n",
      "\u001b[32;1mtype     Network      Netmask       FirstUsable  LastUsable     Usable Cidr\u001b[0m\r\n",
      "\u001b[32;1m----     -------      -------       -----------  ----------     ------ ----\u001b[0m\r\n",
      "VNET-A   10.172.1.0   255.255.255.0 10.172.1.1   10.172.1.254      254   24\r\n",
      "VNET-HUB 10.172.0.0   255.255.255.0 10.172.0.1   10.172.0.254      254   24\r\n",
      "reserved 10.172.128.0 255.255.128.0 10.172.128.1 10.172.255.254  32766   17\r\n",
      "reserved 10.172.64.0  255.255.192.0 10.172.64.1  10.172.127.254  16382   18\r\n",
      "reserved 10.172.32.0  255.255.224.0 10.172.32.1  10.172.63.254    8190   19\r\n",
      "reserved 10.172.16.0  255.255.240.0 10.172.16.1  10.172.31.254    4094   20\r\n",
      "reserved 10.172.8.0   255.255.248.0 10.172.8.1   10.172.15.254    2046   21\r\n",
      "reserved 10.172.4.0   255.255.252.0 10.172.4.1   10.172.7.254     1022   22\r\n",
      "reserved 10.172.2.0   255.255.254.0 10.172.2.1   10.172.3.254      510   23\r\n",
      "\r\n"
     ]
    }
   ],
   "source": [
    "Get-VLSMBreakdown -Network 10.172.0.0/16 -SubnetSize $subnets | ft type, network, netmask, *usable, cidr -AutoSize"
   ]
  },
  {
   "cell_type": "markdown",
   "metadata": {},
   "source": [
    "Как видно из результата, мы получили две сети с указанными именами `VNET-A` и `VNET-HUB`. При этом, в корневом диапазоне образовались незанятые слоты, которые получились от того, что сети, которые мы выделяли, маленькие. Однако команда старается максимизировать размеры этих неиспользованных кусков, с тем чтобы терять меньше адресов при таких разбиениях. Так, например, есть кусок с размером `/17` в поле `Cidr`. Это говорит о том, что команда разбила наш `/16` диапазон на два `/17`, оставила один из них неиспользованным, затем разбила другой, уже на два `/18` и так далее. Незадействованные куски считаются \"зарезервированными\" для будущего использования"
   ]
  },
  {
   "cell_type": "markdown",
   "metadata": {},
   "source": [
    "При условии, что вы уже авторизовались в Azure. В данном примере я использую ресурсную группу с именем `vnet-test` в регионе `eastus2`"
   ]
  },
  {
   "cell_type": "code",
   "execution_count": null,
   "metadata": {
    "dotnet_interactive": {
     "language": "pwsh"
    }
   },
   "outputs": [],
   "source": [
    "Login-AzAccount"
   ]
  },
  {
   "cell_type": "markdown",
   "metadata": {},
   "source": [
    "Сеточки эти теперь можно создать примерно вот так. Тут мы отфильтровываем \"reserved\" диапазоны - не будем создавать сети из них. Затем, для каждого из этих диапазонов создаем сеточку в некой ресурсной группе. Это, конечно, упрощенный пример, но дальнейшие усовершенствования, связанные с другими подписками или ресурсными группами, пирингом виртуальных сетей и их дальнейшим разбиением на подсети уже никак не повлияет на то, что бы делаем сейчас."
   ]
  },
  {
   "cell_type": "code",
   "execution_count": null,
   "metadata": {
    "dotnet_interactive": {
     "language": "pwsh"
    }
   },
   "outputs": [],
   "source": [
    "$vnets = Get-VLSMBreakdown -Network 10.172.0.0/16 -SubnetSize $subnets | ? type -ne 'reserved'\n",
    "\n",
    "$vnets | % {\n",
    "    New-AzVirtualNetwork -Name  $_.type -ResourceGroupName 'vnet-test' `\n",
    "                         -Location 'eastus2' -AddressPrefix \"$($_.Network)/$($_.cidr)\" | select name, AddressSpace, ResourceGroupName, Location\n",
    "}"
   ]
  },
  {
   "cell_type": "markdown",
   "metadata": {},
   "source": [
    "Теперь мы готовы добавлять новые диапазоны к существующим сетям. При этом мы хотим максимально использовать пустые места, чтобы не терять адресов. Для этого в модуле есть команда `Get-IPRanges`. Она принимает на вход список занятых диапазонов, \"корневой\" диапазон и размер сети в VLSM нотации и возвращает сети, которые нашла. При этом она пытается использовать сначала незанятые диапазоны и предлагает слот в конце диапазона, если он есть."
   ]
  },
  {
   "cell_type": "code",
   "execution_count": null,
   "metadata": {
    "dotnet_interactive": {
     "language": "pwsh"
    }
   },
   "outputs": [
    {
     "name": "stdout",
     "output_type": "stream",
     "text": [
      "\r\n",
      "\u001b[32;1mIsFree Network   AddressFamily Netmask       Broadcast    FirstUsable LastUsable   Usable Total Cid\u001b[0m\r\n",
      "\u001b[32;1m                                                                                                  r\u001b[0m\r\n",
      "\u001b[32;1m------ -------   ------------- -------       ---------    ----------- ----------   ------ ----- ---\u001b[0m\r\n",
      "  True 10.10.0.0  InterNetwork 255.255.252.0 10.10.3.255  10.10.0.1   10.10.3.254    1022  1024  22\r\n",
      " False 10.10.5.0  InterNetwork 255.255.255.0 10.10.5.255  10.10.5.1   10.10.5.254     254   256  24\r\n",
      " False 10.10.7.0  InterNetwork 255.255.255.0 10.10.7.255  10.10.7.1   10.10.7.254     254   256  24\r\n",
      "  True 10.10.8.0  InterNetwork 255.255.252.0 10.10.11.255 10.10.8.1   10.10.11.254   1022  1024  22\r\n",
      "\r\n"
     ]
    }
   ],
   "source": [
    "Get-IPRanges -Networks \"10.10.5.0/24\", \"10.10.7.0/24\" -CIDR 22 -BaseNet \"10.10.0.0/16\" | ft -AutoSize"
   ]
  },
  {
   "cell_type": "markdown",
   "metadata": {},
   "source": [
    "В этом примере \"базовая\" сеть `10.10.0.0/16` два занятых диапазона - `10.10.5.0/24`, `10.10.7.0/24` и длина маски `/22`. Команда нашла два свободных слота длиной `/22` - один до занятых сеток, и один после."
   ]
  },
  {
   "cell_type": "markdown",
   "metadata": {},
   "source": [
    "Теперь провернем более хитрый трюк. Что если необходимо найти не один, а сразу много диапазонов с заранее известными размерами. Пи этом, как источник уже существующих сетей - занятых, будем использовать сам Azure, ведь он уже хранит всю необходимую нам информацию.\n",
    "\n",
    "Сделаем сдедующее: \n",
    "\n",
    "- Создадим список желаемых размеров сеток - `$cidrRange`. Сортируем по-возрастанию, чтобы сначала использовать бОльшие диапазоны, если они есть.\n",
    "- Из Azure подтянем список сеток, которые там есть, тех, которые мы считаем занятыми - `$existingRanges`. \n",
    "- Для корректного сравнения нам надо привести эти ranges к типу `System.Net.IPNetwork`, который используется внутри модуля, для рассчетов сетей. \n",
    "- Теперь нам надо просто бежать по списку желаемых рамеров сеток, просить `Get-IPRanges` найти слоты и аккумулировать их в сиске используемых - строки 10-13\n",
    "\n",
    "После всего нам остается лишь пометить найденные диапазоны, как свободные,  сравних их со списком уже занятых, которые мы подтянули из Azure - строки 2-5"
   ]
  },
  {
   "cell_type": "code",
   "execution_count": null,
   "metadata": {
    "dotnet_interactive": {
     "language": "pwsh"
    }
   },
   "outputs": [
    {
     "name": "stdout",
     "output_type": "stream",
     "text": [
      "\r\n",
      "\u001b[32;1mIsFree Network      AddressFamily Netmask         Broadcast    FirstUsable  LastUsable   Usable Tot\u001b[0m\r\n",
      "\u001b[32;1m                                                                                                 al\u001b[0m\r\n",
      "\u001b[32;1m------ -------      ------------- -------         ---------    -----------  ----------   ------ ---\u001b[0m\r\n",
      " False 10.172.0.0    InterNetwork 255.255.255.0   10.172.0.255 10.172.0.1   10.172.0.254    254 256\r\n",
      " False 10.172.1.0    InterNetwork 255.255.255.0   10.172.1.255 10.172.1.1   10.172.1.254    254 256\r\n",
      "  True 10.172.2.0    InterNetwork 255.255.254.0   10.172.3.255 10.172.2.1   10.172.3.254    510 512\r\n",
      "  True 10.172.4.0    InterNetwork 255.255.255.0   10.172.4.255 10.172.4.1   10.172.4.254    254 256\r\n",
      "  True 10.172.5.0    InterNetwork 255.255.255.0   10.172.5.255 10.172.5.1   10.172.5.254    254 256\r\n",
      "  True 10.172.6.0    InterNetwork 255.255.255.0   10.172.6.255 10.172.6.1   10.172.6.254    254 256\r\n",
      "  True 10.172.7.0    InterNetwork 255.255.255.0   10.172.7.255 10.172.7.1   10.172.7.254    254 256\r\n",
      "  True 10.172.8.0    InterNetwork 255.255.255.128 10.172.8.127 10.172.8.1   10.172.8.126    126 128\r\n",
      "  True 10.172.8.128  InterNetwork 255.255.255.128 10.172.8.255 10.172.8.129 10.172.8.254    126 128\r\n",
      "  True 10.172.9.0    InterNetwork 255.255.255.128 10.172.9.127 10.172.9.1   10.172.9.126    126 128\r\n",
      "  True 10.172.9.128  InterNetwork 255.255.255.192 10.172.9.191 10.172.9.129 10.172.9.190     62  64\r\n",
      "  True 10.172.9.192  InterNetwork 255.255.255.192 10.172.9.255 10.172.9.193 10.172.9.254     62  64\r\n",
      "\r\n"
     ]
    }
   ],
   "source": [
    "$cidrRange = 25,25,24,24,24,24,23,25,26,26 | sort\n",
    "$existingRanges = (Get-AzVirtualNetwork -ResourceGroupName vnet-test | \n",
    "    select name, @{l = \"AddressSpace\"; e = { $_.AddressSpace.AddressPrefixes }}, ResourceGroupName, Location |\n",
    "    select -expand AddressSpace)\n",
    "$existingNetworks = $existingRanges | % {[System.Net.IPNetwork]$_}\n",
    "$nets = $existingRanges\n",
    "\n",
    "$ret = @()\n",
    "\n",
    "$cidrRange | % {\n",
    "    $ret = Get-IPRanges -Networks $nets -CIDR $_ -BaseNet \"10.172.0.0/16\"\n",
    "    $nets = ($ret | select @{l=\"range\"; e = {\"$($_.network)/$($_.cidr)\"}}).range\n",
    "}\n",
    "\n",
    "$ret | % {\n",
    "    if ( -not ($_ -in $existingNetworks)) {$_.IsFree = $true}\n",
    "}\n",
    "\n",
    "$ret | ft -AutoSize"
   ]
  },
  {
   "cell_type": "code",
   "execution_count": null,
   "metadata": {
    "dotnet_interactive": {
     "language": "pwsh"
    }
   },
   "outputs": [
    {
     "data": {
      "text/html": [
       "<table> <colgroup><col/><col/><col/><col/><col/><col/><col/><col/><col/><col/></colgroup> <tr><th>type</th><th>Network</th><th>AddressFamily</th><th>Netmask</th><th>Broadcast</th><th>FirstUsable</th><th>LastUsable</th><th>Usable</th><th>Total</th><th>Cidr</th></tr> <tr><td>reserved</td><td>10.172.128.0</td><td>InterNetwork</td><td>255.255.128.0</td><td>10.172.255.255</td><td>10.172.128.1</td><td>10.172.255.254</td><td>32766</td><td>32768</td><td>17</td></tr> <tr><td>reserved</td><td>10.172.64.0</td><td>InterNetwork</td><td>255.255.192.0</td><td>10.172.127.255</td><td>10.172.64.1</td><td>10.172.127.254</td><td>16382</td><td>16384</td><td>18</td></tr> <tr><td>reserved</td><td>10.172.32.0</td><td>InterNetwork</td><td>255.255.224.0</td><td>10.172.63.255</td><td>10.172.32.1</td><td>10.172.63.254</td><td>8190</td><td>8192</td><td>19</td></tr> <tr><td>reserved</td><td>10.172.24.0</td><td>InterNetwork</td><td>255.255.248.0</td><td>10.172.31.255</td><td>10.172.24.1</td><td>10.172.31.254</td><td>2046</td><td>2048</td><td>21</td></tr> <tr><td>VNET-795</td><td>10.172.0.0</td><td>InterNetwork</td><td>255.255.254.0</td><td>10.172.1.255</td><td>10.172.0.1</td><td>10.172.1.254</td><td>510</td><td>512</td><td>23</td></tr> <tr><td>reserved</td><td>10.172.23.0</td><td>InterNetwork</td><td>255.255.255.0</td><td>10.172.23.255</td><td>10.172.23.1</td><td>10.172.23.254</td><td>254</td><td>256</td><td>24</td></tr> <tr><td>reserved</td><td>10.172.21.0</td><td>InterNetwork</td><td>255.255.255.0</td><td>10.172.21.255</td><td>10.172.21.1</td><td>10.172.21.254</td><td>254</td><td>256</td><td>24</td></tr> <tr><td>reserved</td><td>10.172.19.0</td><td>InterNetwork</td><td>255.255.255.0</td><td>10.172.19.255</td><td>10.172.19.1</td><td>10.172.19.254</td><td>254</td><td>256</td><td>24</td></tr> <tr><td>reserved</td><td>10.172.17.0</td><td>InterNetwork</td><td>255.255.255.0</td><td>10.172.17.255</td><td>10.172.17.1</td><td>10.172.17.254</td><td>254</td><td>256</td><td>24</td></tr> <tr><td>reserved</td><td>10.172.15.0</td><td>InterNetwork</td><td>255.255.255.0</td><td>10.172.15.255</td><td>10.172.15.1</td><td>10.172.15.254</td><td>254</td><td>256</td><td>24</td></tr> <tr><td>reserved</td><td>10.172.13.0</td><td>InterNetwork</td><td>255.255.255.0</td><td>10.172.13.255</td><td>10.172.13.1</td><td>10.172.13.254</td><td>254</td><td>256</td><td>24</td></tr> <tr><td>reserved</td><td>10.172.9.0</td><td>InterNetwork</td><td>255.255.255.0</td><td>10.172.9.255</td><td>10.172.9.1</td><td>10.172.9.254</td><td>254</td><td>256</td><td>24</td></tr> <tr><td>reserved</td><td>10.172.7.0</td><td>InterNetwork</td><td>255.255.255.0</td><td>10.172.7.255</td><td>10.172.7.1</td><td>10.172.7.254</td><td>254</td><td>256</td><td>24</td></tr> <tr><td>reserved</td><td>10.172.11.0</td><td>InterNetwork</td><td>255.255.255.0</td><td>10.172.11.255</td><td>10.172.11.1</td><td>10.172.11.254</td><td>254</td><td>256</td><td>24</td></tr> <tr><td>reserved</td><td>10.172.3.0</td><td>InterNetwork</td><td>255.255.255.0</td><td>10.172.3.255</td><td>10.172.3.1</td><td>10.172.3.254</td><td>254</td><td>256</td><td>24</td></tr> <tr><td>reserved</td><td>10.172.5.0</td><td>InterNetwork</td><td>255.255.255.0</td><td>10.172.5.255</td><td>10.172.5.1</td><td>10.172.5.254</td><td>254</td><td>256</td><td>24</td></tr> <tr><td>VNET-691</td><td>10.172.10.0</td><td>InterNetwork</td><td>255.255.255.0</td><td>10.172.10.255</td><td>10.172.10.1</td><td>10.172.10.254</td><td>254</td><td>256</td><td>24</td></tr> <tr><td>VNET-373</td><td>10.172.8.0</td><td>InterNetwork</td><td>255.255.255.0</td><td>10.172.8.255</td><td>10.172.8.1</td><td>10.172.8.254</td><td>254</td><td>256</td><td>24</td></tr> <tr><td>VNET-749</td><td>10.172.12.0</td><td>InterNetwork</td><td>255.255.255.0</td><td>10.172.12.255</td><td>10.172.12.1</td><td>10.172.12.254</td><td>254</td><td>256</td><td>24</td></tr> <tr><td>VNET-803</td><td>10.172.6.0</td><td>InterNetwork</td><td>255.255.255.0</td><td>10.172.6.255</td><td>10.172.6.1</td><td>10.172.6.254</td><td>254</td><td>256</td><td>24</td></tr> <tr><td>VNET-66</td><td>10.172.4.0</td><td>InterNetwork</td><td>255.255.255.0</td><td>10.172.4.255</td><td>10.172.4.1</td><td>10.172.4.254</td><td>254</td><td>256</td><td>24</td></tr> <tr><td>VNET-290</td><td>10.172.2.0</td><td>InterNetwork</td><td>255.255.255.0</td><td>10.172.2.255</td><td>10.172.2.1</td><td>10.172.2.254</td><td>254</td><td>256</td><td>24</td></tr> <tr><td>reserved</td><td>10.172.16.128</td><td>InterNetwork</td><td>255.255.255.128</td><td>10.172.16.255</td><td>10.172.16.129</td><td>10.172.16.254</td><td>126</td><td>128</td><td>25</td></tr> <tr><td>reserved</td><td>10.172.18.128</td><td>InterNetwork</td><td>255.255.255.128</td><td>10.172.18.255</td><td>10.172.18.129</td><td>10.172.18.254</td><td>126</td><td>128</td><td>25</td></tr> <tr><td>reserved</td><td>10.172.20.128</td><td>InterNetwork</td><td>255.255.255.128</td><td>10.172.20.255</td><td>10.172.20.129</td><td>10.172.20.254</td><td>126</td><td>128</td><td>25</td></tr> <tr><td>VNET-856</td><td>10.172.14.0</td><td>InterNetwork</td><td>255.255.255.128</td><td>10.172.14.127</td><td>10.172.14.1</td><td>10.172.14.126</td><td>126</td><td>128</td><td>25</td></tr> <tr><td>reserved</td><td>10.172.22.128</td><td>InterNetwork</td><td>255.255.255.128</td><td>10.172.22.255</td><td>10.172.22.129</td><td>10.172.22.254</td><td>126</td><td>128</td><td>25</td></tr> <tr><td>VNET-517</td><td>10.172.16.0</td><td>InterNetwork</td><td>255.255.255.128</td><td>10.172.16.127</td><td>10.172.16.1</td><td>10.172.16.126</td><td>126</td><td>128</td><td>25</td></tr> <tr><td>VNET-535</td><td>10.172.18.0</td><td>InterNetwork</td><td>255.255.255.128</td><td>10.172.18.127</td><td>10.172.18.1</td><td>10.172.18.126</td><td>126</td><td>128</td><td>25</td></tr> <tr><td>reserved</td><td>10.172.14.128</td><td>InterNetwork</td><td>255.255.255.128</td><td>10.172.14.255</td><td>10.172.14.129</td><td>10.172.14.254</td><td>126</td><td>128</td><td>25</td></tr> <tr><td>reserved</td><td>10.172.20.64</td><td>InterNetwork</td><td>255.255.255.192</td><td>10.172.20.127</td><td>10.172.20.65</td><td>10.172.20.126</td><td>62</td><td>64</td><td>26</td></tr> <tr><td>reserved</td><td>10.172.22.64</td><td>InterNetwork</td><td>255.255.255.192</td><td>10.172.22.127</td><td>10.172.22.65</td><td>10.172.22.126</td><td>62</td><td>64</td><td>26</td></tr> <tr><td>VNET-149</td><td>10.172.20.0</td><td>InterNetwork</td><td>255.255.255.192</td><td>10.172.20.63</td><td>10.172.20.1</td><td>10.172.20.62</td><td>62</td><td>64</td><td>26</td></tr> <tr><td>VNET-108</td><td>10.172.22.0</td><td>InterNetwork</td><td>255.255.255.192</td><td>10.172.22.63</td><td>10.172.22.1</td><td>10.172.22.62</td><td>62</td><td>64</td><td>26</td></tr> </table>"
      ]
     },
     "metadata": {},
     "output_type": "display_data"
    }
   ],
   "source": [
    "$s = @()\n",
    "$ret | % {\n",
    "    $s += @{type = \"VNET-$(Get-Random -Maximum 1000 -Minimum 10)\"; size = ($_.total - 2)}\n",
    "}\n",
    "\n",
    "\n",
    "$view = Get-VLSMBreakdown -Network 10.172.0.0/16 -SubnetSize $s | sort cidr | ConvertTo-Html -Fragment\n",
    "[Microsoft.DotNet.Interactive.Kernel]::HTML($view) | Out-Display"
   ]
  }
 ],
 "metadata": {
  "kernelspec": {
   "display_name": ".NET (C#)",
   "language": "C#",
   "name": ".net-csharp"
  },
  "language_info": {
   "file_extension": ".cs",
   "mimetype": "text/x-csharp",
   "name": "C#",
   "pygments_lexer": "csharp",
   "version": "9.0"
  },
  "orig_nbformat": 4
 },
 "nbformat": 4,
 "nbformat_minor": 2
}
